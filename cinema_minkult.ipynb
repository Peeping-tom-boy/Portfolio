{
 "cells": [
  {
   "cell_type": "markdown",
   "metadata": {
    "id": "sIfNaMOxgFyK"
   },
   "source": [
    "## Исследование данных о российском кинопрокате\n",
    "\n"
   ]
  },
  {
   "cell_type": "markdown",
   "metadata": {},
   "source": [
    "### В данном исследовании будет проанализирован рынок российского кинопроката:\n",
    "\n",
    "- определение текущих трендов\n",
    "- отдельно будет проведен анализ фильмов, получивших государственную поддержку. \n",
    "\n",
    "### План исследования:\n",
    "\n",
    "- Предобработка данных: оценка состояния присланных данных, обработка пропусков, дубликатов, неверных типов данных, добавление необходимых столбцов.\n",
    "- Непосредственно анализ данных: оценка количества выхода фильмов в течение времени, оценка количества сборов в течение времени, оценка фильмов, имеющих определенный возрастной рейтинг в течение времени.\n",
    "- Анализ фильмов, поддерживаемых государством: оценка каличества фильмов в течение времени, анализ финансируемых фильмов по жанрам, оценка окупаемости финансируемых фильмов, оценка рейтинга фильмов\n"
   ]
  },
  {
   "cell_type": "markdown",
   "metadata": {
    "id": "3bSlkCsbgFyL"
   },
   "source": [
    "### Шаг 1. Открытие файлов с данными и объединиение их в один датафрейм. \n",
    "\n"
   ]
  },
  {
   "cell_type": "code",
   "execution_count": 1,
   "metadata": {
    "id": "dw87FlzMgFyM"
   },
   "outputs": [],
   "source": [
    "import pandas as pd\n",
    "pd.set_option('display.float_format', '{:,.2f}'.format)"
   ]
  },
  {
   "cell_type": "code",
   "execution_count": 2,
   "metadata": {},
   "outputs": [],
   "source": [
    "pd.set_option('display.max_columns', None)"
   ]
  },
  {
   "cell_type": "code",
   "execution_count": 3,
   "metadata": {},
   "outputs": [],
   "source": [
    "import matplotlib.pyplot as plt"
   ]
  },
  {
   "cell_type": "code",
   "execution_count": 4,
   "metadata": {},
   "outputs": [
    {
     "data": {
      "text/html": [
       "<div>\n",
       "<style scoped>\n",
       "    .dataframe tbody tr th:only-of-type {\n",
       "        vertical-align: middle;\n",
       "    }\n",
       "\n",
       "    .dataframe tbody tr th {\n",
       "        vertical-align: top;\n",
       "    }\n",
       "\n",
       "    .dataframe thead th {\n",
       "        text-align: right;\n",
       "    }\n",
       "</style>\n",
       "<table border=\"1\" class=\"dataframe\">\n",
       "  <thead>\n",
       "    <tr style=\"text-align: right;\">\n",
       "      <th></th>\n",
       "      <th>puNumber</th>\n",
       "      <th>box_office</th>\n",
       "    </tr>\n",
       "  </thead>\n",
       "  <tbody>\n",
       "    <tr>\n",
       "      <th>0</th>\n",
       "      <td>111000113</td>\n",
       "      <td>2,450.00</td>\n",
       "    </tr>\n",
       "    <tr>\n",
       "      <th>1</th>\n",
       "      <td>111000115</td>\n",
       "      <td>61,040.00</td>\n",
       "    </tr>\n",
       "    <tr>\n",
       "      <th>2</th>\n",
       "      <td>111000116</td>\n",
       "      <td>153,030,013.40</td>\n",
       "    </tr>\n",
       "    <tr>\n",
       "      <th>3</th>\n",
       "      <td>111000117</td>\n",
       "      <td>12,260,956.00</td>\n",
       "    </tr>\n",
       "    <tr>\n",
       "      <th>4</th>\n",
       "      <td>111000118</td>\n",
       "      <td>163,684,057.79</td>\n",
       "    </tr>\n",
       "    <tr>\n",
       "      <th>...</th>\n",
       "      <td>...</td>\n",
       "      <td>...</td>\n",
       "    </tr>\n",
       "    <tr>\n",
       "      <th>3153</th>\n",
       "      <td>224014814</td>\n",
       "      <td>1,530.00</td>\n",
       "    </tr>\n",
       "    <tr>\n",
       "      <th>3154</th>\n",
       "      <td>224021411</td>\n",
       "      <td>9,270.00</td>\n",
       "    </tr>\n",
       "    <tr>\n",
       "      <th>3155</th>\n",
       "      <td>224022410</td>\n",
       "      <td>400.00</td>\n",
       "    </tr>\n",
       "    <tr>\n",
       "      <th>3156</th>\n",
       "      <td>224023210</td>\n",
       "      <td>360.00</td>\n",
       "    </tr>\n",
       "    <tr>\n",
       "      <th>3157</th>\n",
       "      <td>224026410</td>\n",
       "      <td>400.00</td>\n",
       "    </tr>\n",
       "  </tbody>\n",
       "</table>\n",
       "<p>3158 rows × 2 columns</p>\n",
       "</div>"
      ],
      "text/plain": [
       "       puNumber     box_office\n",
       "0     111000113       2,450.00\n",
       "1     111000115      61,040.00\n",
       "2     111000116 153,030,013.40\n",
       "3     111000117  12,260,956.00\n",
       "4     111000118 163,684,057.79\n",
       "...         ...            ...\n",
       "3153  224014814       1,530.00\n",
       "3154  224021411       9,270.00\n",
       "3155  224022410         400.00\n",
       "3156  224023210         360.00\n",
       "3157  224026410         400.00\n",
       "\n",
       "[3158 rows x 2 columns]"
      ]
     },
     "execution_count": 4,
     "metadata": {},
     "output_type": "execute_result"
    }
   ],
   "source": [
    "data_mkrf_shows = pd.read_csv('/datasets/mkrf_shows.csv')\n",
    "data_mkrf_shows"
   ]
  },
  {
   "cell_type": "code",
   "execution_count": 5,
   "metadata": {},
   "outputs": [
    {
     "name": "stdout",
     "output_type": "stream",
     "text": [
      "<class 'pandas.core.frame.DataFrame'>\n",
      "RangeIndex: 3158 entries, 0 to 3157\n",
      "Data columns (total 2 columns):\n",
      " #   Column      Non-Null Count  Dtype  \n",
      "---  ------      --------------  -----  \n",
      " 0   puNumber    3158 non-null   int64  \n",
      " 1   box_office  3158 non-null   float64\n",
      "dtypes: float64(1), int64(1)\n",
      "memory usage: 49.5 KB\n"
     ]
    }
   ],
   "source": [
    "data_mkrf_shows.info()"
   ]
  },
  {
   "cell_type": "code",
   "execution_count": 6,
   "metadata": {},
   "outputs": [
    {
     "data": {
      "text/html": [
       "<div>\n",
       "<style scoped>\n",
       "    .dataframe tbody tr th:only-of-type {\n",
       "        vertical-align: middle;\n",
       "    }\n",
       "\n",
       "    .dataframe tbody tr th {\n",
       "        vertical-align: top;\n",
       "    }\n",
       "\n",
       "    .dataframe thead th {\n",
       "        text-align: right;\n",
       "    }\n",
       "</style>\n",
       "<table border=\"1\" class=\"dataframe\">\n",
       "  <thead>\n",
       "    <tr style=\"text-align: right;\">\n",
       "      <th></th>\n",
       "      <th>title</th>\n",
       "      <th>puNumber</th>\n",
       "      <th>show_start_date</th>\n",
       "      <th>type</th>\n",
       "      <th>film_studio</th>\n",
       "      <th>production_country</th>\n",
       "      <th>director</th>\n",
       "      <th>producer</th>\n",
       "      <th>age_restriction</th>\n",
       "      <th>refundable_support</th>\n",
       "      <th>nonrefundable_support</th>\n",
       "      <th>budget</th>\n",
       "      <th>financing_source</th>\n",
       "      <th>ratings</th>\n",
       "      <th>genres</th>\n",
       "    </tr>\n",
       "  </thead>\n",
       "  <tbody>\n",
       "    <tr>\n",
       "      <th>0</th>\n",
       "      <td>Открытый простор</td>\n",
       "      <td>221048915</td>\n",
       "      <td>2015-11-27T12:00:00.000Z</td>\n",
       "      <td>Художественный</td>\n",
       "      <td>Тачстоун Пикчерз, Кобальт Пикчерз, Бикон Пикче...</td>\n",
       "      <td>США</td>\n",
       "      <td>Кевин Костнер</td>\n",
       "      <td>Дэвид Валдес, Кевин Костнер, Джейк Эбертс</td>\n",
       "      <td>«18+» - запрещено для детей</td>\n",
       "      <td>NaN</td>\n",
       "      <td>NaN</td>\n",
       "      <td>NaN</td>\n",
       "      <td>NaN</td>\n",
       "      <td>7.2</td>\n",
       "      <td>боевик,драма,мелодрама</td>\n",
       "    </tr>\n",
       "    <tr>\n",
       "      <th>1</th>\n",
       "      <td>Особо важное задание</td>\n",
       "      <td>111013716</td>\n",
       "      <td>2016-09-13T12:00:00.000Z</td>\n",
       "      <td>Художественный</td>\n",
       "      <td>Киностудия \"Мосфильм\"</td>\n",
       "      <td>СССР</td>\n",
       "      <td>Е.Матвеев</td>\n",
       "      <td>NaN</td>\n",
       "      <td>«6+» - для детей старше 6 лет</td>\n",
       "      <td>NaN</td>\n",
       "      <td>NaN</td>\n",
       "      <td>NaN</td>\n",
       "      <td>NaN</td>\n",
       "      <td>6.6</td>\n",
       "      <td>драма,военный</td>\n",
       "    </tr>\n",
       "    <tr>\n",
       "      <th>2</th>\n",
       "      <td>Особо опасен</td>\n",
       "      <td>221038416</td>\n",
       "      <td>2016-10-10T12:00:00.000Z</td>\n",
       "      <td>Художественный</td>\n",
       "      <td>Юниверсал Пикчерз, Кикстарт Продакшнз, Марк Пл...</td>\n",
       "      <td>США</td>\n",
       "      <td>Тимур Бекмамбетов</td>\n",
       "      <td>Джим Лемли, Джейсон Нетер, Марк Е.Платт, Яйн Смит</td>\n",
       "      <td>«18+» - запрещено для детей</td>\n",
       "      <td>NaN</td>\n",
       "      <td>NaN</td>\n",
       "      <td>NaN</td>\n",
       "      <td>NaN</td>\n",
       "      <td>6.8</td>\n",
       "      <td>фантастика,боевик,триллер</td>\n",
       "    </tr>\n",
       "    <tr>\n",
       "      <th>3</th>\n",
       "      <td>Особо опасен</td>\n",
       "      <td>221026916</td>\n",
       "      <td>2016-06-10T12:00:00.000Z</td>\n",
       "      <td>Художественный</td>\n",
       "      <td>Юниверсал Пикчерз, Кикстарт Продакшнз, Марк Пл...</td>\n",
       "      <td>США</td>\n",
       "      <td>Тимур Бекмамбетов</td>\n",
       "      <td>Джим Лемли, Джейсон Нетер, Марк Е.Платт, Яйн Смит</td>\n",
       "      <td>«18+» - запрещено для детей</td>\n",
       "      <td>NaN</td>\n",
       "      <td>NaN</td>\n",
       "      <td>NaN</td>\n",
       "      <td>NaN</td>\n",
       "      <td>6.8</td>\n",
       "      <td>фантастика,боевик,триллер</td>\n",
       "    </tr>\n",
       "    <tr>\n",
       "      <th>4</th>\n",
       "      <td>Особо опасен</td>\n",
       "      <td>221030815</td>\n",
       "      <td>2015-07-29T12:00:00.000Z</td>\n",
       "      <td>Художественный</td>\n",
       "      <td>Юниверсал Пикчерз, Кикстарт Продакшнз, Марк Пл...</td>\n",
       "      <td>США</td>\n",
       "      <td>Тимур Бекмамбетов</td>\n",
       "      <td>Джим Лемли, Джейсон Нетер, Марк Е.Платт, Яйн Смит</td>\n",
       "      <td>«18+» - запрещено для детей</td>\n",
       "      <td>NaN</td>\n",
       "      <td>NaN</td>\n",
       "      <td>NaN</td>\n",
       "      <td>NaN</td>\n",
       "      <td>6.8</td>\n",
       "      <td>фантастика,боевик,триллер</td>\n",
       "    </tr>\n",
       "    <tr>\n",
       "      <th>5</th>\n",
       "      <td>Остановился поезд</td>\n",
       "      <td>111013816</td>\n",
       "      <td>2016-09-13T12:00:00.000Z</td>\n",
       "      <td>Художественный</td>\n",
       "      <td>Киностудия \"Мосфильм\"</td>\n",
       "      <td>СССР</td>\n",
       "      <td>В.Абдрашитов</td>\n",
       "      <td>NaN</td>\n",
       "      <td>«6+» - для детей старше 6 лет</td>\n",
       "      <td>NaN</td>\n",
       "      <td>NaN</td>\n",
       "      <td>NaN</td>\n",
       "      <td>NaN</td>\n",
       "      <td>7.7</td>\n",
       "      <td>драма</td>\n",
       "    </tr>\n",
       "    <tr>\n",
       "      <th>6</th>\n",
       "      <td>Любовь и голуби</td>\n",
       "      <td>111007013</td>\n",
       "      <td>2013-10-18T12:00:00.000Z</td>\n",
       "      <td>Художественный</td>\n",
       "      <td>Киностудия \"Мосфильм\"</td>\n",
       "      <td>СССР</td>\n",
       "      <td>В.Меньшов</td>\n",
       "      <td>NaN</td>\n",
       "      <td>«12+» - для детей старше 12 лет</td>\n",
       "      <td>NaN</td>\n",
       "      <td>NaN</td>\n",
       "      <td>NaN</td>\n",
       "      <td>NaN</td>\n",
       "      <td>8.3</td>\n",
       "      <td>мелодрама,комедия</td>\n",
       "    </tr>\n",
       "    <tr>\n",
       "      <th>7</th>\n",
       "      <td>Любовь и сигареты</td>\n",
       "      <td>221074614</td>\n",
       "      <td>2014-12-29T12:00:00.000Z</td>\n",
       "      <td>Художественный</td>\n",
       "      <td>Юнайтед Артистс, Грин Стрит Филмз, Айкон Интер...</td>\n",
       "      <td>США</td>\n",
       "      <td>Джон Туртурро</td>\n",
       "      <td>Джон Пенотти, Джон Туртурро</td>\n",
       "      <td>«18+» - запрещено для детей</td>\n",
       "      <td>NaN</td>\n",
       "      <td>NaN</td>\n",
       "      <td>NaN</td>\n",
       "      <td>NaN</td>\n",
       "      <td>6.6</td>\n",
       "      <td>мюзикл,мелодрама,комедия</td>\n",
       "    </tr>\n",
       "    <tr>\n",
       "      <th>8</th>\n",
       "      <td>Отпетые мошенники.</td>\n",
       "      <td>121011416</td>\n",
       "      <td>2016-05-05T12:00:00.000Z</td>\n",
       "      <td>Художественный</td>\n",
       "      <td>Пульсар Продюксьон, ТФ1 Фильм</td>\n",
       "      <td>Франция</td>\n",
       "      <td>Эрик Беснард</td>\n",
       "      <td>Патрис Леду</td>\n",
       "      <td>«18+» - запрещено для детей</td>\n",
       "      <td>NaN</td>\n",
       "      <td>NaN</td>\n",
       "      <td>NaN</td>\n",
       "      <td>NaN</td>\n",
       "      <td>8.0</td>\n",
       "      <td>комедия,криминал</td>\n",
       "    </tr>\n",
       "    <tr>\n",
       "      <th>9</th>\n",
       "      <td>Отпуск за свой счет</td>\n",
       "      <td>111019114</td>\n",
       "      <td>2014-12-01T12:00:00.000Z</td>\n",
       "      <td>Художественный</td>\n",
       "      <td>Киностудия \"Мосфильм\", Телевидение ВНР</td>\n",
       "      <td>СССР, Венгрия</td>\n",
       "      <td>В.Титов</td>\n",
       "      <td>NaN</td>\n",
       "      <td>«12+» - для детей старше 12 лет</td>\n",
       "      <td>NaN</td>\n",
       "      <td>NaN</td>\n",
       "      <td>NaN</td>\n",
       "      <td>NaN</td>\n",
       "      <td>7.8</td>\n",
       "      <td>мелодрама,комедия</td>\n",
       "    </tr>\n",
       "  </tbody>\n",
       "</table>\n",
       "</div>"
      ],
      "text/plain": [
       "                  title   puNumber           show_start_date            type  \\\n",
       "0      Открытый простор  221048915  2015-11-27T12:00:00.000Z  Художественный   \n",
       "1  Особо важное задание  111013716  2016-09-13T12:00:00.000Z  Художественный   \n",
       "2          Особо опасен  221038416  2016-10-10T12:00:00.000Z  Художественный   \n",
       "3          Особо опасен  221026916  2016-06-10T12:00:00.000Z  Художественный   \n",
       "4          Особо опасен  221030815  2015-07-29T12:00:00.000Z  Художественный   \n",
       "5     Остановился поезд  111013816  2016-09-13T12:00:00.000Z  Художественный   \n",
       "6       Любовь и голуби  111007013  2013-10-18T12:00:00.000Z  Художественный   \n",
       "7     Любовь и сигареты  221074614  2014-12-29T12:00:00.000Z  Художественный   \n",
       "8    Отпетые мошенники.  121011416  2016-05-05T12:00:00.000Z  Художественный   \n",
       "9   Отпуск за свой счет  111019114  2014-12-01T12:00:00.000Z  Художественный   \n",
       "\n",
       "                                         film_studio production_country  \\\n",
       "0  Тачстоун Пикчерз, Кобальт Пикчерз, Бикон Пикче...                США   \n",
       "1                              Киностудия \"Мосфильм\"               СССР   \n",
       "2  Юниверсал Пикчерз, Кикстарт Продакшнз, Марк Пл...                США   \n",
       "3  Юниверсал Пикчерз, Кикстарт Продакшнз, Марк Пл...                США   \n",
       "4  Юниверсал Пикчерз, Кикстарт Продакшнз, Марк Пл...                США   \n",
       "5                              Киностудия \"Мосфильм\"               СССР   \n",
       "6                              Киностудия \"Мосфильм\"               СССР   \n",
       "7  Юнайтед Артистс, Грин Стрит Филмз, Айкон Интер...                США   \n",
       "8                     Пульсар Продюксьон, ТФ1 Фильм             Франция   \n",
       "9             Киностудия \"Мосфильм\", Телевидение ВНР      СССР, Венгрия   \n",
       "\n",
       "            director                                           producer  \\\n",
       "0      Кевин Костнер          Дэвид Валдес, Кевин Костнер, Джейк Эбертс   \n",
       "1          Е.Матвеев                                                NaN   \n",
       "2  Тимур Бекмамбетов  Джим Лемли, Джейсон Нетер, Марк Е.Платт, Яйн Смит   \n",
       "3  Тимур Бекмамбетов  Джим Лемли, Джейсон Нетер, Марк Е.Платт, Яйн Смит   \n",
       "4  Тимур Бекмамбетов  Джим Лемли, Джейсон Нетер, Марк Е.Платт, Яйн Смит   \n",
       "5       В.Абдрашитов                                                NaN   \n",
       "6          В.Меньшов                                                NaN   \n",
       "7      Джон Туртурро                        Джон Пенотти, Джон Туртурро   \n",
       "8       Эрик Беснард                                        Патрис Леду   \n",
       "9            В.Титов                                                NaN   \n",
       "\n",
       "                   age_restriction  refundable_support  nonrefundable_support  \\\n",
       "0      «18+» - запрещено для детей                 NaN                    NaN   \n",
       "1    «6+» - для детей старше 6 лет                 NaN                    NaN   \n",
       "2      «18+» - запрещено для детей                 NaN                    NaN   \n",
       "3      «18+» - запрещено для детей                 NaN                    NaN   \n",
       "4      «18+» - запрещено для детей                 NaN                    NaN   \n",
       "5    «6+» - для детей старше 6 лет                 NaN                    NaN   \n",
       "6  «12+» - для детей старше 12 лет                 NaN                    NaN   \n",
       "7      «18+» - запрещено для детей                 NaN                    NaN   \n",
       "8      «18+» - запрещено для детей                 NaN                    NaN   \n",
       "9  «12+» - для детей старше 12 лет                 NaN                    NaN   \n",
       "\n",
       "   budget financing_source ratings                     genres  \n",
       "0     NaN              NaN     7.2     боевик,драма,мелодрама  \n",
       "1     NaN              NaN     6.6              драма,военный  \n",
       "2     NaN              NaN     6.8  фантастика,боевик,триллер  \n",
       "3     NaN              NaN     6.8  фантастика,боевик,триллер  \n",
       "4     NaN              NaN     6.8  фантастика,боевик,триллер  \n",
       "5     NaN              NaN     7.7                      драма  \n",
       "6     NaN              NaN     8.3          мелодрама,комедия  \n",
       "7     NaN              NaN     6.6   мюзикл,мелодрама,комедия  \n",
       "8     NaN              NaN     8.0           комедия,криминал  \n",
       "9     NaN              NaN     7.8          мелодрама,комедия  "
      ]
     },
     "execution_count": 6,
     "metadata": {},
     "output_type": "execute_result"
    }
   ],
   "source": [
    "data_mkrf_movies = pd.read_csv('/datasets/mkrf_movies.csv')\n",
    "data_mkrf_movies.head(10)"
   ]
  },
  {
   "cell_type": "code",
   "execution_count": 7,
   "metadata": {},
   "outputs": [
    {
     "name": "stdout",
     "output_type": "stream",
     "text": [
      "<class 'pandas.core.frame.DataFrame'>\n",
      "RangeIndex: 7486 entries, 0 to 7485\n",
      "Data columns (total 15 columns):\n",
      " #   Column                 Non-Null Count  Dtype  \n",
      "---  ------                 --------------  -----  \n",
      " 0   title                  7486 non-null   object \n",
      " 1   puNumber               7486 non-null   object \n",
      " 2   show_start_date        7486 non-null   object \n",
      " 3   type                   7486 non-null   object \n",
      " 4   film_studio            7468 non-null   object \n",
      " 5   production_country     7484 non-null   object \n",
      " 6   director               7477 non-null   object \n",
      " 7   producer               6918 non-null   object \n",
      " 8   age_restriction        7486 non-null   object \n",
      " 9   refundable_support     332 non-null    float64\n",
      " 10  nonrefundable_support  332 non-null    float64\n",
      " 11  budget                 332 non-null    float64\n",
      " 12  financing_source       332 non-null    object \n",
      " 13  ratings                6519 non-null   object \n",
      " 14  genres                 6510 non-null   object \n",
      "dtypes: float64(3), object(12)\n",
      "memory usage: 877.4+ KB\n"
     ]
    }
   ],
   "source": [
    "data_mkrf_movies.info()"
   ]
  },
  {
   "cell_type": "markdown",
   "metadata": {},
   "source": [
    "Обнаружили, что данные в стоолбцах puNumber в обеих таблицах представленны в разных типах данных, поэтому переведем их из типа object во второй таблице в int и заменим строковые значения на NaN. После этого объеденим таблицы."
   ]
  },
  {
   "cell_type": "code",
   "execution_count": 8,
   "metadata": {},
   "outputs": [],
   "source": [
    "data_mkrf_movies['puNumber'] = pd.to_numeric(data_mkrf_movies['puNumber'], errors='coerce')"
   ]
  },
  {
   "cell_type": "code",
   "execution_count": 9,
   "metadata": {},
   "outputs": [
    {
     "data": {
      "text/html": [
       "<div>\n",
       "<style scoped>\n",
       "    .dataframe tbody tr th:only-of-type {\n",
       "        vertical-align: middle;\n",
       "    }\n",
       "\n",
       "    .dataframe tbody tr th {\n",
       "        vertical-align: top;\n",
       "    }\n",
       "\n",
       "    .dataframe thead th {\n",
       "        text-align: right;\n",
       "    }\n",
       "</style>\n",
       "<table border=\"1\" class=\"dataframe\">\n",
       "  <thead>\n",
       "    <tr style=\"text-align: right;\">\n",
       "      <th></th>\n",
       "      <th>title</th>\n",
       "      <th>puNumber</th>\n",
       "      <th>show_start_date</th>\n",
       "      <th>type</th>\n",
       "      <th>film_studio</th>\n",
       "      <th>production_country</th>\n",
       "      <th>director</th>\n",
       "      <th>producer</th>\n",
       "      <th>age_restriction</th>\n",
       "      <th>refundable_support</th>\n",
       "      <th>nonrefundable_support</th>\n",
       "      <th>budget</th>\n",
       "      <th>financing_source</th>\n",
       "      <th>ratings</th>\n",
       "      <th>genres</th>\n",
       "      <th>box_office</th>\n",
       "    </tr>\n",
       "  </thead>\n",
       "  <tbody>\n",
       "    <tr>\n",
       "      <th>0</th>\n",
       "      <td>Открытый простор</td>\n",
       "      <td>221,048,915.00</td>\n",
       "      <td>2015-11-27T12:00:00.000Z</td>\n",
       "      <td>Художественный</td>\n",
       "      <td>Тачстоун Пикчерз, Кобальт Пикчерз, Бикон Пикче...</td>\n",
       "      <td>США</td>\n",
       "      <td>Кевин Костнер</td>\n",
       "      <td>Дэвид Валдес, Кевин Костнер, Джейк Эбертс</td>\n",
       "      <td>«18+» - запрещено для детей</td>\n",
       "      <td>NaN</td>\n",
       "      <td>NaN</td>\n",
       "      <td>NaN</td>\n",
       "      <td>NaN</td>\n",
       "      <td>7.2</td>\n",
       "      <td>боевик,драма,мелодрама</td>\n",
       "      <td>NaN</td>\n",
       "    </tr>\n",
       "    <tr>\n",
       "      <th>1</th>\n",
       "      <td>Особо важное задание</td>\n",
       "      <td>111,013,716.00</td>\n",
       "      <td>2016-09-13T12:00:00.000Z</td>\n",
       "      <td>Художественный</td>\n",
       "      <td>Киностудия \"Мосфильм\"</td>\n",
       "      <td>СССР</td>\n",
       "      <td>Е.Матвеев</td>\n",
       "      <td>NaN</td>\n",
       "      <td>«6+» - для детей старше 6 лет</td>\n",
       "      <td>NaN</td>\n",
       "      <td>NaN</td>\n",
       "      <td>NaN</td>\n",
       "      <td>NaN</td>\n",
       "      <td>6.6</td>\n",
       "      <td>драма,военный</td>\n",
       "      <td>NaN</td>\n",
       "    </tr>\n",
       "    <tr>\n",
       "      <th>2</th>\n",
       "      <td>Особо опасен</td>\n",
       "      <td>221,038,416.00</td>\n",
       "      <td>2016-10-10T12:00:00.000Z</td>\n",
       "      <td>Художественный</td>\n",
       "      <td>Юниверсал Пикчерз, Кикстарт Продакшнз, Марк Пл...</td>\n",
       "      <td>США</td>\n",
       "      <td>Тимур Бекмамбетов</td>\n",
       "      <td>Джим Лемли, Джейсон Нетер, Марк Е.Платт, Яйн Смит</td>\n",
       "      <td>«18+» - запрещено для детей</td>\n",
       "      <td>NaN</td>\n",
       "      <td>NaN</td>\n",
       "      <td>NaN</td>\n",
       "      <td>NaN</td>\n",
       "      <td>6.8</td>\n",
       "      <td>фантастика,боевик,триллер</td>\n",
       "      <td>NaN</td>\n",
       "    </tr>\n",
       "    <tr>\n",
       "      <th>3</th>\n",
       "      <td>Особо опасен</td>\n",
       "      <td>221,026,916.00</td>\n",
       "      <td>2016-06-10T12:00:00.000Z</td>\n",
       "      <td>Художественный</td>\n",
       "      <td>Юниверсал Пикчерз, Кикстарт Продакшнз, Марк Пл...</td>\n",
       "      <td>США</td>\n",
       "      <td>Тимур Бекмамбетов</td>\n",
       "      <td>Джим Лемли, Джейсон Нетер, Марк Е.Платт, Яйн Смит</td>\n",
       "      <td>«18+» - запрещено для детей</td>\n",
       "      <td>NaN</td>\n",
       "      <td>NaN</td>\n",
       "      <td>NaN</td>\n",
       "      <td>NaN</td>\n",
       "      <td>6.8</td>\n",
       "      <td>фантастика,боевик,триллер</td>\n",
       "      <td>NaN</td>\n",
       "    </tr>\n",
       "    <tr>\n",
       "      <th>4</th>\n",
       "      <td>Особо опасен</td>\n",
       "      <td>221,030,815.00</td>\n",
       "      <td>2015-07-29T12:00:00.000Z</td>\n",
       "      <td>Художественный</td>\n",
       "      <td>Юниверсал Пикчерз, Кикстарт Продакшнз, Марк Пл...</td>\n",
       "      <td>США</td>\n",
       "      <td>Тимур Бекмамбетов</td>\n",
       "      <td>Джим Лемли, Джейсон Нетер, Марк Е.Платт, Яйн Смит</td>\n",
       "      <td>«18+» - запрещено для детей</td>\n",
       "      <td>NaN</td>\n",
       "      <td>NaN</td>\n",
       "      <td>NaN</td>\n",
       "      <td>NaN</td>\n",
       "      <td>6.8</td>\n",
       "      <td>фантастика,боевик,триллер</td>\n",
       "      <td>NaN</td>\n",
       "    </tr>\n",
       "    <tr>\n",
       "      <th>5</th>\n",
       "      <td>Остановился поезд</td>\n",
       "      <td>111,013,816.00</td>\n",
       "      <td>2016-09-13T12:00:00.000Z</td>\n",
       "      <td>Художественный</td>\n",
       "      <td>Киностудия \"Мосфильм\"</td>\n",
       "      <td>СССР</td>\n",
       "      <td>В.Абдрашитов</td>\n",
       "      <td>NaN</td>\n",
       "      <td>«6+» - для детей старше 6 лет</td>\n",
       "      <td>NaN</td>\n",
       "      <td>NaN</td>\n",
       "      <td>NaN</td>\n",
       "      <td>NaN</td>\n",
       "      <td>7.7</td>\n",
       "      <td>драма</td>\n",
       "      <td>NaN</td>\n",
       "    </tr>\n",
       "    <tr>\n",
       "      <th>6</th>\n",
       "      <td>Любовь и голуби</td>\n",
       "      <td>111,007,013.00</td>\n",
       "      <td>2013-10-18T12:00:00.000Z</td>\n",
       "      <td>Художественный</td>\n",
       "      <td>Киностудия \"Мосфильм\"</td>\n",
       "      <td>СССР</td>\n",
       "      <td>В.Меньшов</td>\n",
       "      <td>NaN</td>\n",
       "      <td>«12+» - для детей старше 12 лет</td>\n",
       "      <td>NaN</td>\n",
       "      <td>NaN</td>\n",
       "      <td>NaN</td>\n",
       "      <td>NaN</td>\n",
       "      <td>8.3</td>\n",
       "      <td>мелодрама,комедия</td>\n",
       "      <td>2,700.00</td>\n",
       "    </tr>\n",
       "    <tr>\n",
       "      <th>7</th>\n",
       "      <td>Любовь и сигареты</td>\n",
       "      <td>221,074,614.00</td>\n",
       "      <td>2014-12-29T12:00:00.000Z</td>\n",
       "      <td>Художественный</td>\n",
       "      <td>Юнайтед Артистс, Грин Стрит Филмз, Айкон Интер...</td>\n",
       "      <td>США</td>\n",
       "      <td>Джон Туртурро</td>\n",
       "      <td>Джон Пенотти, Джон Туртурро</td>\n",
       "      <td>«18+» - запрещено для детей</td>\n",
       "      <td>NaN</td>\n",
       "      <td>NaN</td>\n",
       "      <td>NaN</td>\n",
       "      <td>NaN</td>\n",
       "      <td>6.6</td>\n",
       "      <td>мюзикл,мелодрама,комедия</td>\n",
       "      <td>NaN</td>\n",
       "    </tr>\n",
       "    <tr>\n",
       "      <th>8</th>\n",
       "      <td>Отпетые мошенники.</td>\n",
       "      <td>121,011,416.00</td>\n",
       "      <td>2016-05-05T12:00:00.000Z</td>\n",
       "      <td>Художественный</td>\n",
       "      <td>Пульсар Продюксьон, ТФ1 Фильм</td>\n",
       "      <td>Франция</td>\n",
       "      <td>Эрик Беснард</td>\n",
       "      <td>Патрис Леду</td>\n",
       "      <td>«18+» - запрещено для детей</td>\n",
       "      <td>NaN</td>\n",
       "      <td>NaN</td>\n",
       "      <td>NaN</td>\n",
       "      <td>NaN</td>\n",
       "      <td>8.0</td>\n",
       "      <td>комедия,криминал</td>\n",
       "      <td>NaN</td>\n",
       "    </tr>\n",
       "    <tr>\n",
       "      <th>9</th>\n",
       "      <td>Отпуск за свой счет</td>\n",
       "      <td>111,019,114.00</td>\n",
       "      <td>2014-12-01T12:00:00.000Z</td>\n",
       "      <td>Художественный</td>\n",
       "      <td>Киностудия \"Мосфильм\", Телевидение ВНР</td>\n",
       "      <td>СССР, Венгрия</td>\n",
       "      <td>В.Титов</td>\n",
       "      <td>NaN</td>\n",
       "      <td>«12+» - для детей старше 12 лет</td>\n",
       "      <td>NaN</td>\n",
       "      <td>NaN</td>\n",
       "      <td>NaN</td>\n",
       "      <td>NaN</td>\n",
       "      <td>7.8</td>\n",
       "      <td>мелодрама,комедия</td>\n",
       "      <td>NaN</td>\n",
       "    </tr>\n",
       "  </tbody>\n",
       "</table>\n",
       "</div>"
      ],
      "text/plain": [
       "                  title       puNumber           show_start_date  \\\n",
       "0      Открытый простор 221,048,915.00  2015-11-27T12:00:00.000Z   \n",
       "1  Особо важное задание 111,013,716.00  2016-09-13T12:00:00.000Z   \n",
       "2          Особо опасен 221,038,416.00  2016-10-10T12:00:00.000Z   \n",
       "3          Особо опасен 221,026,916.00  2016-06-10T12:00:00.000Z   \n",
       "4          Особо опасен 221,030,815.00  2015-07-29T12:00:00.000Z   \n",
       "5     Остановился поезд 111,013,816.00  2016-09-13T12:00:00.000Z   \n",
       "6       Любовь и голуби 111,007,013.00  2013-10-18T12:00:00.000Z   \n",
       "7     Любовь и сигареты 221,074,614.00  2014-12-29T12:00:00.000Z   \n",
       "8    Отпетые мошенники. 121,011,416.00  2016-05-05T12:00:00.000Z   \n",
       "9   Отпуск за свой счет 111,019,114.00  2014-12-01T12:00:00.000Z   \n",
       "\n",
       "             type                                        film_studio  \\\n",
       "0  Художественный  Тачстоун Пикчерз, Кобальт Пикчерз, Бикон Пикче...   \n",
       "1  Художественный                              Киностудия \"Мосфильм\"   \n",
       "2  Художественный  Юниверсал Пикчерз, Кикстарт Продакшнз, Марк Пл...   \n",
       "3  Художественный  Юниверсал Пикчерз, Кикстарт Продакшнз, Марк Пл...   \n",
       "4  Художественный  Юниверсал Пикчерз, Кикстарт Продакшнз, Марк Пл...   \n",
       "5  Художественный                              Киностудия \"Мосфильм\"   \n",
       "6  Художественный                              Киностудия \"Мосфильм\"   \n",
       "7  Художественный  Юнайтед Артистс, Грин Стрит Филмз, Айкон Интер...   \n",
       "8  Художественный                     Пульсар Продюксьон, ТФ1 Фильм    \n",
       "9  Художественный             Киностудия \"Мосфильм\", Телевидение ВНР   \n",
       "\n",
       "  production_country           director  \\\n",
       "0                США      Кевин Костнер   \n",
       "1               СССР          Е.Матвеев   \n",
       "2                США  Тимур Бекмамбетов   \n",
       "3                США  Тимур Бекмамбетов   \n",
       "4                США  Тимур Бекмамбетов   \n",
       "5               СССР       В.Абдрашитов   \n",
       "6               СССР          В.Меньшов   \n",
       "7                США      Джон Туртурро   \n",
       "8            Франция       Эрик Беснард   \n",
       "9      СССР, Венгрия            В.Титов   \n",
       "\n",
       "                                            producer  \\\n",
       "0          Дэвид Валдес, Кевин Костнер, Джейк Эбертс   \n",
       "1                                                NaN   \n",
       "2  Джим Лемли, Джейсон Нетер, Марк Е.Платт, Яйн Смит   \n",
       "3  Джим Лемли, Джейсон Нетер, Марк Е.Платт, Яйн Смит   \n",
       "4  Джим Лемли, Джейсон Нетер, Марк Е.Платт, Яйн Смит   \n",
       "5                                                NaN   \n",
       "6                                                NaN   \n",
       "7                        Джон Пенотти, Джон Туртурро   \n",
       "8                                        Патрис Леду   \n",
       "9                                                NaN   \n",
       "\n",
       "                   age_restriction  refundable_support  nonrefundable_support  \\\n",
       "0      «18+» - запрещено для детей                 NaN                    NaN   \n",
       "1    «6+» - для детей старше 6 лет                 NaN                    NaN   \n",
       "2      «18+» - запрещено для детей                 NaN                    NaN   \n",
       "3      «18+» - запрещено для детей                 NaN                    NaN   \n",
       "4      «18+» - запрещено для детей                 NaN                    NaN   \n",
       "5    «6+» - для детей старше 6 лет                 NaN                    NaN   \n",
       "6  «12+» - для детей старше 12 лет                 NaN                    NaN   \n",
       "7      «18+» - запрещено для детей                 NaN                    NaN   \n",
       "8      «18+» - запрещено для детей                 NaN                    NaN   \n",
       "9  «12+» - для детей старше 12 лет                 NaN                    NaN   \n",
       "\n",
       "   budget financing_source ratings                     genres  box_office  \n",
       "0     NaN              NaN     7.2     боевик,драма,мелодрама         NaN  \n",
       "1     NaN              NaN     6.6              драма,военный         NaN  \n",
       "2     NaN              NaN     6.8  фантастика,боевик,триллер         NaN  \n",
       "3     NaN              NaN     6.8  фантастика,боевик,триллер         NaN  \n",
       "4     NaN              NaN     6.8  фантастика,боевик,триллер         NaN  \n",
       "5     NaN              NaN     7.7                      драма         NaN  \n",
       "6     NaN              NaN     8.3          мелодрама,комедия    2,700.00  \n",
       "7     NaN              NaN     6.6   мюзикл,мелодрама,комедия         NaN  \n",
       "8     NaN              NaN     8.0           комедия,криминал         NaN  \n",
       "9     NaN              NaN     7.8          мелодрама,комедия         NaN  "
      ]
     },
     "execution_count": 9,
     "metadata": {},
     "output_type": "execute_result"
    }
   ],
   "source": [
    "data = data_mkrf_movies.merge(data_mkrf_shows, on='puNumber', how='left')\n",
    "data.head(10)"
   ]
  },
  {
   "cell_type": "code",
   "execution_count": 10,
   "metadata": {},
   "outputs": [
    {
     "name": "stdout",
     "output_type": "stream",
     "text": [
      "<class 'pandas.core.frame.DataFrame'>\n",
      "Int64Index: 7486 entries, 0 to 7485\n",
      "Data columns (total 16 columns):\n",
      " #   Column                 Non-Null Count  Dtype  \n",
      "---  ------                 --------------  -----  \n",
      " 0   title                  7486 non-null   object \n",
      " 1   puNumber               7485 non-null   float64\n",
      " 2   show_start_date        7486 non-null   object \n",
      " 3   type                   7486 non-null   object \n",
      " 4   film_studio            7468 non-null   object \n",
      " 5   production_country     7484 non-null   object \n",
      " 6   director               7477 non-null   object \n",
      " 7   producer               6918 non-null   object \n",
      " 8   age_restriction        7486 non-null   object \n",
      " 9   refundable_support     332 non-null    float64\n",
      " 10  nonrefundable_support  332 non-null    float64\n",
      " 11  budget                 332 non-null    float64\n",
      " 12  financing_source       332 non-null    object \n",
      " 13  ratings                6519 non-null   object \n",
      " 14  genres                 6510 non-null   object \n",
      " 15  box_office             3158 non-null   float64\n",
      "dtypes: float64(5), object(11)\n",
      "memory usage: 994.2+ KB\n"
     ]
    }
   ],
   "source": [
    "data.info()"
   ]
  },
  {
   "cell_type": "markdown",
   "metadata": {},
   "source": [
    "Объеденили таблицы mkrf_movies и mkrf_shows в data, по выводу инфо видно, что все элементы таблиц вышли в сводню таблицу."
   ]
  },
  {
   "cell_type": "markdown",
   "metadata": {
    "id": "KLDGpPG0gFyM"
   },
   "source": [
    "### Шаг 2. Предобработка данных"
   ]
  },
  {
   "cell_type": "markdown",
   "metadata": {
    "id": "ssWwKXsxgFyO"
   },
   "source": [
    "#### Шаг 2.1. Проверка типов данных"
   ]
  },
  {
   "cell_type": "markdown",
   "metadata": {
    "id": "kVGSplJOgFyO"
   },
   "source": [
    "Типы данных не устраивают в столбцах puNumber и show_start_date, retings, в них и преобразуем. \n",
    "Заполним NAN в puNumber на 0, очевидно это NAN это отсутствие прокатного удостоверения в данных значениях. \n",
    "\n"
   ]
  },
  {
   "cell_type": "code",
   "execution_count": 11,
   "metadata": {},
   "outputs": [],
   "source": [
    "data['puNumber'] = data['puNumber'].fillna(0)"
   ]
  },
  {
   "cell_type": "code",
   "execution_count": 12,
   "metadata": {},
   "outputs": [],
   "source": [
    "data['puNumber'] = data['puNumber'].astype('int')"
   ]
  },
  {
   "cell_type": "code",
   "execution_count": 13,
   "metadata": {},
   "outputs": [],
   "source": [
    "data['show_start_date'] = pd.to_datetime(data['show_start_date'], format='%Y-%m-%dT%H:%M:%S')"
   ]
  },
  {
   "cell_type": "code",
   "execution_count": 14,
   "metadata": {},
   "outputs": [],
   "source": [
    "data['ratings'] = pd.to_numeric(data['ratings'], errors='coerce')"
   ]
  },
  {
   "cell_type": "code",
   "execution_count": 15,
   "metadata": {},
   "outputs": [
    {
     "data": {
      "text/html": [
       "<div>\n",
       "<style scoped>\n",
       "    .dataframe tbody tr th:only-of-type {\n",
       "        vertical-align: middle;\n",
       "    }\n",
       "\n",
       "    .dataframe tbody tr th {\n",
       "        vertical-align: top;\n",
       "    }\n",
       "\n",
       "    .dataframe thead th {\n",
       "        text-align: right;\n",
       "    }\n",
       "</style>\n",
       "<table border=\"1\" class=\"dataframe\">\n",
       "  <thead>\n",
       "    <tr style=\"text-align: right;\">\n",
       "      <th></th>\n",
       "      <th>title</th>\n",
       "      <th>puNumber</th>\n",
       "      <th>show_start_date</th>\n",
       "      <th>type</th>\n",
       "      <th>film_studio</th>\n",
       "      <th>production_country</th>\n",
       "      <th>director</th>\n",
       "      <th>producer</th>\n",
       "      <th>age_restriction</th>\n",
       "      <th>refundable_support</th>\n",
       "      <th>nonrefundable_support</th>\n",
       "      <th>budget</th>\n",
       "      <th>financing_source</th>\n",
       "      <th>ratings</th>\n",
       "      <th>genres</th>\n",
       "      <th>box_office</th>\n",
       "    </tr>\n",
       "  </thead>\n",
       "  <tbody>\n",
       "    <tr>\n",
       "      <th>0</th>\n",
       "      <td>Открытый простор</td>\n",
       "      <td>221048915</td>\n",
       "      <td>2015-11-27 12:00:00+00:00</td>\n",
       "      <td>Художественный</td>\n",
       "      <td>Тачстоун Пикчерз, Кобальт Пикчерз, Бикон Пикче...</td>\n",
       "      <td>США</td>\n",
       "      <td>Кевин Костнер</td>\n",
       "      <td>Дэвид Валдес, Кевин Костнер, Джейк Эбертс</td>\n",
       "      <td>«18+» - запрещено для детей</td>\n",
       "      <td>NaN</td>\n",
       "      <td>NaN</td>\n",
       "      <td>NaN</td>\n",
       "      <td>NaN</td>\n",
       "      <td>7.20</td>\n",
       "      <td>боевик,драма,мелодрама</td>\n",
       "      <td>NaN</td>\n",
       "    </tr>\n",
       "    <tr>\n",
       "      <th>1</th>\n",
       "      <td>Особо важное задание</td>\n",
       "      <td>111013716</td>\n",
       "      <td>2016-09-13 12:00:00+00:00</td>\n",
       "      <td>Художественный</td>\n",
       "      <td>Киностудия \"Мосфильм\"</td>\n",
       "      <td>СССР</td>\n",
       "      <td>Е.Матвеев</td>\n",
       "      <td>NaN</td>\n",
       "      <td>«6+» - для детей старше 6 лет</td>\n",
       "      <td>NaN</td>\n",
       "      <td>NaN</td>\n",
       "      <td>NaN</td>\n",
       "      <td>NaN</td>\n",
       "      <td>6.60</td>\n",
       "      <td>драма,военный</td>\n",
       "      <td>NaN</td>\n",
       "    </tr>\n",
       "    <tr>\n",
       "      <th>2</th>\n",
       "      <td>Особо опасен</td>\n",
       "      <td>221038416</td>\n",
       "      <td>2016-10-10 12:00:00+00:00</td>\n",
       "      <td>Художественный</td>\n",
       "      <td>Юниверсал Пикчерз, Кикстарт Продакшнз, Марк Пл...</td>\n",
       "      <td>США</td>\n",
       "      <td>Тимур Бекмамбетов</td>\n",
       "      <td>Джим Лемли, Джейсон Нетер, Марк Е.Платт, Яйн Смит</td>\n",
       "      <td>«18+» - запрещено для детей</td>\n",
       "      <td>NaN</td>\n",
       "      <td>NaN</td>\n",
       "      <td>NaN</td>\n",
       "      <td>NaN</td>\n",
       "      <td>6.80</td>\n",
       "      <td>фантастика,боевик,триллер</td>\n",
       "      <td>NaN</td>\n",
       "    </tr>\n",
       "    <tr>\n",
       "      <th>3</th>\n",
       "      <td>Особо опасен</td>\n",
       "      <td>221026916</td>\n",
       "      <td>2016-06-10 12:00:00+00:00</td>\n",
       "      <td>Художественный</td>\n",
       "      <td>Юниверсал Пикчерз, Кикстарт Продакшнз, Марк Пл...</td>\n",
       "      <td>США</td>\n",
       "      <td>Тимур Бекмамбетов</td>\n",
       "      <td>Джим Лемли, Джейсон Нетер, Марк Е.Платт, Яйн Смит</td>\n",
       "      <td>«18+» - запрещено для детей</td>\n",
       "      <td>NaN</td>\n",
       "      <td>NaN</td>\n",
       "      <td>NaN</td>\n",
       "      <td>NaN</td>\n",
       "      <td>6.80</td>\n",
       "      <td>фантастика,боевик,триллер</td>\n",
       "      <td>NaN</td>\n",
       "    </tr>\n",
       "    <tr>\n",
       "      <th>4</th>\n",
       "      <td>Особо опасен</td>\n",
       "      <td>221030815</td>\n",
       "      <td>2015-07-29 12:00:00+00:00</td>\n",
       "      <td>Художественный</td>\n",
       "      <td>Юниверсал Пикчерз, Кикстарт Продакшнз, Марк Пл...</td>\n",
       "      <td>США</td>\n",
       "      <td>Тимур Бекмамбетов</td>\n",
       "      <td>Джим Лемли, Джейсон Нетер, Марк Е.Платт, Яйн Смит</td>\n",
       "      <td>«18+» - запрещено для детей</td>\n",
       "      <td>NaN</td>\n",
       "      <td>NaN</td>\n",
       "      <td>NaN</td>\n",
       "      <td>NaN</td>\n",
       "      <td>6.80</td>\n",
       "      <td>фантастика,боевик,триллер</td>\n",
       "      <td>NaN</td>\n",
       "    </tr>\n",
       "    <tr>\n",
       "      <th>5</th>\n",
       "      <td>Остановился поезд</td>\n",
       "      <td>111013816</td>\n",
       "      <td>2016-09-13 12:00:00+00:00</td>\n",
       "      <td>Художественный</td>\n",
       "      <td>Киностудия \"Мосфильм\"</td>\n",
       "      <td>СССР</td>\n",
       "      <td>В.Абдрашитов</td>\n",
       "      <td>NaN</td>\n",
       "      <td>«6+» - для детей старше 6 лет</td>\n",
       "      <td>NaN</td>\n",
       "      <td>NaN</td>\n",
       "      <td>NaN</td>\n",
       "      <td>NaN</td>\n",
       "      <td>7.70</td>\n",
       "      <td>драма</td>\n",
       "      <td>NaN</td>\n",
       "    </tr>\n",
       "    <tr>\n",
       "      <th>6</th>\n",
       "      <td>Любовь и голуби</td>\n",
       "      <td>111007013</td>\n",
       "      <td>2013-10-18 12:00:00+00:00</td>\n",
       "      <td>Художественный</td>\n",
       "      <td>Киностудия \"Мосфильм\"</td>\n",
       "      <td>СССР</td>\n",
       "      <td>В.Меньшов</td>\n",
       "      <td>NaN</td>\n",
       "      <td>«12+» - для детей старше 12 лет</td>\n",
       "      <td>NaN</td>\n",
       "      <td>NaN</td>\n",
       "      <td>NaN</td>\n",
       "      <td>NaN</td>\n",
       "      <td>8.30</td>\n",
       "      <td>мелодрама,комедия</td>\n",
       "      <td>2,700.00</td>\n",
       "    </tr>\n",
       "    <tr>\n",
       "      <th>7</th>\n",
       "      <td>Любовь и сигареты</td>\n",
       "      <td>221074614</td>\n",
       "      <td>2014-12-29 12:00:00+00:00</td>\n",
       "      <td>Художественный</td>\n",
       "      <td>Юнайтед Артистс, Грин Стрит Филмз, Айкон Интер...</td>\n",
       "      <td>США</td>\n",
       "      <td>Джон Туртурро</td>\n",
       "      <td>Джон Пенотти, Джон Туртурро</td>\n",
       "      <td>«18+» - запрещено для детей</td>\n",
       "      <td>NaN</td>\n",
       "      <td>NaN</td>\n",
       "      <td>NaN</td>\n",
       "      <td>NaN</td>\n",
       "      <td>6.60</td>\n",
       "      <td>мюзикл,мелодрама,комедия</td>\n",
       "      <td>NaN</td>\n",
       "    </tr>\n",
       "    <tr>\n",
       "      <th>8</th>\n",
       "      <td>Отпетые мошенники.</td>\n",
       "      <td>121011416</td>\n",
       "      <td>2016-05-05 12:00:00+00:00</td>\n",
       "      <td>Художественный</td>\n",
       "      <td>Пульсар Продюксьон, ТФ1 Фильм</td>\n",
       "      <td>Франция</td>\n",
       "      <td>Эрик Беснард</td>\n",
       "      <td>Патрис Леду</td>\n",
       "      <td>«18+» - запрещено для детей</td>\n",
       "      <td>NaN</td>\n",
       "      <td>NaN</td>\n",
       "      <td>NaN</td>\n",
       "      <td>NaN</td>\n",
       "      <td>8.00</td>\n",
       "      <td>комедия,криминал</td>\n",
       "      <td>NaN</td>\n",
       "    </tr>\n",
       "    <tr>\n",
       "      <th>9</th>\n",
       "      <td>Отпуск за свой счет</td>\n",
       "      <td>111019114</td>\n",
       "      <td>2014-12-01 12:00:00+00:00</td>\n",
       "      <td>Художественный</td>\n",
       "      <td>Киностудия \"Мосфильм\", Телевидение ВНР</td>\n",
       "      <td>СССР, Венгрия</td>\n",
       "      <td>В.Титов</td>\n",
       "      <td>NaN</td>\n",
       "      <td>«12+» - для детей старше 12 лет</td>\n",
       "      <td>NaN</td>\n",
       "      <td>NaN</td>\n",
       "      <td>NaN</td>\n",
       "      <td>NaN</td>\n",
       "      <td>7.80</td>\n",
       "      <td>мелодрама,комедия</td>\n",
       "      <td>NaN</td>\n",
       "    </tr>\n",
       "  </tbody>\n",
       "</table>\n",
       "</div>"
      ],
      "text/plain": [
       "                  title   puNumber           show_start_date            type  \\\n",
       "0      Открытый простор  221048915 2015-11-27 12:00:00+00:00  Художественный   \n",
       "1  Особо важное задание  111013716 2016-09-13 12:00:00+00:00  Художественный   \n",
       "2          Особо опасен  221038416 2016-10-10 12:00:00+00:00  Художественный   \n",
       "3          Особо опасен  221026916 2016-06-10 12:00:00+00:00  Художественный   \n",
       "4          Особо опасен  221030815 2015-07-29 12:00:00+00:00  Художественный   \n",
       "5     Остановился поезд  111013816 2016-09-13 12:00:00+00:00  Художественный   \n",
       "6       Любовь и голуби  111007013 2013-10-18 12:00:00+00:00  Художественный   \n",
       "7     Любовь и сигареты  221074614 2014-12-29 12:00:00+00:00  Художественный   \n",
       "8    Отпетые мошенники.  121011416 2016-05-05 12:00:00+00:00  Художественный   \n",
       "9   Отпуск за свой счет  111019114 2014-12-01 12:00:00+00:00  Художественный   \n",
       "\n",
       "                                         film_studio production_country  \\\n",
       "0  Тачстоун Пикчерз, Кобальт Пикчерз, Бикон Пикче...                США   \n",
       "1                              Киностудия \"Мосфильм\"               СССР   \n",
       "2  Юниверсал Пикчерз, Кикстарт Продакшнз, Марк Пл...                США   \n",
       "3  Юниверсал Пикчерз, Кикстарт Продакшнз, Марк Пл...                США   \n",
       "4  Юниверсал Пикчерз, Кикстарт Продакшнз, Марк Пл...                США   \n",
       "5                              Киностудия \"Мосфильм\"               СССР   \n",
       "6                              Киностудия \"Мосфильм\"               СССР   \n",
       "7  Юнайтед Артистс, Грин Стрит Филмз, Айкон Интер...                США   \n",
       "8                     Пульсар Продюксьон, ТФ1 Фильм             Франция   \n",
       "9             Киностудия \"Мосфильм\", Телевидение ВНР      СССР, Венгрия   \n",
       "\n",
       "            director                                           producer  \\\n",
       "0      Кевин Костнер          Дэвид Валдес, Кевин Костнер, Джейк Эбертс   \n",
       "1          Е.Матвеев                                                NaN   \n",
       "2  Тимур Бекмамбетов  Джим Лемли, Джейсон Нетер, Марк Е.Платт, Яйн Смит   \n",
       "3  Тимур Бекмамбетов  Джим Лемли, Джейсон Нетер, Марк Е.Платт, Яйн Смит   \n",
       "4  Тимур Бекмамбетов  Джим Лемли, Джейсон Нетер, Марк Е.Платт, Яйн Смит   \n",
       "5       В.Абдрашитов                                                NaN   \n",
       "6          В.Меньшов                                                NaN   \n",
       "7      Джон Туртурро                        Джон Пенотти, Джон Туртурро   \n",
       "8       Эрик Беснард                                        Патрис Леду   \n",
       "9            В.Титов                                                NaN   \n",
       "\n",
       "                   age_restriction  refundable_support  nonrefundable_support  \\\n",
       "0      «18+» - запрещено для детей                 NaN                    NaN   \n",
       "1    «6+» - для детей старше 6 лет                 NaN                    NaN   \n",
       "2      «18+» - запрещено для детей                 NaN                    NaN   \n",
       "3      «18+» - запрещено для детей                 NaN                    NaN   \n",
       "4      «18+» - запрещено для детей                 NaN                    NaN   \n",
       "5    «6+» - для детей старше 6 лет                 NaN                    NaN   \n",
       "6  «12+» - для детей старше 12 лет                 NaN                    NaN   \n",
       "7      «18+» - запрещено для детей                 NaN                    NaN   \n",
       "8      «18+» - запрещено для детей                 NaN                    NaN   \n",
       "9  «12+» - для детей старше 12 лет                 NaN                    NaN   \n",
       "\n",
       "   budget financing_source  ratings                     genres  box_office  \n",
       "0     NaN              NaN     7.20     боевик,драма,мелодрама         NaN  \n",
       "1     NaN              NaN     6.60              драма,военный         NaN  \n",
       "2     NaN              NaN     6.80  фантастика,боевик,триллер         NaN  \n",
       "3     NaN              NaN     6.80  фантастика,боевик,триллер         NaN  \n",
       "4     NaN              NaN     6.80  фантастика,боевик,триллер         NaN  \n",
       "5     NaN              NaN     7.70                      драма         NaN  \n",
       "6     NaN              NaN     8.30          мелодрама,комедия    2,700.00  \n",
       "7     NaN              NaN     6.60   мюзикл,мелодрама,комедия         NaN  \n",
       "8     NaN              NaN     8.00           комедия,криминал         NaN  \n",
       "9     NaN              NaN     7.80          мелодрама,комедия         NaN  "
      ]
     },
     "execution_count": 15,
     "metadata": {},
     "output_type": "execute_result"
    }
   ],
   "source": [
    "data.head(10)"
   ]
  },
  {
   "cell_type": "markdown",
   "metadata": {
    "id": "i0MOLbF-gFyP"
   },
   "source": [
    "#### Шаг 2.2. Изучение пропусков в датафрейме\n"
   ]
  },
  {
   "cell_type": "code",
   "execution_count": 16,
   "metadata": {},
   "outputs": [
    {
     "data": {
      "text/plain": [
       "title                       0\n",
       "puNumber                    0\n",
       "show_start_date             0\n",
       "type                        0\n",
       "film_studio                18\n",
       "production_country          2\n",
       "director                    9\n",
       "producer                  568\n",
       "age_restriction             0\n",
       "refundable_support       7154\n",
       "nonrefundable_support    7154\n",
       "budget                   7154\n",
       "financing_source         7154\n",
       "ratings                   996\n",
       "genres                    976\n",
       "box_office               4328\n",
       "dtype: int64"
      ]
     },
     "execution_count": 16,
     "metadata": {},
     "output_type": "execute_result"
    }
   ],
   "source": [
    "data.isnull().sum()"
   ]
  },
  {
   "cell_type": "code",
   "execution_count": 17,
   "metadata": {},
   "outputs": [],
   "source": [
    "data['budget']=data['budget'].fillna(0)\n",
    "data['budget'] = data['budget'].astype('int')"
   ]
  },
  {
   "cell_type": "code",
   "execution_count": 18,
   "metadata": {},
   "outputs": [],
   "source": [
    "data['refundable_support']=data['refundable_support'].fillna(0)\n",
    "data['refundable_support'] = data['refundable_support'].astype('int')"
   ]
  },
  {
   "cell_type": "code",
   "execution_count": 19,
   "metadata": {},
   "outputs": [],
   "source": [
    "data['nonrefundable_support']=data['nonrefundable_support'].fillna(0)\n",
    "data['nonrefundable_support'] = data['nonrefundable_support'].astype('int')"
   ]
  },
  {
   "cell_type": "code",
   "execution_count": 20,
   "metadata": {},
   "outputs": [],
   "source": [
    "data['box_office']=data['box_office'].fillna(0)\n",
    "data['box_office'] = data['box_office'].astype('int')"
   ]
  },
  {
   "cell_type": "markdown",
   "metadata": {},
   "source": [
    "Заполнила отсутствующие данные по budget, refundable_support, nonrefundable_support, box_office заглушками для удобства использования, а так же заменила на тип данных int."
   ]
  },
  {
   "cell_type": "markdown",
   "metadata": {
    "id": "8MJD_lkngFyP"
   },
   "source": [
    "- В данных определяются пропуски по значениям типа object в столбцах film_studio, production_country, director, producer, genres, ratings. Эти пропуски оставим как есть, мы не знаем причину пропусков, сообщим о пропусках тем, кто прислал данные. \n",
    "- В столбцах financing_sourse, budget nonrefundable_support refundable_support пропущенные данные связаны с отсутствием поддержки.\n",
    "- Отсутствие данных в столбце box_office может быть связано с тем, что фильм не вышел в прокат? Поэтому их просто заменим на заглушки для удобства. \n",
    "\n",
    " "
   ]
  },
  {
   "cell_type": "code",
   "execution_count": 21,
   "metadata": {},
   "outputs": [
    {
     "data": {
      "text/plain": [
       "title                       0\n",
       "puNumber                    0\n",
       "show_start_date             0\n",
       "type                        0\n",
       "film_studio                18\n",
       "production_country          2\n",
       "director                    9\n",
       "producer                  568\n",
       "age_restriction             0\n",
       "refundable_support          0\n",
       "nonrefundable_support       0\n",
       "budget                      0\n",
       "financing_source         7154\n",
       "ratings                   996\n",
       "genres                    976\n",
       "box_office                  0\n",
       "dtype: int64"
      ]
     },
     "execution_count": 21,
     "metadata": {},
     "output_type": "execute_result"
    }
   ],
   "source": [
    "data.isnull().sum()"
   ]
  },
  {
   "cell_type": "markdown",
   "metadata": {
    "id": "4c6k1t9ygFyQ"
   },
   "source": [
    "#### Шаг 2.3. Изучение наличия дубликатов в датафрейме"
   ]
  },
  {
   "cell_type": "code",
   "execution_count": 1,
   "metadata": {
    "id": "aKck8RIdgFyQ"
   },
   "outputs": [
    {
     "ename": "NameError",
     "evalue": "name 'data' is not defined",
     "output_type": "error",
     "traceback": [
      "\u001b[0;31m---------------------------------------------------------------------------\u001b[0m",
      "\u001b[0;31mNameError\u001b[0m                                 Traceback (most recent call last)",
      "Cell \u001b[0;32mIn[1], line 1\u001b[0m\n\u001b[0;32m----> 1\u001b[0m data\u001b[38;5;241m.\u001b[39mduplicated()\u001b[38;5;241m.\u001b[39msum()\n",
      "\u001b[0;31mNameError\u001b[0m: name 'data' is not defined"
     ]
    }
   ],
   "source": [
    "data.duplicated().sum()"
   ]
  },
  {
   "cell_type": "code",
   "execution_count": 2,
   "metadata": {},
   "outputs": [
    {
     "ename": "NameError",
     "evalue": "name 'data' is not defined",
     "output_type": "error",
     "traceback": [
      "\u001b[0;31m---------------------------------------------------------------------------\u001b[0m",
      "\u001b[0;31mNameError\u001b[0m                                 Traceback (most recent call last)",
      "Cell \u001b[0;32mIn[2], line 1\u001b[0m\n\u001b[0;32m----> 1\u001b[0m duplicate_rows \u001b[38;5;241m=\u001b[39m data[data\u001b[38;5;241m.\u001b[39mduplicated([\u001b[38;5;124m'\u001b[39m\u001b[38;5;124mtitle\u001b[39m\u001b[38;5;124m'\u001b[39m, \u001b[38;5;124m'\u001b[39m\u001b[38;5;124mshow_start_date\u001b[39m\u001b[38;5;124m'\u001b[39m])]\n\u001b[1;32m      2\u001b[0m duplicate_rows\u001b[38;5;241m.\u001b[39mcount()\n",
      "\u001b[0;31mNameError\u001b[0m: name 'data' is not defined"
     ]
    }
   ],
   "source": [
    "duplicate_rows = data[data.duplicated(['title', 'show_start_date'])]\n",
    "duplicate_rows.count()"
   ]
  },
  {
   "cell_type": "code",
   "execution_count": 24,
   "metadata": {},
   "outputs": [
    {
     "data": {
      "text/plain": [
       "title                    0\n",
       "puNumber                 0\n",
       "show_start_date          0\n",
       "type                     0\n",
       "film_studio              0\n",
       "production_country       0\n",
       "director                 0\n",
       "producer                 0\n",
       "age_restriction          0\n",
       "refundable_support       0\n",
       "nonrefundable_support    0\n",
       "budget                   0\n",
       "financing_source         0\n",
       "ratings                  0\n",
       "genres                   0\n",
       "box_office               0\n",
       "dtype: int64"
      ]
     },
     "execution_count": 24,
     "metadata": {},
     "output_type": "execute_result"
    }
   ],
   "source": [
    "duplicates_title_pu_number = data[data.duplicated(['title', 'puNumber'])]\n",
    "duplicates_title_pu_number.count()"
   ]
  },
  {
   "cell_type": "markdown",
   "metadata": {},
   "source": [
    "Проверены неполные дубликаты по названию фильма и прокатному удостоверению. Дубликатов не обнаружено, фильмы с одинаковым названием, но разными прокатными удостоверениями считаются разными."
   ]
  },
  {
   "cell_type": "markdown",
   "metadata": {
    "id": "52fOPrEBgFyQ"
   },
   "source": [
    "#### Шаг 2.4. Исследование категориальных значений"
   ]
  },
  {
   "cell_type": "code",
   "execution_count": 25,
   "metadata": {},
   "outputs": [],
   "source": [
    "def show_unique(column):\n",
    "    return data[column].unique()"
   ]
  },
  {
   "cell_type": "code",
   "execution_count": 26,
   "metadata": {},
   "outputs": [
    {
     "data": {
      "text/plain": [
       "array(['Художественный', 'Анимационный', 'Прочие', 'Документальный',\n",
       "       'Научно-популярный', ' Художественный', ' Анимационный',\n",
       "       'Музыкально-развлекательный'], dtype=object)"
      ]
     },
     "execution_count": 26,
     "metadata": {},
     "output_type": "execute_result"
    }
   ],
   "source": [
    "show_unique('type')"
   ]
  },
  {
   "cell_type": "markdown",
   "metadata": {},
   "source": [
    "Обнаружили лишние пробелы в данных, удалим их"
   ]
  },
  {
   "cell_type": "code",
   "execution_count": 27,
   "metadata": {
    "id": "PnXKIVdFgFyR"
   },
   "outputs": [],
   "source": [
    "data['type']=data['type'].str.strip()"
   ]
  },
  {
   "cell_type": "code",
   "execution_count": 28,
   "metadata": {},
   "outputs": [
    {
     "data": {
      "text/plain": [
       "array(['Художественный', 'Анимационный', 'Прочие', 'Документальный',\n",
       "       'Научно-популярный', 'Музыкально-развлекательный'], dtype=object)"
      ]
     },
     "execution_count": 28,
     "metadata": {},
     "output_type": "execute_result"
    }
   ],
   "source": [
    "show_unique('type')"
   ]
  },
  {
   "cell_type": "code",
   "execution_count": 29,
   "metadata": {},
   "outputs": [
    {
     "data": {
      "text/plain": [
       "array(['«18+» - запрещено для детей', '«6+» - для детей старше 6 лет',\n",
       "       '«12+» - для детей старше 12 лет',\n",
       "       '«16+» - для детей старше 16 лет',\n",
       "       '«0+» - для любой зрительской аудитории'], dtype=object)"
      ]
     },
     "execution_count": 29,
     "metadata": {},
     "output_type": "execute_result"
    }
   ],
   "source": [
    "show_unique('age_restriction')\n"
   ]
  },
  {
   "cell_type": "code",
   "execution_count": 30,
   "metadata": {},
   "outputs": [
    {
     "data": {
      "text/plain": [
       "array(['Открытый простор', 'Особо важное задание', 'Особо опасен', ...,\n",
       "       'Щенячий патруль: Скорей спешим на помощь!',\n",
       "       'Машины песенки. Серия \"Испанские мотивы\"',\n",
       "       'Машины песенки. Серия \"Когда цветут кактусы\"'], dtype=object)"
      ]
     },
     "execution_count": 30,
     "metadata": {},
     "output_type": "execute_result"
    }
   ],
   "source": [
    "show_unique('title')"
   ]
  },
  {
   "cell_type": "code",
   "execution_count": 31,
   "metadata": {},
   "outputs": [
    {
     "data": {
      "text/plain": [
       "array(['Тачстоун Пикчерз, Кобальт Пикчерз, Бикон Пикчерз, Тиг Продакшнз',\n",
       "       'Киностудия \"Мосфильм\"',\n",
       "       'Юниверсал Пикчерз, Кикстарт Продакшнз, Марк Платт Продакшнз, Рилейтивити Медиа, Спайгласс Интертейнмент, Стилкин Филмз, Топ Кау Продакшнз',\n",
       "       ...,\n",
       "       'Дэниел Гродник Продакшнз, Вандерфилм Медиа Корпорэйшн, Импринт Интертейнмент, Вор Хорс Интертейнмент, Пимиента ',\n",
       "       'Никелодеон Анимейшн Студиос, Спин Мастер',\n",
       "       'Анимаккорд Лтд., ООО Студия \"АНИМАККОРД\"'], dtype=object)"
      ]
     },
     "execution_count": 31,
     "metadata": {},
     "output_type": "execute_result"
    }
   ],
   "source": [
    "show_unique('film_studio')"
   ]
  },
  {
   "cell_type": "code",
   "execution_count": 32,
   "metadata": {},
   "outputs": [],
   "source": [
    "data['film_studio']=data['film_studio'].str.strip()"
   ]
  },
  {
   "cell_type": "code",
   "execution_count": 33,
   "metadata": {},
   "outputs": [
    {
     "data": {
      "text/plain": [
       "array(['Тачстоун Пикчерз, Кобальт Пикчерз, Бикон Пикчерз, Тиг Продакшнз',\n",
       "       'Киностудия \"Мосфильм\"',\n",
       "       'Юниверсал Пикчерз, Кикстарт Продакшнз, Марк Платт Продакшнз, Рилейтивити Медиа, Спайгласс Интертейнмент, Стилкин Филмз, Топ Кау Продакшнз',\n",
       "       ...,\n",
       "       'Дэниел Гродник Продакшнз, Вандерфилм Медиа Корпорэйшн, Импринт Интертейнмент, Вор Хорс Интертейнмент, Пимиента',\n",
       "       'Никелодеон Анимейшн Студиос, Спин Мастер',\n",
       "       'Анимаккорд Лтд., ООО Студия \"АНИМАККОРД\"'], dtype=object)"
      ]
     },
     "execution_count": 33,
     "metadata": {},
     "output_type": "execute_result"
    }
   ],
   "source": [
    "show_unique('film_studio')"
   ]
  },
  {
   "cell_type": "code",
   "execution_count": 34,
   "metadata": {},
   "outputs": [
    {
     "data": {
      "text/plain": [
       "array(['Кевин Костнер', 'Е.Матвеев', 'Тимур Бекмамбетов', ...,\n",
       "       'Ник Пауэлл', 'А.Беляев', 'И.Трусов'], dtype=object)"
      ]
     },
     "execution_count": 34,
     "metadata": {},
     "output_type": "execute_result"
    }
   ],
   "source": [
    "show_unique('director')"
   ]
  },
  {
   "cell_type": "code",
   "execution_count": 35,
   "metadata": {},
   "outputs": [
    {
     "data": {
      "text/plain": [
       "array(['Дэвид Валдес, Кевин Костнер, Джейк Эбертс', nan,\n",
       "       'Джим Лемли, Джейсон Нетер, Марк Е.Платт, Яйн Смит', ...,\n",
       "       'Поппи Бегум, Ник Пойнц',\n",
       "       'Джефф Боулер, Дэниэл Гродник, Луильо Руис, Брэт Саксон, Кирк Шоу',\n",
       "       'Дженнифер Додж'], dtype=object)"
      ]
     },
     "execution_count": 35,
     "metadata": {},
     "output_type": "execute_result"
    }
   ],
   "source": [
    "show_unique('producer')"
   ]
  },
  {
   "cell_type": "code",
   "execution_count": 36,
   "metadata": {},
   "outputs": [
    {
     "data": {
      "text/plain": [
       "array(['США', 'СССР', 'Франция', 'СССР, Венгрия',\n",
       "       'Германия-Великобритания', 'Великобритания - Италия',\n",
       "       'Чехословакия', 'США - Франция - Турция', 'Новая Зеландия',\n",
       "       'Канада - Франция - Испания', 'США-Германия',\n",
       "       'США - Великобритания', 'Великобритания', 'США - Германия',\n",
       "       'Франция - Мексика - США', 'Россия, Казахстан, США',\n",
       "       'СССР, Швеция', 'СССР, Франция, Англия, Куба, ГДР', 'Германия',\n",
       "       'Великобритания-США-Германия-КНР',\n",
       "       'СССР, ЧССР, Западный Берлин, ПНР', 'СССР, Италия', 'Гонконг, КНР',\n",
       "       'США - Франция', 'США - Япония - Франция - Великобритания',\n",
       "       'Гонконг - Сингапур - Таиланд - Великобритания', 'США-Канада',\n",
       "       'Франция - Италия - Великобритания - США', 'Франция - США',\n",
       "       'Ирландия-Великобритания-Германия', 'Чехия', 'США-Австралия',\n",
       "       'СССР, Финляндия', 'США-Франция-Великобритания-Австрия',\n",
       "       'США - Бельгия', 'США - Ирландия - Великобритания',\n",
       "       'Великобритания - США',\n",
       "       'Люксембург - Нидерланды - Испания - Великобритания - США - Италия',\n",
       "       'Великобритания - Франция - США', 'Новая Зеландия - США',\n",
       "       'США - Великобритания - Чехия',\n",
       "       'Канада - Франция - Великобритания', 'Ирландия',\n",
       "       'Великобритания - Германия - США',\n",
       "       'США - Франция - Великобритания', 'Япония', 'СССР, Польша',\n",
       "       'Франция - Испания', 'Канада-Франция', 'Германия - Италия - США',\n",
       "       'Аргентина - Бразилия', 'Дания - Швейцария - Бельгия - Франция',\n",
       "       'США - Испания', 'Германия - США',\n",
       "       'Франция - Австрия - Германия - Италия - США', 'Австрия',\n",
       "       'США - Канада - Германия', 'США - Канада',\n",
       "       'СССР - Швейцария - Франция', 'Россия - Казахстан', 'Гонконг',\n",
       "       'Италия', 'США - ОАЭ', 'Россия',\n",
       "       'США - Франция - Испания - Великобритания',\n",
       "       'Великобритания - Франция', 'США-Италия-Испания-Аргентина',\n",
       "       'Франция-Великобритания', 'КНР - Гонконг',\n",
       "       'Франция - Италия - Швейцария', 'США - Новая Зеландия',\n",
       "       'Франция - Бельгия', 'КНР', 'Германия - Великобритания - Австрия',\n",
       "       'Великобритания - Израиль - Франция - Япония - США', 'Швеция',\n",
       "       'Испания', 'Дания', 'Франция - Бельгия - Люксембург',\n",
       "       'США - Индия - ОАЭ',\n",
       "       'Германия-Канада-Великобритания-Швейцария-Франция',\n",
       "       'Мексика - Чили', 'Аргентина', 'Бразилия', 'Чили', 'Австралия',\n",
       "       'Португалия - Франция', 'США - ЮАР', 'Исландия-Ирландия-Германия',\n",
       "       'США-Индонезия', 'Южная Корея', 'Мексика - Испания - Дания - США',\n",
       "       'Великобритания-США', 'Франция - Италия', 'США-Франция',\n",
       "       'США - Венгрия - Великобритания', 'Бельгия-Франция-Италия',\n",
       "       'Чехия - Германия', 'Германия - Франция', 'США-Нидерланды',\n",
       "       'Украина', 'Великобритания - Германия', 'Франция-Бельгия',\n",
       "       'США-Франция-Испания', 'Италия - Франция', 'Канада',\n",
       "       'Швеция-Франция-Дания', 'Германия-Франция-Польша',\n",
       "       'Франция-Великобритания - Германия',\n",
       "       'США - Бразилия - Франция - Австралия - Великобритания - Германия',\n",
       "       'Германия-Австрия', 'Германия-Италия- Шри-Ланка',\n",
       "       'Великобритания - Испания',\n",
       "       'США - Великобритания - Канада - Швеция',\n",
       "       'Босния и Герцеговина - Франция - Великобритания - Германия - Словения - Бельгия - Сербия',\n",
       "       'Великобритания - Франция - Италия - США', 'США-ОАЭ',\n",
       "       'Испания - Франция', 'США-Великобритания', 'США-ЮАР',\n",
       "       'Великобритания-Австралия - США',\n",
       "       'Норвегия - Швеция - Дания - Германия', 'Норвегия', 'Швейцария',\n",
       "       'Греция - Германия - Франция', 'Норвения', 'Южная Корея - США',\n",
       "       'Чили - Франция - США', 'Австрия - Германия - Франция',\n",
       "       'Швеция - Дания', 'Великобритания - Франция - Бельгия - Италия',\n",
       "       'Франция - Германия', 'Грузия - Франция - Люксембург',\n",
       "       'США - Франция - Великобритания - Бразилия ', 'США - КНР',\n",
       "       'Мексика - Франция', 'США - Германия - Гонконг - Сингапур',\n",
       "       'Финляндия - Австрия - Россия', 'Испания - Куба',\n",
       "       'Великобритания - ЮАР', 'Великобритания - Ирландия', 'Израиль',\n",
       "       'Бразилия - Германия - Порртугалия - Франция ',\n",
       "       'Франция - Канада - Бельгия', 'Франция-Испания',\n",
       "       'Испания - Канада - Япония', 'Иран', 'Швеция-Куба',\n",
       "       'США-Великобритания-Ирландия', 'Гонконг - КНР', 'Нидерланды',\n",
       "       'Испания - Канада', 'Япония-Великобритания',\n",
       "       'Великобритания - Норвегия - Дания - Германия',\n",
       "       'Финляндия - Франция - Германия',\n",
       "       'Мексика - Франция - Нидерланды - Германия', 'США - Индия',\n",
       "       'США-Великобритания-Индия', 'США-Канада-Бельгия',\n",
       "       'Республика Узбекистан', 'Италия ', 'Турция',\n",
       "       'Сербия - Словения - Хорватия - Черногория - Македония',\n",
       "       'Киргизия', 'Германия - Нидерланды - Беларусь - Россия - Латвия',\n",
       "       'Индия', 'Нидерланды - Россия - Германия',\n",
       "       'Великобритания - Нидерланды - Франция - Хорватия',\n",
       "       'Канада - Южная Корея',\n",
       "       'Великобритания - Польша - КНР - Индия - Норвегия',\n",
       "       'Япония - Франция - США - Южная Корея - Турция',\n",
       "       'Мексика - Аргентина - Великобритания', 'Израиль - Франция',\n",
       "       'Польша - Португалия - Франция - Великобритания',\n",
       "       'Австралия - США', 'США - Великобритания ',\n",
       "       'Франция - Люксембург - Бельгия', 'Армения',\n",
       "       'Бельгия - Люксембург - Франция - Швейцария',\n",
       "       'США - Великобритания - Канада', 'Норвегия - Швеция',\n",
       "       'Канада - Франция', 'КНР - Гонконг - США',\n",
       "       'США - Сингапур - Малайзия - Индонезия', 'Германия - Россия',\n",
       "       'Япония - Канада', 'Финляндия - Дания - Германия - Ирландия',\n",
       "       'Франция - Люксембург - Германия - Бельгия - Швейцария - Великобритания ',\n",
       "       'Канада - США', 'США-Италия-Испания', 'США-Испания',\n",
       "       'США - Швейцария - Франция', 'Испания - США - Колумбия',\n",
       "       'Канада-ЮАР', 'Франция - Россия',\n",
       "       'Германия - Финляндия - Австралия', 'Дания - Швеция', 'Бельгия',\n",
       "       'Германия - Франция - Австрия', 'Франция-Индия', 'ЮАР',\n",
       "       'Франция-Перу', 'Франция - Канада', 'Республика Беларусь',\n",
       "       'Великобритания - Австрия - Франция - США',\n",
       "       'Австрия-Германия-Франция', 'США-Россия', 'Германия-США',\n",
       "       'США - Южная Корея', 'Канада - КНР',\n",
       "       'Дания - Швеция - Италия - Франция - Германия',\n",
       "       'Франция-Италия-Испания-Венгрия', 'Франция - Германия - Бельгия',\n",
       "       'Франция-Великобритания-Чехия', 'Румыния - Франция - Бельгия',\n",
       "       'Болгария - Франция - Изриль',\n",
       "       'Израиль - Германия - Польша - Бельгия - Франция - Люксембург',\n",
       "       'Россия, Германия, Франция, Бельгия', 'Индонезия',\n",
       "       'Франция - Португалия', 'Великобритания - Пуэрто-Рико',\n",
       "       'СССР, ФРГ, Западный Берлин', 'Россия, Республика Беларусь',\n",
       "       'США, Великобритания', 'Франция - Австрия', 'Бельгия-Нидерланды',\n",
       "       'Великобритания - США - Индия', 'США - Великобритания - Австралия',\n",
       "       'Канада - Франция - США - ОАЭ - Великобритания',\n",
       "       'США - Австралия - Франция',\n",
       "       'Дания-Франция-Бельгия-Германия-Великобритания',\n",
       "       'Испания - Аргентина', 'Исландия - Финляндия',\n",
       "       'Россия-Польша-Голландия-Словакия', 'Дания - Германия - Швеция',\n",
       "       'Южная Корея - США - Канада', 'Таиланд', 'США-Мальта',\n",
       "       'США -Германия',\n",
       "       'Великобритания - Германия - Франция - Кипр - США', 'Мексика',\n",
       "       'США - Великобритания - Ирландия', 'США - Украина',\n",
       "       'США - Финляндия - Испания - Великобритания - Франция',\n",
       "       'Австралия-Великобритания',\n",
       "       'США - Канада - Афганистан - Бельгия - Франция',\n",
       "       'США - Великобритания - Германия - Новая Зеландия - Бельгия - Франция',\n",
       "       'Франция-Канада',\n",
       "       'Ирландия - Финляндия - Бельгия - Великобритания - США - Швейцария',\n",
       "       'Малайзия - США', 'Германия - Италия',\n",
       "       'США - Франция - Бельгия - Италия', 'Франция - Ирландия - Швеция',\n",
       "       'Азербайджан-Россия', 'Великобритания - Италия - Швейцария',\n",
       "       'США - Германия - Великобритания',\n",
       "       'Германия - Бельгия - США -Франция', 'США-Китай', 'Чили - Испания',\n",
       "       'Франция - Швейцария', 'Канада - Испания',\n",
       "       'США - Румыния - Великобритания', 'США - Япония',\n",
       "       'США - Россия - Франция', 'Франция-США', 'Парагвай',\n",
       "       'Германия - Канада', 'США - Канада - Великобритания',\n",
       "       'Финляндия - Канада', 'Уругвай-Мексика-Германия ', 'США - Чили',\n",
       "       'Германия - Аргентина - Нидерланды - Чили',\n",
       "       'США - Канада - Индонезия', 'Армения - Казахстан', 'Финляндия',\n",
       "       'Испания - Италия - Франция',\n",
       "       'Бельгия - Испания - Канада - Нидерланды',\n",
       "       'Великобритания - Франция - Швеция - Бельгия',\n",
       "       'Мексика - Эквадор - Канада - США - Франция - Малайзия - Италия - Аргентина - Германия - Индия  ',\n",
       "       'Франция - Бенльгия', 'Индия - Великобритания',\n",
       "       'Япония - Великобритания - Франция',\n",
       "       'Испания - Уругвай - Аргентина',\n",
       "       'Франция - Италия - Бельгия - Люксембург',\n",
       "       'Франция - Украина - Грузия - Армения',\n",
       "       'Сербия - Германия - Венгрия', 'Франция-Польша', 'Франция ',\n",
       "       'Румыния-США', 'Россия-Азербайджан',\n",
       "       'США - Нидерланды - Бельгия - Венгрия - Греция - Канада',\n",
       "       'Германия - Франция - Люксембург', 'США - Россия',\n",
       "       'Великобритания - США - Франция', 'США - Австралия - Дания',\n",
       "       'Бельгия-Франция', 'США-Мексика',\n",
       "       'Норвегия - Азербайджан - Россия - Колумбия - Великобритания - Венгрия - Румыния - Франция - Грузия',\n",
       "       'СЩА', 'Бразилия - Испания', 'Россия, Франция, Латвия',\n",
       "       'Нидерланды - США - Германия - Канада - Франция - Ирландия - Великобритания',\n",
       "       'Уругвай - Колумбия', 'США - Испания - Болгария',\n",
       "       'Армения - Германия', 'США - Великобритания- Франция - Швеция',\n",
       "       'США - Мексика', 'Австралия-Турция-США', 'Швеция - Германия',\n",
       "       'Польша - Италия - Россия', 'Франция - Бразилия',\n",
       "       'США - Канада - КНР', 'СССР, Венгрия, ЧССР, ГДР',\n",
       "       'Бельгия - Германия - Люксембург', 'СССР  ', 'СССР ', ' СССР ',\n",
       "       'США - Австралия', 'Бразилия - США',\n",
       "       'США - Великобритания - Канада - КНР', 'Франция - Чили',\n",
       "       'Франция - США - Великобритания - Колумбия - Бельгия - Россия',\n",
       "       'Дания - Великобритания - ЮАР', 'СССР   ',\n",
       "       'Россия-США-Канада-Люксембург', 'Россия - Республика Кипр',\n",
       "       'Германия - США - Швеция - Франция',\n",
       "       'Великобритания-Германия-Канада-ЮАР', ' СССР   ', 'СССР     ',\n",
       "       'Ирландия, Канада',\n",
       "       'Япония - Великобритания - Швейцария - Ирландия - Дания - Франция - Польша - Австралия - Канада  ',\n",
       "       'Великобритания, Канада', 'Бельгия - США',\n",
       "       'Великобритания - США - Россия', 'Россия-Украина',\n",
       "       'Германия - США - Великобритания - Израиль', 'Канада - Германия',\n",
       "       'США- Ю.Корея', 'Индия - Мексика',\n",
       "       'Великобритания - Франция - Республика Кипр - Швейцария - США - Сербия',\n",
       "       'Испания - Аргентина - Индия - США',\n",
       "       'Норвегия - Исландия - США - Великобритания ',\n",
       "       'Турция - Германя - Франция', 'Германия - Великобритания',\n",
       "       'Австралия - Германия', 'Мексика - Испания',\n",
       "       'Великобритания - США - Германия - Бельгия',\n",
       "       'США - Чехия - Франция', 'Россия - Италия', 'Франция-Россия',\n",
       "       'Норвегия - Дания - Швеция', 'Франция - Швейцария - Германия',\n",
       "       'Грузия - Украина', 'Россия - Эстония - Финляндия - Беларусь',\n",
       "       'США - Франция - ЮАР', 'Великобритания - США - Швейцария',\n",
       "       'Канада-США', 'Мексика - Нидерланды - Германия - Франция',\n",
       "       'США - Испания - Франция', 'США - Великобритания - КНР',\n",
       "       'США-Франция-Канада',\n",
       "       'Япония, Великобритания, Австрия, Германия, Ю.Корея',\n",
       "       'Великобритания - Ирландия - США', 'Бельгия - Италия - Франция ',\n",
       "       'Швейцария-Германия-ЮАР', 'Великобритания - США - Германия',\n",
       "       'Германия - Исландия', 'Испания - США', 'СССР    ', 'Хорватия',\n",
       "       'Финляндия - Исландия - Швеция',\n",
       "       'Канада - США - Германия - Франция',\n",
       "       'США - Великобритания - Испания', 'Ирландия-Великобритания',\n",
       "       'Аргентина - Испания', 'Австрия - Германия', ' СССР',\n",
       "       'Германия - Швейцария - Франция - Южная Корея - США',\n",
       "       'Украина - Нидерланды', 'Венгрия - Германия - Швеция',\n",
       "       'Германия - Франция -  Польша - Турция - Канада - Италия - Россия ',\n",
       "       'СССР, Афганистан', 'СССР, Монголия', 'Россия-Кипр',\n",
       "       'Россия, Грузия, Испания',\n",
       "       'Великобритания - Нидерланды - Германия - Франция - Бельгия - Австрия ',\n",
       "       'Испания - Великобритания - Франция',\n",
       "       'Дания - Норвегия - Великобритания',\n",
       "       'Бельгия - Франция - Люксембург',\n",
       "       'Италия - Франция - Швейцария - Великобритания',\n",
       "       'Франция - Бельгия - Великобритания - Испания - Германия - США',\n",
       "       'Швейцария - Израиль - Франция - Великобритания',\n",
       "       'Великобритания - США - Канада - Нидерланды - Франция',\n",
       "       'Россия, Италия', 'СССР, Албания',\n",
       "       'Россия, Украина, Республика Беларусь, Литва',\n",
       "       'Финляндия - Великобритания - Германия', 'Россия, Украина, Польша',\n",
       "       'Франция - Италия - Бельгия - КНР',\n",
       "       'Германия - Бельгия - Люксембург - Ирландия', 'КНР - Сингапур',\n",
       "       'Франция - Бельгия - Великобритания - США - Нидерланды - Канада',\n",
       "       'США - Россия - Польша - Германия - Пуэрто Рико',\n",
       "       'Франция - Бельгия - Канада', 'США ', 'Мексика - США',\n",
       "       'США - Гонконг - КНР ', 'Греция - Россия',\n",
       "       'Ирландия - Дания - Бельгия - Люксембург - Франция',\n",
       "       'Эстония - Россия',\n",
       "       'Великобритания - Исландия - Испания - Швейцария - США',\n",
       "       'Австралия - Великобритания - Бельгия - Индия',\n",
       "       'Швеция - Германия - Франция - Норвегия',\n",
       "       'Нидерланды - Бельгия - Германия - Ирландия',\n",
       "       'Нидерланды - Великобритания - Бельгия',\n",
       "       'США - Колумбия - Испания', 'Франция-Испания-Бельгия-Панама',\n",
       "       'США-Великобритания-Чехия-Румыния',\n",
       "       'Аргентина - Уругвай - Россия - Германия - Франция - Нидерланды',\n",
       "       'Швеция - Франция - Норвегия - Дания',\n",
       "       'Италия-Франция-Великобритания', 'Великобритания, Франция',\n",
       "       'Австралия, США', 'Венесуэла',\n",
       "       'Великобритания - США - Австралия - Ирландия - Германия - Куба - Канада',\n",
       "       'Южная Корея - КНР',\n",
       "       'Аргентина - Мексика - Бразилия - Франция - США', 'Швеция - США',\n",
       "       'Франция - Германия - Турция - Катар', 'Франция-Китай',\n",
       "       'Россия, Германия, Великобритания',\n",
       "       'Великобритания - Италия - Испания', 'Италия - Россия',\n",
       "       'Япония - КНР - Южная Корея', 'Россия, Германия',\n",
       "       'Россия-Ирландия', 'Македония - Франция - Великобритания',\n",
       "       'Франция - Бразилия - Италия', 'Россия-США', 'Армения-Россия',\n",
       "       'Россия, Румыния', 'Франция -  Бельгия', 'Грузия-Франция',\n",
       "       'ЮАР - США', 'Великобритания-США-Франция',\n",
       "       'Великобритания - США - Германия - Канада - Австралия',\n",
       "       'США-Ирландия', 'Россия, Республика Кипр',\n",
       "       'Германия - Люксембург - Франция', 'Россия-Франция',\n",
       "       'США - Нидерланды - Финляндия - Великобритания - Италия',\n",
       "       'Республика Кипр', 'Венгрия', 'Франция - США - Норвегия - Дания',\n",
       "       'Германия - Австрия - Ирландия', 'США - Финляндия',\n",
       "       'Италия-Великобритания', 'Россия, Испания',\n",
       "       'США - Великобритания - Болгария', 'Великобритания - Люксембург',\n",
       "       'Индия - США', 'США - Канада - Россия - Франция - Чили - Ирландия',\n",
       "       'Грузия-Россия',\n",
       "       'Дания - Австрия - Ирландия - Финляндия - Норвегия - Швеция - Нидерланды',\n",
       "       'США-КНР', 'Грузия', 'Австралия - Ирландия',\n",
       "       'Великобритания - Канада', 'Италия - Аргентина - Словения ',\n",
       "       'Испания - Франция - Нидерланды - Германия - Бельгия - Великобритания - Канада',\n",
       "       'Франция - Чехия - Бельгия',\n",
       "       'Великобритания - Франция - Германия - США',\n",
       "       'Ирландия - Великобритания - Франция - США - Германия - Нидерланды',\n",
       "       'США - Канада - Япония - КНР', 'Италия-Франция',\n",
       "       'США - Великобритания - Исландия', 'Великобритания-Франция',\n",
       "       'Франция - Германия - Нидерланды', 'Иран ',\n",
       "       'Франция - Германия - Швеция - США - Чехия - Словакия - Великобритания - Нидерланды',\n",
       "       'Франция - Канада - Н.Зеландия - США - Нидерланды - Германия - Швеция - Россия',\n",
       "       'Турция - США',\n",
       "       'Великобритания - США - Канада - Бельгия - Нидерланды - Австрия - Германия',\n",
       "       'Израиль - Франция - Германия - Палестина - США - Австрия - Великобритания',\n",
       "       'Аргентина - Франция - Испания', 'СССР, Россия',\n",
       "       'Великобритания - Франция - Италия - Индия - Дания - КНР - Бангладеш - Камбоджа - Гаити - Уганда',\n",
       "       'Италия - Франция - Швейцария',\n",
       "       'Ирландия - Великобритания - Канада', 'Перу', 'США - Норвегия',\n",
       "       'Испания-Канада', 'Китай-Гонконг', 'США - Германия - КНР',\n",
       "       'Великобритания - Новая Зеландия',\n",
       "       'Франция - Дания - Швеция - КНР',\n",
       "       'США - Великобритания - Германия - Бельгия - Дания',\n",
       "       'США - Франция - Канада - Германия - Австралия - Индия', nan,\n",
       "       'СССР, Румыния, Франция', 'СССР, ГДР', 'Австралия-Ирландия',\n",
       "       'США - Китай', 'Великобритания - Франция - Австрия - Швеция',\n",
       "       'Россия, Таджикистан', 'Нидерланды - Бельгия - Болгария',\n",
       "       'Великобритания - Канада - США', 'Франция - Бельгия - Испания',\n",
       "       'Китай-Гонконг-США', 'Франция - Великобритания', 'США - Вьетнам',\n",
       "       'США - Германия - Франция', 'Германия - Франция - Бельгия',\n",
       "       'США - Италия',\n",
       "       'Германия - Дания - Испания - Швеция - Канада - Эстония - Франция',\n",
       "       'Княжество Андорра - Украина', 'Германия - Люксембург - Бельгия',\n",
       "       'Великобритания - Россия - Украина - США',\n",
       "       'Германия - Бельгия - Люксембург - Норвегия',\n",
       "       'США - Австралия - Новая Зеландия - Великобритания',\n",
       "       'США - Франция - Канада - Великобритания', 'Испания-Колумбия',\n",
       "       'Великобритания - Чехия - Франция', 'Россия, Украина', 'Исландия',\n",
       "       'Великобритания - Франция - Венгрия',\n",
       "       'Россия, Франция, Германия, Бельгия', 'Франция - Македония',\n",
       "       'Нидерланды - Франция - Германия - Бельгия - Швеция - Великобритания',\n",
       "       'Испания - США - Великобритания - Канада', 'Германия - Австрия',\n",
       "       'Республика Казахстан',\n",
       "       'Франция - Испания - Дания - Венгрия - Швейцария', 'Франция-КНР',\n",
       "       'США - Пуэрто-Рико - Франция ', 'Мексика - Тайвань - США',\n",
       "       'Великобритания - Испания - Непал - Индия - Венгрия - Гонконг - Германия - Дания - Бахрейн',\n",
       "       'Великобритания - Аргентина - США - Франция - Россия - Испания',\n",
       "       'КНР - США', 'Италия - США', 'Финляндия - Швеция - Германия',\n",
       "       'Канада- Испания', 'Франция - Бельгия - Чехия',\n",
       "       'Франция-Бельгия-Канада', 'Франция - Германия - США',\n",
       "       'США - Дания', 'Индия - КНР', 'Чехия-Великобритания-США',\n",
       "       'США-ФРГ-Россия', 'Ирландия-Нидерланды-Франция-США-Великобритания',\n",
       "       'Россия, Грузия, Хорватия, Испания',\n",
       "       'Финляндия - Швеция - Норвегия', 'Сербия - Великобритания - США',\n",
       "       'США - Великобритания - Франция - Гонконг', 'Швейцария - Франция',\n",
       "       'Швейцария - Великобритания', 'ОАЭ - США',\n",
       "       'США - Франция - Германия - Канада - Австралия ',\n",
       "       'Германия - Австралия', 'Иран, Франция',\n",
       "       'США - Великобритания - Новая Зеландия', 'США-Колумбия',\n",
       "       'США-Франция-Ирландия', 'Великобритания - Франция - Бельгия',\n",
       "       'США - Великобритания - Япония', 'США - Франция - Германия',\n",
       "       'Польша - Ирландия', 'Ирландия - Великобритания - Франция - США',\n",
       "       'США - Бельгия - Великобритания', 'СССР, ВНР',\n",
       "       'Испания - Франция - США - Великобритания - Бельгия',\n",
       "       'Франция - Дания - США', 'США - Гонконг', 'Бразилия - К;анада',\n",
       "       'Франция-Германия', 'США - Колумбия',\n",
       "       'США - Ирландия - Великобритания - Франция',\n",
       "       'Великобритания - США - Канада', 'Польша - Франция',\n",
       "       'Канада - США - Нидерланды - Великобритания - Аргентина',\n",
       "       'Великобритания - Дания', 'Франция - Бельгия - Япония',\n",
       "       'Россия,  Испания', 'Франция -Бельгия',\n",
       "       'США - Канада - Германия - Франция', 'США-Канада-Франция',\n",
       "       'Россия - Германия', 'Россия-Италия', 'Китай - Гонконг',\n",
       "       'Германия-Австрия-Франция-Италия', 'США-Япония',\n",
       "       'США - Германия - Канада', 'Испания-Мексика',\n",
       "       'США - Япония - Канада - Великобритания - Германия - Франция',\n",
       "       'США -Великобритания - Австралия', 'Россия-Украина-Германия',\n",
       "       'Израиль - Франция - Великобритания - Германия', 'Корея',\n",
       "       'Россия - Болгария', 'США-Индия',\n",
       "       'Германия-Канада-Франция-Бельгия', 'Германия-Кения',\n",
       "       'Франция - Монако', 'Франция-Испания-Швейцария',\n",
       "       'Австрия-Франция-Германия', 'Румыния',\n",
       "       'США-Великобритания-Франция', 'Канада-Великобритания',\n",
       "       'Канада-Бразилия-Япония', 'Германия - Дания - Норвегия',\n",
       "       'Дания - Германия', 'СССР - Италия',\n",
       "       'СССР - ГДР - Польша - Италия',\n",
       "       'США - Испания - Франция - Великобритания', 'Китай',\n",
       "       'Мексика-Аргентина',\n",
       "       'Германия - Великобритания - Италия - Испания',\n",
       "       'Франция-Германия-Великобритания', 'Россия - Германия - Швейцария',\n",
       "       'Франция-Австралия', 'Голландия', 'Швейцария-Франция',\n",
       "       'Россия-Белоруссия', 'Франция - Испания - Тайвань',\n",
       "       'США-Южная Корея-Новая Зеландия', 'Великобритания-Венгрия',\n",
       "       'Россия-Германия', 'Великобритания-Франция-Германия',\n",
       "       'Франция-Германия-Италия', 'Швеция-Финляндия-Франция-Норвегия',\n",
       "       'Франция-Италия', 'Германия-Израиль',\n",
       "       'Швеция - Германия - Дания - Норвегия', 'США-Бельгия',\n",
       "       'Франция-Гонконг-Ирландия', 'Эстония', 'Литва-Россия-Украина',\n",
       "       'Германия - Италия - Франция',\n",
       "       'Великобритания - Австрия - Германия', 'Бельгия - Франция',\n",
       "       'Россия-Казахстан', 'Испания - Мальта',\n",
       "       'Франция-Россия-Румыния-Италия-Бельгия', 'Россия - Польша',\n",
       "       'Испания - Мексика', 'США-Аргентина', 'Великобритания ',\n",
       "       'Израиль-США-Франция', 'США - Новая Зеландия - Япония',\n",
       "       'Франция - Чехия - Великобритания', 'Россия-Польша',\n",
       "       'Германия-Франция-Великобритания', 'США-Германия-Канада',\n",
       "       'США-Гонконг-Китай', 'США - Великобритания - Германия',\n",
       "       'США-Канада-Австралия', 'Япония-США-Франция',\n",
       "       'Франция-Испания-Германия', 'США - Хорватия - Босния-Герцеговина',\n",
       "       'Великобритания - Чехия - Франция - Италия',\n",
       "       'США - Германия - Нидерланды', 'Германия - Франция - Канада',\n",
       "       'Франция-Грузия-Германия-Россия-Украина-Бельгия',\n",
       "       'Великобритания - Франция - Италия', 'Россия - США',\n",
       "       'Франция - Италия - Иран', 'Россия - Азербайджан', 'Греция',\n",
       "       'Дания - США', 'США-Великобритания-Новая Зеландия',\n",
       "       'США-Германия-Австралия', 'США-Канада-Италия',\n",
       "       'США - Япония - Германия', 'Австралия-США',\n",
       "       'Франция - Великобритания - Багамские острова - США',\n",
       "       'Швейцария - Люксембург', 'Швейцария - Австрия',\n",
       "       'Германия - Швейцария', 'Дания-Швеция-Франция-Германия', 'Польша',\n",
       "       'Швейцария-Австрия', 'Бразилия - Канада - США',\n",
       "       'Нидерланды - Россия', 'Португалия', 'Франция-Аргентина',\n",
       "       'Швеция-Франция', 'Франция-Украина', 'Германия-Украина-Нидерланды',\n",
       "       'Италия-Швейцария', 'США-Германия-Великобритания',\n",
       "       'Латвия - Россия', 'Германия-Франция-Великобритания-США',\n",
       "       'Канада - Италия', 'США - Объединенные Арабские Эмираты',\n",
       "       'США-Венгрия', 'Малайзия', 'Россия - Германия - Украина',\n",
       "       'США - Австралия - Мексика', 'Литва - Венгрия', 'Германия - Китай',\n",
       "       'Казахстан', 'Республика Корея',\n",
       "       'США - Германия - Франция - Великобритания - Канада ',\n",
       "       'Бельгия - Германия - Люксембург - Франция', 'Франция - Греция',\n",
       "       'Италия - Канада', 'США - Великобритания - Франция',\n",
       "       'США-Италия-Греция', 'Германия - США - Великобритания - Ирландия',\n",
       "       'Великобритания - Франция - Германия',\n",
       "       'Германия - Нидерланды - ЮАР',\n",
       "       'США-Япония-Германия-Великобритания-Нидерланды',\n",
       "       'США-Япония-Германия-Великобритания',\n",
       "       'Германия - Франция - Польша',\n",
       "       'Таиланд-Великобритания-Франция-Германия-Испания-Нидерланды',\n",
       "       'Германия-Италия-Швейцария',\n",
       "       'Дания - Швеция - Великобритания - Франция - Германия - Нидерланды - Норвегия - Финляндия',\n",
       "       'Франция - Великобритания - Нидерланды - Люксембург',\n",
       "       'Нидерланды-Великобритания-Франция-Италия-Япония',\n",
       "       'Финляндия-Дания-Германия-Ирландия', 'Испания-Аргентина',\n",
       "       'Великобритания - Нидерланды - Франция - США', 'Канада - Мексика',\n",
       "       'США, Франция', 'Канада-Южная Корея-США',\n",
       "       'Великобритания - Франция - Бельгия - США', 'КНР - Канада - США',\n",
       "       'Италия - Франция - Германия',\n",
       "       'Швеция - Германия - Франция - Дания', 'Франция - США - Бельгия',\n",
       "       'Украина - Германия - Латвия - Эстония', 'Австрия - Люксембург',\n",
       "       'Великобритания - КНР', 'Монголия', 'Франция - Дания',\n",
       "       'Швеция - Дания - Финляндия',\n",
       "       'Сингапур - Великобритания - Индонезия - Канада - США',\n",
       "       'США - Германия - Япония', 'Таиланд - США', 'Франция - Нидерланды',\n",
       "       'Великобритания - Румыния', 'США - Мальта',\n",
       "       'Великобритания - Германия - Нидерланды - Дания',\n",
       "       'Франция - Германия - Литва - Нидерланды - Россия',\n",
       "       'США - ЮАР - Гонконг', 'Австралия - Колумбия',\n",
       "       'Великобритания - Польша', 'США - Великобритания - Швеция',\n",
       "       'Франция - Швеция - Дания - Норвегия', 'Болгария - США',\n",
       "       'СССР, ФРГ', 'Бельгия - Нидерланды - Франция',\n",
       "       'Финляндия - Германия', 'Болгария',\n",
       "       'Грузия - Россия - Украина - Хорватия - Германия',\n",
       "       'Франция - Люксембург', 'Франция - Германия - Австрия',\n",
       "       'Норвегия - США', 'Германия-Швеция', 'Франция - Германия - Италия',\n",
       "       'Франция-Германия-Австрия', 'КНР-США',\n",
       "       'Великобритания - Ирландия - США ',\n",
       "       'Дания - Латвия - Россия - США', 'Финляндия - Польша',\n",
       "       'Германия - Бельгия', 'Германия - США - Франция - Испания',\n",
       "       'Бельгия-Германия-Канада-Франция-США-Великобритания',\n",
       "       'Нидерланды - Бельгия - Люксембург', 'Канада-Германия',\n",
       "       'Люксембург - Бельгия - Франция', 'США-Великобритания-Австралия',\n",
       "       'Великобритания, Новая Зеландия', 'Бельгия, Великобритания, США',\n",
       "       'Великобритания, Австралия', 'Исландия, Бельгия',\n",
       "       'Испания - Швейцария - Великобритания - Германия - Новая Зеландия - Нидерланды - Канада',\n",
       "       'Франция, Бельгия', 'Великобритания, США', 'Киргизия-Россия',\n",
       "       'Германия, США', 'Великобритания, США, Испания',\n",
       "       'Италия - Швейцария - Германия', 'Россия, Армения',\n",
       "       'Франция, Германия', 'Китай, Канада, США', 'Германия, Австралия',\n",
       "       'КНР, США', 'США, Великобритания, Люксембург',\n",
       "       'Испания, Ирландия, Бельгия, Франция',\n",
       "       'Великобритания - Гонконг - Венгрия - США - Ирландия',\n",
       "       'США - Пуэрто Рико', 'Аргентина - Испания - Уругвай',\n",
       "       'Израиль - Германия - Франция - Швейцария',\n",
       "       'Великобритания - Мексика - США', 'Испания - Болгария - США',\n",
       "       'Россия-Словакия-Чехия',\n",
       "       'Швейцария - КНР - США - Россия - Республика Корея - Великобритания',\n",
       "       'Россия, Нидерланды, Финляндия',\n",
       "       'Испания - Бельгия - Франция - Португалия - Великобритания',\n",
       "       'Бразилия - Португалия - Франция', 'Швеция - Норвегия',\n",
       "       'Франция - Польша - Бельгия', 'CША', 'Китай, США',\n",
       "       'Италия, Франция, Германия', 'Германия - Австрия - Франция',\n",
       "       'Чехия - Словакия - Хорватия', 'Россия, Польша, Финляндия',\n",
       "       'Россия, Латвия, Чешская Республика',\n",
       "       'Франция - Великобритания - Камбоджа - США - КНР',\n",
       "       'Чехия - Испания - США', 'Германия - Люксембург - Дания',\n",
       "       'Великобритания - Испания - Германия', 'Дания - Исландия',\n",
       "       'Германия, Франция, Великобритания',\n",
       "       'Великобритания - Испания - Италия - Латвия - Франция - Эстония',\n",
       "       'Дания, Швеция, Великобритания, Франция, Германия, Норвегия, Финляндия, Нидерланды, Италия',\n",
       "       'Польша - Франция - Великобритания',\n",
       "       'Дания, Норвегия, Венгрия, Чехия',\n",
       "       'Дания - Франция - Германия - Швеция',\n",
       "       'Великобритания, Швеция, США',\n",
       "       'Канада, Франция, Италия, Швейцария, США', 'США, Индия',\n",
       "       'США - Великобритания - Германия - - Швеция - Канада',\n",
       "       'Италия, Франция', 'Республика Беларусь, Германия, США, Россия',\n",
       "       'Италия-Швейцария-Франция-Германия ',\n",
       "       'Россия - Франция - Великобритания - Латвия', 'Россия-Беларусь',\n",
       "       'Франция - Испания - Румыния - США - Бельгия', 'Италия-США',\n",
       "       'Россия, Австрия', 'Ирландия - Великобритания - США',\n",
       "       'Швейцария, Великобритания, Франция, США, Ирландия',\n",
       "       'Мексика, Франция, Германия, Дания, Швеция', 'Нидерланды, Бельгия',\n",
       "       'Швеция, Норвегия, Финляндия, Франция', 'Испания, Франция, Италия',\n",
       "       'Испания-Франция-Греция-Индия-США-Россия-Великобритания',\n",
       "       'Великобритания - Япония - США',\n",
       "       'Дания, Канада, Норвегия, Австралия, США', 'Аргентина, Испания',\n",
       "       'Россия, Германия, Казахстан, Польша, Китай',\n",
       "       'Португалия, Франция, Польша, США', 'США - Канада - Аргентина',\n",
       "       'Ливан-США', 'Япония - США', 'США, Гонконг ',\n",
       "       'Франция - Россия - Швейцария - Румыния - Венгрия',\n",
       "       'Аргентина-Испания', 'Россия, Сербия', 'США - Болгария - Мексика',\n",
       "       'США - Великобритания - Швейцария - Франция',\n",
       "       'Таиланд - КНР - США',\n",
       "       'Великобритания, Нидерланды, Польша, Швейцария, Франция',\n",
       "       'Ирландия - США',\n",
       "       'Германия - Франция - Великобритания - Польша - США',\n",
       "       'Великобритания-Франция-Италия', 'США - Австралия - Индия',\n",
       "       'Франция - КНР', 'Великобритания - Израиль',\n",
       "       'Великобритания - Норвегия - Кения - Хорватия',\n",
       "       'США - Бразилия - Великобритания - Канада', 'Германия, Бельгия',\n",
       "       'Австралия, Канада', 'США, Великобритания, Франция',\n",
       "       'Кения, Германия', 'Нидерланды, Бельгия, Люксембург', 'Колумбия',\n",
       "       'Латвия - Франция', 'Ирландия, Великобритания',\n",
       "       'Франция - Израиль - Германия', 'Швеция, Франция, Великобритания',\n",
       "       'Бельгия - Люксембург', 'Германия - Бельгия - Великобритания',\n",
       "       'Испания, Франция, Великобритания, Дания, Бельгия, Германия',\n",
       "       'Румыния, ЮАР, Иран, Франция, Канада, Великобритания',\n",
       "       'Германия, Франция', 'США, Япония',\n",
       "       'США, Великобритания, Ирландия, Люксембург', 'Республика Армения',\n",
       "       'США, Франция, Япония', 'Япония, США', 'Канада, США',\n",
       "       'Республика Кипр - Россия',\n",
       "       'Дания - Франция - Италия - Бельгия - Нидерланды',\n",
       "       'Россия - Грузия', 'Италия, Германия', 'Норвегия, Швеция, Дания',\n",
       "       'Республика Кипр, Россия', 'КНР, Индия, Гонконг, США',\n",
       "       'Израиль, Украина', 'США, Россия', 'США - КНР - Индия - Ю.Корея',\n",
       "       'США - Швеция', 'Франция, Канада', 'Россия-Китай',\n",
       "       'Канада, Великобритания', 'США, Германия',\n",
       "       'Канада, США, Каймановы острова',\n",
       "       'Бразилия, Уругвай, Дания, Норвегия, Чили, Швеция',\n",
       "       'Пуэрто-Рико, Великобритания, США',\n",
       "       'Уругвай - Аргентина - Испания',\n",
       "       'США - Великобритания - Италия - Израиль - Сербия - Индия',\n",
       "       'США - Канада - Франция - Индия', 'Великобритания - Россия - КНР',\n",
       "       'Франция, Новая Зеландия', 'Франция, Люксембург, Бельгия',\n",
       "       'Канада, США, Норвегия', 'Италия, Испания',\n",
       "       'Испания - Германия - Нидерланды', 'Бразилия - США - КНР ',\n",
       "       'Великобритания, Германия, Дания, США', '2019',\n",
       "       'Италия - Фрация - Бразилия - Германия',\n",
       "       'Норвегия - Швеция - Россия', 'Великобритания, Япония, США',\n",
       "       'Сша, Канада', 'Бельгия, Канада',\n",
       "       'Великобритания - Австралия - США', 'США, Канада', 'КНР - США ',\n",
       "       'Франция - Финляндия', 'Колумбия - США',\n",
       "       'Великобритания, Франция, Бельгия', 'Норвегия - Нидерланды',\n",
       "       'Великобритания, Канада, США', 'Япония, Великобритания',\n",
       "       'Италия - Бельгия - Франция', 'Россия, Бельгия, Финляндия',\n",
       "       'США, Украина', 'Франция, Норвегия',\n",
       "       'Великобритания, Южная Корея, Канада, США, Индия, Китай, Япония',\n",
       "       'Канада - Норвегия', 'Республика Кипр-Россия', 'Германия, Россия',\n",
       "       'Польша - Франция - Испания - Бразилия - Швеция',\n",
       "       'Австрия, Великобритания, Германия', 'Франция - Сенегал - Бельгия',\n",
       "       'Франция, Бельгия, Люксембург', 'Финляндия, Латвия', 'Пакистан',\n",
       "       'Германия, Франция, США', 'Германия - Великобритания - США',\n",
       "       'КНР - Франция', 'Дания, Норвегия, Швеция, Исландия',\n",
       "       'Республика Кипр, США, Россия', 'Новая Зеландия - КНР',\n",
       "       'Дания - Канада - Швеция - Франция - Германия - Великобритания - США'],\n",
       "      dtype=object)"
      ]
     },
     "execution_count": 36,
     "metadata": {},
     "output_type": "execute_result"
    }
   ],
   "source": [
    "show_unique('production_country')"
   ]
  },
  {
   "cell_type": "code",
   "execution_count": 37,
   "metadata": {},
   "outputs": [
    {
     "data": {
      "text/plain": [
       "array([nan, 'Министерство культуры', 'Фонд кино',\n",
       "       'Министерство культуры, Фонд кино'], dtype=object)"
      ]
     },
     "execution_count": 37,
     "metadata": {},
     "output_type": "execute_result"
    }
   ],
   "source": [
    "show_unique('financing_source')"
   ]
  },
  {
   "cell_type": "markdown",
   "metadata": {},
   "source": [
    "- Не замечаю, чтобы проблема пробелов была во ВСЕХ категориальных значениях, но мы можем наблюдать ее в в категориях age_restriction, genres, production_country, type.\n",
    "- Лишние проблелы были удалены из type, film_studio"
   ]
  },
  {
   "cell_type": "markdown",
   "metadata": {
    "id": "XFSN5lrEgFyR"
   },
   "source": [
    "#### Шаг 2.5. Исследование проблем в  количественных значениях"
   ]
  },
  {
   "cell_type": "code",
   "execution_count": 38,
   "metadata": {},
   "outputs": [
    {
     "data": {
      "text/html": [
       "<div>\n",
       "<style scoped>\n",
       "    .dataframe tbody tr th:only-of-type {\n",
       "        vertical-align: middle;\n",
       "    }\n",
       "\n",
       "    .dataframe tbody tr th {\n",
       "        vertical-align: top;\n",
       "    }\n",
       "\n",
       "    .dataframe thead th {\n",
       "        text-align: right;\n",
       "    }\n",
       "</style>\n",
       "<table border=\"1\" class=\"dataframe\">\n",
       "  <thead>\n",
       "    <tr style=\"text-align: right;\">\n",
       "      <th></th>\n",
       "      <th>puNumber</th>\n",
       "      <th>refundable_support</th>\n",
       "      <th>nonrefundable_support</th>\n",
       "      <th>budget</th>\n",
       "      <th>ratings</th>\n",
       "      <th>box_office</th>\n",
       "    </tr>\n",
       "  </thead>\n",
       "  <tbody>\n",
       "    <tr>\n",
       "      <th>count</th>\n",
       "      <td>7,486.00</td>\n",
       "      <td>7,486.00</td>\n",
       "      <td>7,486.00</td>\n",
       "      <td>7,486.00</td>\n",
       "      <td>6,490.00</td>\n",
       "      <td>7,486.00</td>\n",
       "    </tr>\n",
       "    <tr>\n",
       "      <th>mean</th>\n",
       "      <td>135,178,527.64</td>\n",
       "      <td>526,182.21</td>\n",
       "      <td>2,172,280.03</td>\n",
       "      <td>5,642,568.25</td>\n",
       "      <td>6.48</td>\n",
       "      <td>32,262,853.57</td>\n",
       "    </tr>\n",
       "    <tr>\n",
       "      <th>std</th>\n",
       "      <td>38,382,177.41</td>\n",
       "      <td>5,781,108.09</td>\n",
       "      <td>16,148,935.45</td>\n",
       "      <td>47,528,177.69</td>\n",
       "      <td>1.10</td>\n",
       "      <td>160,600,784.11</td>\n",
       "    </tr>\n",
       "    <tr>\n",
       "      <th>min</th>\n",
       "      <td>0.00</td>\n",
       "      <td>0.00</td>\n",
       "      <td>0.00</td>\n",
       "      <td>0.00</td>\n",
       "      <td>1.00</td>\n",
       "      <td>0.00</td>\n",
       "    </tr>\n",
       "    <tr>\n",
       "      <th>25%</th>\n",
       "      <td>112,025,043.00</td>\n",
       "      <td>0.00</td>\n",
       "      <td>0.00</td>\n",
       "      <td>0.00</td>\n",
       "      <td>5.90</td>\n",
       "      <td>0.00</td>\n",
       "    </tr>\n",
       "    <tr>\n",
       "      <th>50%</th>\n",
       "      <td>121,015,464.50</td>\n",
       "      <td>0.00</td>\n",
       "      <td>0.00</td>\n",
       "      <td>0.00</td>\n",
       "      <td>6.60</td>\n",
       "      <td>0.00</td>\n",
       "    </tr>\n",
       "    <tr>\n",
       "      <th>75%</th>\n",
       "      <td>124,003,313.75</td>\n",
       "      <td>0.00</td>\n",
       "      <td>0.00</td>\n",
       "      <td>0.00</td>\n",
       "      <td>7.20</td>\n",
       "      <td>1,080,467.75</td>\n",
       "    </tr>\n",
       "    <tr>\n",
       "      <th>max</th>\n",
       "      <td>231,001,111.00</td>\n",
       "      <td>180,000,000.00</td>\n",
       "      <td>400,000,000.00</td>\n",
       "      <td>2,305,074,303.00</td>\n",
       "      <td>9.20</td>\n",
       "      <td>3,073,568,690.00</td>\n",
       "    </tr>\n",
       "  </tbody>\n",
       "</table>\n",
       "</div>"
      ],
      "text/plain": [
       "            puNumber  refundable_support  nonrefundable_support  \\\n",
       "count       7,486.00            7,486.00               7,486.00   \n",
       "mean  135,178,527.64          526,182.21           2,172,280.03   \n",
       "std    38,382,177.41        5,781,108.09          16,148,935.45   \n",
       "min             0.00                0.00                   0.00   \n",
       "25%   112,025,043.00                0.00                   0.00   \n",
       "50%   121,015,464.50                0.00                   0.00   \n",
       "75%   124,003,313.75                0.00                   0.00   \n",
       "max   231,001,111.00      180,000,000.00         400,000,000.00   \n",
       "\n",
       "                budget  ratings       box_office  \n",
       "count         7,486.00 6,490.00         7,486.00  \n",
       "mean      5,642,568.25     6.48    32,262,853.57  \n",
       "std      47,528,177.69     1.10   160,600,784.11  \n",
       "min               0.00     1.00             0.00  \n",
       "25%               0.00     5.90             0.00  \n",
       "50%               0.00     6.60             0.00  \n",
       "75%               0.00     7.20     1,080,467.75  \n",
       "max   2,305,074,303.00     9.20 3,073,568,690.00  "
      ]
     },
     "execution_count": 38,
     "metadata": {},
     "output_type": "execute_result"
    }
   ],
   "source": [
    "data.describe()"
   ]
  },
  {
   "cell_type": "code",
   "execution_count": 39,
   "metadata": {},
   "outputs": [
    {
     "data": {
      "text/plain": [
       "0            7171\n",
       "38000000        6\n",
       "50000000        4\n",
       "80000000        4\n",
       "38500000        3\n",
       "             ... \n",
       "51196711        1\n",
       "56693559        1\n",
       "174381922       1\n",
       "62000000        1\n",
       "78096315        1\n",
       "Name: budget, Length: 290, dtype: int64"
      ]
     },
     "execution_count": 39,
     "metadata": {},
     "output_type": "execute_result"
    }
   ],
   "source": [
    "data['budget'].value_counts()"
   ]
  },
  {
   "cell_type": "code",
   "execution_count": 40,
   "metadata": {},
   "outputs": [
    {
     "data": {
      "image/png": "[encoded data removed]",
      "text/plain": [
       "<Figure size 432x288 with 1 Axes>"
      ]
     },
     "metadata": {
      "needs_background": "light"
     },
     "output_type": "display_data"
    }
   ],
   "source": [
    "data['budget'].hist(bins=10)\n",
    "plt.title('Оценка распределения бюджета')\n",
    "plt.xlabel('бюджет')\n",
    "plt.ylabel('частота встречаемости признака')\n",
    "plt.legend(['бюджет'])\n",
    "plt.show()"
   ]
  },
  {
   "cell_type": "markdown",
   "metadata": {},
   "source": [
    "Согласно графику, у нас очень много значений, для которых не указан бюджет, отфильтруем эти значения, и посмотрим на график снова."
   ]
  },
  {
   "cell_type": "code",
   "execution_count": 42,
   "metadata": {},
   "outputs": [
    {
     "data": {
      "text/html": [
       "<div>\n",
       "<style scoped>\n",
       "    .dataframe tbody tr th:only-of-type {\n",
       "        vertical-align: middle;\n",
       "    }\n",
       "\n",
       "    .dataframe tbody tr th {\n",
       "        vertical-align: top;\n",
       "    }\n",
       "\n",
       "    .dataframe thead th {\n",
       "        text-align: right;\n",
       "    }\n",
       "</style>\n",
       "<table border=\"1\" class=\"dataframe\">\n",
       "  <thead>\n",
       "    <tr style=\"text-align: right;\">\n",
       "      <th></th>\n",
       "      <th>puNumber</th>\n",
       "      <th>refundable_support</th>\n",
       "      <th>nonrefundable_support</th>\n",
       "      <th>budget</th>\n",
       "      <th>ratings</th>\n",
       "      <th>box_office</th>\n",
       "    </tr>\n",
       "  </thead>\n",
       "  <tbody>\n",
       "    <tr>\n",
       "      <th>count</th>\n",
       "      <td>315.00</td>\n",
       "      <td>315.00</td>\n",
       "      <td>315.00</td>\n",
       "      <td>315.00</td>\n",
       "      <td>298.00</td>\n",
       "      <td>315.00</td>\n",
       "    </tr>\n",
       "    <tr>\n",
       "      <th>mean</th>\n",
       "      <td>111,568,271.31</td>\n",
       "      <td>11,603,174.60</td>\n",
       "      <td>48,107,043.96</td>\n",
       "      <td>134,096,082.35</td>\n",
       "      <td>6.02</td>\n",
       "      <td>124,889,445.97</td>\n",
       "    </tr>\n",
       "    <tr>\n",
       "      <th>std</th>\n",
       "      <td>5,844,829.21</td>\n",
       "      <td>25,151,438.82</td>\n",
       "      <td>59,886,140.86</td>\n",
       "      <td>191,226,039.63</td>\n",
       "      <td>1.13</td>\n",
       "      <td>332,638,242.69</td>\n",
       "    </tr>\n",
       "    <tr>\n",
       "      <th>min</th>\n",
       "      <td>111,000,115.00</td>\n",
       "      <td>0.00</td>\n",
       "      <td>0.00</td>\n",
       "      <td>14,462,464.00</td>\n",
       "      <td>1.00</td>\n",
       "      <td>0.00</td>\n",
       "    </tr>\n",
       "    <tr>\n",
       "      <th>25%</th>\n",
       "      <td>111,004,815.50</td>\n",
       "      <td>0.00</td>\n",
       "      <td>25,000,000.00</td>\n",
       "      <td>46,153,866.50</td>\n",
       "      <td>5.40</td>\n",
       "      <td>770,654.00</td>\n",
       "    </tr>\n",
       "    <tr>\n",
       "      <th>50%</th>\n",
       "      <td>111,010,219.00</td>\n",
       "      <td>0.00</td>\n",
       "      <td>30,000,000.00</td>\n",
       "      <td>73,379,554.00</td>\n",
       "      <td>6.20</td>\n",
       "      <td>11,011,814.00</td>\n",
       "    </tr>\n",
       "    <tr>\n",
       "      <th>75%</th>\n",
       "      <td>111,017,167.50</td>\n",
       "      <td>10,000,000.00</td>\n",
       "      <td>40,000,000.00</td>\n",
       "      <td>150,004,286.50</td>\n",
       "      <td>6.70</td>\n",
       "      <td>96,936,417.50</td>\n",
       "    </tr>\n",
       "    <tr>\n",
       "      <th>max</th>\n",
       "      <td>214,010,116.00</td>\n",
       "      <td>180,000,000.00</td>\n",
       "      <td>400,000,000.00</td>\n",
       "      <td>2,305,074,303.00</td>\n",
       "      <td>8.50</td>\n",
       "      <td>3,073,568,690.00</td>\n",
       "    </tr>\n",
       "  </tbody>\n",
       "</table>\n",
       "</div>"
      ],
      "text/plain": [
       "            puNumber  refundable_support  nonrefundable_support  \\\n",
       "count         315.00              315.00                 315.00   \n",
       "mean  111,568,271.31       11,603,174.60          48,107,043.96   \n",
       "std     5,844,829.21       25,151,438.82          59,886,140.86   \n",
       "min   111,000,115.00                0.00                   0.00   \n",
       "25%   111,004,815.50                0.00          25,000,000.00   \n",
       "50%   111,010,219.00                0.00          30,000,000.00   \n",
       "75%   111,017,167.50       10,000,000.00          40,000,000.00   \n",
       "max   214,010,116.00      180,000,000.00         400,000,000.00   \n",
       "\n",
       "                budget  ratings       box_office  \n",
       "count           315.00   298.00           315.00  \n",
       "mean    134,096,082.35     6.02   124,889,445.97  \n",
       "std     191,226,039.63     1.13   332,638,242.69  \n",
       "min      14,462,464.00     1.00             0.00  \n",
       "25%      46,153,866.50     5.40       770,654.00  \n",
       "50%      73,379,554.00     6.20    11,011,814.00  \n",
       "75%     150,004,286.50     6.70    96,936,417.50  \n",
       "max   2,305,074,303.00     8.50 3,073,568,690.00  "
      ]
     },
     "execution_count": 42,
     "metadata": {},
     "output_type": "execute_result"
    }
   ],
   "source": [
    "budget_filtered_data = data.query('budget != 0')\n",
    "budget_filtered_data.describe()"
   ]
  },
  {
   "cell_type": "code",
   "execution_count": 43,
   "metadata": {},
   "outputs": [
    {
     "data": {
      "image/png": "[encoded data removed]",
      "text/plain": [
       "<Figure size 432x288 with 1 Axes>"
      ]
     },
     "metadata": {
      "needs_background": "light"
     },
     "output_type": "display_data"
    }
   ],
   "source": [
    "budget_filtered_data['budget'].hist(bins=10)\n",
    "plt.title('Оценка распределения бюджета')\n",
    "plt.xlabel('бюджет')\n",
    "plt.ylabel('частота встречаемости признака')\n",
    "plt.legend(['бюджет'])\n",
    "plt.show()\n"
   ]
  },
  {
   "cell_type": "markdown",
   "metadata": {},
   "source": [
    "По графику заметно распределение, более менее напоминающее распредление Пуассона, а так же выбросы в виде максимального значения, равного 2,305,074,303.00"
   ]
  },
  {
   "cell_type": "code",
   "execution_count": 44,
   "metadata": {},
   "outputs": [
    {
     "data": {
      "text/plain": [
       "0            7375\n",
       "20000000       12\n",
       "10000000       10\n",
       "25000000       10\n",
       "5000000         9\n",
       "15000000        9\n",
       "50000000        8\n",
       "40000000        8\n",
       "30000000        7\n",
       "60000000        6\n",
       "100000000       5\n",
       "110000000       2\n",
       "75000000        2\n",
       "19000000        2\n",
       "55000000        2\n",
       "9000000         1\n",
       "26000000        1\n",
       "41000000        1\n",
       "7153119         1\n",
       "38000000        1\n",
       "180000000       1\n",
       "36000000        1\n",
       "80000000        1\n",
       "7346881         1\n",
       "8000000         1\n",
       "150000000       1\n",
       "7000000         1\n",
       "35000000        1\n",
       "3500000         1\n",
       "17000000        1\n",
       "44000000        1\n",
       "115000000       1\n",
       "29000000        1\n",
       "28000000        1\n",
       "Name: refundable_support, dtype: int64"
      ]
     },
     "execution_count": 44,
     "metadata": {},
     "output_type": "execute_result"
    }
   ],
   "source": [
    "data['refundable_support'].value_counts()"
   ]
  },
  {
   "cell_type": "code",
   "execution_count": 45,
   "metadata": {},
   "outputs": [
    {
     "data": {
      "image/png": "[encoded data removed]",
      "text/plain": [
       "<Figure size 432x288 with 1 Axes>"
      ]
     },
     "metadata": {
      "needs_background": "light"
     },
     "output_type": "display_data"
    }
   ],
   "source": [
    "data['refundable_support'].hist(bins=10)\n",
    "plt.title('Оценка распределения возвратных средств')\n",
    "plt.xlabel('количество возвратных средств')\n",
    "plt.ylabel('частота встречаемости признака')\n",
    "plt.legend(['возвратные средства'])\n",
    "plt.show()\n"
   ]
  },
  {
   "cell_type": "markdown",
   "metadata": {},
   "source": [
    "Отфильтруем данные, чтобы более нагладно оценить распределение."
   ]
  },
  {
   "cell_type": "code",
   "execution_count": 46,
   "metadata": {},
   "outputs": [
    {
     "data": {
      "text/plain": [
       "count           111.00\n",
       "mean     35,486,486.49\n",
       "std      31,972,875.36\n",
       "min       3,500,000.00\n",
       "25%      15,000,000.00\n",
       "50%      25,000,000.00\n",
       "75%      50,000,000.00\n",
       "max     180,000,000.00\n",
       "Name: refundable_support, dtype: float64"
      ]
     },
     "execution_count": 46,
     "metadata": {},
     "output_type": "execute_result"
    }
   ],
   "source": [
    "refundable_support_filtered_data = data.query('refundable_support != 0')\n",
    "refundable_support_filtered_data['refundable_support'].describe()"
   ]
  },
  {
   "cell_type": "code",
   "execution_count": 47,
   "metadata": {},
   "outputs": [
    {
     "data": {
      "image/png": "[encoded data removed]",
      "text/plain": [
       "<Figure size 432x288 with 1 Axes>"
      ]
     },
     "metadata": {
      "needs_background": "light"
     },
     "output_type": "display_data"
    }
   ],
   "source": [
    "refundable_support_filtered_data['refundable_support'].hist(bins=10)\n",
    "plt.title('Оценка распределения возвратных средств')\n",
    "plt.xlabel('количество возвратных средств')\n",
    "plt.ylabel('частота встречаемости признака')\n",
    "plt.legend(['возвратные средства'])\n",
    "plt.show()"
   ]
  },
  {
   "cell_type": "markdown",
   "metadata": {},
   "source": [
    "По графику заметно распределение, более менее напоминающее распредление Пуассона,а так же единичные выбросы. Среднее и медианное значение практически совпадают."
   ]
  },
  {
   "cell_type": "code",
   "execution_count": 48,
   "metadata": {},
   "outputs": [
    {
     "data": {
      "text/plain": [
       "0            7163\n",
       "25000000       53\n",
       "30000000       48\n",
       "35000000       29\n",
       "40000000       26\n",
       "             ... \n",
       "64000000        1\n",
       "225000000       1\n",
       "8000000         1\n",
       "51000000        1\n",
       "30123915        1\n",
       "Name: nonrefundable_support, Length: 75, dtype: int64"
      ]
     },
     "execution_count": 48,
     "metadata": {},
     "output_type": "execute_result"
    }
   ],
   "source": [
    "data['nonrefundable_support'].value_counts()"
   ]
  },
  {
   "cell_type": "code",
   "execution_count": 49,
   "metadata": {},
   "outputs": [
    {
     "data": {
      "image/png": "[encoded data removed]",
      "text/plain": [
       "<Figure size 432x288 with 1 Axes>"
      ]
     },
     "metadata": {
      "needs_background": "light"
     },
     "output_type": "display_data"
    }
   ],
   "source": [
    "data['nonrefundable_support'].hist(bins=10)\n",
    "plt.title('Оценка распределения невозвратных средств')\n",
    "plt.xlabel('количество невозвратных средств')\n",
    "plt.ylabel('частота встречаемости признака')\n",
    "plt.legend(['невозвратные средства'])\n",
    "plt.show()\n"
   ]
  },
  {
   "cell_type": "markdown",
   "metadata": {},
   "source": [
    "Отфильтруем данные, чтобы более нагладно оценить распределение."
   ]
  },
  {
   "cell_type": "code",
   "execution_count": 50,
   "metadata": {},
   "outputs": [
    {
     "data": {
      "text/plain": [
       "count           323.00\n",
       "mean     50,345,784.25\n",
       "std      60,243,206.31\n",
       "min       3,000,000.00\n",
       "25%      25,000,000.00\n",
       "50%      30,000,000.00\n",
       "75%      45,000,000.00\n",
       "max     400,000,000.00\n",
       "Name: nonrefundable_support, dtype: float64"
      ]
     },
     "execution_count": 50,
     "metadata": {},
     "output_type": "execute_result"
    }
   ],
   "source": [
    "nonrefundable_support_filtered_data = data.query('nonrefundable_support != 0')\n",
    "nonrefundable_support_filtered_data['nonrefundable_support'].describe()"
   ]
  },
  {
   "cell_type": "code",
   "execution_count": 51,
   "metadata": {},
   "outputs": [
    {
     "data": {
      "image/png": "[encoded data removed]",
      "text/plain": [
       "<Figure size 432x288 with 1 Axes>"
      ]
     },
     "metadata": {
      "needs_background": "light"
     },
     "output_type": "display_data"
    }
   ],
   "source": [
    "nonrefundable_support_filtered_data['nonrefundable_support'].hist(bins=10)\n",
    "plt.title('Оценка распределения невозвратных средств')\n",
    "plt.xlabel('количество невозвратных средств')\n",
    "plt.ylabel('частота встречаемости признака')\n",
    "plt.legend(['невозвратные средства'])\n",
    "plt.show()\n"
   ]
  },
  {
   "cell_type": "markdown",
   "metadata": {},
   "source": [
    "Наблюдаем распределение Пуассона, среднее и медианное значение сильно различаются. Отмечается большой выброс 400,000,000.00. "
   ]
  },
  {
   "cell_type": "code",
   "execution_count": 52,
   "metadata": {},
   "outputs": [
    {
     "data": {
      "text/plain": [
       "0           4352\n",
       "200           13\n",
       "300           12\n",
       "360            9\n",
       "500            8\n",
       "            ... \n",
       "322284         1\n",
       "84720          1\n",
       "1324522        1\n",
       "12289624       1\n",
       "4007935        1\n",
       "Name: box_office, Length: 2938, dtype: int64"
      ]
     },
     "execution_count": 52,
     "metadata": {},
     "output_type": "execute_result"
    }
   ],
   "source": [
    "data['box_office'].value_counts()"
   ]
  },
  {
   "cell_type": "code",
   "execution_count": 53,
   "metadata": {},
   "outputs": [
    {
     "data": {
      "image/png": "[encoded data removed]",
      "text/plain": [
       "<Figure size 432x288 with 1 Axes>"
      ]
     },
     "metadata": {
      "needs_background": "light"
     },
     "output_type": "display_data"
    }
   ],
   "source": [
    "data['box_office'].hist(bins=10)\n",
    "plt.title('Оценка распределения прокатных сборов')\n",
    "plt.xlabel('количество прокатных сборов')\n",
    "plt.ylabel('частота встречаемости признака')\n",
    "plt.legend(['Прокатные сборы'])\n",
    "plt.show()\n"
   ]
  },
  {
   "cell_type": "markdown",
   "metadata": {},
   "source": [
    "Соответсвенно график будет искажен, за счет большого количества отсутствующих значений. Отфильтруем данные."
   ]
  },
  {
   "cell_type": "code",
   "execution_count": 54,
   "metadata": {},
   "outputs": [
    {
     "data": {
      "text/plain": [
       "count           3,134.00\n",
       "mean       77,064,365.60\n",
       "std       241,178,383.73\n",
       "min                40.00\n",
       "25%           101,028.75\n",
       "50%         2,409,099.00\n",
       "75%        24,569,794.75\n",
       "max     3,073,568,690.00\n",
       "Name: box_office, dtype: float64"
      ]
     },
     "execution_count": 54,
     "metadata": {},
     "output_type": "execute_result"
    }
   ],
   "source": [
    "box_office_filtered_data = data.query('box_office != 0')\n",
    "box_office_filtered_data['box_office'].describe()"
   ]
  },
  {
   "cell_type": "code",
   "execution_count": 55,
   "metadata": {},
   "outputs": [
    {
     "data": {
      "image/png": "[encoded data removed]",
      "text/plain": [
       "<Figure size 432x288 with 1 Axes>"
      ]
     },
     "metadata": {
      "needs_background": "light"
     },
     "output_type": "display_data"
    }
   ],
   "source": [
    "box_office_filtered_data['box_office'].hist(bins=10)\n",
    "plt.title('Оценка распределения прокатных сборов')\n",
    "plt.xlabel('количество прокатных сборов')\n",
    "plt.ylabel('частота встречаемости признака')\n",
    "plt.legend(['Прокатные сборы'])\n",
    "plt.show()\n"
   ]
  },
  {
   "cell_type": "markdown",
   "metadata": {},
   "source": [
    "График минимально напоминает распределение Пуассона, отмечем резкие выбросы 3,073,568,690.00, за счет чего отмечается резкая разница между средним и медианным значением. "
   ]
  },
  {
   "cell_type": "markdown",
   "metadata": {},
   "source": [
    "Из даных о сборах, нам известно, что 4352 фильма не имеют сборов, так что мы можем предположить, что они не вышли в прокат или те, или, возможно, произошла ошибка при внесении данных или их выгрузке. "
   ]
  },
  {
   "cell_type": "code",
   "execution_count": 56,
   "metadata": {},
   "outputs": [
    {
     "data": {
      "text/html": [
       "<div>\n",
       "<style scoped>\n",
       "    .dataframe tbody tr th:only-of-type {\n",
       "        vertical-align: middle;\n",
       "    }\n",
       "\n",
       "    .dataframe tbody tr th {\n",
       "        vertical-align: top;\n",
       "    }\n",
       "\n",
       "    .dataframe thead th {\n",
       "        text-align: right;\n",
       "    }\n",
       "</style>\n",
       "<table border=\"1\" class=\"dataframe\">\n",
       "  <thead>\n",
       "    <tr style=\"text-align: right;\">\n",
       "      <th></th>\n",
       "      <th>title</th>\n",
       "      <th>puNumber</th>\n",
       "      <th>show_start_date</th>\n",
       "      <th>type</th>\n",
       "      <th>film_studio</th>\n",
       "      <th>production_country</th>\n",
       "      <th>director</th>\n",
       "      <th>producer</th>\n",
       "      <th>age_restriction</th>\n",
       "      <th>refundable_support</th>\n",
       "      <th>nonrefundable_support</th>\n",
       "      <th>budget</th>\n",
       "      <th>financing_source</th>\n",
       "      <th>ratings</th>\n",
       "      <th>genres</th>\n",
       "      <th>box_office</th>\n",
       "    </tr>\n",
       "  </thead>\n",
       "  <tbody>\n",
       "    <tr>\n",
       "      <th>2053</th>\n",
       "      <td>14+</td>\n",
       "      <td>111023614</td>\n",
       "      <td>2014-12-19 12:00:00+00:00</td>\n",
       "      <td>Художественный</td>\n",
       "      <td>ООО Киностудия  \"Сентябрь\"</td>\n",
       "      <td>Россия</td>\n",
       "      <td>А.Зайцев</td>\n",
       "      <td>О.Гранина, А.Зайцев</td>\n",
       "      <td>«16+» - для детей старше 16 лет</td>\n",
       "      <td>0</td>\n",
       "      <td>23000000</td>\n",
       "      <td>0</td>\n",
       "      <td>Министерство культуры, Фонд кино</td>\n",
       "      <td>6.60</td>\n",
       "      <td>мелодрама</td>\n",
       "      <td>10234016</td>\n",
       "    </tr>\n",
       "    <tr>\n",
       "      <th>2058</th>\n",
       "      <td>Дуxless 2</td>\n",
       "      <td>111000415</td>\n",
       "      <td>2015-01-26 12:00:00+00:00</td>\n",
       "      <td>Художественный</td>\n",
       "      <td>ООО \"Киностудия \"Слово\", ООО \"Арт Пикчерс Студия\"</td>\n",
       "      <td>Россия</td>\n",
       "      <td>Р.Прыгунов</td>\n",
       "      <td>П.Ануров, Ф.Бондарчук, Д.Рудовский</td>\n",
       "      <td>«16+» - для детей старше 16 лет</td>\n",
       "      <td>0</td>\n",
       "      <td>75000000</td>\n",
       "      <td>0</td>\n",
       "      <td>Фонд кино</td>\n",
       "      <td>6.60</td>\n",
       "      <td>драма</td>\n",
       "      <td>446163511</td>\n",
       "    </tr>\n",
       "    <tr>\n",
       "      <th>2472</th>\n",
       "      <td>Воин (2015)</td>\n",
       "      <td>111017315</td>\n",
       "      <td>2015-09-28 12:00:00+00:00</td>\n",
       "      <td>Художественный</td>\n",
       "      <td>ООО \"Форпост Продакшн\", ООО \"Арт Пикчерс Студия\"</td>\n",
       "      <td>Россия</td>\n",
       "      <td>А.Андрианов</td>\n",
       "      <td>ООО \"Арт Пикчерс Студия\"</td>\n",
       "      <td>«12+» - для детей старше 12 лет</td>\n",
       "      <td>10000000</td>\n",
       "      <td>70000000</td>\n",
       "      <td>0</td>\n",
       "      <td>Фонд кино</td>\n",
       "      <td>7.80</td>\n",
       "      <td>боевик,драма,криминал</td>\n",
       "      <td>196572438</td>\n",
       "    </tr>\n",
       "    <tr>\n",
       "      <th>2532</th>\n",
       "      <td>Бармен.</td>\n",
       "      <td>111009615</td>\n",
       "      <td>2015-05-26 12:00:00+00:00</td>\n",
       "      <td>Художественный</td>\n",
       "      <td>АО \"ВайТ Медиа\", ООО \"Арт Пикчерс Студия\"</td>\n",
       "      <td>Россия</td>\n",
       "      <td>Д.Штурманова</td>\n",
       "      <td>Т.Вайнштейн</td>\n",
       "      <td>«16+» - для детей старше 16 лет</td>\n",
       "      <td>20000000</td>\n",
       "      <td>0</td>\n",
       "      <td>0</td>\n",
       "      <td>Фонд кино</td>\n",
       "      <td>6.20</td>\n",
       "      <td>комедия,фэнтези</td>\n",
       "      <td>67418974</td>\n",
       "    </tr>\n",
       "    <tr>\n",
       "      <th>2615</th>\n",
       "      <td>Савва. Сердце воина</td>\n",
       "      <td>114001715</td>\n",
       "      <td>2015-07-21 12:00:00+00:00</td>\n",
       "      <td>Анимационный</td>\n",
       "      <td>ООО \"Глюкоза Продакшн\", ООО \"Арт Пикчерс Студия\"</td>\n",
       "      <td>Россия</td>\n",
       "      <td>М.Фадеев</td>\n",
       "      <td>А.Чистяков</td>\n",
       "      <td>«6+» - для детей старше 6 лет</td>\n",
       "      <td>60000000</td>\n",
       "      <td>100000000</td>\n",
       "      <td>0</td>\n",
       "      <td>Фонд кино</td>\n",
       "      <td>4.60</td>\n",
       "      <td>мультфильм,приключения,фэнтези</td>\n",
       "      <td>184487551</td>\n",
       "    </tr>\n",
       "  </tbody>\n",
       "</table>\n",
       "</div>"
      ],
      "text/plain": [
       "                    title   puNumber           show_start_date  \\\n",
       "2053                  14+  111023614 2014-12-19 12:00:00+00:00   \n",
       "2058            Дуxless 2  111000415 2015-01-26 12:00:00+00:00   \n",
       "2472          Воин (2015)  111017315 2015-09-28 12:00:00+00:00   \n",
       "2532              Бармен.  111009615 2015-05-26 12:00:00+00:00   \n",
       "2615  Савва. Сердце воина  114001715 2015-07-21 12:00:00+00:00   \n",
       "\n",
       "                type                                        film_studio  \\\n",
       "2053  Художественный                         ООО Киностудия  \"Сентябрь\"   \n",
       "2058  Художественный  ООО \"Киностудия \"Слово\", ООО \"Арт Пикчерс Студия\"   \n",
       "2472  Художественный   ООО \"Форпост Продакшн\", ООО \"Арт Пикчерс Студия\"   \n",
       "2532  Художественный          АО \"ВайТ Медиа\", ООО \"Арт Пикчерс Студия\"   \n",
       "2615    Анимационный   ООО \"Глюкоза Продакшн\", ООО \"Арт Пикчерс Студия\"   \n",
       "\n",
       "     production_country      director                            producer  \\\n",
       "2053             Россия      А.Зайцев                 О.Гранина, А.Зайцев   \n",
       "2058             Россия    Р.Прыгунов  П.Ануров, Ф.Бондарчук, Д.Рудовский   \n",
       "2472             Россия   А.Андрианов            ООО \"Арт Пикчерс Студия\"   \n",
       "2532             Россия  Д.Штурманова                         Т.Вайнштейн   \n",
       "2615             Россия      М.Фадеев                          А.Чистяков   \n",
       "\n",
       "                      age_restriction  refundable_support  \\\n",
       "2053  «16+» - для детей старше 16 лет                   0   \n",
       "2058  «16+» - для детей старше 16 лет                   0   \n",
       "2472  «12+» - для детей старше 12 лет            10000000   \n",
       "2532  «16+» - для детей старше 16 лет            20000000   \n",
       "2615    «6+» - для детей старше 6 лет            60000000   \n",
       "\n",
       "      nonrefundable_support  budget                  financing_source  \\\n",
       "2053               23000000       0  Министерство культуры, Фонд кино   \n",
       "2058               75000000       0                         Фонд кино   \n",
       "2472               70000000       0                         Фонд кино   \n",
       "2532                      0       0                         Фонд кино   \n",
       "2615              100000000       0                         Фонд кино   \n",
       "\n",
       "      ratings                          genres  box_office  \n",
       "2053     6.60                       мелодрама    10234016  \n",
       "2058     6.60                           драма   446163511  \n",
       "2472     7.80           боевик,драма,криминал   196572438  \n",
       "2532     6.20                 комедия,фэнтези    67418974  \n",
       "2615     4.60  мультфильм,приключения,фэнтези   184487551  "
      ]
     },
     "execution_count": 56,
     "metadata": {},
     "output_type": "execute_result"
    }
   ],
   "source": [
    "filter_data = data.query('budget < refundable_support + nonrefundable_support')\n",
    "filter_data.head()\n"
   ]
  },
  {
   "cell_type": "code",
   "execution_count": 57,
   "metadata": {},
   "outputs": [
    {
     "data": {
      "text/plain": [
       "title                    17\n",
       "puNumber                 17\n",
       "show_start_date          17\n",
       "type                     17\n",
       "film_studio              17\n",
       "production_country       17\n",
       "director                 17\n",
       "producer                 17\n",
       "age_restriction          17\n",
       "refundable_support       17\n",
       "nonrefundable_support    17\n",
       "budget                   17\n",
       "financing_source         17\n",
       "ratings                  16\n",
       "genres                   16\n",
       "box_office               17\n",
       "dtype: int64"
      ]
     },
     "execution_count": 57,
     "metadata": {},
     "output_type": "execute_result"
    }
   ],
   "source": [
    "filter_data.count()"
   ]
  },
  {
   "cell_type": "markdown",
   "metadata": {},
   "source": [
    "Из таблицы видно, что для 17 фтльмов сумма поддержки больше суммы бюджета, так как отсутствует информация о бюджете. Так как нам не известно, по какой причине отсутсвуют данные в колонке бюджет, а так же нам не известно, какой объем бюджета был использован, мы не сможем ничего сделать с этими данными. Оставим отфильтрованную таблицу для дальнейших расчетов. "
   ]
  },
  {
   "cell_type": "markdown",
   "metadata": {},
   "source": [
    "- В колонках budget, refundable_support, nonrefundable_support и box_office отмечается большое количество пропущенных данных (которые мы ранее заменили на 0 для удобства). \n",
    "- В колонках refundable_support и nonrefundable_support объяснить пропуски можно отсутсвием той или иной поддержки, друигим словами, государство могло дать невозвратную чать без возвратной,  или возвратную без невозвратной.\n",
    "- Отсутствие значений в колонке box_office можно объяснить двумя причинами, или была допущена ошибка при внесении или выгрузке данных (тк пропущенных значений очень много), либо такие фильмы не вышли в прокат.\n",
    "- Отсутсвующие данные в колонке бюджет скорее всего связаны с ошибкой, которую могли допустить при внесении или выгрузке данных, особенно это заметно в 17 значениях, для которых указана поддержка государства, но не указан бюджет, включающий ее. Решила оставить эти данные как есть, не удаляя, так как другие столбцы содержат ценную информацию.\n",
    "- Все данные, при отфильтровке, напоминают распределение Пуассона, но содержат большие выбросы, за счет чего искажается среднее значение. "
   ]
  },
  {
   "cell_type": "markdown",
   "metadata": {
    "id": "Eu6oWp2CgFyS"
   },
   "source": [
    "#### Шаг 2.6. Добавление новых столбцов\n",
    "\n",
    "\n",
    "\n"
   ]
  },
  {
   "cell_type": "markdown",
   "metadata": {
    "id": "7GgW-UpAgFyS"
   },
   "source": [
    "- Добавим столбец с информацией о годе проката. "
   ]
  },
  {
   "cell_type": "code",
   "execution_count": 58,
   "metadata": {
    "id": "I-yd1DkWgFyT"
   },
   "outputs": [
    {
     "data": {
      "text/html": [
       "<div>\n",
       "<style scoped>\n",
       "    .dataframe tbody tr th:only-of-type {\n",
       "        vertical-align: middle;\n",
       "    }\n",
       "\n",
       "    .dataframe tbody tr th {\n",
       "        vertical-align: top;\n",
       "    }\n",
       "\n",
       "    .dataframe thead th {\n",
       "        text-align: right;\n",
       "    }\n",
       "</style>\n",
       "<table border=\"1\" class=\"dataframe\">\n",
       "  <thead>\n",
       "    <tr style=\"text-align: right;\">\n",
       "      <th></th>\n",
       "      <th>title</th>\n",
       "      <th>puNumber</th>\n",
       "      <th>show_start_date</th>\n",
       "      <th>type</th>\n",
       "      <th>film_studio</th>\n",
       "      <th>production_country</th>\n",
       "      <th>director</th>\n",
       "      <th>producer</th>\n",
       "      <th>age_restriction</th>\n",
       "      <th>refundable_support</th>\n",
       "      <th>nonrefundable_support</th>\n",
       "      <th>budget</th>\n",
       "      <th>financing_source</th>\n",
       "      <th>ratings</th>\n",
       "      <th>genres</th>\n",
       "      <th>box_office</th>\n",
       "      <th>year</th>\n",
       "    </tr>\n",
       "  </thead>\n",
       "  <tbody>\n",
       "    <tr>\n",
       "      <th>0</th>\n",
       "      <td>Открытый простор</td>\n",
       "      <td>221048915</td>\n",
       "      <td>2015-11-27 12:00:00+00:00</td>\n",
       "      <td>Художественный</td>\n",
       "      <td>Тачстоун Пикчерз, Кобальт Пикчерз, Бикон Пикче...</td>\n",
       "      <td>США</td>\n",
       "      <td>Кевин Костнер</td>\n",
       "      <td>Дэвид Валдес, Кевин Костнер, Джейк Эбертс</td>\n",
       "      <td>«18+» - запрещено для детей</td>\n",
       "      <td>0</td>\n",
       "      <td>0</td>\n",
       "      <td>0</td>\n",
       "      <td>NaN</td>\n",
       "      <td>7.20</td>\n",
       "      <td>боевик,драма,мелодрама</td>\n",
       "      <td>0</td>\n",
       "      <td>2015</td>\n",
       "    </tr>\n",
       "    <tr>\n",
       "      <th>1</th>\n",
       "      <td>Особо важное задание</td>\n",
       "      <td>111013716</td>\n",
       "      <td>2016-09-13 12:00:00+00:00</td>\n",
       "      <td>Художественный</td>\n",
       "      <td>Киностудия \"Мосфильм\"</td>\n",
       "      <td>СССР</td>\n",
       "      <td>Е.Матвеев</td>\n",
       "      <td>NaN</td>\n",
       "      <td>«6+» - для детей старше 6 лет</td>\n",
       "      <td>0</td>\n",
       "      <td>0</td>\n",
       "      <td>0</td>\n",
       "      <td>NaN</td>\n",
       "      <td>6.60</td>\n",
       "      <td>драма,военный</td>\n",
       "      <td>0</td>\n",
       "      <td>2016</td>\n",
       "    </tr>\n",
       "    <tr>\n",
       "      <th>2</th>\n",
       "      <td>Особо опасен</td>\n",
       "      <td>221038416</td>\n",
       "      <td>2016-10-10 12:00:00+00:00</td>\n",
       "      <td>Художественный</td>\n",
       "      <td>Юниверсал Пикчерз, Кикстарт Продакшнз, Марк Пл...</td>\n",
       "      <td>США</td>\n",
       "      <td>Тимур Бекмамбетов</td>\n",
       "      <td>Джим Лемли, Джейсон Нетер, Марк Е.Платт, Яйн Смит</td>\n",
       "      <td>«18+» - запрещено для детей</td>\n",
       "      <td>0</td>\n",
       "      <td>0</td>\n",
       "      <td>0</td>\n",
       "      <td>NaN</td>\n",
       "      <td>6.80</td>\n",
       "      <td>фантастика,боевик,триллер</td>\n",
       "      <td>0</td>\n",
       "      <td>2016</td>\n",
       "    </tr>\n",
       "    <tr>\n",
       "      <th>3</th>\n",
       "      <td>Особо опасен</td>\n",
       "      <td>221026916</td>\n",
       "      <td>2016-06-10 12:00:00+00:00</td>\n",
       "      <td>Художественный</td>\n",
       "      <td>Юниверсал Пикчерз, Кикстарт Продакшнз, Марк Пл...</td>\n",
       "      <td>США</td>\n",
       "      <td>Тимур Бекмамбетов</td>\n",
       "      <td>Джим Лемли, Джейсон Нетер, Марк Е.Платт, Яйн Смит</td>\n",
       "      <td>«18+» - запрещено для детей</td>\n",
       "      <td>0</td>\n",
       "      <td>0</td>\n",
       "      <td>0</td>\n",
       "      <td>NaN</td>\n",
       "      <td>6.80</td>\n",
       "      <td>фантастика,боевик,триллер</td>\n",
       "      <td>0</td>\n",
       "      <td>2016</td>\n",
       "    </tr>\n",
       "    <tr>\n",
       "      <th>4</th>\n",
       "      <td>Особо опасен</td>\n",
       "      <td>221030815</td>\n",
       "      <td>2015-07-29 12:00:00+00:00</td>\n",
       "      <td>Художественный</td>\n",
       "      <td>Юниверсал Пикчерз, Кикстарт Продакшнз, Марк Пл...</td>\n",
       "      <td>США</td>\n",
       "      <td>Тимур Бекмамбетов</td>\n",
       "      <td>Джим Лемли, Джейсон Нетер, Марк Е.Платт, Яйн Смит</td>\n",
       "      <td>«18+» - запрещено для детей</td>\n",
       "      <td>0</td>\n",
       "      <td>0</td>\n",
       "      <td>0</td>\n",
       "      <td>NaN</td>\n",
       "      <td>6.80</td>\n",
       "      <td>фантастика,боевик,триллер</td>\n",
       "      <td>0</td>\n",
       "      <td>2015</td>\n",
       "    </tr>\n",
       "  </tbody>\n",
       "</table>\n",
       "</div>"
      ],
      "text/plain": [
       "                  title   puNumber           show_start_date            type  \\\n",
       "0      Открытый простор  221048915 2015-11-27 12:00:00+00:00  Художественный   \n",
       "1  Особо важное задание  111013716 2016-09-13 12:00:00+00:00  Художественный   \n",
       "2          Особо опасен  221038416 2016-10-10 12:00:00+00:00  Художественный   \n",
       "3          Особо опасен  221026916 2016-06-10 12:00:00+00:00  Художественный   \n",
       "4          Особо опасен  221030815 2015-07-29 12:00:00+00:00  Художественный   \n",
       "\n",
       "                                         film_studio production_country  \\\n",
       "0  Тачстоун Пикчерз, Кобальт Пикчерз, Бикон Пикче...                США   \n",
       "1                              Киностудия \"Мосфильм\"               СССР   \n",
       "2  Юниверсал Пикчерз, Кикстарт Продакшнз, Марк Пл...                США   \n",
       "3  Юниверсал Пикчерз, Кикстарт Продакшнз, Марк Пл...                США   \n",
       "4  Юниверсал Пикчерз, Кикстарт Продакшнз, Марк Пл...                США   \n",
       "\n",
       "            director                                           producer  \\\n",
       "0      Кевин Костнер          Дэвид Валдес, Кевин Костнер, Джейк Эбертс   \n",
       "1          Е.Матвеев                                                NaN   \n",
       "2  Тимур Бекмамбетов  Джим Лемли, Джейсон Нетер, Марк Е.Платт, Яйн Смит   \n",
       "3  Тимур Бекмамбетов  Джим Лемли, Джейсон Нетер, Марк Е.Платт, Яйн Смит   \n",
       "4  Тимур Бекмамбетов  Джим Лемли, Джейсон Нетер, Марк Е.Платт, Яйн Смит   \n",
       "\n",
       "                 age_restriction  refundable_support  nonrefundable_support  \\\n",
       "0    «18+» - запрещено для детей                   0                      0   \n",
       "1  «6+» - для детей старше 6 лет                   0                      0   \n",
       "2    «18+» - запрещено для детей                   0                      0   \n",
       "3    «18+» - запрещено для детей                   0                      0   \n",
       "4    «18+» - запрещено для детей                   0                      0   \n",
       "\n",
       "   budget financing_source  ratings                     genres  box_office  \\\n",
       "0       0              NaN     7.20     боевик,драма,мелодрама           0   \n",
       "1       0              NaN     6.60              драма,военный           0   \n",
       "2       0              NaN     6.80  фантастика,боевик,триллер           0   \n",
       "3       0              NaN     6.80  фантастика,боевик,триллер           0   \n",
       "4       0              NaN     6.80  фантастика,боевик,триллер           0   \n",
       "\n",
       "   year  \n",
       "0  2015  \n",
       "1  2016  \n",
       "2  2016  \n",
       "3  2016  \n",
       "4  2015  "
      ]
     },
     "execution_count": 58,
     "metadata": {},
     "output_type": "execute_result"
    }
   ],
   "source": [
    "data['year'] = data['show_start_date'].dt.year\n",
    "data.head()"
   ]
  },
  {
   "cell_type": "markdown",
   "metadata": {
    "id": "nFTDLDYOgFyT"
   },
   "source": [
    "- Добавим новые столбцы с именем и фамилией главного режиссёра и основным жанром фильма. "
   ]
  },
  {
   "cell_type": "code",
   "execution_count": 59,
   "metadata": {
    "id": "LSbRZKbMgFyU"
   },
   "outputs": [],
   "source": [
    "def create_column(column):\n",
    "    try:\n",
    "        new_column  = column.split(',')[0]\n",
    "        return new_column\n",
    "    except AttributeError:\n",
    "        new_column = 0\n",
    "        return 0"
   ]
  },
  {
   "cell_type": "code",
   "execution_count": 60,
   "metadata": {},
   "outputs": [],
   "source": [
    "data['main_genre'] = data['genres'].apply(create_column)"
   ]
  },
  {
   "cell_type": "code",
   "execution_count": 61,
   "metadata": {},
   "outputs": [],
   "source": [
    "data['main_director'] = data['director'].apply(create_column)"
   ]
  },
  {
   "cell_type": "code",
   "execution_count": 62,
   "metadata": {},
   "outputs": [
    {
     "data": {
      "text/html": [
       "<div>\n",
       "<style scoped>\n",
       "    .dataframe tbody tr th:only-of-type {\n",
       "        vertical-align: middle;\n",
       "    }\n",
       "\n",
       "    .dataframe tbody tr th {\n",
       "        vertical-align: top;\n",
       "    }\n",
       "\n",
       "    .dataframe thead th {\n",
       "        text-align: right;\n",
       "    }\n",
       "</style>\n",
       "<table border=\"1\" class=\"dataframe\">\n",
       "  <thead>\n",
       "    <tr style=\"text-align: right;\">\n",
       "      <th></th>\n",
       "      <th>title</th>\n",
       "      <th>puNumber</th>\n",
       "      <th>show_start_date</th>\n",
       "      <th>type</th>\n",
       "      <th>film_studio</th>\n",
       "      <th>production_country</th>\n",
       "      <th>director</th>\n",
       "      <th>producer</th>\n",
       "      <th>age_restriction</th>\n",
       "      <th>refundable_support</th>\n",
       "      <th>nonrefundable_support</th>\n",
       "      <th>budget</th>\n",
       "      <th>financing_source</th>\n",
       "      <th>ratings</th>\n",
       "      <th>genres</th>\n",
       "      <th>box_office</th>\n",
       "      <th>year</th>\n",
       "      <th>main_genre</th>\n",
       "      <th>main_director</th>\n",
       "    </tr>\n",
       "  </thead>\n",
       "  <tbody>\n",
       "    <tr>\n",
       "      <th>0</th>\n",
       "      <td>Открытый простор</td>\n",
       "      <td>221048915</td>\n",
       "      <td>2015-11-27 12:00:00+00:00</td>\n",
       "      <td>Художественный</td>\n",
       "      <td>Тачстоун Пикчерз, Кобальт Пикчерз, Бикон Пикче...</td>\n",
       "      <td>США</td>\n",
       "      <td>Кевин Костнер</td>\n",
       "      <td>Дэвид Валдес, Кевин Костнер, Джейк Эбертс</td>\n",
       "      <td>«18+» - запрещено для детей</td>\n",
       "      <td>0</td>\n",
       "      <td>0</td>\n",
       "      <td>0</td>\n",
       "      <td>NaN</td>\n",
       "      <td>7.20</td>\n",
       "      <td>боевик,драма,мелодрама</td>\n",
       "      <td>0</td>\n",
       "      <td>2015</td>\n",
       "      <td>боевик</td>\n",
       "      <td>Кевин Костнер</td>\n",
       "    </tr>\n",
       "    <tr>\n",
       "      <th>1</th>\n",
       "      <td>Особо важное задание</td>\n",
       "      <td>111013716</td>\n",
       "      <td>2016-09-13 12:00:00+00:00</td>\n",
       "      <td>Художественный</td>\n",
       "      <td>Киностудия \"Мосфильм\"</td>\n",
       "      <td>СССР</td>\n",
       "      <td>Е.Матвеев</td>\n",
       "      <td>NaN</td>\n",
       "      <td>«6+» - для детей старше 6 лет</td>\n",
       "      <td>0</td>\n",
       "      <td>0</td>\n",
       "      <td>0</td>\n",
       "      <td>NaN</td>\n",
       "      <td>6.60</td>\n",
       "      <td>драма,военный</td>\n",
       "      <td>0</td>\n",
       "      <td>2016</td>\n",
       "      <td>драма</td>\n",
       "      <td>Е.Матвеев</td>\n",
       "    </tr>\n",
       "    <tr>\n",
       "      <th>2</th>\n",
       "      <td>Особо опасен</td>\n",
       "      <td>221038416</td>\n",
       "      <td>2016-10-10 12:00:00+00:00</td>\n",
       "      <td>Художественный</td>\n",
       "      <td>Юниверсал Пикчерз, Кикстарт Продакшнз, Марк Пл...</td>\n",
       "      <td>США</td>\n",
       "      <td>Тимур Бекмамбетов</td>\n",
       "      <td>Джим Лемли, Джейсон Нетер, Марк Е.Платт, Яйн Смит</td>\n",
       "      <td>«18+» - запрещено для детей</td>\n",
       "      <td>0</td>\n",
       "      <td>0</td>\n",
       "      <td>0</td>\n",
       "      <td>NaN</td>\n",
       "      <td>6.80</td>\n",
       "      <td>фантастика,боевик,триллер</td>\n",
       "      <td>0</td>\n",
       "      <td>2016</td>\n",
       "      <td>фантастика</td>\n",
       "      <td>Тимур Бекмамбетов</td>\n",
       "    </tr>\n",
       "    <tr>\n",
       "      <th>3</th>\n",
       "      <td>Особо опасен</td>\n",
       "      <td>221026916</td>\n",
       "      <td>2016-06-10 12:00:00+00:00</td>\n",
       "      <td>Художественный</td>\n",
       "      <td>Юниверсал Пикчерз, Кикстарт Продакшнз, Марк Пл...</td>\n",
       "      <td>США</td>\n",
       "      <td>Тимур Бекмамбетов</td>\n",
       "      <td>Джим Лемли, Джейсон Нетер, Марк Е.Платт, Яйн Смит</td>\n",
       "      <td>«18+» - запрещено для детей</td>\n",
       "      <td>0</td>\n",
       "      <td>0</td>\n",
       "      <td>0</td>\n",
       "      <td>NaN</td>\n",
       "      <td>6.80</td>\n",
       "      <td>фантастика,боевик,триллер</td>\n",
       "      <td>0</td>\n",
       "      <td>2016</td>\n",
       "      <td>фантастика</td>\n",
       "      <td>Тимур Бекмамбетов</td>\n",
       "    </tr>\n",
       "    <tr>\n",
       "      <th>4</th>\n",
       "      <td>Особо опасен</td>\n",
       "      <td>221030815</td>\n",
       "      <td>2015-07-29 12:00:00+00:00</td>\n",
       "      <td>Художественный</td>\n",
       "      <td>Юниверсал Пикчерз, Кикстарт Продакшнз, Марк Пл...</td>\n",
       "      <td>США</td>\n",
       "      <td>Тимур Бекмамбетов</td>\n",
       "      <td>Джим Лемли, Джейсон Нетер, Марк Е.Платт, Яйн Смит</td>\n",
       "      <td>«18+» - запрещено для детей</td>\n",
       "      <td>0</td>\n",
       "      <td>0</td>\n",
       "      <td>0</td>\n",
       "      <td>NaN</td>\n",
       "      <td>6.80</td>\n",
       "      <td>фантастика,боевик,триллер</td>\n",
       "      <td>0</td>\n",
       "      <td>2015</td>\n",
       "      <td>фантастика</td>\n",
       "      <td>Тимур Бекмамбетов</td>\n",
       "    </tr>\n",
       "  </tbody>\n",
       "</table>\n",
       "</div>"
      ],
      "text/plain": [
       "                  title   puNumber           show_start_date            type  \\\n",
       "0      Открытый простор  221048915 2015-11-27 12:00:00+00:00  Художественный   \n",
       "1  Особо важное задание  111013716 2016-09-13 12:00:00+00:00  Художественный   \n",
       "2          Особо опасен  221038416 2016-10-10 12:00:00+00:00  Художественный   \n",
       "3          Особо опасен  221026916 2016-06-10 12:00:00+00:00  Художественный   \n",
       "4          Особо опасен  221030815 2015-07-29 12:00:00+00:00  Художественный   \n",
       "\n",
       "                                         film_studio production_country  \\\n",
       "0  Тачстоун Пикчерз, Кобальт Пикчерз, Бикон Пикче...                США   \n",
       "1                              Киностудия \"Мосфильм\"               СССР   \n",
       "2  Юниверсал Пикчерз, Кикстарт Продакшнз, Марк Пл...                США   \n",
       "3  Юниверсал Пикчерз, Кикстарт Продакшнз, Марк Пл...                США   \n",
       "4  Юниверсал Пикчерз, Кикстарт Продакшнз, Марк Пл...                США   \n",
       "\n",
       "            director                                           producer  \\\n",
       "0      Кевин Костнер          Дэвид Валдес, Кевин Костнер, Джейк Эбертс   \n",
       "1          Е.Матвеев                                                NaN   \n",
       "2  Тимур Бекмамбетов  Джим Лемли, Джейсон Нетер, Марк Е.Платт, Яйн Смит   \n",
       "3  Тимур Бекмамбетов  Джим Лемли, Джейсон Нетер, Марк Е.Платт, Яйн Смит   \n",
       "4  Тимур Бекмамбетов  Джим Лемли, Джейсон Нетер, Марк Е.Платт, Яйн Смит   \n",
       "\n",
       "                 age_restriction  refundable_support  nonrefundable_support  \\\n",
       "0    «18+» - запрещено для детей                   0                      0   \n",
       "1  «6+» - для детей старше 6 лет                   0                      0   \n",
       "2    «18+» - запрещено для детей                   0                      0   \n",
       "3    «18+» - запрещено для детей                   0                      0   \n",
       "4    «18+» - запрещено для детей                   0                      0   \n",
       "\n",
       "   budget financing_source  ratings                     genres  box_office  \\\n",
       "0       0              NaN     7.20     боевик,драма,мелодрама           0   \n",
       "1       0              NaN     6.60              драма,военный           0   \n",
       "2       0              NaN     6.80  фантастика,боевик,триллер           0   \n",
       "3       0              NaN     6.80  фантастика,боевик,триллер           0   \n",
       "4       0              NaN     6.80  фантастика,боевик,триллер           0   \n",
       "\n",
       "   year  main_genre      main_director  \n",
       "0  2015      боевик      Кевин Костнер  \n",
       "1  2016       драма          Е.Матвеев  \n",
       "2  2016  фантастика  Тимур Бекмамбетов  \n",
       "3  2016  фантастика  Тимур Бекмамбетов  \n",
       "4  2015  фантастика  Тимур Бекмамбетов  "
      ]
     },
     "execution_count": 62,
     "metadata": {},
     "output_type": "execute_result"
    }
   ],
   "source": [
    "data.head()"
   ]
  },
  {
   "cell_type": "markdown",
   "metadata": {
    "id": "1FsCXHwdgFyU"
   },
   "source": [
    "- Посчитаем, какую долю от общего бюджета фильма составляет государственная поддержка."
   ]
  },
  {
   "cell_type": "code",
   "execution_count": 3,
   "metadata": {
    "id": "LV6qFuZLgFyV"
   },
   "outputs": [
    {
     "ename": "NameError",
     "evalue": "name 'data' is not defined",
     "output_type": "error",
     "traceback": [
      "\u001b[0;31m---------------------------------------------------------------------------\u001b[0m",
      "\u001b[0;31mNameError\u001b[0m                                 Traceback (most recent call last)",
      "Cell \u001b[0;32mIn[3], line 1\u001b[0m\n\u001b[0;32m----> 1\u001b[0m group_data \u001b[38;5;241m=\u001b[39m data\u001b[38;5;241m.\u001b[39mquery(\u001b[38;5;124m'\u001b[39m\u001b[38;5;124mbudget != 0\u001b[39m\u001b[38;5;124m'\u001b[39m)\n\u001b[1;32m      2\u001b[0m group_data\n",
      "\u001b[0;31mNameError\u001b[0m: name 'data' is not defined"
     ]
    }
   ],
   "source": [
    "group_data = data.query('budget != 0')\n",
    "group_data"
   ]
  },
  {
   "cell_type": "code",
   "execution_count": 64,
   "metadata": {},
   "outputs": [
    {
     "data": {
      "text/html": [
       "<div>\n",
       "<style scoped>\n",
       "    .dataframe tbody tr th:only-of-type {\n",
       "        vertical-align: middle;\n",
       "    }\n",
       "\n",
       "    .dataframe tbody tr th {\n",
       "        vertical-align: top;\n",
       "    }\n",
       "\n",
       "    .dataframe thead th {\n",
       "        text-align: right;\n",
       "    }\n",
       "</style>\n",
       "<table border=\"1\" class=\"dataframe\">\n",
       "  <thead>\n",
       "    <tr style=\"text-align: right;\">\n",
       "      <th></th>\n",
       "      <th>title</th>\n",
       "      <th>puNumber</th>\n",
       "      <th>show_start_date</th>\n",
       "      <th>type</th>\n",
       "      <th>film_studio</th>\n",
       "      <th>production_country</th>\n",
       "      <th>director</th>\n",
       "      <th>producer</th>\n",
       "      <th>age_restriction</th>\n",
       "      <th>refundable_support</th>\n",
       "      <th>nonrefundable_support</th>\n",
       "      <th>budget</th>\n",
       "      <th>financing_source</th>\n",
       "      <th>ratings</th>\n",
       "      <th>genres</th>\n",
       "      <th>box_office</th>\n",
       "      <th>year</th>\n",
       "      <th>main_genre</th>\n",
       "      <th>main_director</th>\n",
       "      <th>support_part</th>\n",
       "    </tr>\n",
       "  </thead>\n",
       "  <tbody>\n",
       "    <tr>\n",
       "      <th>1281</th>\n",
       "      <td>Пока еще жива</td>\n",
       "      <td>111005313</td>\n",
       "      <td>2013-10-11 12:00:00+00:00</td>\n",
       "      <td>Художественный</td>\n",
       "      <td>АНО содействия развитию кинематографии \"Ангел-...</td>\n",
       "      <td>Россия</td>\n",
       "      <td>А.Атанесян</td>\n",
       "      <td>А.Атанесян, М.Бабаханов, Р.Бутко</td>\n",
       "      <td>«16+» - для детей старше 16 лет</td>\n",
       "      <td>0</td>\n",
       "      <td>26500000</td>\n",
       "      <td>79411900</td>\n",
       "      <td>Министерство культуры</td>\n",
       "      <td>8.10</td>\n",
       "      <td>драма,мелодрама</td>\n",
       "      <td>365353</td>\n",
       "      <td>2013</td>\n",
       "      <td>драма</td>\n",
       "      <td>А.Атанесян</td>\n",
       "      <td>33.37</td>\n",
       "    </tr>\n",
       "    <tr>\n",
       "      <th>1448</th>\n",
       "      <td>Бесславные придурки</td>\n",
       "      <td>111003314</td>\n",
       "      <td>2014-03-28 12:00:00+00:00</td>\n",
       "      <td>Художественный</td>\n",
       "      <td>ООО \"Компания \"АТК-Студио\"</td>\n",
       "      <td>Россия</td>\n",
       "      <td>А.Якимчук</td>\n",
       "      <td>А.Тютрюмов</td>\n",
       "      <td>«12+» - для детей старше 12 лет</td>\n",
       "      <td>0</td>\n",
       "      <td>26000000</td>\n",
       "      <td>37142857</td>\n",
       "      <td>Министерство культуры</td>\n",
       "      <td>NaN</td>\n",
       "      <td>NaN</td>\n",
       "      <td>28140</td>\n",
       "      <td>2014</td>\n",
       "      <td>0</td>\n",
       "      <td>А.Якимчук</td>\n",
       "      <td>70.00</td>\n",
       "    </tr>\n",
       "    <tr>\n",
       "      <th>1498</th>\n",
       "      <td>Невидимки</td>\n",
       "      <td>111004213</td>\n",
       "      <td>2013-09-10 12:00:00+00:00</td>\n",
       "      <td>Художественный</td>\n",
       "      <td>ООО \"Компания \"РЕАЛ-ДАКОТА\"</td>\n",
       "      <td>Россия</td>\n",
       "      <td>Р.Давлетьяров, С.Комаров</td>\n",
       "      <td>Р.Давлетьяров, А.Котелевский, А.Олейников</td>\n",
       "      <td>«12+» - для детей старше 12 лет</td>\n",
       "      <td>0</td>\n",
       "      <td>107847945</td>\n",
       "      <td>176023490</td>\n",
       "      <td>Фонд кино</td>\n",
       "      <td>5.30</td>\n",
       "      <td>комедия,фантастика</td>\n",
       "      <td>19957031</td>\n",
       "      <td>2013</td>\n",
       "      <td>комедия</td>\n",
       "      <td>Р.Давлетьяров</td>\n",
       "      <td>61.27</td>\n",
       "    </tr>\n",
       "    <tr>\n",
       "      <th>1524</th>\n",
       "      <td>БЕРЦЫ</td>\n",
       "      <td>111004314</td>\n",
       "      <td>2014-05-05 12:00:00+00:00</td>\n",
       "      <td>Художественный</td>\n",
       "      <td>ООО \"Студия \"Пассажир\"</td>\n",
       "      <td>Россия</td>\n",
       "      <td>Е.Миндадзе (псевдоним Катя Шагалова)</td>\n",
       "      <td>Л.Антонова</td>\n",
       "      <td>«16+» - для детей старше 16 лет</td>\n",
       "      <td>0</td>\n",
       "      <td>28000000</td>\n",
       "      <td>40574140</td>\n",
       "      <td>Министерство культуры</td>\n",
       "      <td>4.20</td>\n",
       "      <td>драма</td>\n",
       "      <td>55917</td>\n",
       "      <td>2014</td>\n",
       "      <td>драма</td>\n",
       "      <td>Е.Миндадзе (псевдоним Катя Шагалова)</td>\n",
       "      <td>69.01</td>\n",
       "    </tr>\n",
       "    <tr>\n",
       "      <th>1792</th>\n",
       "      <td>Братья Ч</td>\n",
       "      <td>111004414</td>\n",
       "      <td>2014-04-23 12:00:00+00:00</td>\n",
       "      <td>Художественный</td>\n",
       "      <td>ООО \"Студия \"Пассажир\"</td>\n",
       "      <td>Россия</td>\n",
       "      <td>М.Угаров</td>\n",
       "      <td>А.Миндадзе, Л.Антонова</td>\n",
       "      <td>«16+» - для детей старше 16 лет</td>\n",
       "      <td>0</td>\n",
       "      <td>25000000</td>\n",
       "      <td>40015122</td>\n",
       "      <td>Министерство культуры</td>\n",
       "      <td>6.40</td>\n",
       "      <td>драма</td>\n",
       "      <td>232100</td>\n",
       "      <td>2014</td>\n",
       "      <td>драма</td>\n",
       "      <td>М.Угаров</td>\n",
       "      <td>62.48</td>\n",
       "    </tr>\n",
       "    <tr>\n",
       "      <th>...</th>\n",
       "      <td>...</td>\n",
       "      <td>...</td>\n",
       "      <td>...</td>\n",
       "      <td>...</td>\n",
       "      <td>...</td>\n",
       "      <td>...</td>\n",
       "      <td>...</td>\n",
       "      <td>...</td>\n",
       "      <td>...</td>\n",
       "      <td>...</td>\n",
       "      <td>...</td>\n",
       "      <td>...</td>\n",
       "      <td>...</td>\n",
       "      <td>...</td>\n",
       "      <td>...</td>\n",
       "      <td>...</td>\n",
       "      <td>...</td>\n",
       "      <td>...</td>\n",
       "      <td>...</td>\n",
       "      <td>...</td>\n",
       "    </tr>\n",
       "    <tr>\n",
       "      <th>7464</th>\n",
       "      <td>Союз спасения</td>\n",
       "      <td>111022019</td>\n",
       "      <td>2019-12-26 12:00:00+00:00</td>\n",
       "      <td>Художественный</td>\n",
       "      <td>ЗАО \"Дирекция кино\"</td>\n",
       "      <td>Россия</td>\n",
       "      <td>А.Кравчук</td>\n",
       "      <td>А.Максимов, К.Эрнст</td>\n",
       "      <td>«12+» - для детей старше 12 лет</td>\n",
       "      <td>100000000</td>\n",
       "      <td>400000000</td>\n",
       "      <td>980000000</td>\n",
       "      <td>Фонд кино</td>\n",
       "      <td>6.00</td>\n",
       "      <td>история,биография,драма</td>\n",
       "      <td>717703185</td>\n",
       "      <td>2019</td>\n",
       "      <td>история</td>\n",
       "      <td>А.Кравчук</td>\n",
       "      <td>51.02</td>\n",
       "    </tr>\n",
       "    <tr>\n",
       "      <th>7466</th>\n",
       "      <td>Иван Царевич и Серый Волк 4</td>\n",
       "      <td>114005019</td>\n",
       "      <td>2019-12-20 12:00:00+00:00</td>\n",
       "      <td>Анимационный</td>\n",
       "      <td>ООО \"Студия анимационного кино \"Мельница\"</td>\n",
       "      <td>Россия</td>\n",
       "      <td>Д.Шмидт, К.Феоктистов</td>\n",
       "      <td>С.Сельянов, А.Боярский</td>\n",
       "      <td>«6+» - для детей старше 6 лет</td>\n",
       "      <td>100000000</td>\n",
       "      <td>0</td>\n",
       "      <td>190000000</td>\n",
       "      <td>Фонд кино</td>\n",
       "      <td>6.70</td>\n",
       "      <td>мультфильм,приключения,семейный</td>\n",
       "      <td>501069235</td>\n",
       "      <td>2019</td>\n",
       "      <td>мультфильм</td>\n",
       "      <td>Д.Шмидт</td>\n",
       "      <td>52.63</td>\n",
       "    </tr>\n",
       "    <tr>\n",
       "      <th>7474</th>\n",
       "      <td>Вторжение</td>\n",
       "      <td>111022519</td>\n",
       "      <td>2019-12-23 12:00:00+00:00</td>\n",
       "      <td>Художественный</td>\n",
       "      <td>ООО \"Арт Пикчерс Студия\", ООО \"Водород 2011\"</td>\n",
       "      <td>Россия</td>\n",
       "      <td>Ф.Бондарчук</td>\n",
       "      <td>Ф.Бондарчук, М.Врубель, А.Андрющенко, Д.Рудовский</td>\n",
       "      <td>«12+» - для детей старше 12 лет</td>\n",
       "      <td>100000000</td>\n",
       "      <td>400000000</td>\n",
       "      <td>944000000</td>\n",
       "      <td>Фонд кино</td>\n",
       "      <td>5.70</td>\n",
       "      <td>фантастика,боевик</td>\n",
       "      <td>0</td>\n",
       "      <td>2019</td>\n",
       "      <td>фантастика</td>\n",
       "      <td>Ф.Бондарчук</td>\n",
       "      <td>52.97</td>\n",
       "    </tr>\n",
       "    <tr>\n",
       "      <th>7476</th>\n",
       "      <td>Я свободен</td>\n",
       "      <td>111023019</td>\n",
       "      <td>2019-12-26 12:00:00+00:00</td>\n",
       "      <td>Художественный</td>\n",
       "      <td>АО \"ТПО \"Киностудия им. М.Горького\"</td>\n",
       "      <td>Россия</td>\n",
       "      <td>И.Северов</td>\n",
       "      <td>С.Зернов</td>\n",
       "      <td>«12+» - для детей старше 12 лет</td>\n",
       "      <td>0</td>\n",
       "      <td>30000000</td>\n",
       "      <td>46154000</td>\n",
       "      <td>Министерство культуры</td>\n",
       "      <td>5.90</td>\n",
       "      <td>драма</td>\n",
       "      <td>0</td>\n",
       "      <td>2019</td>\n",
       "      <td>драма</td>\n",
       "      <td>И.Северов</td>\n",
       "      <td>65.00</td>\n",
       "    </tr>\n",
       "    <tr>\n",
       "      <th>7478</th>\n",
       "      <td>(Не)идеальный мужчина</td>\n",
       "      <td>111023119</td>\n",
       "      <td>2019-12-24 12:00:00+00:00</td>\n",
       "      <td>Художественный</td>\n",
       "      <td>ООО \"Нон-Стоп Продакшн\"</td>\n",
       "      <td>Россия</td>\n",
       "      <td>М.Бальчюнас (псевдоним М.Вайсберг)</td>\n",
       "      <td>С.Мелькумов, А.Роднянский, М.Вайсберг, Р.Минас...</td>\n",
       "      <td>«12+» - для детей старше 12 лет</td>\n",
       "      <td>40000000</td>\n",
       "      <td>60000000</td>\n",
       "      <td>150147502</td>\n",
       "      <td>Фонд кино</td>\n",
       "      <td>4.50</td>\n",
       "      <td>комедия,фантастика,мелодрама</td>\n",
       "      <td>0</td>\n",
       "      <td>2019</td>\n",
       "      <td>комедия</td>\n",
       "      <td>М.Бальчюнас (псевдоним М.Вайсберг)</td>\n",
       "      <td>66.60</td>\n",
       "    </tr>\n",
       "  </tbody>\n",
       "</table>\n",
       "<p>315 rows × 20 columns</p>\n",
       "</div>"
      ],
      "text/plain": [
       "                            title   puNumber           show_start_date  \\\n",
       "1281                Пока еще жива  111005313 2013-10-11 12:00:00+00:00   \n",
       "1448          Бесславные придурки  111003314 2014-03-28 12:00:00+00:00   \n",
       "1498                    Невидимки  111004213 2013-09-10 12:00:00+00:00   \n",
       "1524                        БЕРЦЫ  111004314 2014-05-05 12:00:00+00:00   \n",
       "1792                     Братья Ч  111004414 2014-04-23 12:00:00+00:00   \n",
       "...                           ...        ...                       ...   \n",
       "7464                Союз спасения  111022019 2019-12-26 12:00:00+00:00   \n",
       "7466  Иван Царевич и Серый Волк 4  114005019 2019-12-20 12:00:00+00:00   \n",
       "7474                    Вторжение  111022519 2019-12-23 12:00:00+00:00   \n",
       "7476                   Я свободен  111023019 2019-12-26 12:00:00+00:00   \n",
       "7478        (Не)идеальный мужчина  111023119 2019-12-24 12:00:00+00:00   \n",
       "\n",
       "                type                                        film_studio  \\\n",
       "1281  Художественный  АНО содействия развитию кинематографии \"Ангел-...   \n",
       "1448  Художественный                         ООО \"Компания \"АТК-Студио\"   \n",
       "1498  Художественный                        ООО \"Компания \"РЕАЛ-ДАКОТА\"   \n",
       "1524  Художественный                             ООО \"Студия \"Пассажир\"   \n",
       "1792  Художественный                             ООО \"Студия \"Пассажир\"   \n",
       "...              ...                                                ...   \n",
       "7464  Художественный                                ЗАО \"Дирекция кино\"   \n",
       "7466    Анимационный          ООО \"Студия анимационного кино \"Мельница\"   \n",
       "7474  Художественный       ООО \"Арт Пикчерс Студия\", ООО \"Водород 2011\"   \n",
       "7476  Художественный                АО \"ТПО \"Киностудия им. М.Горького\"   \n",
       "7478  Художественный                            ООО \"Нон-Стоп Продакшн\"   \n",
       "\n",
       "     production_country                              director  \\\n",
       "1281             Россия                            А.Атанесян   \n",
       "1448             Россия                             А.Якимчук   \n",
       "1498             Россия              Р.Давлетьяров, С.Комаров   \n",
       "1524             Россия  Е.Миндадзе (псевдоним Катя Шагалова)   \n",
       "1792             Россия                              М.Угаров   \n",
       "...                 ...                                   ...   \n",
       "7464             Россия                             А.Кравчук   \n",
       "7466             Россия                 Д.Шмидт, К.Феоктистов   \n",
       "7474             Россия                           Ф.Бондарчук   \n",
       "7476             Россия                             И.Северов   \n",
       "7478             Россия    М.Бальчюнас (псевдоним М.Вайсберг)   \n",
       "\n",
       "                                               producer  \\\n",
       "1281                   А.Атанесян, М.Бабаханов, Р.Бутко   \n",
       "1448                                         А.Тютрюмов   \n",
       "1498          Р.Давлетьяров, А.Котелевский, А.Олейников   \n",
       "1524                                         Л.Антонова   \n",
       "1792                             А.Миндадзе, Л.Антонова   \n",
       "...                                                 ...   \n",
       "7464                                А.Максимов, К.Эрнст   \n",
       "7466                             С.Сельянов, А.Боярский   \n",
       "7474  Ф.Бондарчук, М.Врубель, А.Андрющенко, Д.Рудовский   \n",
       "7476                                           С.Зернов   \n",
       "7478  С.Мелькумов, А.Роднянский, М.Вайсберг, Р.Минас...   \n",
       "\n",
       "                      age_restriction  refundable_support  \\\n",
       "1281  «16+» - для детей старше 16 лет                   0   \n",
       "1448  «12+» - для детей старше 12 лет                   0   \n",
       "1498  «12+» - для детей старше 12 лет                   0   \n",
       "1524  «16+» - для детей старше 16 лет                   0   \n",
       "1792  «16+» - для детей старше 16 лет                   0   \n",
       "...                               ...                 ...   \n",
       "7464  «12+» - для детей старше 12 лет           100000000   \n",
       "7466    «6+» - для детей старше 6 лет           100000000   \n",
       "7474  «12+» - для детей старше 12 лет           100000000   \n",
       "7476  «12+» - для детей старше 12 лет                   0   \n",
       "7478  «12+» - для детей старше 12 лет            40000000   \n",
       "\n",
       "      nonrefundable_support     budget       financing_source  ratings  \\\n",
       "1281               26500000   79411900  Министерство культуры     8.10   \n",
       "1448               26000000   37142857  Министерство культуры      NaN   \n",
       "1498              107847945  176023490              Фонд кино     5.30   \n",
       "1524               28000000   40574140  Министерство культуры     4.20   \n",
       "1792               25000000   40015122  Министерство культуры     6.40   \n",
       "...                     ...        ...                    ...      ...   \n",
       "7464              400000000  980000000              Фонд кино     6.00   \n",
       "7466                      0  190000000              Фонд кино     6.70   \n",
       "7474              400000000  944000000              Фонд кино     5.70   \n",
       "7476               30000000   46154000  Министерство культуры     5.90   \n",
       "7478               60000000  150147502              Фонд кино     4.50   \n",
       "\n",
       "                               genres  box_office  year  main_genre  \\\n",
       "1281                  драма,мелодрама      365353  2013       драма   \n",
       "1448                              NaN       28140  2014           0   \n",
       "1498               комедия,фантастика    19957031  2013     комедия   \n",
       "1524                            драма       55917  2014       драма   \n",
       "1792                            драма      232100  2014       драма   \n",
       "...                               ...         ...   ...         ...   \n",
       "7464          история,биография,драма   717703185  2019     история   \n",
       "7466  мультфильм,приключения,семейный   501069235  2019  мультфильм   \n",
       "7474                фантастика,боевик           0  2019  фантастика   \n",
       "7476                            драма           0  2019       драма   \n",
       "7478     комедия,фантастика,мелодрама           0  2019     комедия   \n",
       "\n",
       "                             main_director  support_part  \n",
       "1281                            А.Атанесян         33.37  \n",
       "1448                             А.Якимчук         70.00  \n",
       "1498                         Р.Давлетьяров         61.27  \n",
       "1524  Е.Миндадзе (псевдоним Катя Шагалова)         69.01  \n",
       "1792                              М.Угаров         62.48  \n",
       "...                                    ...           ...  \n",
       "7464                             А.Кравчук         51.02  \n",
       "7466                               Д.Шмидт         52.63  \n",
       "7474                           Ф.Бондарчук         52.97  \n",
       "7476                             И.Северов         65.00  \n",
       "7478    М.Бальчюнас (псевдоним М.Вайсберг)         66.60  \n",
       "\n",
       "[315 rows x 20 columns]"
      ]
     },
     "execution_count": 64,
     "metadata": {},
     "output_type": "execute_result"
    }
   ],
   "source": [
    "data['support_part'] = (((data['nonrefundable_support'] + data['refundable_support']) / data['budget']) *100)\n",
    "data.query('budget != 0')"
   ]
  },
  {
   "cell_type": "markdown",
   "metadata": {},
   "source": [
    "Исследуя датаферйм были обнаружены следующие ошибки:\n",
    "- В данных определяются пропуски по значениям типа object в столбцах film_studio, production_country, director, producer, genres, ratings. \n",
    "- В столбцах financing_sourse, budget nonrefundable_support refundable_support пропущенные данные связаны с отсутствием поддержки.\n",
    "- Обнаружили лишние пробелы в категориях age_restriction, genres, production_country, type.\n",
    "- Лишние проблелы были удалены из type, film_studio\n",
    "- В колонках budget, refundable_support, nonrefundable_support и box_office отмечается большое количество пропущенных данных (которые мы ранее заменили на 0 для удобства). \n",
    "- В колонках refundable_support и nonrefundable_support объяснить пропуски можно отсутсвием той или иной поддержки, друигим словами, государство могло дать невозвратную чать без возвратной,  или возвратную без невозвратной.\n",
    "- Отсутствие значений в колонке box_office можно объяснить двумя причинами, или была допущена ошибка при внесении или выгрузке данных (тк пропущенных значений очень много), либо такие фильмы не вышли в прокат.\n",
    "- Отсутсвующие данные в колонке бюджет скорее всего связаны с ошибкой, которую могли допустить при внесении или выгрузке данных, особенно это заметно в 17 значениях, для которых указана поддержка государства, но не указан бюджет, включающий ее.\n",
    "В процессе обработки данных:\n",
    "- смержили данные из двух таблиц\n",
    "- заменили в количественных переменных nan на 0 для удобства\n",
    "- были созданы новые столбцы year, main_genre, main_director, support_part, profit\n",
    "- не были удалены неявные дубликаты, так как они имели разные прокатные удостоверения, что может быть связано с изменением фильма или правообладателя, что считается разными фильмами.\n",
    "- заменили тип данных в столбце show_start_date\tна datetime\n"
   ]
  },
  {
   "cell_type": "markdown",
   "metadata": {
    "id": "6t4EukPLgFyV"
   },
   "source": [
    "### Шаг 3. Проведение исследовательского анализа данных\n"
   ]
  },
  {
   "cell_type": "markdown",
   "metadata": {
    "id": "vAH8WCzugFyV"
   },
   "source": [
    "- Посмотрим, сколько фильмов выходило в прокат каждый год. \n",
    "- Посчитаем, какую долю составляют фильмы с указанной информацией о прокате в кинотеатрах. \n",
    "- Проанализируем, как эта доля менялась по годам. "
   ]
  },
  {
   "cell_type": "markdown",
   "metadata": {},
   "source": [
    "Отфильтруем данные, содержащие только фильмы, выходившие в прокат. "
   ]
  },
  {
   "cell_type": "code",
   "execution_count": 65,
   "metadata": {},
   "outputs": [],
   "source": [
    "data_showed_film = data.query('puNumber != 0 and box_office != 0')"
   ]
  },
  {
   "cell_type": "code",
   "execution_count": 66,
   "metadata": {
    "id": "ABeV47y7gFyW"
   },
   "outputs": [
    {
     "data": {
      "image/png": "[encoded data removed]",
      "text/plain": [
       "<Figure size 432x288 with 1 Axes>"
      ]
     },
     "metadata": {
      "needs_background": "light"
     },
     "output_type": "display_data"
    }
   ],
   "source": [
    "(data_showed_film\n",
    "    .pivot_table(index='year', values='puNumber', aggfunc='count')\n",
    "    .plot(style='o-', xlabel='года', ylabel='количество фильмов', title='Количество фильмов, вышедших в прокат в период с 2010 по 2019 год'))\n",
    "plt.show()\n",
    "\n",
    "\n"
   ]
  },
  {
   "cell_type": "markdown",
   "metadata": {},
   "source": [
    "Из графика наблюдаем увеличение количества фильмов, вышедших в прокат с 2010 с пиком в 2016 году, а так же резкий провал в 2017 году. Затем снова наблюдаем период увеличения с 2017 по 2019 года, до того же пика, что и в 2016 году."
   ]
  },
  {
   "cell_type": "markdown",
   "metadata": {},
   "source": [
    "Посчитаем, какую долю составляют фильмы, вышедшие в прокат, а так же проанализируем измнение по годам. "
   ]
  },
  {
   "cell_type": "code",
   "execution_count": 67,
   "metadata": {},
   "outputs": [],
   "source": [
    "data_not_showed_film = data.query('puNumber != 0 and box_office == 0')\n",
    "pivot_table_not_showed = data_not_showed_film.pivot_table(index='year', values='puNumber', aggfunc='count')"
   ]
  },
  {
   "cell_type": "code",
   "execution_count": 68,
   "metadata": {},
   "outputs": [],
   "source": [
    "pivot_table_showed = data_showed_film.pivot_table(index='year', values='puNumber', aggfunc='count')"
   ]
  },
  {
   "cell_type": "code",
   "execution_count": 69,
   "metadata": {},
   "outputs": [
    {
     "data": {
      "text/plain": [
       "72.02941852447712"
      ]
     },
     "execution_count": 69,
     "metadata": {},
     "output_type": "execute_result"
    }
   ],
   "source": [
    "data_shows_quotient = pivot_table_not_showed.merge(pivot_table_showed, on='year', how='left')\n",
    "data_shows_quotient.columns=['not_showed', 'showed']\n",
    "data_shows_quotient['quotient'] = data_shows_quotient['showed'] *100 / (data_shows_quotient['showed'] + data_shows_quotient['not_showed'])\n",
    "(data_shows_quotient['showed'].sum() / data_shows_quotient['not_showed'].sum())*100"
   ]
  },
  {
   "cell_type": "code",
   "execution_count": 70,
   "metadata": {},
   "outputs": [
    {
     "data": {
      "text/html": [
       "<div>\n",
       "<style scoped>\n",
       "    .dataframe tbody tr th:only-of-type {\n",
       "        vertical-align: middle;\n",
       "    }\n",
       "\n",
       "    .dataframe tbody tr th {\n",
       "        vertical-align: top;\n",
       "    }\n",
       "\n",
       "    .dataframe thead th {\n",
       "        text-align: right;\n",
       "    }\n",
       "</style>\n",
       "<table border=\"1\" class=\"dataframe\">\n",
       "  <thead>\n",
       "    <tr style=\"text-align: right;\">\n",
       "      <th></th>\n",
       "      <th>not_showed</th>\n",
       "      <th>showed</th>\n",
       "      <th>quotient</th>\n",
       "    </tr>\n",
       "    <tr>\n",
       "      <th>year</th>\n",
       "      <th></th>\n",
       "      <th></th>\n",
       "      <th></th>\n",
       "    </tr>\n",
       "  </thead>\n",
       "  <tbody>\n",
       "    <tr>\n",
       "      <th>2010</th>\n",
       "      <td>884</td>\n",
       "      <td>101</td>\n",
       "      <td>10.25</td>\n",
       "    </tr>\n",
       "    <tr>\n",
       "      <th>2011</th>\n",
       "      <td>513</td>\n",
       "      <td>109</td>\n",
       "      <td>17.52</td>\n",
       "    </tr>\n",
       "    <tr>\n",
       "      <th>2012</th>\n",
       "      <td>470</td>\n",
       "      <td>123</td>\n",
       "      <td>20.74</td>\n",
       "    </tr>\n",
       "    <tr>\n",
       "      <th>2013</th>\n",
       "      <td>451</td>\n",
       "      <td>179</td>\n",
       "      <td>28.41</td>\n",
       "    </tr>\n",
       "    <tr>\n",
       "      <th>2014</th>\n",
       "      <td>533</td>\n",
       "      <td>273</td>\n",
       "      <td>33.87</td>\n",
       "    </tr>\n",
       "    <tr>\n",
       "      <th>2015</th>\n",
       "      <td>243</td>\n",
       "      <td>462</td>\n",
       "      <td>65.53</td>\n",
       "    </tr>\n",
       "    <tr>\n",
       "      <th>2016</th>\n",
       "      <td>293</td>\n",
       "      <td>525</td>\n",
       "      <td>64.18</td>\n",
       "    </tr>\n",
       "    <tr>\n",
       "      <th>2017</th>\n",
       "      <td>148</td>\n",
       "      <td>357</td>\n",
       "      <td>70.69</td>\n",
       "    </tr>\n",
       "    <tr>\n",
       "      <th>2018</th>\n",
       "      <td>416</td>\n",
       "      <td>475</td>\n",
       "      <td>53.31</td>\n",
       "    </tr>\n",
       "    <tr>\n",
       "      <th>2019</th>\n",
       "      <td>400</td>\n",
       "      <td>530</td>\n",
       "      <td>56.99</td>\n",
       "    </tr>\n",
       "  </tbody>\n",
       "</table>\n",
       "</div>"
      ],
      "text/plain": [
       "      not_showed  showed  quotient\n",
       "year                              \n",
       "2010         884     101     10.25\n",
       "2011         513     109     17.52\n",
       "2012         470     123     20.74\n",
       "2013         451     179     28.41\n",
       "2014         533     273     33.87\n",
       "2015         243     462     65.53\n",
       "2016         293     525     64.18\n",
       "2017         148     357     70.69\n",
       "2018         416     475     53.31\n",
       "2019         400     530     56.99"
      ]
     },
     "execution_count": 70,
     "metadata": {},
     "output_type": "execute_result"
    }
   ],
   "source": [
    "data_shows_quotient"
   ]
  },
  {
   "cell_type": "code",
   "execution_count": 71,
   "metadata": {},
   "outputs": [
    {
     "data": {
      "image/png": "[encoded data removed]",
      "text/plain": [
       "<Figure size 432x288 with 1 Axes>"
      ]
     },
     "metadata": {
      "needs_background": "light"
     },
     "output_type": "display_data"
    }
   ],
   "source": [
    "data_shows_quotient['quotient'].plot(style='o-', xlabel='года', ylabel='доля фильмов', title='Доля фильмов, вышедших в прокат в период с 2010 по 2019 год')\n",
    "plt.show()"
   ]
  },
  {
   "cell_type": "markdown",
   "metadata": {},
   "source": [
    "72% фильмов вышли впрокат в период с 2010 по 2019 год. Так же мы наблюдаем динамику увеличения доли вышедших фильмов в период с 2010 с первым пиком в 2015 году. Отмечаем спад в 2016 и второй пик в 2017 году, хотя общее количество фильмов как раз снижалось в этот год. А вот 2018 год показвает снижение доли, хоть и количество вышедших фильмов увеличилось. "
   ]
  },
  {
   "cell_type": "markdown",
   "metadata": {
    "id": "BEOdcIrIgFyW"
   },
   "source": [
    "- Изучим, как менялась динамика проката по годам. "
   ]
  },
  {
   "cell_type": "code",
   "execution_count": 72,
   "metadata": {
    "id": "tfEhofYvgFyX"
   },
   "outputs": [
    {
     "data": {
      "image/png": "[encoded data removed]",
      "text/plain": [
       "<Figure size 432x288 with 1 Axes>"
      ]
     },
     "metadata": {
      "needs_background": "light"
     },
     "output_type": "display_data"
    }
   ],
   "source": [
    "(data_showed_film\n",
    "    .pivot_table(index='year', values='box_office', aggfunc='sum')\n",
    "    .plot(style='o-', xlabel='года', ylabel='сумма сборов', title='Сумма сборов фильмов, вышедших с 2010 по 2019 год'))\n",
    "plt.show()"
   ]
  },
  {
   "cell_type": "markdown",
   "metadata": {},
   "source": [
    "Сумма сборов была минимальной в 2013 году, максимальной в 2018."
   ]
  },
  {
   "cell_type": "markdown",
   "metadata": {
    "id": "G-7qS-N-gFyY"
   },
   "source": [
    "- Посчитаем среднюю и медианную сумму сборов для каждого года."
   ]
  },
  {
   "cell_type": "code",
   "execution_count": 73,
   "metadata": {
    "id": "jmp-rgg9gFyY"
   },
   "outputs": [
    {
     "data": {
      "image/png": "[encoded data removed]",
      "text/plain": [
       "<Figure size 432x288 with 1 Axes>"
      ]
     },
     "metadata": {
      "needs_background": "light"
     },
     "output_type": "display_data"
    }
   ],
   "source": [
    "(data_showed_film\n",
    "    .pivot_table(index='year', values='box_office', aggfunc=('mean','median'))\n",
    "    .plot(style='o-', xlabel='года', ylabel='сумма сборов', title='Средняя и медианная сумма сборов фильмов, вышедших с 2010 по 2019 год'))\n",
    "plt.show()"
   ]
  },
  {
   "cell_type": "markdown",
   "metadata": {},
   "source": [
    "Замечаем резкое различие между средним и медианным значением в сборах. Наиболее вероятно это связано с резкими выбросами по данным о сборах. По медианным значениям видно, что сборы плавно поднимаются в период с 2014 года по 2018."
   ]
  },
  {
   "cell_type": "markdown",
   "metadata": {
    "id": "Ok89WFwJgFyZ"
   },
   "source": [
    "- Определим, влияет ли возрастное ограничение аудитории («6+», «12+», «16+», «18+» и т. д.) на сборы фильма в прокате в период с 2015 по 2019 год.\n",
    "- Исследуем, фильмы с каким возрастным ограничением собрали больше всего денег в прокате. Меняется ли картина в зависимости от года."
   ]
  },
  {
   "cell_type": "markdown",
   "metadata": {},
   "source": [
    "Сократим названия возрастных ограничений в столбце age_restriction для удобства чтения"
   ]
  },
  {
   "cell_type": "code",
   "execution_count": 74,
   "metadata": {},
   "outputs": [],
   "source": [
    "def split_age_restriction(column):\n",
    "    new_column  = column.split('-')[0].strip()\n",
    "    return new_column"
   ]
  },
  {
   "cell_type": "code",
   "execution_count": 75,
   "metadata": {},
   "outputs": [
    {
     "data": {
      "text/plain": [
       "array(['«18+»', '«6+»', '«12+»', '«16+»', '«0+»'], dtype=object)"
      ]
     },
     "execution_count": 75,
     "metadata": {},
     "output_type": "execute_result"
    }
   ],
   "source": [
    "data['age_restriction'] = data['age_restriction'].apply(split_age_restriction)\n",
    "data['age_restriction'].unique()"
   ]
  },
  {
   "cell_type": "code",
   "execution_count": 76,
   "metadata": {},
   "outputs": [
    {
     "data": {
      "image/png": "[encoded data removed]",
      "text/plain": [
       "<Figure size 432x288 with 1 Axes>"
      ]
     },
     "metadata": {
      "needs_background": "light"
     },
     "output_type": "display_data"
    }
   ],
   "source": [
    "(data\n",
    " .query('box_office!= 0 and year in (2015,2019)')\n",
    " .pivot_table(index='year', columns='age_restriction', values='box_office', aggfunc='sum')\n",
    " .plot(style='o-', xlabel='года', ylabel='количество фильмов', title='Динамика выхода фильмов с различными возрастными ограничениями, вышедших с 2015 по 2019 год'))\n",
    "plt.show()\n",
    " "
   ]
  },
  {
   "cell_type": "markdown",
   "metadata": {},
   "source": [
    "- Наибольшее количество денег в прокате собрали фильмы с ограничением 12+ в 2015 году, но к 2019 году количество выручки снижалось и к 2019 году было одинаковым с фильмами с другими ограничениям, кроме рейтинга 0+\n",
    "- Наблюдается тенденция к повышению сборов у фильмов с ограничениями 6+, 16+ и 18+.\n",
    "- По данным таблицы, количество вырученных с проката фильмов с ограничением 0+ практически не меняется в период с 2015 по 2019 год.\n",
    "- Возмозжно, это связано с уменьшением возрастных ограничений? "
   ]
  },
  {
   "cell_type": "code",
   "execution_count": 77,
   "metadata": {},
   "outputs": [
    {
     "data": {
      "image/png": "[encoded data removed]",
      "text/plain": [
       "<Figure size 576x576 with 1 Axes>"
      ]
     },
     "metadata": {
      "needs_background": "light"
     },
     "output_type": "display_data"
    }
   ],
   "source": [
    "import seaborn as sns\n",
    "temp = data.copy()\n",
    "year_mask = temp['year'] >= 2015\n",
    "\n",
    "plt.figure(figsize=(8, 8))\n",
    "(sns.boxplot(data = temp.loc[year_mask], y = 'box_office', x='age_restriction', showfliers=False, showmeans=True)\n",
    "    .set(title = 'Кассовые сборы в зависимости от возрастной категории', \n",
    "         xlabel = 'Возрастные категории', ylabel = 'Кассовый сбор'))\n",
    "plt.text(0, 1.18e8,'Среднее значение')\n",
    "plt.show()"
   ]
  },
  {
   "cell_type": "markdown",
   "metadata": {},
   "source": [
    "- 72% фильмов вышли впрокат в период с 2010 по 2019 год. Так же мы наблюдаем динамику увеличения доли вышедших фильмов в период с 2010 с первым пиком в 2015 году. Отмечаем спад в 2016 и второй пик в 2017 году, хотя общее количество фильмов как раз снижалось в этот год. А вот 2018 год показвает снижение доли, хоть и количество вышедших фильмов увеличилось. \n",
    "- Замечаем резкое различие между средним и медианным значением в сборах. Наиболее вероятно это связано с резкими выбросами по данным о сборах. По медианным значениям видно, что сборы плавно поднимаются в период с 2014 года по 2018.\n",
    "- Наибольшее количество денег в прокате собрали фильмы с ограничением 12+ в 2015 году, но к 2019 году количество выручки снижалось и к 2019 году было одинаковым с фильмами с другими ограничениям, кроме рейтинга 0+\n",
    "- Наблюдается тенденция к повышению сборов у фильмов с ограничениями 6+, 16+ и 18+.\n",
    "- По данным таблицы, количество вырученных с проката фильмов с ограничением 0+ практически не меняется в период с 2015 по 2019 год. Предположительно, это связано с уменьшением возрастных огрничений."
   ]
  },
  {
   "cell_type": "markdown",
   "metadata": {
    "id": "l_Kg6Ku4gFya"
   },
   "source": [
    "### Шаг 4. Исследуем фильмы, которые получили государственную поддержку"
   ]
  },
  {
   "cell_type": "markdown",
   "metadata": {},
   "source": [
    "Сначала посмотрим на распре деление финансовой поддержи в зависимости от года."
   ]
  },
  {
   "cell_type": "markdown",
   "metadata": {},
   "source": [
    "Добавим в таблицу столбец c долей выручки от затраченного бюджета."
   ]
  },
  {
   "cell_type": "code",
   "execution_count": 78,
   "metadata": {},
   "outputs": [
    {
     "data": {
      "text/html": [
       "<div>\n",
       "<style scoped>\n",
       "    .dataframe tbody tr th:only-of-type {\n",
       "        vertical-align: middle;\n",
       "    }\n",
       "\n",
       "    .dataframe tbody tr th {\n",
       "        vertical-align: top;\n",
       "    }\n",
       "\n",
       "    .dataframe thead th {\n",
       "        text-align: right;\n",
       "    }\n",
       "</style>\n",
       "<table border=\"1\" class=\"dataframe\">\n",
       "  <thead>\n",
       "    <tr style=\"text-align: right;\">\n",
       "      <th></th>\n",
       "      <th>title</th>\n",
       "      <th>puNumber</th>\n",
       "      <th>show_start_date</th>\n",
       "      <th>type</th>\n",
       "      <th>film_studio</th>\n",
       "      <th>production_country</th>\n",
       "      <th>director</th>\n",
       "      <th>producer</th>\n",
       "      <th>age_restriction</th>\n",
       "      <th>refundable_support</th>\n",
       "      <th>nonrefundable_support</th>\n",
       "      <th>budget</th>\n",
       "      <th>financing_source</th>\n",
       "      <th>ratings</th>\n",
       "      <th>genres</th>\n",
       "      <th>box_office</th>\n",
       "      <th>year</th>\n",
       "      <th>main_genre</th>\n",
       "      <th>main_director</th>\n",
       "      <th>support_part</th>\n",
       "      <th>profit</th>\n",
       "    </tr>\n",
       "  </thead>\n",
       "  <tbody>\n",
       "    <tr>\n",
       "      <th>0</th>\n",
       "      <td>Открытый простор</td>\n",
       "      <td>221048915</td>\n",
       "      <td>2015-11-27 12:00:00+00:00</td>\n",
       "      <td>Художественный</td>\n",
       "      <td>Тачстоун Пикчерз, Кобальт Пикчерз, Бикон Пикче...</td>\n",
       "      <td>США</td>\n",
       "      <td>Кевин Костнер</td>\n",
       "      <td>Дэвид Валдес, Кевин Костнер, Джейк Эбертс</td>\n",
       "      <td>«18+»</td>\n",
       "      <td>0</td>\n",
       "      <td>0</td>\n",
       "      <td>0</td>\n",
       "      <td>NaN</td>\n",
       "      <td>7.20</td>\n",
       "      <td>боевик,драма,мелодрама</td>\n",
       "      <td>0</td>\n",
       "      <td>2015</td>\n",
       "      <td>боевик</td>\n",
       "      <td>Кевин Костнер</td>\n",
       "      <td>NaN</td>\n",
       "      <td>NaN</td>\n",
       "    </tr>\n",
       "    <tr>\n",
       "      <th>1</th>\n",
       "      <td>Особо важное задание</td>\n",
       "      <td>111013716</td>\n",
       "      <td>2016-09-13 12:00:00+00:00</td>\n",
       "      <td>Художественный</td>\n",
       "      <td>Киностудия \"Мосфильм\"</td>\n",
       "      <td>СССР</td>\n",
       "      <td>Е.Матвеев</td>\n",
       "      <td>NaN</td>\n",
       "      <td>«6+»</td>\n",
       "      <td>0</td>\n",
       "      <td>0</td>\n",
       "      <td>0</td>\n",
       "      <td>NaN</td>\n",
       "      <td>6.60</td>\n",
       "      <td>драма,военный</td>\n",
       "      <td>0</td>\n",
       "      <td>2016</td>\n",
       "      <td>драма</td>\n",
       "      <td>Е.Матвеев</td>\n",
       "      <td>NaN</td>\n",
       "      <td>NaN</td>\n",
       "    </tr>\n",
       "    <tr>\n",
       "      <th>2</th>\n",
       "      <td>Особо опасен</td>\n",
       "      <td>221038416</td>\n",
       "      <td>2016-10-10 12:00:00+00:00</td>\n",
       "      <td>Художественный</td>\n",
       "      <td>Юниверсал Пикчерз, Кикстарт Продакшнз, Марк Пл...</td>\n",
       "      <td>США</td>\n",
       "      <td>Тимур Бекмамбетов</td>\n",
       "      <td>Джим Лемли, Джейсон Нетер, Марк Е.Платт, Яйн Смит</td>\n",
       "      <td>«18+»</td>\n",
       "      <td>0</td>\n",
       "      <td>0</td>\n",
       "      <td>0</td>\n",
       "      <td>NaN</td>\n",
       "      <td>6.80</td>\n",
       "      <td>фантастика,боевик,триллер</td>\n",
       "      <td>0</td>\n",
       "      <td>2016</td>\n",
       "      <td>фантастика</td>\n",
       "      <td>Тимур Бекмамбетов</td>\n",
       "      <td>NaN</td>\n",
       "      <td>NaN</td>\n",
       "    </tr>\n",
       "    <tr>\n",
       "      <th>3</th>\n",
       "      <td>Особо опасен</td>\n",
       "      <td>221026916</td>\n",
       "      <td>2016-06-10 12:00:00+00:00</td>\n",
       "      <td>Художественный</td>\n",
       "      <td>Юниверсал Пикчерз, Кикстарт Продакшнз, Марк Пл...</td>\n",
       "      <td>США</td>\n",
       "      <td>Тимур Бекмамбетов</td>\n",
       "      <td>Джим Лемли, Джейсон Нетер, Марк Е.Платт, Яйн Смит</td>\n",
       "      <td>«18+»</td>\n",
       "      <td>0</td>\n",
       "      <td>0</td>\n",
       "      <td>0</td>\n",
       "      <td>NaN</td>\n",
       "      <td>6.80</td>\n",
       "      <td>фантастика,боевик,триллер</td>\n",
       "      <td>0</td>\n",
       "      <td>2016</td>\n",
       "      <td>фантастика</td>\n",
       "      <td>Тимур Бекмамбетов</td>\n",
       "      <td>NaN</td>\n",
       "      <td>NaN</td>\n",
       "    </tr>\n",
       "    <tr>\n",
       "      <th>4</th>\n",
       "      <td>Особо опасен</td>\n",
       "      <td>221030815</td>\n",
       "      <td>2015-07-29 12:00:00+00:00</td>\n",
       "      <td>Художественный</td>\n",
       "      <td>Юниверсал Пикчерз, Кикстарт Продакшнз, Марк Пл...</td>\n",
       "      <td>США</td>\n",
       "      <td>Тимур Бекмамбетов</td>\n",
       "      <td>Джим Лемли, Джейсон Нетер, Марк Е.Платт, Яйн Смит</td>\n",
       "      <td>«18+»</td>\n",
       "      <td>0</td>\n",
       "      <td>0</td>\n",
       "      <td>0</td>\n",
       "      <td>NaN</td>\n",
       "      <td>6.80</td>\n",
       "      <td>фантастика,боевик,триллер</td>\n",
       "      <td>0</td>\n",
       "      <td>2015</td>\n",
       "      <td>фантастика</td>\n",
       "      <td>Тимур Бекмамбетов</td>\n",
       "      <td>NaN</td>\n",
       "      <td>NaN</td>\n",
       "    </tr>\n",
       "  </tbody>\n",
       "</table>\n",
       "</div>"
      ],
      "text/plain": [
       "                  title   puNumber           show_start_date            type  \\\n",
       "0      Открытый простор  221048915 2015-11-27 12:00:00+00:00  Художественный   \n",
       "1  Особо важное задание  111013716 2016-09-13 12:00:00+00:00  Художественный   \n",
       "2          Особо опасен  221038416 2016-10-10 12:00:00+00:00  Художественный   \n",
       "3          Особо опасен  221026916 2016-06-10 12:00:00+00:00  Художественный   \n",
       "4          Особо опасен  221030815 2015-07-29 12:00:00+00:00  Художественный   \n",
       "\n",
       "                                         film_studio production_country  \\\n",
       "0  Тачстоун Пикчерз, Кобальт Пикчерз, Бикон Пикче...                США   \n",
       "1                              Киностудия \"Мосфильм\"               СССР   \n",
       "2  Юниверсал Пикчерз, Кикстарт Продакшнз, Марк Пл...                США   \n",
       "3  Юниверсал Пикчерз, Кикстарт Продакшнз, Марк Пл...                США   \n",
       "4  Юниверсал Пикчерз, Кикстарт Продакшнз, Марк Пл...                США   \n",
       "\n",
       "            director                                           producer  \\\n",
       "0      Кевин Костнер          Дэвид Валдес, Кевин Костнер, Джейк Эбертс   \n",
       "1          Е.Матвеев                                                NaN   \n",
       "2  Тимур Бекмамбетов  Джим Лемли, Джейсон Нетер, Марк Е.Платт, Яйн Смит   \n",
       "3  Тимур Бекмамбетов  Джим Лемли, Джейсон Нетер, Марк Е.Платт, Яйн Смит   \n",
       "4  Тимур Бекмамбетов  Джим Лемли, Джейсон Нетер, Марк Е.Платт, Яйн Смит   \n",
       "\n",
       "  age_restriction  refundable_support  nonrefundable_support  budget  \\\n",
       "0           «18+»                   0                      0       0   \n",
       "1            «6+»                   0                      0       0   \n",
       "2           «18+»                   0                      0       0   \n",
       "3           «18+»                   0                      0       0   \n",
       "4           «18+»                   0                      0       0   \n",
       "\n",
       "  financing_source  ratings                     genres  box_office  year  \\\n",
       "0              NaN     7.20     боевик,драма,мелодрама           0  2015   \n",
       "1              NaN     6.60              драма,военный           0  2016   \n",
       "2              NaN     6.80  фантастика,боевик,триллер           0  2016   \n",
       "3              NaN     6.80  фантастика,боевик,триллер           0  2016   \n",
       "4              NaN     6.80  фантастика,боевик,триллер           0  2015   \n",
       "\n",
       "   main_genre      main_director  support_part  profit  \n",
       "0      боевик      Кевин Костнер           NaN     NaN  \n",
       "1       драма          Е.Матвеев           NaN     NaN  \n",
       "2  фантастика  Тимур Бекмамбетов           NaN     NaN  \n",
       "3  фантастика  Тимур Бекмамбетов           NaN     NaN  \n",
       "4  фантастика  Тимур Бекмамбетов           NaN     NaN  "
      ]
     },
     "execution_count": 78,
     "metadata": {},
     "output_type": "execute_result"
    }
   ],
   "source": [
    "data['profit'] = (data['box_office'] / data['budget']) *100\n",
    "data.head()"
   ]
  },
  {
   "cell_type": "code",
   "execution_count": 79,
   "metadata": {},
   "outputs": [
    {
     "data": {
      "text/html": [
       "<div>\n",
       "<style scoped>\n",
       "    .dataframe tbody tr th:only-of-type {\n",
       "        vertical-align: middle;\n",
       "    }\n",
       "\n",
       "    .dataframe tbody tr th {\n",
       "        vertical-align: top;\n",
       "    }\n",
       "\n",
       "    .dataframe thead th {\n",
       "        text-align: right;\n",
       "    }\n",
       "</style>\n",
       "<table border=\"1\" class=\"dataframe\">\n",
       "  <thead>\n",
       "    <tr style=\"text-align: right;\">\n",
       "      <th></th>\n",
       "      <th>title</th>\n",
       "      <th>puNumber</th>\n",
       "      <th>show_start_date</th>\n",
       "      <th>type</th>\n",
       "      <th>film_studio</th>\n",
       "      <th>production_country</th>\n",
       "      <th>director</th>\n",
       "      <th>producer</th>\n",
       "      <th>age_restriction</th>\n",
       "      <th>refundable_support</th>\n",
       "      <th>nonrefundable_support</th>\n",
       "      <th>budget</th>\n",
       "      <th>financing_source</th>\n",
       "      <th>ratings</th>\n",
       "      <th>genres</th>\n",
       "      <th>box_office</th>\n",
       "      <th>year</th>\n",
       "      <th>main_genre</th>\n",
       "      <th>main_director</th>\n",
       "      <th>support_part</th>\n",
       "      <th>profit</th>\n",
       "    </tr>\n",
       "  </thead>\n",
       "  <tbody>\n",
       "    <tr>\n",
       "      <th>1281</th>\n",
       "      <td>Пока еще жива</td>\n",
       "      <td>111005313</td>\n",
       "      <td>2013-10-11 12:00:00+00:00</td>\n",
       "      <td>Художественный</td>\n",
       "      <td>АНО содействия развитию кинематографии \"Ангел-...</td>\n",
       "      <td>Россия</td>\n",
       "      <td>А.Атанесян</td>\n",
       "      <td>А.Атанесян, М.Бабаханов, Р.Бутко</td>\n",
       "      <td>«16+»</td>\n",
       "      <td>0</td>\n",
       "      <td>26500000</td>\n",
       "      <td>79411900</td>\n",
       "      <td>Министерство культуры</td>\n",
       "      <td>8.10</td>\n",
       "      <td>драма,мелодрама</td>\n",
       "      <td>365353</td>\n",
       "      <td>2013</td>\n",
       "      <td>драма</td>\n",
       "      <td>А.Атанесян</td>\n",
       "      <td>33.37</td>\n",
       "      <td>0.46</td>\n",
       "    </tr>\n",
       "    <tr>\n",
       "      <th>1448</th>\n",
       "      <td>Бесславные придурки</td>\n",
       "      <td>111003314</td>\n",
       "      <td>2014-03-28 12:00:00+00:00</td>\n",
       "      <td>Художественный</td>\n",
       "      <td>ООО \"Компания \"АТК-Студио\"</td>\n",
       "      <td>Россия</td>\n",
       "      <td>А.Якимчук</td>\n",
       "      <td>А.Тютрюмов</td>\n",
       "      <td>«12+»</td>\n",
       "      <td>0</td>\n",
       "      <td>26000000</td>\n",
       "      <td>37142857</td>\n",
       "      <td>Министерство культуры</td>\n",
       "      <td>NaN</td>\n",
       "      <td>NaN</td>\n",
       "      <td>28140</td>\n",
       "      <td>2014</td>\n",
       "      <td>0</td>\n",
       "      <td>А.Якимчук</td>\n",
       "      <td>70.00</td>\n",
       "      <td>0.08</td>\n",
       "    </tr>\n",
       "    <tr>\n",
       "      <th>1498</th>\n",
       "      <td>Невидимки</td>\n",
       "      <td>111004213</td>\n",
       "      <td>2013-09-10 12:00:00+00:00</td>\n",
       "      <td>Художественный</td>\n",
       "      <td>ООО \"Компания \"РЕАЛ-ДАКОТА\"</td>\n",
       "      <td>Россия</td>\n",
       "      <td>Р.Давлетьяров, С.Комаров</td>\n",
       "      <td>Р.Давлетьяров, А.Котелевский, А.Олейников</td>\n",
       "      <td>«12+»</td>\n",
       "      <td>0</td>\n",
       "      <td>107847945</td>\n",
       "      <td>176023490</td>\n",
       "      <td>Фонд кино</td>\n",
       "      <td>5.30</td>\n",
       "      <td>комедия,фантастика</td>\n",
       "      <td>19957031</td>\n",
       "      <td>2013</td>\n",
       "      <td>комедия</td>\n",
       "      <td>Р.Давлетьяров</td>\n",
       "      <td>61.27</td>\n",
       "      <td>11.34</td>\n",
       "    </tr>\n",
       "    <tr>\n",
       "      <th>1524</th>\n",
       "      <td>БЕРЦЫ</td>\n",
       "      <td>111004314</td>\n",
       "      <td>2014-05-05 12:00:00+00:00</td>\n",
       "      <td>Художественный</td>\n",
       "      <td>ООО \"Студия \"Пассажир\"</td>\n",
       "      <td>Россия</td>\n",
       "      <td>Е.Миндадзе (псевдоним Катя Шагалова)</td>\n",
       "      <td>Л.Антонова</td>\n",
       "      <td>«16+»</td>\n",
       "      <td>0</td>\n",
       "      <td>28000000</td>\n",
       "      <td>40574140</td>\n",
       "      <td>Министерство культуры</td>\n",
       "      <td>4.20</td>\n",
       "      <td>драма</td>\n",
       "      <td>55917</td>\n",
       "      <td>2014</td>\n",
       "      <td>драма</td>\n",
       "      <td>Е.Миндадзе (псевдоним Катя Шагалова)</td>\n",
       "      <td>69.01</td>\n",
       "      <td>0.14</td>\n",
       "    </tr>\n",
       "    <tr>\n",
       "      <th>1792</th>\n",
       "      <td>Братья Ч</td>\n",
       "      <td>111004414</td>\n",
       "      <td>2014-04-23 12:00:00+00:00</td>\n",
       "      <td>Художественный</td>\n",
       "      <td>ООО \"Студия \"Пассажир\"</td>\n",
       "      <td>Россия</td>\n",
       "      <td>М.Угаров</td>\n",
       "      <td>А.Миндадзе, Л.Антонова</td>\n",
       "      <td>«16+»</td>\n",
       "      <td>0</td>\n",
       "      <td>25000000</td>\n",
       "      <td>40015122</td>\n",
       "      <td>Министерство культуры</td>\n",
       "      <td>6.40</td>\n",
       "      <td>драма</td>\n",
       "      <td>232100</td>\n",
       "      <td>2014</td>\n",
       "      <td>драма</td>\n",
       "      <td>М.Угаров</td>\n",
       "      <td>62.48</td>\n",
       "      <td>0.58</td>\n",
       "    </tr>\n",
       "  </tbody>\n",
       "</table>\n",
       "</div>"
      ],
      "text/plain": [
       "                    title   puNumber           show_start_date  \\\n",
       "1281        Пока еще жива  111005313 2013-10-11 12:00:00+00:00   \n",
       "1448  Бесславные придурки  111003314 2014-03-28 12:00:00+00:00   \n",
       "1498            Невидимки  111004213 2013-09-10 12:00:00+00:00   \n",
       "1524                БЕРЦЫ  111004314 2014-05-05 12:00:00+00:00   \n",
       "1792             Братья Ч  111004414 2014-04-23 12:00:00+00:00   \n",
       "\n",
       "                type                                        film_studio  \\\n",
       "1281  Художественный  АНО содействия развитию кинематографии \"Ангел-...   \n",
       "1448  Художественный                         ООО \"Компания \"АТК-Студио\"   \n",
       "1498  Художественный                        ООО \"Компания \"РЕАЛ-ДАКОТА\"   \n",
       "1524  Художественный                             ООО \"Студия \"Пассажир\"   \n",
       "1792  Художественный                             ООО \"Студия \"Пассажир\"   \n",
       "\n",
       "     production_country                              director  \\\n",
       "1281             Россия                            А.Атанесян   \n",
       "1448             Россия                             А.Якимчук   \n",
       "1498             Россия              Р.Давлетьяров, С.Комаров   \n",
       "1524             Россия  Е.Миндадзе (псевдоним Катя Шагалова)   \n",
       "1792             Россия                              М.Угаров   \n",
       "\n",
       "                                       producer age_restriction  \\\n",
       "1281           А.Атанесян, М.Бабаханов, Р.Бутко           «16+»   \n",
       "1448                                 А.Тютрюмов           «12+»   \n",
       "1498  Р.Давлетьяров, А.Котелевский, А.Олейников           «12+»   \n",
       "1524                                 Л.Антонова           «16+»   \n",
       "1792                     А.Миндадзе, Л.Антонова           «16+»   \n",
       "\n",
       "      refundable_support  nonrefundable_support     budget  \\\n",
       "1281                   0               26500000   79411900   \n",
       "1448                   0               26000000   37142857   \n",
       "1498                   0              107847945  176023490   \n",
       "1524                   0               28000000   40574140   \n",
       "1792                   0               25000000   40015122   \n",
       "\n",
       "           financing_source  ratings              genres  box_office  year  \\\n",
       "1281  Министерство культуры     8.10     драма,мелодрама      365353  2013   \n",
       "1448  Министерство культуры      NaN                 NaN       28140  2014   \n",
       "1498              Фонд кино     5.30  комедия,фантастика    19957031  2013   \n",
       "1524  Министерство культуры     4.20               драма       55917  2014   \n",
       "1792  Министерство культуры     6.40               драма      232100  2014   \n",
       "\n",
       "     main_genre                         main_director  support_part  profit  \n",
       "1281      драма                            А.Атанесян         33.37    0.46  \n",
       "1448          0                             А.Якимчук         70.00    0.08  \n",
       "1498    комедия                         Р.Давлетьяров         61.27   11.34  \n",
       "1524      драма  Е.Миндадзе (псевдоним Катя Шагалова)         69.01    0.14  \n",
       "1792      драма                              М.Угаров         62.48    0.58  "
      ]
     },
     "execution_count": 79,
     "metadata": {},
     "output_type": "execute_result"
    }
   ],
   "source": [
    "filtered_support_data = data.query('budget >= refundable_support + nonrefundable_support != 0 ')\n",
    "filtered_support_data.head()"
   ]
  },
  {
   "cell_type": "code",
   "execution_count": 80,
   "metadata": {
    "id": "W9QKpjUdgFyb"
   },
   "outputs": [
    {
     "data": {
      "image/png": "[encoded data removed]",
      "text/plain": [
       "<Figure size 432x288 with 1 Axes>"
      ]
     },
     "metadata": {
      "needs_background": "light"
     },
     "output_type": "display_data"
    }
   ],
   "source": [
    "(filtered_support_data\n",
    " .pivot_table(index='year',  values='support_part', aggfunc='median')\n",
    " .plot(style='o-', xlabel='года', ylabel='количество фильмов с госсподдержкой', title='Динамика выхода фильмов, получивших господдержку, вышедших с 2015 по 2019 год'))\n",
    "plt.show()"
   ]
  },
  {
   "cell_type": "code",
   "execution_count": 81,
   "metadata": {},
   "outputs": [
    {
     "data": {
      "image/png": "[encoded data removed]",
      "text/plain": [
       "<Figure size 2880x1440 with 1 Axes>"
      ]
     },
     "metadata": {
      "needs_background": "light"
     },
     "output_type": "display_data"
    }
   ],
   "source": [
    "(filtered_support_data\n",
    " .query('main_genre != 0')\n",
    " .pivot_table(index='year', columns='main_genre', values='support_part', aggfunc='median')\n",
    " .plot.bar(figsize=(40,20), xlabel='года', ylabel='количество фильмов с госсподдержкой', title='Оценка по жанрам фильмов, получивших господдержку за период с 2013 по 2019 год '))\n",
    "plt.show()\n"
   ]
  },
  {
   "cell_type": "markdown",
   "metadata": {},
   "source": [
    "- Согласно графику, доля поддержки увеличивалась с 2013 по 2016 год, затем наступал спад до 2017 года, и затем снова подъем к 2018 году. \n",
    "- Увеличение объема финансирования кино с 2013 по 2016 можно объяснить связью с политическими событиями в эти годы, поэтому финансирование российского кино было частью программы по подъему патриотического духа? \n",
    "- Стабильно наблюдаем наибольшее финансирование в жанрах \"драма\", \"детский\", \"фентези\" и \"семейный\". В 2016-2017 годах получают большую поддержку в жанре \"история\", в 2017 поддержка жанра \"военный\"\n"
   ]
  },
  {
   "cell_type": "code",
   "execution_count": 82,
   "metadata": {},
   "outputs": [
    {
     "data": {
      "image/png": "[encoded data removed]",
      "text/plain": [
       "<Figure size 720x360 with 1 Axes>"
      ]
     },
     "metadata": {
      "needs_background": "light"
     },
     "output_type": "display_data"
    }
   ],
   "source": [
    "(filtered_support_data\n",
    ".query('box_office!= 0')\n",
    ".plot(x='support_part', y='profit',style='o',figsize=(10,5),xlabel='процент господдержки', ylabel='процент окупаемости', title='Оценка окупаемости фильмов, получивших госсподдержку' ))\n",
    "plt.show()"
   ]
  },
  {
   "cell_type": "markdown",
   "metadata": {},
   "source": [
    "Согласно графику, большая часть фильмов, финансируемых государством не окупается, так как большинство значений находится на уровне менее 100% выручки. "
   ]
  },
  {
   "cell_type": "markdown",
   "metadata": {},
   "source": [
    "Попробуем посчитать корреляцию в зависимости от объема финансирования и окупаемости."
   ]
  },
  {
   "cell_type": "code",
   "execution_count": 83,
   "metadata": {},
   "outputs": [
    {
     "data": {
      "text/plain": [
       "-0.17093493451994596"
      ]
     },
     "execution_count": 83,
     "metadata": {},
     "output_type": "execute_result"
    }
   ],
   "source": [
    "clear_data= (data.query('budget and box_office!= 0'))\n",
    "clear_data['support_part'].corr(clear_data['profit'])"
   ]
  },
  {
   "cell_type": "markdown",
   "metadata": {},
   "source": [
    "Согласно предоставленным данным, определяется крайне слабая связь между долей финансирования и долей дохода."
   ]
  },
  {
   "cell_type": "markdown",
   "metadata": {},
   "source": [
    "Определим рейтинг фильмов, которые финансируются государством.\n"
   ]
  },
  {
   "cell_type": "code",
   "execution_count": 84,
   "metadata": {},
   "outputs": [
    {
     "data": {
      "image/png": "[encoded data removed]",
      "text/plain": [
       "<Figure size 432x288 with 1 Axes>"
      ]
     },
     "metadata": {
      "needs_background": "light"
     },
     "output_type": "display_data"
    }
   ],
   "source": [
    "sup_part_data = data.query('support_part != 0')\n",
    "sup_part_data['ratings'].plot(kind='hist', xlabel='рейтинг', ylabel='количество фильмов', title='Оценка рейтинга фильмов, получивших госсподдержку')\n",
    "plt.show()"
   ]
  },
  {
   "cell_type": "markdown",
   "metadata": {},
   "source": [
    "Наибольшее количество фильмов с государственной поддержкой имеет рейтинг 6-7. "
   ]
  },
  {
   "cell_type": "markdown",
   "metadata": {},
   "source": [
    "- Доля государственной поддержки увеличивалась с 2013 по 2016 год, затем наступал спад до 2017 года, и затем снова подъем к 2018 году. Увеличение объема финансирования кино с 2013 по 2016 можно объяснить связью с политическими событиями в эти годы, поэтому финансирование российского кино было частью программы по подъему патриотического духа?\n",
    "- Наблюдается наибольшее финансирование в жанрах \"драма\", \"детский\", \"фентези\" и \"семейный\". В 2016-2017 годах получают большую поддержку в жанре \"история\", в 2017 поддержка жанра \"военный\n",
    "- Большая часть фильмов, финансируемых государством не окупается, так как большинство значений находится на уровне менее 100% выручки. Определяется крайне слабая связь между долей финансирования и долей дохода.\n",
    "- Наибольшее количество фильмов с государственной поддержкой имеет рейтинг 6-7. "
   ]
  },
  {
   "cell_type": "markdown",
   "metadata": {
    "id": "V2gYwMcPgFyd"
   },
   "source": [
    "### Шаг 5. Общий вывод"
   ]
  },
  {
   "cell_type": "markdown",
   "metadata": {},
   "source": [
    "#### Исследуя датаферйм были обнаружены следующие ошибки:\n",
    "- В данных определяются пропуски по значениям типа object в столбцах film_studio, production_country, director, producer, genres, ratings.\n",
    "- В столбцах financing_sourse, budget nonrefundable_support refundable_support пропущенные данные связаны с отсутствием поддержки.\n",
    "- Обнаружили лишние пробелы в категориях age_restriction, genres, production_country, type.\n",
    "- Лишние проблелы были удалены из type, film_studio\n",
    "- В колонках budget, refundable_support, nonrefundable_support и box_office отмечается большое количество пропущенных данных (которые мы ранее заменили на 0 для удобства).\n",
    "- В колонках refundable_support и nonrefundable_support объяснить пропуски можно отсутсвием той или иной поддержки, друигим словами, государство могло дать невозвратную чать без возвратной, или возвратную без невозвратной.\n",
    "- Отсутствие значений в колонке box_office можно объяснить двумя причинами, или была допущена ошибка при внесении или выгрузке данных (тк пропущенных значений очень много), либо такие фильмы не вышли в прокат.\n",
    "- Отсутсвующие данные в колонке бюджет скорее всего связаны с ошибкой, которую могли допустить при внесении или выгрузке данных, особенно это заметно в 17 значениях, для которых указана поддержка государства, но не указан бюджет, включающий ее.\n",
    "#### В процессе обработки данных:\n",
    "- Cмержили данные из двух таблиц\n",
    "- Pаменили в количественных переменных nan на 0 для удобства\n",
    "- Были созданы новые столбцы year, main_genre, main_director, support_part, profit\n",
    "- Не были удалены неявные дубликаты, так как они имели разные прокатные удостоверения, что может быть связано с изменением фильма или правообладателя, что считается разными фильмами.\n",
    "- заменили тип данных в столбце show_start_date на datetime\n",
    "#### При анализе данных:\n",
    "- 72% фильмов вышли впрокат в период с 2010 по 2019 год. Так же мы наблюдаем динамику увеличения доли вышедших фильмов в период с 2010 с первым пиком в 2015 году. Отмечаем спад в 2016 и второй пик в 2017 году, хотя общее количество фильмов как раз снижалось в этот год. А вот 2018 год показвает снижение доли, хоть и количество вышедших фильмов увеличилось. \n",
    "- Замечаем резкое различие между средним и медианным значением в сборах. Наиболее вероятно это связано с резкими выбросами по данным о сборах. По медианным значениям видно, что сборы плавно поднимаются в период с 2014 года по 2018.\n",
    "- Наибольшее количество денег в прокате собрали фильмы с ограничением 12+ в 2015 году, но к 2019 году количество выручки снижалось и к 2019 году было одинаковым с фильмами с другими ограничениям, кроме рейтинга 0+\n",
    "- Наблюдается тенденция к повышению сборов у фильмов с ограничениями 6+, 16+ и 18+.\n",
    "- По данным таблицы, количество вырученных с проката фильмов с ограничением 0+ практически не меняется в период с 2015 по 2019 год. Предположительно, это связано с уменьшением возрастных огрничений.\n",
    "#### При анализе данных фильмов с финансовой поддержкой государства:\n",
    "- Доля государственной поддержки увеличивалась с 2013 по 2016 год, затем наступал спад до 2017 года, и затем снова подъем к 2018 году. Увеличение объема финансирования кино с 2013 по 2016 можно объяснить связью с политическими событиями в эти годы, поэтому финансирование российского кино было частью программы по подъему патриотического духа?\n",
    "- Наблюдается наибольшее финансирование в жанрах \"драма\", \"детский\", \"фентези\" и \"семейный\". В 2016-2017 годах получают большую поддержку в жанре \"история\", в 2017 поддержка жанра \"военный\n",
    "- Большая часть фильмов, финансируемых государством не окупается, так как большинство значений находится на уровне менее 100% выручки. Определяется крайне слабая связь между долей финансирования и долей дохода.\n",
    "- Наибольшее количество фильмов с государственной поддержкой имеет рейтинг 6-7.\n",
    "\n"
   ]
  }
 ],
 "metadata": {
  "ExecuteTimeLog": [
   {
    "duration": 537,
    "start_time": "2021-07-07T10:12:08.634Z"
   },
   {
    "duration": 206,
    "start_time": "2021-07-07T10:12:30.191Z"
   },
   {
    "duration": 227,
    "start_time": "2021-07-07T10:12:33.078Z"
   },
   {
    "duration": 153,
    "start_time": "2021-07-07T10:13:42.146Z"
   },
   {
    "duration": 233,
    "start_time": "2021-07-07T10:30:09.252Z"
   },
   {
    "duration": 19,
    "start_time": "2021-07-07T10:30:15.577Z"
   },
   {
    "duration": 18,
    "start_time": "2021-07-07T10:30:57.348Z"
   },
   {
    "duration": 19,
    "start_time": "2021-07-07T10:31:17.452Z"
   },
   {
    "duration": 21,
    "start_time": "2021-07-07T10:31:32.227Z"
   },
   {
    "duration": 27,
    "start_time": "2021-07-07T10:32:06.588Z"
   },
   {
    "duration": 23,
    "start_time": "2021-07-07T10:32:43.645Z"
   },
   {
    "duration": 24,
    "start_time": "2021-07-07T10:33:06.948Z"
   },
   {
    "duration": 7,
    "start_time": "2021-07-07T10:33:28.558Z"
   },
   {
    "duration": 23,
    "start_time": "2021-07-07T10:33:43.761Z"
   },
   {
    "duration": 28,
    "start_time": "2021-07-07T10:34:13.466Z"
   },
   {
    "duration": 23,
    "start_time": "2021-07-07T10:35:56.187Z"
   },
   {
    "duration": 6,
    "start_time": "2021-07-07T10:36:48.182Z"
   },
   {
    "duration": 14,
    "start_time": "2021-07-07T10:37:49.641Z"
   },
   {
    "duration": 6,
    "start_time": "2021-07-07T10:38:06.694Z"
   },
   {
    "duration": 6,
    "start_time": "2021-07-07T10:38:13.493Z"
   },
   {
    "duration": 19,
    "start_time": "2021-07-07T10:38:44.056Z"
   },
   {
    "duration": 186,
    "start_time": "2021-07-07T10:48:35.618Z"
   },
   {
    "duration": 24,
    "start_time": "2021-07-07T10:48:51.498Z"
   },
   {
    "duration": 20,
    "start_time": "2021-07-07T10:48:59.415Z"
   },
   {
    "duration": 20,
    "start_time": "2021-07-07T10:53:02.195Z"
   },
   {
    "duration": 188,
    "start_time": "2021-07-07T10:54:40.486Z"
   },
   {
    "duration": 115,
    "start_time": "2021-07-07T10:54:52.552Z"
   },
   {
    "duration": 214,
    "start_time": "2021-07-07T10:54:56.354Z"
   },
   {
    "duration": 47,
    "start_time": "2021-07-07T10:54:58.282Z"
   },
   {
    "duration": 217,
    "start_time": "2021-07-07T10:59:16.075Z"
   },
   {
    "duration": 51,
    "start_time": "2021-07-07T10:59:16.243Z"
   },
   {
    "duration": 578,
    "start_time": "2021-07-07T10:59:18.774Z"
   },
   {
    "duration": 161,
    "start_time": "2021-07-07T10:59:21.238Z"
   },
   {
    "duration": 59,
    "start_time": "2021-07-07T10:59:21.453Z"
   },
   {
    "duration": 3,
    "start_time": "2021-07-07T11:02:10.786Z"
   },
   {
    "duration": 13,
    "start_time": "2021-07-07T11:07:07.722Z"
   },
   {
    "duration": 26,
    "start_time": "2021-07-07T11:07:17.958Z"
   },
   {
    "duration": 22,
    "start_time": "2021-07-07T11:08:17.939Z"
   },
   {
    "duration": 212,
    "start_time": "2021-07-07T11:08:19.665Z"
   },
   {
    "duration": 21,
    "start_time": "2021-07-07T11:08:29.945Z"
   },
   {
    "duration": 31,
    "start_time": "2021-07-07T11:08:38.899Z"
   },
   {
    "duration": 23,
    "start_time": "2021-07-07T11:08:54.527Z"
   },
   {
    "duration": 8,
    "start_time": "2021-07-07T11:18:55.974Z"
   },
   {
    "duration": 7,
    "start_time": "2021-07-07T11:19:03.639Z"
   },
   {
    "duration": 7,
    "start_time": "2021-07-07T11:19:06.444Z"
   },
   {
    "duration": 578,
    "start_time": "2021-07-07T12:09:59.576Z"
   },
   {
    "duration": 195,
    "start_time": "2021-07-07T12:10:00.156Z"
   },
   {
    "duration": 115,
    "start_time": "2021-07-07T12:10:00.353Z"
   },
   {
    "duration": 3,
    "start_time": "2021-07-07T12:10:00.470Z"
   },
   {
    "duration": 32,
    "start_time": "2021-07-07T12:10:00.474Z"
   },
   {
    "duration": 23,
    "start_time": "2021-07-07T12:10:00.508Z"
   },
   {
    "duration": 19,
    "start_time": "2021-07-07T12:10:00.533Z"
   },
   {
    "duration": 44,
    "start_time": "2021-07-07T12:10:00.553Z"
   },
   {
    "duration": 7,
    "start_time": "2021-07-07T12:10:00.600Z"
   },
   {
    "duration": 7,
    "start_time": "2021-07-07T12:19:45.761Z"
   },
   {
    "duration": 21,
    "start_time": "2021-07-07T12:21:35.482Z"
   },
   {
    "duration": 21,
    "start_time": "2021-07-07T12:29:23.569Z"
   },
   {
    "duration": 525,
    "start_time": "2021-07-07T12:29:44.542Z"
   },
   {
    "duration": 214,
    "start_time": "2021-07-07T12:29:45.069Z"
   },
   {
    "duration": 92,
    "start_time": "2021-07-07T12:29:45.285Z"
   },
   {
    "duration": 3,
    "start_time": "2021-07-07T12:29:45.379Z"
   },
   {
    "duration": 28,
    "start_time": "2021-07-07T12:29:45.384Z"
   },
   {
    "duration": 23,
    "start_time": "2021-07-07T12:29:45.413Z"
   },
   {
    "duration": 21,
    "start_time": "2021-07-07T12:29:45.437Z"
   },
   {
    "duration": 41,
    "start_time": "2021-07-07T12:29:45.460Z"
   },
   {
    "duration": 7,
    "start_time": "2021-07-07T12:29:45.502Z"
   },
   {
    "duration": 20,
    "start_time": "2021-07-07T12:29:45.511Z"
   },
   {
    "duration": 12,
    "start_time": "2021-07-07T12:34:02.800Z"
   },
   {
    "duration": 7,
    "start_time": "2021-07-07T12:35:10.479Z"
   },
   {
    "duration": 8,
    "start_time": "2021-07-07T12:35:22.440Z"
   },
   {
    "duration": 6,
    "start_time": "2021-07-07T12:35:35.649Z"
   },
   {
    "duration": 6,
    "start_time": "2021-07-07T12:35:43.107Z"
   },
   {
    "duration": 22,
    "start_time": "2021-07-07T12:38:03.029Z"
   },
   {
    "duration": 10,
    "start_time": "2021-07-07T12:38:06.592Z"
   },
   {
    "duration": 563,
    "start_time": "2021-07-07T12:38:46.493Z"
   },
   {
    "duration": 265,
    "start_time": "2021-07-07T12:38:47.058Z"
   },
   {
    "duration": 94,
    "start_time": "2021-07-07T12:38:47.325Z"
   },
   {
    "duration": 3,
    "start_time": "2021-07-07T12:38:47.422Z"
   },
   {
    "duration": 30,
    "start_time": "2021-07-07T12:38:47.427Z"
   },
   {
    "duration": 16,
    "start_time": "2021-07-07T12:38:53.305Z"
   },
   {
    "duration": 10,
    "start_time": "2021-07-07T12:38:53.499Z"
   },
   {
    "duration": 8,
    "start_time": "2021-07-07T12:39:48.161Z"
   },
   {
    "duration": 27,
    "start_time": "2021-07-07T12:41:17.629Z"
   },
   {
    "duration": 17,
    "start_time": "2021-07-07T12:41:17.867Z"
   },
   {
    "duration": 21,
    "start_time": "2021-07-07T12:41:19.310Z"
   },
   {
    "duration": 7,
    "start_time": "2021-07-07T12:41:19.544Z"
   },
   {
    "duration": 20,
    "start_time": "2021-07-07T12:41:20.504Z"
   },
   {
    "duration": 554,
    "start_time": "2021-07-07T12:56:23.696Z"
   },
   {
    "duration": 200,
    "start_time": "2021-07-07T12:56:25.234Z"
   },
   {
    "duration": 119,
    "start_time": "2021-07-07T12:56:25.480Z"
   },
   {
    "duration": 4,
    "start_time": "2021-07-07T12:56:25.762Z"
   },
   {
    "duration": 26,
    "start_time": "2021-07-07T12:56:27.172Z"
   },
   {
    "duration": 12,
    "start_time": "2021-07-07T12:56:29.051Z"
   },
   {
    "duration": 10,
    "start_time": "2021-07-07T12:56:29.291Z"
   },
   {
    "duration": 8,
    "start_time": "2021-07-07T12:56:29.623Z"
   },
   {
    "duration": 28,
    "start_time": "2021-07-07T12:56:32.137Z"
   },
   {
    "duration": 19,
    "start_time": "2021-07-07T12:56:39.785Z"
   },
   {
    "duration": 20,
    "start_time": "2021-07-07T12:56:44.297Z"
   },
   {
    "duration": 7,
    "start_time": "2021-07-07T12:56:45.392Z"
   },
   {
    "duration": 23,
    "start_time": "2021-07-07T12:56:46.615Z"
   },
   {
    "duration": 4,
    "start_time": "2021-07-07T12:57:06.625Z"
   },
   {
    "duration": 32,
    "start_time": "2021-07-07T12:57:36.690Z"
   },
   {
    "duration": 18,
    "start_time": "2021-07-07T12:58:00.149Z"
   },
   {
    "duration": 15,
    "start_time": "2021-07-07T12:59:16.793Z"
   },
   {
    "duration": 7,
    "start_time": "2021-07-07T13:19:22.624Z"
   },
   {
    "duration": 6,
    "start_time": "2021-07-07T14:17:33.527Z"
   },
   {
    "duration": 9,
    "start_time": "2021-07-07T14:17:48.409Z"
   },
   {
    "duration": 8,
    "start_time": "2021-07-07T14:20:13.060Z"
   },
   {
    "duration": 8,
    "start_time": "2021-07-07T14:20:37.957Z"
   },
   {
    "duration": 8,
    "start_time": "2021-07-07T14:20:47.470Z"
   },
   {
    "duration": 9,
    "start_time": "2021-07-07T14:20:54.503Z"
   },
   {
    "duration": 10,
    "start_time": "2021-07-07T14:28:57.763Z"
   },
   {
    "duration": 3,
    "start_time": "2021-07-07T14:30:23.377Z"
   },
   {
    "duration": 3,
    "start_time": "2021-07-07T14:30:36.489Z"
   },
   {
    "duration": 103,
    "start_time": "2021-07-07T14:30:52.351Z"
   },
   {
    "duration": 8,
    "start_time": "2021-07-07T14:30:54.763Z"
   },
   {
    "duration": 8,
    "start_time": "2021-07-07T14:31:29.301Z"
   },
   {
    "duration": 13,
    "start_time": "2021-07-07T14:31:44.516Z"
   },
   {
    "duration": 7,
    "start_time": "2021-07-07T14:33:10.972Z"
   },
   {
    "duration": 11,
    "start_time": "2021-07-07T14:33:27.780Z"
   },
   {
    "duration": 8,
    "start_time": "2021-07-07T14:34:44.588Z"
   },
   {
    "duration": 57,
    "start_time": "2021-07-07T14:35:59.042Z"
   },
   {
    "duration": 3,
    "start_time": "2021-07-07T14:36:28.168Z"
   },
   {
    "duration": 5,
    "start_time": "2021-07-07T14:36:46.254Z"
   },
   {
    "duration": 4,
    "start_time": "2021-07-07T14:36:52.714Z"
   },
   {
    "duration": 3,
    "start_time": "2021-07-07T14:36:56.612Z"
   },
   {
    "duration": 4,
    "start_time": "2021-07-07T14:36:57.049Z"
   },
   {
    "duration": 3,
    "start_time": "2021-07-07T14:39:21.214Z"
   },
   {
    "duration": 7,
    "start_time": "2021-07-07T14:39:52.406Z"
   },
   {
    "duration": 11,
    "start_time": "2021-07-07T14:39:58.576Z"
   },
   {
    "duration": 9,
    "start_time": "2021-07-07T14:40:26.301Z"
   },
   {
    "duration": 10,
    "start_time": "2021-07-07T14:40:31.704Z"
   },
   {
    "duration": 11,
    "start_time": "2021-07-07T14:40:36.249Z"
   },
   {
    "duration": 10,
    "start_time": "2021-07-07T14:40:39.783Z"
   },
   {
    "duration": 9,
    "start_time": "2021-07-07T14:40:48.558Z"
   },
   {
    "duration": 10,
    "start_time": "2021-07-07T14:40:57.143Z"
   },
   {
    "duration": 9,
    "start_time": "2021-07-07T14:41:06.074Z"
   },
   {
    "duration": 4324,
    "start_time": "2021-07-07T14:41:22.004Z"
   },
   {
    "duration": 11,
    "start_time": "2021-07-07T14:41:33.392Z"
   },
   {
    "duration": 9,
    "start_time": "2021-07-07T14:41:39.288Z"
   },
   {
    "duration": 569,
    "start_time": "2021-07-07T14:42:14.387Z"
   },
   {
    "duration": 197,
    "start_time": "2021-07-07T14:42:14.959Z"
   },
   {
    "duration": 84,
    "start_time": "2021-07-07T14:42:16.052Z"
   },
   {
    "duration": 4,
    "start_time": "2021-07-07T14:42:16.900Z"
   },
   {
    "duration": 27,
    "start_time": "2021-07-07T14:42:19.898Z"
   },
   {
    "duration": 12,
    "start_time": "2021-07-07T14:42:21.577Z"
   },
   {
    "duration": 9,
    "start_time": "2021-07-07T14:42:21.813Z"
   },
   {
    "duration": 9,
    "start_time": "2021-07-07T14:42:22.569Z"
   },
   {
    "duration": 29,
    "start_time": "2021-07-07T14:42:25.837Z"
   },
   {
    "duration": 20,
    "start_time": "2021-07-07T14:42:27.003Z"
   },
   {
    "duration": 21,
    "start_time": "2021-07-07T14:42:28.767Z"
   },
   {
    "duration": 7,
    "start_time": "2021-07-07T14:42:29.838Z"
   },
   {
    "duration": 4,
    "start_time": "2021-07-07T14:43:25.493Z"
   },
   {
    "duration": 7,
    "start_time": "2021-07-07T14:43:26.573Z"
   },
   {
    "duration": 10,
    "start_time": "2021-07-07T14:43:31.639Z"
   },
   {
    "duration": 9,
    "start_time": "2021-07-07T14:43:32.046Z"
   },
   {
    "duration": 10,
    "start_time": "2021-07-07T14:43:33.301Z"
   },
   {
    "duration": 12,
    "start_time": "2021-07-07T14:43:33.658Z"
   },
   {
    "duration": 8,
    "start_time": "2021-07-07T14:43:34.552Z"
   },
   {
    "duration": 9,
    "start_time": "2021-07-07T14:43:35.058Z"
   },
   {
    "duration": 12,
    "start_time": "2021-07-07T14:43:35.914Z"
   },
   {
    "duration": 17,
    "start_time": "2021-07-07T14:45:34.368Z"
   },
   {
    "duration": 512,
    "start_time": "2021-07-07T14:51:58.236Z"
   },
   {
    "duration": 223,
    "start_time": "2021-07-07T14:51:58.750Z"
   },
   {
    "duration": 93,
    "start_time": "2021-07-07T14:51:58.977Z"
   },
   {
    "duration": 4,
    "start_time": "2021-07-07T14:51:59.071Z"
   },
   {
    "duration": 37,
    "start_time": "2021-07-07T14:51:59.077Z"
   },
   {
    "duration": 18,
    "start_time": "2021-07-07T14:51:59.116Z"
   },
   {
    "duration": 10,
    "start_time": "2021-07-07T14:51:59.137Z"
   },
   {
    "duration": 8,
    "start_time": "2021-07-07T14:51:59.149Z"
   },
   {
    "duration": 54,
    "start_time": "2021-07-07T14:51:59.158Z"
   },
   {
    "duration": 18,
    "start_time": "2021-07-07T14:51:59.213Z"
   },
   {
    "duration": 22,
    "start_time": "2021-07-07T14:51:59.232Z"
   },
   {
    "duration": 36,
    "start_time": "2021-07-07T14:51:59.255Z"
   },
   {
    "duration": 7,
    "start_time": "2021-07-07T14:51:59.293Z"
   },
   {
    "duration": 10,
    "start_time": "2021-07-07T14:51:59.302Z"
   },
   {
    "duration": 9,
    "start_time": "2021-07-07T14:51:59.313Z"
   },
   {
    "duration": 11,
    "start_time": "2021-07-07T14:51:59.324Z"
   },
   {
    "duration": 8,
    "start_time": "2021-07-07T14:51:59.337Z"
   },
   {
    "duration": 46,
    "start_time": "2021-07-07T14:51:59.347Z"
   },
   {
    "duration": 22,
    "start_time": "2021-07-07T14:51:59.395Z"
   },
   {
    "duration": 24,
    "start_time": "2021-07-07T14:57:32.911Z"
   },
   {
    "duration": 7,
    "start_time": "2021-07-07T14:58:22.070Z"
   },
   {
    "duration": 4,
    "start_time": "2021-07-07T14:59:11.239Z"
   },
   {
    "duration": 25,
    "start_time": "2021-07-07T15:07:22.208Z"
   },
   {
    "duration": 16,
    "start_time": "2021-07-07T15:08:25.560Z"
   },
   {
    "duration": 15,
    "start_time": "2021-07-07T15:08:40.647Z"
   },
   {
    "duration": 14,
    "start_time": "2021-07-07T15:08:46.669Z"
   },
   {
    "duration": 533,
    "start_time": "2021-07-07T15:18:07.440Z"
   },
   {
    "duration": 173,
    "start_time": "2021-07-07T15:18:07.974Z"
   },
   {
    "duration": 84,
    "start_time": "2021-07-07T15:18:08.149Z"
   },
   {
    "duration": 3,
    "start_time": "2021-07-07T15:18:08.235Z"
   },
   {
    "duration": 30,
    "start_time": "2021-07-07T15:18:08.240Z"
   },
   {
    "duration": 22,
    "start_time": "2021-07-07T15:18:08.272Z"
   },
   {
    "duration": 11,
    "start_time": "2021-07-07T15:18:08.295Z"
   },
   {
    "duration": 11,
    "start_time": "2021-07-07T15:18:08.309Z"
   },
   {
    "duration": 40,
    "start_time": "2021-07-07T15:18:08.322Z"
   },
   {
    "duration": 42,
    "start_time": "2021-07-07T15:18:08.364Z"
   },
   {
    "duration": 22,
    "start_time": "2021-07-07T15:18:08.408Z"
   },
   {
    "duration": 5,
    "start_time": "2021-07-07T15:18:08.432Z"
   },
   {
    "duration": 13,
    "start_time": "2021-07-07T15:18:08.439Z"
   },
   {
    "duration": 9,
    "start_time": "2021-07-07T15:18:08.454Z"
   },
   {
    "duration": 32,
    "start_time": "2021-07-07T15:18:08.465Z"
   },
   {
    "duration": 10,
    "start_time": "2021-07-07T15:18:08.501Z"
   },
   {
    "duration": 7,
    "start_time": "2021-07-07T15:18:08.513Z"
   },
   {
    "duration": 11,
    "start_time": "2021-07-07T15:18:08.521Z"
   },
   {
    "duration": 17,
    "start_time": "2021-07-07T15:18:08.534Z"
   },
   {
    "duration": 44,
    "start_time": "2021-07-07T15:18:08.553Z"
   },
   {
    "duration": 22,
    "start_time": "2021-07-07T15:18:08.599Z"
   },
   {
    "duration": 61,
    "start_time": "2021-07-07T15:18:08.622Z"
   },
   {
    "duration": 7,
    "start_time": "2021-07-07T15:18:39.457Z"
   },
   {
    "duration": 5,
    "start_time": "2021-07-07T16:05:17.020Z"
   },
   {
    "duration": 5,
    "start_time": "2021-07-07T16:51:28.794Z"
   },
   {
    "duration": 546,
    "start_time": "2021-07-07T16:52:26.306Z"
   },
   {
    "duration": 203,
    "start_time": "2021-07-07T16:52:27.523Z"
   },
   {
    "duration": 85,
    "start_time": "2021-07-07T16:52:27.736Z"
   },
   {
    "duration": 4,
    "start_time": "2021-07-07T16:52:27.899Z"
   },
   {
    "duration": 25,
    "start_time": "2021-07-07T16:52:28.674Z"
   },
   {
    "duration": 8,
    "start_time": "2021-07-07T16:52:32.956Z"
   },
   {
    "duration": 18,
    "start_time": "2021-07-07T16:52:35.616Z"
   },
   {
    "duration": 6,
    "start_time": "2021-07-07T16:52:36.913Z"
   },
   {
    "duration": 11,
    "start_time": "2021-07-07T16:52:40.258Z"
   },
   {
    "duration": 10,
    "start_time": "2021-07-07T16:52:46.251Z"
   },
   {
    "duration": 8,
    "start_time": "2021-07-07T16:52:47.182Z"
   },
   {
    "duration": 27,
    "start_time": "2021-07-07T16:53:20.391Z"
   },
   {
    "duration": 20,
    "start_time": "2021-07-07T16:53:22.022Z"
   },
   {
    "duration": 23,
    "start_time": "2021-07-07T16:53:23.690Z"
   },
   {
    "duration": 8,
    "start_time": "2021-07-07T16:53:24.261Z"
   },
   {
    "duration": 4,
    "start_time": "2021-07-07T16:53:38.733Z"
   },
   {
    "duration": 7,
    "start_time": "2021-07-07T16:53:40.445Z"
   },
   {
    "duration": 11,
    "start_time": "2021-07-07T16:53:41.348Z"
   },
   {
    "duration": 13,
    "start_time": "2021-07-07T16:53:45.250Z"
   },
   {
    "duration": 12,
    "start_time": "2021-07-07T16:53:45.467Z"
   },
   {
    "duration": 4,
    "start_time": "2021-07-07T16:55:32.704Z"
   },
   {
    "duration": 12,
    "start_time": "2021-07-07T16:55:49.012Z"
   },
   {
    "duration": 18,
    "start_time": "2021-07-07T16:55:49.547Z"
   },
   {
    "duration": 611,
    "start_time": "2021-07-07T16:58:35.156Z"
   },
   {
    "duration": 200,
    "start_time": "2021-07-07T16:58:35.770Z"
   },
   {
    "duration": 86,
    "start_time": "2021-07-07T16:58:35.972Z"
   },
   {
    "duration": 3,
    "start_time": "2021-07-07T16:58:36.060Z"
   },
   {
    "duration": 27,
    "start_time": "2021-07-07T16:58:36.065Z"
   },
   {
    "duration": 8,
    "start_time": "2021-07-07T16:58:36.094Z"
   },
   {
    "duration": 17,
    "start_time": "2021-07-07T16:58:36.103Z"
   },
   {
    "duration": 5,
    "start_time": "2021-07-07T16:58:36.123Z"
   },
   {
    "duration": 11,
    "start_time": "2021-07-07T16:58:36.130Z"
   },
   {
    "duration": 7,
    "start_time": "2021-07-07T16:58:36.143Z"
   },
   {
    "duration": 37,
    "start_time": "2021-07-07T16:58:36.152Z"
   },
   {
    "duration": 27,
    "start_time": "2021-07-07T16:58:36.191Z"
   },
   {
    "duration": 19,
    "start_time": "2021-07-07T16:58:36.219Z"
   },
   {
    "duration": 49,
    "start_time": "2021-07-07T16:58:36.240Z"
   },
   {
    "duration": 6,
    "start_time": "2021-07-07T16:58:36.291Z"
   },
   {
    "duration": 3,
    "start_time": "2021-07-07T16:58:36.299Z"
   },
   {
    "duration": 13,
    "start_time": "2021-07-07T16:58:36.304Z"
   },
   {
    "duration": 10,
    "start_time": "2021-07-07T16:58:36.319Z"
   },
   {
    "duration": 10,
    "start_time": "2021-07-07T16:58:36.331Z"
   },
   {
    "duration": 44,
    "start_time": "2021-07-07T16:58:36.343Z"
   },
   {
    "duration": 4,
    "start_time": "2021-07-07T16:58:36.388Z"
   },
   {
    "duration": 13,
    "start_time": "2021-07-07T16:58:36.394Z"
   },
   {
    "duration": 16,
    "start_time": "2021-07-07T16:58:36.410Z"
   },
   {
    "duration": 8,
    "start_time": "2021-07-07T17:02:31.629Z"
   },
   {
    "duration": 8,
    "start_time": "2021-07-07T17:02:34.308Z"
   },
   {
    "duration": 6,
    "start_time": "2021-07-07T17:05:13.483Z"
   },
   {
    "duration": 17,
    "start_time": "2021-07-07T17:05:20.606Z"
   },
   {
    "duration": 7,
    "start_time": "2021-07-07T17:05:34.638Z"
   },
   {
    "duration": 3,
    "start_time": "2021-07-07T17:06:31.883Z"
   },
   {
    "duration": 570,
    "start_time": "2021-07-07T17:06:37.165Z"
   },
   {
    "duration": 174,
    "start_time": "2021-07-07T17:06:37.737Z"
   },
   {
    "duration": 47,
    "start_time": "2021-07-07T17:06:37.913Z"
   },
   {
    "duration": 3,
    "start_time": "2021-07-07T17:06:37.962Z"
   },
   {
    "duration": 27,
    "start_time": "2021-07-07T17:06:37.967Z"
   },
   {
    "duration": 7,
    "start_time": "2021-07-07T17:06:37.996Z"
   },
   {
    "duration": 16,
    "start_time": "2021-07-07T17:06:38.005Z"
   },
   {
    "duration": 6,
    "start_time": "2021-07-07T17:06:38.024Z"
   },
   {
    "duration": 12,
    "start_time": "2021-07-07T17:06:38.031Z"
   },
   {
    "duration": 41,
    "start_time": "2021-07-07T17:06:38.045Z"
   },
   {
    "duration": 8,
    "start_time": "2021-07-07T17:06:38.088Z"
   },
   {
    "duration": 26,
    "start_time": "2021-07-07T17:06:38.098Z"
   },
   {
    "duration": 17,
    "start_time": "2021-07-07T17:06:38.126Z"
   },
   {
    "duration": 43,
    "start_time": "2021-07-07T17:06:38.144Z"
   },
   {
    "duration": 6,
    "start_time": "2021-07-07T17:06:38.188Z"
   },
   {
    "duration": 5,
    "start_time": "2021-07-07T17:06:38.195Z"
   },
   {
    "duration": 9,
    "start_time": "2021-07-07T17:06:38.201Z"
   },
   {
    "duration": 12,
    "start_time": "2021-07-07T17:06:38.212Z"
   },
   {
    "duration": 11,
    "start_time": "2021-07-07T17:06:38.226Z"
   },
   {
    "duration": 47,
    "start_time": "2021-07-07T17:06:38.239Z"
   },
   {
    "duration": 4,
    "start_time": "2021-07-07T17:06:38.288Z"
   },
   {
    "duration": 13,
    "start_time": "2021-07-07T17:06:38.293Z"
   },
   {
    "duration": 5,
    "start_time": "2021-07-07T17:06:38.309Z"
   },
   {
    "duration": 18,
    "start_time": "2021-07-07T17:06:38.325Z"
   },
   {
    "duration": 20,
    "start_time": "2021-07-07T17:07:02.805Z"
   },
   {
    "duration": 19,
    "start_time": "2021-07-07T17:07:08.527Z"
   },
   {
    "duration": 19,
    "start_time": "2021-07-07T17:07:12.758Z"
   },
   {
    "duration": 22,
    "start_time": "2021-07-07T17:07:17.497Z"
   },
   {
    "duration": 19,
    "start_time": "2021-07-07T17:07:19.645Z"
   },
   {
    "duration": 10,
    "start_time": "2021-07-07T17:07:34.239Z"
   },
   {
    "duration": 17,
    "start_time": "2021-07-07T17:07:54.144Z"
   },
   {
    "duration": 14,
    "start_time": "2021-07-07T17:08:14.357Z"
   },
   {
    "duration": 616,
    "start_time": "2021-07-07T17:08:45.254Z"
   },
   {
    "duration": 178,
    "start_time": "2021-07-07T17:08:45.872Z"
   },
   {
    "duration": 60,
    "start_time": "2021-07-07T17:08:46.054Z"
   },
   {
    "duration": 3,
    "start_time": "2021-07-07T17:08:46.116Z"
   },
   {
    "duration": 26,
    "start_time": "2021-07-07T17:08:46.121Z"
   },
   {
    "duration": 7,
    "start_time": "2021-07-07T17:08:46.149Z"
   },
   {
    "duration": 17,
    "start_time": "2021-07-07T17:08:46.158Z"
   },
   {
    "duration": 14,
    "start_time": "2021-07-07T17:08:46.176Z"
   },
   {
    "duration": 17,
    "start_time": "2021-07-07T17:08:46.193Z"
   },
   {
    "duration": 9,
    "start_time": "2021-07-07T17:08:46.211Z"
   },
   {
    "duration": 21,
    "start_time": "2021-07-07T17:08:46.221Z"
   },
   {
    "duration": 49,
    "start_time": "2021-07-07T17:08:46.244Z"
   },
   {
    "duration": 24,
    "start_time": "2021-07-07T17:08:46.295Z"
   },
   {
    "duration": 22,
    "start_time": "2021-07-07T17:08:46.321Z"
   },
   {
    "duration": 6,
    "start_time": "2021-07-07T17:08:46.345Z"
   },
   {
    "duration": 5,
    "start_time": "2021-07-07T17:08:46.353Z"
   },
   {
    "duration": 13,
    "start_time": "2021-07-07T17:08:46.386Z"
   },
   {
    "duration": 12,
    "start_time": "2021-07-07T17:08:46.402Z"
   },
   {
    "duration": 10,
    "start_time": "2021-07-07T17:08:46.415Z"
   },
   {
    "duration": 7,
    "start_time": "2021-07-07T17:08:46.427Z"
   },
   {
    "duration": 8,
    "start_time": "2021-07-07T17:08:46.435Z"
   },
   {
    "duration": 68,
    "start_time": "2021-07-07T17:08:46.446Z"
   },
   {
    "duration": 13,
    "start_time": "2021-07-07T17:08:46.516Z"
   },
   {
    "duration": 78,
    "start_time": "2021-07-07T17:08:46.530Z"
   },
   {
    "duration": 40,
    "start_time": "2021-07-07T17:09:08.185Z"
   },
   {
    "duration": 16,
    "start_time": "2021-07-07T17:09:19.324Z"
   },
   {
    "duration": 21,
    "start_time": "2021-07-07T17:09:23.290Z"
   },
   {
    "duration": 13,
    "start_time": "2021-07-07T17:09:54.812Z"
   },
   {
    "duration": 13,
    "start_time": "2021-07-07T17:10:02.039Z"
   },
   {
    "duration": 10,
    "start_time": "2021-07-07T17:10:29.632Z"
   },
   {
    "duration": 13,
    "start_time": "2021-07-07T17:10:52.372Z"
   },
   {
    "duration": 13,
    "start_time": "2021-07-07T17:11:17.270Z"
   },
   {
    "duration": 13,
    "start_time": "2021-07-07T17:14:59.284Z"
   },
   {
    "duration": 547,
    "start_time": "2021-07-07T17:18:52.403Z"
   },
   {
    "duration": 163,
    "start_time": "2021-07-07T17:18:52.952Z"
   },
   {
    "duration": 44,
    "start_time": "2021-07-07T17:18:53.117Z"
   },
   {
    "duration": 3,
    "start_time": "2021-07-07T17:18:53.162Z"
   },
   {
    "duration": 26,
    "start_time": "2021-07-07T17:18:53.167Z"
   },
   {
    "duration": 6,
    "start_time": "2021-07-07T17:18:53.195Z"
   },
   {
    "duration": 15,
    "start_time": "2021-07-07T17:18:53.203Z"
   },
   {
    "duration": 5,
    "start_time": "2021-07-07T17:18:53.220Z"
   },
   {
    "duration": 11,
    "start_time": "2021-07-07T17:18:53.228Z"
   },
   {
    "duration": 9,
    "start_time": "2021-07-07T17:18:53.241Z"
   },
   {
    "duration": 41,
    "start_time": "2021-07-07T17:18:53.252Z"
   },
   {
    "duration": 33,
    "start_time": "2021-07-07T17:18:53.295Z"
   },
   {
    "duration": 19,
    "start_time": "2021-07-07T17:18:53.330Z"
   },
   {
    "duration": 49,
    "start_time": "2021-07-07T17:18:53.350Z"
   },
   {
    "duration": 5,
    "start_time": "2021-07-07T17:18:53.401Z"
   },
   {
    "duration": 5,
    "start_time": "2021-07-07T17:18:53.408Z"
   },
   {
    "duration": 11,
    "start_time": "2021-07-07T17:18:53.414Z"
   },
   {
    "duration": 9,
    "start_time": "2021-07-07T17:18:53.427Z"
   },
   {
    "duration": 10,
    "start_time": "2021-07-07T17:18:53.437Z"
   },
   {
    "duration": 39,
    "start_time": "2021-07-07T17:18:53.448Z"
   },
   {
    "duration": 26,
    "start_time": "2021-07-07T17:18:55.799Z"
   },
   {
    "duration": 598,
    "start_time": "2021-07-07T17:20:17.862Z"
   },
   {
    "duration": 161,
    "start_time": "2021-07-07T17:20:18.462Z"
   },
   {
    "duration": 45,
    "start_time": "2021-07-07T17:20:18.626Z"
   },
   {
    "duration": 4,
    "start_time": "2021-07-07T17:20:18.673Z"
   },
   {
    "duration": 38,
    "start_time": "2021-07-07T17:20:26.877Z"
   },
   {
    "duration": 7,
    "start_time": "2021-07-07T17:20:37.405Z"
   },
   {
    "duration": 19,
    "start_time": "2021-07-07T17:20:51.534Z"
   },
   {
    "duration": 5,
    "start_time": "2021-07-07T17:20:57.228Z"
   },
   {
    "duration": 7,
    "start_time": "2021-07-07T17:21:08.235Z"
   },
   {
    "duration": 19,
    "start_time": "2021-07-07T17:21:42.158Z"
   },
   {
    "duration": 14,
    "start_time": "2021-07-07T17:21:50.225Z"
   },
   {
    "duration": 22,
    "start_time": "2021-07-07T17:22:54.104Z"
   },
   {
    "duration": 5,
    "start_time": "2021-07-07T17:22:56.371Z"
   },
   {
    "duration": 14,
    "start_time": "2021-07-07T17:22:58.316Z"
   },
   {
    "duration": 5,
    "start_time": "2021-07-07T17:22:58.493Z"
   },
   {
    "duration": 35,
    "start_time": "2021-07-07T17:22:59.666Z"
   },
   {
    "duration": 6,
    "start_time": "2021-07-07T17:23:02.410Z"
   },
   {
    "duration": 611,
    "start_time": "2021-07-07T17:24:59.664Z"
   },
   {
    "duration": 178,
    "start_time": "2021-07-07T17:25:01.945Z"
   },
   {
    "duration": 47,
    "start_time": "2021-07-07T17:25:02.125Z"
   },
   {
    "duration": 2,
    "start_time": "2021-07-07T17:25:07.903Z"
   },
   {
    "duration": 254,
    "start_time": "2021-07-07T17:25:08.232Z"
   },
   {
    "duration": 182,
    "start_time": "2021-07-07T17:25:08.671Z"
   },
   {
    "duration": 6,
    "start_time": "2021-07-07T17:25:13.104Z"
   },
   {
    "duration": 36,
    "start_time": "2021-07-07T17:25:13.662Z"
   },
   {
    "duration": 7,
    "start_time": "2021-07-07T17:25:14.528Z"
   },
   {
    "duration": 24,
    "start_time": "2021-07-07T17:25:27.982Z"
   },
   {
    "duration": 3,
    "start_time": "2021-07-07T17:25:48.982Z"
   },
   {
    "duration": 165,
    "start_time": "2021-07-07T17:25:48.987Z"
   },
   {
    "duration": 50,
    "start_time": "2021-07-07T17:25:49.154Z"
   },
   {
    "duration": 4,
    "start_time": "2021-07-07T17:25:49.206Z"
   },
   {
    "duration": 26,
    "start_time": "2021-07-07T17:25:49.212Z"
   },
   {
    "duration": 7,
    "start_time": "2021-07-07T17:25:49.240Z"
   },
   {
    "duration": 16,
    "start_time": "2021-07-07T17:25:49.249Z"
   },
   {
    "duration": 22,
    "start_time": "2021-07-07T17:25:49.266Z"
   },
   {
    "duration": 16,
    "start_time": "2021-07-07T17:25:49.291Z"
   },
   {
    "duration": 9,
    "start_time": "2021-07-07T17:25:49.309Z"
   },
   {
    "duration": 7,
    "start_time": "2021-07-07T17:25:49.319Z"
   },
   {
    "duration": 28,
    "start_time": "2021-07-07T17:25:49.328Z"
   },
   {
    "duration": 44,
    "start_time": "2021-07-07T17:25:49.357Z"
   },
   {
    "duration": 22,
    "start_time": "2021-07-07T17:25:49.403Z"
   },
   {
    "duration": 7,
    "start_time": "2021-07-07T17:25:49.427Z"
   },
   {
    "duration": 3,
    "start_time": "2021-07-07T17:25:49.436Z"
   },
   {
    "duration": 44,
    "start_time": "2021-07-07T17:25:49.441Z"
   },
   {
    "duration": 12,
    "start_time": "2021-07-07T17:25:49.488Z"
   },
   {
    "duration": 13,
    "start_time": "2021-07-07T17:25:49.502Z"
   },
   {
    "duration": 10,
    "start_time": "2021-07-07T17:25:49.516Z"
   },
   {
    "duration": 62,
    "start_time": "2021-07-07T17:25:49.527Z"
   },
   {
    "duration": 26,
    "start_time": "2021-07-07T17:26:51.809Z"
   },
   {
    "duration": 26,
    "start_time": "2021-07-07T17:26:55.759Z"
   },
   {
    "duration": 26,
    "start_time": "2021-07-07T17:27:04.501Z"
   },
   {
    "duration": 25,
    "start_time": "2021-07-07T17:28:24.859Z"
   },
   {
    "duration": 21,
    "start_time": "2021-07-07T17:28:55.250Z"
   },
   {
    "duration": 21,
    "start_time": "2021-07-07T17:28:58.885Z"
   },
   {
    "duration": 7,
    "start_time": "2021-07-07T17:45:40.972Z"
   },
   {
    "duration": 13,
    "start_time": "2021-07-07T17:45:42.529Z"
   },
   {
    "duration": 27,
    "start_time": "2021-07-07T17:45:51.026Z"
   },
   {
    "duration": 518,
    "start_time": "2021-07-07T17:46:15.532Z"
   },
   {
    "duration": 235,
    "start_time": "2021-07-07T17:46:16.053Z"
   },
   {
    "duration": 80,
    "start_time": "2021-07-07T17:46:16.292Z"
   },
   {
    "duration": 5,
    "start_time": "2021-07-07T17:46:16.373Z"
   },
   {
    "duration": 26,
    "start_time": "2021-07-07T17:46:16.380Z"
   },
   {
    "duration": 7,
    "start_time": "2021-07-07T17:46:16.408Z"
   },
   {
    "duration": 16,
    "start_time": "2021-07-07T17:46:16.418Z"
   },
   {
    "duration": 5,
    "start_time": "2021-07-07T17:46:16.436Z"
   },
   {
    "duration": 13,
    "start_time": "2021-07-07T17:46:16.442Z"
   },
   {
    "duration": 35,
    "start_time": "2021-07-07T17:46:16.456Z"
   },
   {
    "duration": 8,
    "start_time": "2021-07-07T17:46:16.493Z"
   },
   {
    "duration": 28,
    "start_time": "2021-07-07T17:46:16.502Z"
   },
   {
    "duration": 17,
    "start_time": "2021-07-07T17:46:16.532Z"
   },
   {
    "duration": 44,
    "start_time": "2021-07-07T17:46:16.551Z"
   },
   {
    "duration": 6,
    "start_time": "2021-07-07T17:46:16.597Z"
   },
   {
    "duration": 4,
    "start_time": "2021-07-07T17:46:16.605Z"
   },
   {
    "duration": 9,
    "start_time": "2021-07-07T17:46:16.610Z"
   },
   {
    "duration": 9,
    "start_time": "2021-07-07T17:46:16.621Z"
   },
   {
    "duration": 10,
    "start_time": "2021-07-07T17:46:16.632Z"
   },
   {
    "duration": 43,
    "start_time": "2021-07-07T17:46:16.644Z"
   },
   {
    "duration": 26,
    "start_time": "2021-07-07T17:46:16.689Z"
   },
   {
    "duration": 19,
    "start_time": "2021-07-07T17:46:16.718Z"
   },
   {
    "duration": 8,
    "start_time": "2021-07-07T17:46:16.738Z"
   },
   {
    "duration": 43,
    "start_time": "2021-07-07T17:46:16.747Z"
   },
   {
    "duration": 19,
    "start_time": "2021-07-07T17:46:16.791Z"
   },
   {
    "duration": 9,
    "start_time": "2021-07-07T17:46:16.812Z"
   },
   {
    "duration": 60,
    "start_time": "2021-07-07T17:46:16.822Z"
   },
   {
    "duration": -8,
    "start_time": "2021-07-07T17:46:16.892Z"
   },
   {
    "duration": 12,
    "start_time": "2021-07-07T17:48:47.707Z"
   },
   {
    "duration": 553,
    "start_time": "2021-07-07T18:10:09.350Z"
   },
   {
    "duration": 230,
    "start_time": "2021-07-07T18:10:09.905Z"
   },
   {
    "duration": 97,
    "start_time": "2021-07-07T18:10:10.137Z"
   },
   {
    "duration": 5,
    "start_time": "2021-07-07T18:10:10.236Z"
   },
   {
    "duration": 29,
    "start_time": "2021-07-07T18:10:10.242Z"
   },
   {
    "duration": 7,
    "start_time": "2021-07-07T18:10:10.272Z"
   },
   {
    "duration": 15,
    "start_time": "2021-07-07T18:10:10.281Z"
   },
   {
    "duration": 4,
    "start_time": "2021-07-07T18:10:10.299Z"
   },
   {
    "duration": 14,
    "start_time": "2021-07-07T18:10:10.305Z"
   },
   {
    "duration": 8,
    "start_time": "2021-07-07T18:10:10.321Z"
   },
   {
    "duration": 8,
    "start_time": "2021-07-07T18:10:10.331Z"
   },
   {
    "duration": 56,
    "start_time": "2021-07-07T18:10:10.341Z"
   },
   {
    "duration": 19,
    "start_time": "2021-07-07T18:10:10.399Z"
   },
   {
    "duration": 23,
    "start_time": "2021-07-07T18:10:10.419Z"
   },
   {
    "duration": 6,
    "start_time": "2021-07-07T18:10:10.444Z"
   },
   {
    "duration": 9,
    "start_time": "2021-07-07T18:10:10.451Z"
   },
   {
    "duration": 30,
    "start_time": "2021-07-07T18:10:10.462Z"
   },
   {
    "duration": 9,
    "start_time": "2021-07-07T18:10:10.494Z"
   },
   {
    "duration": 14,
    "start_time": "2021-07-07T18:10:10.505Z"
   },
   {
    "duration": 7,
    "start_time": "2021-07-07T18:10:10.521Z"
   },
   {
    "duration": 26,
    "start_time": "2021-07-07T18:10:10.530Z"
   },
   {
    "duration": 44,
    "start_time": "2021-07-07T18:10:10.558Z"
   },
   {
    "duration": 7,
    "start_time": "2021-07-07T18:10:10.605Z"
   },
   {
    "duration": 11,
    "start_time": "2021-07-07T18:10:10.614Z"
   },
   {
    "duration": 19,
    "start_time": "2021-07-07T18:10:10.626Z"
   },
   {
    "duration": 44,
    "start_time": "2021-07-07T18:10:10.646Z"
   },
   {
    "duration": 516,
    "start_time": "2021-07-07T18:14:00.826Z"
   },
   {
    "duration": 230,
    "start_time": "2021-07-07T18:14:01.344Z"
   },
   {
    "duration": 105,
    "start_time": "2021-07-07T18:14:01.576Z"
   },
   {
    "duration": 5,
    "start_time": "2021-07-07T18:14:01.683Z"
   },
   {
    "duration": 46,
    "start_time": "2021-07-07T18:14:01.690Z"
   },
   {
    "duration": 7,
    "start_time": "2021-07-07T18:14:01.738Z"
   },
   {
    "duration": 20,
    "start_time": "2021-07-07T18:14:01.747Z"
   },
   {
    "duration": 16,
    "start_time": "2021-07-07T18:14:01.769Z"
   },
   {
    "duration": 14,
    "start_time": "2021-07-07T18:14:01.787Z"
   },
   {
    "duration": 15,
    "start_time": "2021-07-07T18:14:01.803Z"
   },
   {
    "duration": 12,
    "start_time": "2021-07-07T18:14:01.820Z"
   },
   {
    "duration": 35,
    "start_time": "2021-07-07T18:14:01.833Z"
   },
   {
    "duration": 31,
    "start_time": "2021-07-07T18:14:01.869Z"
   },
   {
    "duration": 37,
    "start_time": "2021-07-07T18:14:01.902Z"
   },
   {
    "duration": 8,
    "start_time": "2021-07-07T18:14:01.942Z"
   },
   {
    "duration": 16,
    "start_time": "2021-07-07T18:14:01.952Z"
   },
   {
    "duration": 13,
    "start_time": "2021-07-07T18:14:01.970Z"
   },
   {
    "duration": 32,
    "start_time": "2021-07-07T18:14:01.985Z"
   },
   {
    "duration": 11,
    "start_time": "2021-07-07T18:14:02.019Z"
   },
   {
    "duration": 22,
    "start_time": "2021-07-07T18:14:02.031Z"
   },
   {
    "duration": 27,
    "start_time": "2021-07-07T18:14:02.055Z"
   },
   {
    "duration": 18,
    "start_time": "2021-07-07T18:14:02.084Z"
   },
   {
    "duration": 18,
    "start_time": "2021-07-07T18:14:02.106Z"
   },
   {
    "duration": 11,
    "start_time": "2021-07-07T18:14:02.126Z"
   },
   {
    "duration": 21,
    "start_time": "2021-07-07T18:14:02.138Z"
   },
   {
    "duration": 32,
    "start_time": "2021-07-07T18:14:02.161Z"
   },
   {
    "duration": 28,
    "start_time": "2021-07-07T18:14:44.295Z"
   },
   {
    "duration": 6,
    "start_time": "2021-07-07T18:15:05.834Z"
   },
   {
    "duration": 511,
    "start_time": "2021-07-07T18:15:41.541Z"
   },
   {
    "duration": 183,
    "start_time": "2021-07-07T18:15:42.054Z"
   },
   {
    "duration": 50,
    "start_time": "2021-07-07T18:15:42.239Z"
   },
   {
    "duration": 5,
    "start_time": "2021-07-07T18:15:42.291Z"
   },
   {
    "duration": 48,
    "start_time": "2021-07-07T18:15:42.297Z"
   },
   {
    "duration": 8,
    "start_time": "2021-07-07T18:15:42.346Z"
   },
   {
    "duration": 17,
    "start_time": "2021-07-07T18:15:42.356Z"
   },
   {
    "duration": 15,
    "start_time": "2021-07-07T18:15:42.375Z"
   },
   {
    "duration": 12,
    "start_time": "2021-07-07T18:15:42.392Z"
   },
   {
    "duration": 7,
    "start_time": "2021-07-07T18:15:42.406Z"
   },
   {
    "duration": 7,
    "start_time": "2021-07-07T18:15:42.415Z"
   },
   {
    "duration": 29,
    "start_time": "2021-07-07T18:15:42.423Z"
   },
   {
    "duration": 43,
    "start_time": "2021-07-07T18:15:42.453Z"
   },
   {
    "duration": 18,
    "start_time": "2021-07-07T18:15:42.497Z"
   },
   {
    "duration": 6,
    "start_time": "2021-07-07T18:15:42.516Z"
   },
   {
    "duration": 3,
    "start_time": "2021-07-07T18:15:42.523Z"
   },
   {
    "duration": 18,
    "start_time": "2021-07-07T18:15:42.528Z"
   },
   {
    "duration": 10,
    "start_time": "2021-07-07T18:15:42.547Z"
   },
   {
    "duration": 36,
    "start_time": "2021-07-07T18:15:42.559Z"
   },
   {
    "duration": 8,
    "start_time": "2021-07-07T18:15:42.597Z"
   },
   {
    "duration": 28,
    "start_time": "2021-07-07T18:15:42.606Z"
   },
   {
    "duration": 52,
    "start_time": "2021-07-07T18:15:42.635Z"
   },
   {
    "duration": 7,
    "start_time": "2021-07-07T18:15:42.690Z"
   },
   {
    "duration": 10,
    "start_time": "2021-07-07T18:15:42.699Z"
   },
   {
    "duration": 19,
    "start_time": "2021-07-07T18:15:42.711Z"
   },
   {
    "duration": 9,
    "start_time": "2021-07-07T18:15:42.732Z"
   },
   {
    "duration": 5,
    "start_time": "2021-07-07T18:15:42.743Z"
   },
   {
    "duration": 1450,
    "start_time": "2021-07-07T18:15:51.984Z"
   },
   {
    "duration": 161,
    "start_time": "2021-07-07T18:15:53.435Z"
   },
   {
    "duration": 124,
    "start_time": "2021-07-07T18:15:53.598Z"
   },
   {
    "duration": 5,
    "start_time": "2021-07-07T18:15:53.724Z"
   },
   {
    "duration": 34,
    "start_time": "2021-07-07T18:15:53.730Z"
   },
   {
    "duration": 7,
    "start_time": "2021-07-07T18:15:53.765Z"
   },
   {
    "duration": 15,
    "start_time": "2021-07-07T18:15:53.773Z"
   },
   {
    "duration": 5,
    "start_time": "2021-07-07T18:15:53.791Z"
   },
   {
    "duration": 19,
    "start_time": "2021-07-07T18:15:53.798Z"
   },
   {
    "duration": 9,
    "start_time": "2021-07-07T18:15:53.818Z"
   },
   {
    "duration": 19,
    "start_time": "2021-07-07T18:15:53.828Z"
   },
   {
    "duration": 27,
    "start_time": "2021-07-07T18:15:53.848Z"
   },
   {
    "duration": 16,
    "start_time": "2021-07-07T18:15:53.884Z"
   },
   {
    "duration": 29,
    "start_time": "2021-07-07T18:15:53.901Z"
   },
   {
    "duration": 5,
    "start_time": "2021-07-07T18:15:53.932Z"
   },
   {
    "duration": 15,
    "start_time": "2021-07-07T18:15:53.939Z"
   },
   {
    "duration": 13,
    "start_time": "2021-07-07T18:15:53.956Z"
   },
   {
    "duration": 20,
    "start_time": "2021-07-07T18:15:53.971Z"
   },
   {
    "duration": 14,
    "start_time": "2021-07-07T18:15:53.992Z"
   },
   {
    "duration": 9,
    "start_time": "2021-07-07T18:15:54.009Z"
   },
   {
    "duration": 28,
    "start_time": "2021-07-07T18:15:54.020Z"
   },
   {
    "duration": 50,
    "start_time": "2021-07-07T18:15:54.051Z"
   },
   {
    "duration": 8,
    "start_time": "2021-07-07T18:15:54.105Z"
   },
   {
    "duration": 11,
    "start_time": "2021-07-07T18:15:54.115Z"
   },
   {
    "duration": 20,
    "start_time": "2021-07-07T18:15:54.128Z"
   },
   {
    "duration": 13,
    "start_time": "2021-07-07T18:15:54.184Z"
   },
   {
    "duration": 7,
    "start_time": "2021-07-07T18:15:54.199Z"
   },
   {
    "duration": 7,
    "start_time": "2021-07-07T18:17:08.042Z"
   },
   {
    "duration": 8,
    "start_time": "2021-07-07T18:17:21.008Z"
   },
   {
    "duration": 7,
    "start_time": "2021-07-07T18:17:29.003Z"
   },
   {
    "duration": 8,
    "start_time": "2021-07-07T18:17:32.492Z"
   },
   {
    "duration": 9,
    "start_time": "2021-07-07T18:17:41.758Z"
   },
   {
    "duration": 255,
    "start_time": "2021-07-07T18:20:20.897Z"
   },
   {
    "duration": 173,
    "start_time": "2021-07-07T18:20:26.636Z"
   },
   {
    "duration": 7,
    "start_time": "2021-07-07T18:21:47.164Z"
   },
   {
    "duration": 254,
    "start_time": "2021-07-07T18:23:08.703Z"
   },
   {
    "duration": 21,
    "start_time": "2021-07-07T18:23:22.506Z"
   },
   {
    "duration": 315,
    "start_time": "2021-07-07T18:25:54.801Z"
   },
   {
    "duration": 34,
    "start_time": "2021-07-07T18:26:51.817Z"
   },
   {
    "duration": 327,
    "start_time": "2021-07-07T18:26:56.147Z"
   },
   {
    "duration": 342,
    "start_time": "2021-07-07T18:27:15.887Z"
   },
   {
    "duration": 302,
    "start_time": "2021-07-07T18:28:18.569Z"
   },
   {
    "duration": 226,
    "start_time": "2021-07-07T18:29:20.879Z"
   },
   {
    "duration": 207,
    "start_time": "2021-07-07T18:29:58.114Z"
   },
   {
    "duration": 140,
    "start_time": "2021-07-07T18:32:04.372Z"
   },
   {
    "duration": 158,
    "start_time": "2021-07-07T18:32:32.508Z"
   },
   {
    "duration": 145,
    "start_time": "2021-07-07T18:32:41.365Z"
   },
   {
    "duration": 132,
    "start_time": "2021-07-07T18:32:45.199Z"
   },
   {
    "duration": 11,
    "start_time": "2021-07-07T18:35:24.679Z"
   },
   {
    "duration": 268,
    "start_time": "2021-07-07T18:36:16.145Z"
   },
   {
    "duration": 227,
    "start_time": "2021-07-07T18:37:04.918Z"
   },
   {
    "duration": 3,
    "start_time": "2021-07-07T18:37:33.012Z"
   },
   {
    "duration": 671,
    "start_time": "2021-07-07T18:37:38.295Z"
   },
   {
    "duration": 54,
    "start_time": "2021-07-07T18:37:53.406Z"
   },
   {
    "duration": 631,
    "start_time": "2021-07-07T18:37:56.463Z"
   },
   {
    "duration": 19,
    "start_time": "2021-07-07T18:39:40.535Z"
   },
   {
    "duration": 20,
    "start_time": "2021-07-07T18:40:12.236Z"
   },
   {
    "duration": 633,
    "start_time": "2021-07-07T18:42:00.398Z"
   },
   {
    "duration": 218,
    "start_time": "2021-07-07T18:42:01.033Z"
   },
   {
    "duration": 49,
    "start_time": "2021-07-07T18:42:01.253Z"
   },
   {
    "duration": 5,
    "start_time": "2021-07-07T18:42:01.303Z"
   },
   {
    "duration": 27,
    "start_time": "2021-07-07T18:42:01.310Z"
   },
   {
    "duration": 8,
    "start_time": "2021-07-07T18:42:01.339Z"
   },
   {
    "duration": 20,
    "start_time": "2021-07-07T18:42:01.348Z"
   },
   {
    "duration": 6,
    "start_time": "2021-07-07T18:42:01.386Z"
   },
   {
    "duration": 16,
    "start_time": "2021-07-07T18:42:01.394Z"
   },
   {
    "duration": 9,
    "start_time": "2021-07-07T18:42:01.411Z"
   },
   {
    "duration": 11,
    "start_time": "2021-07-07T18:42:01.421Z"
   },
   {
    "duration": 31,
    "start_time": "2021-07-07T18:42:01.434Z"
   },
   {
    "duration": 18,
    "start_time": "2021-07-07T18:42:01.485Z"
   },
   {
    "duration": 23,
    "start_time": "2021-07-07T18:42:01.505Z"
   },
   {
    "duration": 6,
    "start_time": "2021-07-07T18:42:01.530Z"
   },
   {
    "duration": 10,
    "start_time": "2021-07-07T18:42:01.538Z"
   },
   {
    "duration": 13,
    "start_time": "2021-07-07T18:42:01.550Z"
   },
   {
    "duration": 24,
    "start_time": "2021-07-07T18:42:01.564Z"
   },
   {
    "duration": 20,
    "start_time": "2021-07-07T18:42:01.590Z"
   },
   {
    "duration": 8,
    "start_time": "2021-07-07T18:42:01.611Z"
   },
   {
    "duration": 31,
    "start_time": "2021-07-07T18:42:01.620Z"
   },
   {
    "duration": 39,
    "start_time": "2021-07-07T18:42:01.653Z"
   },
   {
    "duration": 8,
    "start_time": "2021-07-07T18:42:01.696Z"
   },
   {
    "duration": 13,
    "start_time": "2021-07-07T18:42:01.705Z"
   },
   {
    "duration": 20,
    "start_time": "2021-07-07T18:42:01.720Z"
   },
   {
    "duration": 12,
    "start_time": "2021-07-07T18:42:01.741Z"
   },
   {
    "duration": 35,
    "start_time": "2021-07-07T18:42:01.755Z"
   },
   {
    "duration": 14,
    "start_time": "2021-07-07T18:42:01.792Z"
   },
   {
    "duration": 188,
    "start_time": "2021-07-07T18:42:01.808Z"
   },
   {
    "duration": 19,
    "start_time": "2021-07-07T18:42:01.998Z"
   },
   {
    "duration": 175,
    "start_time": "2021-07-07T18:42:02.019Z"
   },
   {
    "duration": 134,
    "start_time": "2021-07-07T18:42:02.196Z"
   },
   {
    "duration": 10,
    "start_time": "2021-07-07T18:42:02.331Z"
   },
   {
    "duration": 19,
    "start_time": "2021-07-07T18:42:02.343Z"
   },
   {
    "duration": 628,
    "start_time": "2021-07-07T18:46:30.701Z"
   },
   {
    "duration": 183,
    "start_time": "2021-07-07T18:46:31.331Z"
   },
   {
    "duration": 48,
    "start_time": "2021-07-07T18:46:31.516Z"
   },
   {
    "duration": 5,
    "start_time": "2021-07-07T18:46:31.566Z"
   },
   {
    "duration": 28,
    "start_time": "2021-07-07T18:46:31.572Z"
   },
   {
    "duration": 8,
    "start_time": "2021-07-07T18:46:31.602Z"
   },
   {
    "duration": 19,
    "start_time": "2021-07-07T18:46:31.611Z"
   },
   {
    "duration": 6,
    "start_time": "2021-07-07T18:46:31.633Z"
   },
   {
    "duration": 17,
    "start_time": "2021-07-07T18:46:31.642Z"
   },
   {
    "duration": 10,
    "start_time": "2021-07-07T18:46:31.684Z"
   },
   {
    "duration": 9,
    "start_time": "2021-07-07T18:46:31.695Z"
   },
   {
    "duration": 28,
    "start_time": "2021-07-07T18:46:31.705Z"
   },
   {
    "duration": 18,
    "start_time": "2021-07-07T18:46:31.735Z"
   },
   {
    "duration": 48,
    "start_time": "2021-07-07T18:46:31.755Z"
   },
   {
    "duration": 6,
    "start_time": "2021-07-07T18:46:31.804Z"
   },
   {
    "duration": 4,
    "start_time": "2021-07-07T18:46:31.812Z"
   },
   {
    "duration": 9,
    "start_time": "2021-07-07T18:46:31.817Z"
   },
   {
    "duration": 10,
    "start_time": "2021-07-07T18:46:31.827Z"
   },
   {
    "duration": 12,
    "start_time": "2021-07-07T18:46:31.838Z"
   },
   {
    "duration": 39,
    "start_time": "2021-07-07T18:46:31.851Z"
   },
   {
    "duration": 24,
    "start_time": "2021-07-07T18:46:31.892Z"
   },
   {
    "duration": 15,
    "start_time": "2021-07-07T18:46:31.918Z"
   },
   {
    "duration": 7,
    "start_time": "2021-07-07T18:46:31.936Z"
   },
   {
    "duration": 8,
    "start_time": "2021-07-07T18:46:31.944Z"
   },
   {
    "duration": 19,
    "start_time": "2021-07-07T18:46:31.984Z"
   },
   {
    "duration": 10,
    "start_time": "2021-07-07T18:46:32.004Z"
   },
   {
    "duration": 5,
    "start_time": "2021-07-07T18:46:32.016Z"
   },
   {
    "duration": 9,
    "start_time": "2021-07-07T18:46:32.023Z"
   },
   {
    "duration": 199,
    "start_time": "2021-07-07T18:46:32.033Z"
   },
   {
    "duration": 19,
    "start_time": "2021-07-07T18:46:32.234Z"
   },
   {
    "duration": 159,
    "start_time": "2021-07-07T18:46:32.255Z"
   },
   {
    "duration": 134,
    "start_time": "2021-07-07T18:46:32.416Z"
   },
   {
    "duration": 10,
    "start_time": "2021-07-07T18:46:32.552Z"
   },
   {
    "duration": 34,
    "start_time": "2021-07-07T18:46:32.563Z"
   },
   {
    "duration": 1039,
    "start_time": "2021-07-08T08:41:09.419Z"
   },
   {
    "duration": 333,
    "start_time": "2021-07-08T08:41:10.459Z"
   },
   {
    "duration": 173,
    "start_time": "2021-07-08T08:41:10.794Z"
   },
   {
    "duration": 5,
    "start_time": "2021-07-08T08:41:10.968Z"
   },
   {
    "duration": 25,
    "start_time": "2021-07-08T08:41:10.975Z"
   },
   {
    "duration": 9,
    "start_time": "2021-07-08T08:41:11.002Z"
   },
   {
    "duration": 18,
    "start_time": "2021-07-08T08:41:11.013Z"
   },
   {
    "duration": 6,
    "start_time": "2021-07-08T08:41:11.033Z"
   },
   {
    "duration": 44,
    "start_time": "2021-07-08T08:41:11.042Z"
   },
   {
    "duration": 10,
    "start_time": "2021-07-08T08:41:11.088Z"
   },
   {
    "duration": 9,
    "start_time": "2021-07-08T08:41:11.100Z"
   },
   {
    "duration": 27,
    "start_time": "2021-07-08T08:41:11.111Z"
   },
   {
    "duration": 46,
    "start_time": "2021-07-08T08:41:11.140Z"
   },
   {
    "duration": 17,
    "start_time": "2021-07-08T08:41:11.187Z"
   },
   {
    "duration": 6,
    "start_time": "2021-07-08T08:41:11.206Z"
   },
   {
    "duration": 5,
    "start_time": "2021-07-08T08:41:11.213Z"
   },
   {
    "duration": 10,
    "start_time": "2021-07-08T08:41:11.219Z"
   },
   {
    "duration": 9,
    "start_time": "2021-07-08T08:41:11.230Z"
   },
   {
    "duration": 45,
    "start_time": "2021-07-08T08:41:11.241Z"
   },
   {
    "duration": 7,
    "start_time": "2021-07-08T08:41:11.287Z"
   },
   {
    "duration": 24,
    "start_time": "2021-07-08T08:41:11.296Z"
   },
   {
    "duration": 16,
    "start_time": "2021-07-08T08:41:11.322Z"
   },
   {
    "duration": 7,
    "start_time": "2021-07-08T08:41:11.341Z"
   },
   {
    "duration": 41,
    "start_time": "2021-07-08T08:41:11.349Z"
   },
   {
    "duration": 17,
    "start_time": "2021-07-08T08:41:11.391Z"
   },
   {
    "duration": 9,
    "start_time": "2021-07-08T08:41:11.410Z"
   },
   {
    "duration": 5,
    "start_time": "2021-07-08T08:41:11.421Z"
   },
   {
    "duration": 6,
    "start_time": "2021-07-08T08:41:11.428Z"
   },
   {
    "duration": 198,
    "start_time": "2021-07-08T08:41:11.435Z"
   },
   {
    "duration": 18,
    "start_time": "2021-07-08T08:41:11.635Z"
   },
   {
    "duration": 155,
    "start_time": "2021-07-08T08:41:11.655Z"
   },
   {
    "duration": 138,
    "start_time": "2021-07-08T08:41:11.811Z"
   },
   {
    "duration": 10,
    "start_time": "2021-07-08T08:41:11.950Z"
   },
   {
    "duration": 29,
    "start_time": "2021-07-08T08:41:11.961Z"
   },
   {
    "duration": 171,
    "start_time": "2021-07-08T08:47:44.522Z"
   },
   {
    "duration": 124,
    "start_time": "2021-07-08T08:47:46.872Z"
   },
   {
    "duration": 191,
    "start_time": "2021-07-08T08:47:58.148Z"
   },
   {
    "duration": 191,
    "start_time": "2021-07-08T08:48:07.412Z"
   },
   {
    "duration": 261,
    "start_time": "2021-07-08T08:48:10.385Z"
   },
   {
    "duration": 255,
    "start_time": "2021-07-08T08:48:14.494Z"
   },
   {
    "duration": 219,
    "start_time": "2021-07-08T08:48:22.752Z"
   },
   {
    "duration": 173,
    "start_time": "2021-07-08T08:49:06.395Z"
   },
   {
    "duration": 180,
    "start_time": "2021-07-08T08:49:21.011Z"
   },
   {
    "duration": 6,
    "start_time": "2021-07-08T08:50:31.697Z"
   },
   {
    "duration": 10,
    "start_time": "2021-07-08T08:50:47.394Z"
   },
   {
    "duration": 11,
    "start_time": "2021-07-08T08:53:49.332Z"
   },
   {
    "duration": 171,
    "start_time": "2021-07-08T08:54:28.408Z"
   },
   {
    "duration": 636,
    "start_time": "2021-07-08T09:02:48.385Z"
   },
   {
    "duration": 227,
    "start_time": "2021-07-08T09:02:49.023Z"
   },
   {
    "duration": 104,
    "start_time": "2021-07-08T09:02:49.252Z"
   },
   {
    "duration": 5,
    "start_time": "2021-07-08T09:02:49.358Z"
   },
   {
    "duration": 27,
    "start_time": "2021-07-08T09:02:49.365Z"
   },
   {
    "duration": 8,
    "start_time": "2021-07-08T09:02:49.394Z"
   },
   {
    "duration": 18,
    "start_time": "2021-07-08T09:02:49.404Z"
   },
   {
    "duration": 6,
    "start_time": "2021-07-08T09:02:49.424Z"
   },
   {
    "duration": 11,
    "start_time": "2021-07-08T09:02:49.433Z"
   },
   {
    "duration": 13,
    "start_time": "2021-07-08T09:02:49.485Z"
   },
   {
    "duration": 9,
    "start_time": "2021-07-08T09:02:49.500Z"
   },
   {
    "duration": 38,
    "start_time": "2021-07-08T09:02:49.511Z"
   },
   {
    "duration": 42,
    "start_time": "2021-07-08T09:02:49.551Z"
   },
   {
    "duration": 21,
    "start_time": "2021-07-08T09:02:49.594Z"
   },
   {
    "duration": 6,
    "start_time": "2021-07-08T09:02:49.616Z"
   },
   {
    "duration": 3,
    "start_time": "2021-07-08T09:02:49.623Z"
   },
   {
    "duration": 9,
    "start_time": "2021-07-08T09:02:49.628Z"
   },
   {
    "duration": 52,
    "start_time": "2021-07-08T09:02:49.638Z"
   },
   {
    "duration": 11,
    "start_time": "2021-07-08T09:02:49.692Z"
   },
   {
    "duration": 8,
    "start_time": "2021-07-08T09:02:49.704Z"
   },
   {
    "duration": 27,
    "start_time": "2021-07-08T09:02:49.713Z"
   },
   {
    "duration": 59,
    "start_time": "2021-07-08T09:02:49.741Z"
   },
   {
    "duration": 8,
    "start_time": "2021-07-08T09:02:49.803Z"
   },
   {
    "duration": 14,
    "start_time": "2021-07-08T09:02:49.813Z"
   },
   {
    "duration": 20,
    "start_time": "2021-07-08T09:02:49.829Z"
   },
   {
    "duration": 44,
    "start_time": "2021-07-08T09:02:49.851Z"
   },
   {
    "duration": 14,
    "start_time": "2021-07-08T09:02:49.896Z"
   },
   {
    "duration": 221,
    "start_time": "2021-07-08T09:02:49.912Z"
   },
   {
    "duration": 6,
    "start_time": "2021-07-08T09:02:50.134Z"
   },
   {
    "duration": 206,
    "start_time": "2021-07-08T09:02:50.142Z"
   },
   {
    "duration": 19,
    "start_time": "2021-07-08T09:02:50.350Z"
   },
   {
    "duration": 21,
    "start_time": "2021-07-08T09:02:50.370Z"
   },
   {
    "duration": 20,
    "start_time": "2021-07-08T09:02:50.393Z"
   },
   {
    "duration": 5,
    "start_time": "2021-07-08T09:02:50.414Z"
   },
   {
    "duration": 5,
    "start_time": "2021-07-08T09:03:34.173Z"
   },
   {
    "duration": 6,
    "start_time": "2021-07-08T09:04:49.062Z"
   },
   {
    "duration": 9,
    "start_time": "2021-07-08T09:04:50.118Z"
   },
   {
    "duration": 14,
    "start_time": "2021-07-08T09:04:58.512Z"
   },
   {
    "duration": 9,
    "start_time": "2021-07-08T09:05:10.988Z"
   },
   {
    "duration": 11,
    "start_time": "2021-07-08T09:05:11.743Z"
   },
   {
    "duration": 7,
    "start_time": "2021-07-08T09:05:25.677Z"
   },
   {
    "duration": 13,
    "start_time": "2021-07-08T09:05:47.189Z"
   },
   {
    "duration": 13,
    "start_time": "2021-07-08T09:05:54.755Z"
   },
   {
    "duration": 4,
    "start_time": "2021-07-08T09:06:29.189Z"
   },
   {
    "duration": 244,
    "start_time": "2021-07-08T09:06:29.195Z"
   },
   {
    "duration": 91,
    "start_time": "2021-07-08T09:06:29.441Z"
   },
   {
    "duration": 4,
    "start_time": "2021-07-08T09:06:29.534Z"
   },
   {
    "duration": 28,
    "start_time": "2021-07-08T09:06:29.540Z"
   },
   {
    "duration": 6,
    "start_time": "2021-07-08T09:06:29.570Z"
   },
   {
    "duration": 18,
    "start_time": "2021-07-08T09:06:29.578Z"
   },
   {
    "duration": 5,
    "start_time": "2021-07-08T09:06:29.597Z"
   },
   {
    "duration": 13,
    "start_time": "2021-07-08T09:06:29.605Z"
   },
   {
    "duration": 8,
    "start_time": "2021-07-08T09:06:29.620Z"
   },
   {
    "duration": 7,
    "start_time": "2021-07-08T09:06:29.630Z"
   },
   {
    "duration": 63,
    "start_time": "2021-07-08T09:06:29.639Z"
   },
   {
    "duration": 17,
    "start_time": "2021-07-08T09:06:29.704Z"
   },
   {
    "duration": 20,
    "start_time": "2021-07-08T09:06:29.723Z"
   },
   {
    "duration": 6,
    "start_time": "2021-07-08T09:06:29.745Z"
   },
   {
    "duration": 3,
    "start_time": "2021-07-08T09:06:29.752Z"
   },
   {
    "duration": 7,
    "start_time": "2021-07-08T09:06:29.785Z"
   },
   {
    "duration": 11,
    "start_time": "2021-07-08T09:06:29.794Z"
   },
   {
    "duration": 15,
    "start_time": "2021-07-08T09:06:29.807Z"
   },
   {
    "duration": 8,
    "start_time": "2021-07-08T09:06:29.823Z"
   },
   {
    "duration": 70,
    "start_time": "2021-07-08T09:06:29.832Z"
   },
   {
    "duration": 17,
    "start_time": "2021-07-08T09:06:29.903Z"
   },
   {
    "duration": 9,
    "start_time": "2021-07-08T09:06:29.921Z"
   },
   {
    "duration": 9,
    "start_time": "2021-07-08T09:06:29.932Z"
   },
   {
    "duration": 57,
    "start_time": "2021-07-08T09:06:29.942Z"
   },
   {
    "duration": 11,
    "start_time": "2021-07-08T09:06:30.001Z"
   },
   {
    "duration": 19,
    "start_time": "2021-07-08T09:06:30.016Z"
   },
   {
    "duration": 217,
    "start_time": "2021-07-08T09:06:30.037Z"
   },
   {
    "duration": 6,
    "start_time": "2021-07-08T09:06:30.255Z"
   },
   {
    "duration": 205,
    "start_time": "2021-07-08T09:06:30.263Z"
   },
   {
    "duration": 27,
    "start_time": "2021-07-08T09:06:30.470Z"
   },
   {
    "duration": 11,
    "start_time": "2021-07-08T09:06:30.500Z"
   },
   {
    "duration": 31,
    "start_time": "2021-07-08T09:06:30.513Z"
   },
   {
    "duration": 18,
    "start_time": "2021-07-08T09:06:30.546Z"
   },
   {
    "duration": 11,
    "start_time": "2021-07-08T09:06:30.566Z"
   },
   {
    "duration": 19,
    "start_time": "2021-07-08T09:06:30.579Z"
   },
   {
    "duration": 20,
    "start_time": "2021-07-08T09:06:49.466Z"
   },
   {
    "duration": 9,
    "start_time": "2021-07-08T09:06:51.994Z"
   },
   {
    "duration": 20,
    "start_time": "2021-07-08T09:06:52.273Z"
   },
   {
    "duration": 246,
    "start_time": "2021-07-08T09:10:21.272Z"
   },
   {
    "duration": 84,
    "start_time": "2021-07-08T09:10:21.436Z"
   },
   {
    "duration": 7,
    "start_time": "2021-07-08T09:10:37.608Z"
   },
   {
    "duration": 189,
    "start_time": "2021-07-08T09:10:38.573Z"
   },
   {
    "duration": 185,
    "start_time": "2021-07-08T09:10:53.181Z"
   },
   {
    "duration": 11,
    "start_time": "2021-07-08T09:10:59.549Z"
   },
   {
    "duration": 42,
    "start_time": "2021-07-08T09:10:59.709Z"
   },
   {
    "duration": 12,
    "start_time": "2021-07-08T09:11:02.857Z"
   },
   {
    "duration": 28,
    "start_time": "2021-07-08T09:11:10.062Z"
   },
   {
    "duration": 249,
    "start_time": "2021-07-08T09:11:37.388Z"
   },
   {
    "duration": 232,
    "start_time": "2021-07-08T09:11:49.485Z"
   },
   {
    "duration": 453,
    "start_time": "2021-07-08T09:12:01.546Z"
   },
   {
    "duration": 440,
    "start_time": "2021-07-08T09:12:12.347Z"
   },
   {
    "duration": 213,
    "start_time": "2021-07-08T09:13:32.196Z"
   },
   {
    "duration": 172,
    "start_time": "2021-07-08T09:14:07.400Z"
   },
   {
    "duration": 185,
    "start_time": "2021-07-08T09:14:14.905Z"
   },
   {
    "duration": 209,
    "start_time": "2021-07-08T09:14:40.109Z"
   },
   {
    "duration": 201,
    "start_time": "2021-07-08T09:14:54.506Z"
   },
   {
    "duration": 622,
    "start_time": "2021-07-08T09:18:14.497Z"
   },
   {
    "duration": 220,
    "start_time": "2021-07-08T09:18:15.121Z"
   },
   {
    "duration": 79,
    "start_time": "2021-07-08T09:18:15.343Z"
   },
   {
    "duration": 4,
    "start_time": "2021-07-08T09:18:15.425Z"
   },
   {
    "duration": 24,
    "start_time": "2021-07-08T09:18:15.431Z"
   },
   {
    "duration": 8,
    "start_time": "2021-07-08T09:18:15.457Z"
   },
   {
    "duration": 16,
    "start_time": "2021-07-08T09:18:15.466Z"
   },
   {
    "duration": 5,
    "start_time": "2021-07-08T09:18:15.484Z"
   },
   {
    "duration": 10,
    "start_time": "2021-07-08T09:18:15.493Z"
   },
   {
    "duration": 8,
    "start_time": "2021-07-08T09:18:15.504Z"
   },
   {
    "duration": 7,
    "start_time": "2021-07-08T09:18:15.513Z"
   },
   {
    "duration": 26,
    "start_time": "2021-07-08T09:18:15.522Z"
   },
   {
    "duration": 49,
    "start_time": "2021-07-08T09:18:15.550Z"
   },
   {
    "duration": 21,
    "start_time": "2021-07-08T09:18:15.601Z"
   },
   {
    "duration": 8,
    "start_time": "2021-07-08T09:18:15.624Z"
   },
   {
    "duration": 3,
    "start_time": "2021-07-08T09:18:15.634Z"
   },
   {
    "duration": 8,
    "start_time": "2021-07-08T09:18:15.639Z"
   },
   {
    "duration": 45,
    "start_time": "2021-07-08T09:18:15.649Z"
   },
   {
    "duration": 13,
    "start_time": "2021-07-08T09:18:15.696Z"
   },
   {
    "duration": 10,
    "start_time": "2021-07-08T09:18:15.711Z"
   },
   {
    "duration": 64,
    "start_time": "2021-07-08T09:18:15.722Z"
   },
   {
    "duration": 19,
    "start_time": "2021-07-08T09:18:15.788Z"
   },
   {
    "duration": 9,
    "start_time": "2021-07-08T09:18:15.809Z"
   },
   {
    "duration": 9,
    "start_time": "2021-07-08T09:18:15.820Z"
   },
   {
    "duration": 18,
    "start_time": "2021-07-08T09:18:15.831Z"
   },
   {
    "duration": 43,
    "start_time": "2021-07-08T09:18:15.851Z"
   },
   {
    "duration": 12,
    "start_time": "2021-07-08T09:18:15.897Z"
   },
   {
    "duration": 219,
    "start_time": "2021-07-08T09:18:15.911Z"
   },
   {
    "duration": 8,
    "start_time": "2021-07-08T09:18:16.132Z"
   },
   {
    "duration": 199,
    "start_time": "2021-07-08T09:18:16.141Z"
   },
   {
    "duration": 18,
    "start_time": "2021-07-08T09:18:16.341Z"
   },
   {
    "duration": 24,
    "start_time": "2021-07-08T09:18:16.361Z"
   },
   {
    "duration": 24,
    "start_time": "2021-07-08T09:18:16.387Z"
   },
   {
    "duration": 211,
    "start_time": "2021-07-08T09:18:16.413Z"
   },
   {
    "duration": 18,
    "start_time": "2021-07-08T09:18:16.626Z"
   },
   {
    "duration": 596,
    "start_time": "2021-07-08T10:06:33.623Z"
   },
   {
    "duration": 181,
    "start_time": "2021-07-08T10:06:34.221Z"
   },
   {
    "duration": 176,
    "start_time": "2021-07-08T10:06:34.635Z"
   },
   {
    "duration": 239,
    "start_time": "2021-07-08T10:06:55.572Z"
   },
   {
    "duration": 6,
    "start_time": "2021-07-08T10:06:57.687Z"
   },
   {
    "duration": 4,
    "start_time": "2021-07-08T10:07:03.956Z"
   },
   {
    "duration": 4,
    "start_time": "2021-07-08T10:07:10.376Z"
   },
   {
    "duration": 4,
    "start_time": "2021-07-08T10:17:19.889Z"
   },
   {
    "duration": 3,
    "start_time": "2021-07-08T10:19:19.407Z"
   },
   {
    "duration": 197,
    "start_time": "2021-07-08T10:19:19.412Z"
   },
   {
    "duration": 127,
    "start_time": "2021-07-08T10:19:19.611Z"
   },
   {
    "duration": 4,
    "start_time": "2021-07-08T10:19:19.740Z"
   },
   {
    "duration": 27,
    "start_time": "2021-07-08T10:19:19.746Z"
   },
   {
    "duration": 7,
    "start_time": "2021-07-08T10:19:19.775Z"
   },
   {
    "duration": 30,
    "start_time": "2021-07-08T10:19:19.784Z"
   },
   {
    "duration": 7,
    "start_time": "2021-07-08T10:19:19.817Z"
   },
   {
    "duration": 26,
    "start_time": "2021-07-08T10:19:19.826Z"
   },
   {
    "duration": 18,
    "start_time": "2021-07-08T10:19:19.854Z"
   },
   {
    "duration": 14,
    "start_time": "2021-07-08T10:19:19.874Z"
   },
   {
    "duration": 48,
    "start_time": "2021-07-08T10:19:19.890Z"
   },
   {
    "duration": 17,
    "start_time": "2021-07-08T10:19:19.940Z"
   },
   {
    "duration": 38,
    "start_time": "2021-07-08T10:19:19.959Z"
   },
   {
    "duration": 8,
    "start_time": "2021-07-08T10:19:19.999Z"
   },
   {
    "duration": 15,
    "start_time": "2021-07-08T10:19:20.009Z"
   },
   {
    "duration": 22,
    "start_time": "2021-07-08T10:19:20.026Z"
   },
   {
    "duration": 10,
    "start_time": "2021-07-08T10:19:20.050Z"
   },
   {
    "duration": 10,
    "start_time": "2021-07-08T10:19:20.062Z"
   },
   {
    "duration": 20,
    "start_time": "2021-07-08T10:19:20.073Z"
   },
   {
    "duration": 29,
    "start_time": "2021-07-08T10:19:20.095Z"
   },
   {
    "duration": 17,
    "start_time": "2021-07-08T10:19:20.126Z"
   },
   {
    "duration": 40,
    "start_time": "2021-07-08T10:19:20.146Z"
   },
   {
    "duration": 15,
    "start_time": "2021-07-08T10:19:20.189Z"
   },
   {
    "duration": 19,
    "start_time": "2021-07-08T10:19:20.206Z"
   },
   {
    "duration": 10,
    "start_time": "2021-07-08T10:19:20.226Z"
   },
   {
    "duration": 11,
    "start_time": "2021-07-08T10:19:20.238Z"
   },
   {
    "duration": 297,
    "start_time": "2021-07-08T10:19:20.250Z"
   },
   {
    "duration": 6,
    "start_time": "2021-07-08T10:19:20.549Z"
   },
   {
    "duration": 191,
    "start_time": "2021-07-08T10:19:20.557Z"
   },
   {
    "duration": 19,
    "start_time": "2021-07-08T10:19:20.750Z"
   },
   {
    "duration": 20,
    "start_time": "2021-07-08T10:19:20.771Z"
   },
   {
    "duration": 15,
    "start_time": "2021-07-08T10:19:20.793Z"
   },
   {
    "duration": 222,
    "start_time": "2021-07-08T10:19:20.809Z"
   },
   {
    "duration": 20,
    "start_time": "2021-07-08T10:19:21.033Z"
   },
   {
    "duration": 27,
    "start_time": "2021-07-08T10:45:04.055Z"
   },
   {
    "duration": 8,
    "start_time": "2021-07-08T10:45:08.478Z"
   },
   {
    "duration": 8,
    "start_time": "2021-07-08T10:45:31.982Z"
   },
   {
    "duration": 10,
    "start_time": "2021-07-08T10:46:01.221Z"
   },
   {
    "duration": 17,
    "start_time": "2021-07-08T10:46:40.011Z"
   },
   {
    "duration": 193,
    "start_time": "2021-07-08T10:48:19.471Z"
   },
   {
    "duration": 225,
    "start_time": "2021-07-08T10:49:26.480Z"
   },
   {
    "duration": 204,
    "start_time": "2021-07-08T10:49:59.992Z"
   },
   {
    "duration": 435,
    "start_time": "2021-07-08T10:50:06.779Z"
   },
   {
    "duration": 199,
    "start_time": "2021-07-08T10:50:14.891Z"
   },
   {
    "duration": 204,
    "start_time": "2021-07-08T10:50:18.501Z"
   },
   {
    "duration": 244,
    "start_time": "2021-07-08T10:50:23.359Z"
   },
   {
    "duration": 192,
    "start_time": "2021-07-08T10:50:29.135Z"
   },
   {
    "duration": 218,
    "start_time": "2021-07-08T10:50:33.092Z"
   },
   {
    "duration": 207,
    "start_time": "2021-07-08T10:52:45.381Z"
   },
   {
    "duration": 5,
    "start_time": "2021-07-08T10:53:34.641Z"
   },
   {
    "duration": 196,
    "start_time": "2021-07-08T10:53:41.478Z"
   },
   {
    "duration": 43,
    "start_time": "2021-07-08T10:53:50.335Z"
   },
   {
    "duration": 32,
    "start_time": "2021-07-08T10:53:55.294Z"
   },
   {
    "duration": 55,
    "start_time": "2021-07-08T10:54:09.675Z"
   },
   {
    "duration": 16,
    "start_time": "2021-07-08T10:54:12.260Z"
   },
   {
    "duration": 15,
    "start_time": "2021-07-08T10:54:49.150Z"
   },
   {
    "duration": 20,
    "start_time": "2021-07-08T10:56:07.596Z"
   },
   {
    "duration": 16,
    "start_time": "2021-07-08T10:58:26.276Z"
   },
   {
    "duration": 22,
    "start_time": "2021-07-08T10:59:00.486Z"
   },
   {
    "duration": 18,
    "start_time": "2021-07-08T11:02:09.653Z"
   },
   {
    "duration": 10,
    "start_time": "2021-07-08T11:03:44.331Z"
   },
   {
    "duration": 10,
    "start_time": "2021-07-08T11:03:54.055Z"
   },
   {
    "duration": 12,
    "start_time": "2021-07-08T11:04:41.967Z"
   },
   {
    "duration": 24,
    "start_time": "2021-07-08T11:07:30.732Z"
   },
   {
    "duration": 6,
    "start_time": "2021-07-08T11:07:37.364Z"
   },
   {
    "duration": 16,
    "start_time": "2021-07-08T11:08:01.819Z"
   },
   {
    "duration": 17,
    "start_time": "2021-07-08T11:09:47.488Z"
   },
   {
    "duration": 246,
    "start_time": "2021-07-08T11:10:00.830Z"
   },
   {
    "duration": 18,
    "start_time": "2021-07-08T11:13:55.195Z"
   },
   {
    "duration": 204,
    "start_time": "2021-07-08T11:14:04.951Z"
   },
   {
    "duration": 19,
    "start_time": "2021-07-08T11:15:10.613Z"
   },
   {
    "duration": 680,
    "start_time": "2021-07-08T11:16:25.793Z"
   },
   {
    "duration": 451,
    "start_time": "2021-07-08T11:16:40.313Z"
   },
   {
    "duration": 469,
    "start_time": "2021-07-08T11:17:21.286Z"
   },
   {
    "duration": 20,
    "start_time": "2021-07-08T11:19:12.554Z"
   },
   {
    "duration": 35,
    "start_time": "2021-07-08T11:20:05.484Z"
   },
   {
    "duration": 53,
    "start_time": "2021-07-08T11:21:40.050Z"
   },
   {
    "duration": 13,
    "start_time": "2021-07-08T11:22:26.059Z"
   },
   {
    "duration": 19,
    "start_time": "2021-07-08T11:22:47.419Z"
   },
   {
    "duration": 25,
    "start_time": "2021-07-08T11:23:19.958Z"
   },
   {
    "duration": 29,
    "start_time": "2021-07-08T11:23:25.415Z"
   },
   {
    "duration": 10,
    "start_time": "2021-07-08T11:24:45.138Z"
   },
   {
    "duration": 19,
    "start_time": "2021-07-08T11:24:54.498Z"
   },
   {
    "duration": 12,
    "start_time": "2021-07-08T11:25:32.225Z"
   },
   {
    "duration": 19,
    "start_time": "2021-07-08T11:25:37.092Z"
   },
   {
    "duration": 17,
    "start_time": "2021-07-08T11:25:58.116Z"
   },
   {
    "duration": 15,
    "start_time": "2021-07-08T11:26:02.258Z"
   },
   {
    "duration": 8,
    "start_time": "2021-07-08T11:26:59.682Z"
   },
   {
    "duration": 184,
    "start_time": "2021-07-08T11:27:21.894Z"
   },
   {
    "duration": 8,
    "start_time": "2021-07-08T11:27:23.824Z"
   },
   {
    "duration": 202,
    "start_time": "2021-07-08T11:27:23.962Z"
   },
   {
    "duration": 360,
    "start_time": "2021-07-08T11:28:33.215Z"
   },
   {
    "duration": 231,
    "start_time": "2021-07-08T11:32:05.542Z"
   },
   {
    "duration": 607,
    "start_time": "2021-07-08T11:36:27.854Z"
   },
   {
    "duration": 241,
    "start_time": "2021-07-08T11:36:28.463Z"
   },
   {
    "duration": 67,
    "start_time": "2021-07-08T11:36:28.709Z"
   },
   {
    "duration": 5,
    "start_time": "2021-07-08T11:36:28.778Z"
   },
   {
    "duration": 32,
    "start_time": "2021-07-08T11:36:28.784Z"
   },
   {
    "duration": 11,
    "start_time": "2021-07-08T11:36:28.819Z"
   },
   {
    "duration": 20,
    "start_time": "2021-07-08T11:36:28.834Z"
   },
   {
    "duration": 36,
    "start_time": "2021-07-08T11:36:28.857Z"
   },
   {
    "duration": 16,
    "start_time": "2021-07-08T11:36:28.895Z"
   },
   {
    "duration": 14,
    "start_time": "2021-07-08T11:36:28.913Z"
   },
   {
    "duration": 9,
    "start_time": "2021-07-08T11:36:28.930Z"
   },
   {
    "duration": 55,
    "start_time": "2021-07-08T11:36:28.941Z"
   },
   {
    "duration": 27,
    "start_time": "2021-07-08T11:36:28.999Z"
   },
   {
    "duration": 30,
    "start_time": "2021-07-08T11:36:29.028Z"
   },
   {
    "duration": 31,
    "start_time": "2021-07-08T11:36:29.060Z"
   },
   {
    "duration": 3,
    "start_time": "2021-07-08T11:36:29.093Z"
   },
   {
    "duration": 12,
    "start_time": "2021-07-08T11:36:29.099Z"
   },
   {
    "duration": 11,
    "start_time": "2021-07-08T11:36:29.112Z"
   },
   {
    "duration": 12,
    "start_time": "2021-07-08T11:36:29.125Z"
   },
   {
    "duration": 9,
    "start_time": "2021-07-08T11:36:29.139Z"
   },
   {
    "duration": 31,
    "start_time": "2021-07-08T11:36:29.191Z"
   },
   {
    "duration": 17,
    "start_time": "2021-07-08T11:36:29.226Z"
   },
   {
    "duration": 7,
    "start_time": "2021-07-08T11:36:29.245Z"
   },
   {
    "duration": 10,
    "start_time": "2021-07-08T11:36:29.254Z"
   },
   {
    "duration": 30,
    "start_time": "2021-07-08T11:36:29.292Z"
   },
   {
    "duration": 11,
    "start_time": "2021-07-08T11:36:29.324Z"
   },
   {
    "duration": 11,
    "start_time": "2021-07-08T11:36:29.337Z"
   },
   {
    "duration": 230,
    "start_time": "2021-07-08T11:36:29.349Z"
   },
   {
    "duration": 13,
    "start_time": "2021-07-08T11:36:29.588Z"
   },
   {
    "duration": 205,
    "start_time": "2021-07-08T11:36:29.603Z"
   },
   {
    "duration": 20,
    "start_time": "2021-07-08T11:36:29.810Z"
   },
   {
    "duration": 9,
    "start_time": "2021-07-08T11:36:29.832Z"
   },
   {
    "duration": 16,
    "start_time": "2021-07-08T11:36:29.843Z"
   },
   {
    "duration": 283,
    "start_time": "2021-07-08T11:36:29.861Z"
   },
   {
    "duration": 50,
    "start_time": "2021-07-08T11:36:30.146Z"
   },
   {
    "duration": 14,
    "start_time": "2021-07-08T11:36:30.198Z"
   },
   {
    "duration": 11,
    "start_time": "2021-07-08T11:36:30.214Z"
   },
   {
    "duration": 245,
    "start_time": "2021-07-08T11:36:30.227Z"
   },
   {
    "duration": 439,
    "start_time": "2021-07-08T11:36:30.474Z"
   },
   {
    "duration": 210,
    "start_time": "2021-07-08T11:36:30.915Z"
   },
   {
    "duration": 15,
    "start_time": "2021-07-08T11:36:31.127Z"
   },
   {
    "duration": 17,
    "start_time": "2021-07-08T11:38:20.451Z"
   },
   {
    "duration": 642,
    "start_time": "2021-07-08T11:46:17.881Z"
   },
   {
    "duration": 210,
    "start_time": "2021-07-08T11:46:18.525Z"
   },
   {
    "duration": 104,
    "start_time": "2021-07-08T11:46:18.741Z"
   },
   {
    "duration": 8,
    "start_time": "2021-07-08T11:46:18.847Z"
   },
   {
    "duration": 25,
    "start_time": "2021-07-08T11:46:18.857Z"
   },
   {
    "duration": 14,
    "start_time": "2021-07-08T11:46:18.884Z"
   },
   {
    "duration": 22,
    "start_time": "2021-07-08T11:46:18.900Z"
   },
   {
    "duration": 5,
    "start_time": "2021-07-08T11:46:18.924Z"
   },
   {
    "duration": 13,
    "start_time": "2021-07-08T11:46:18.931Z"
   },
   {
    "duration": 45,
    "start_time": "2021-07-08T11:46:18.946Z"
   },
   {
    "duration": 12,
    "start_time": "2021-07-08T11:46:18.993Z"
   },
   {
    "duration": 38,
    "start_time": "2021-07-08T11:46:19.006Z"
   },
   {
    "duration": 50,
    "start_time": "2021-07-08T11:46:19.046Z"
   },
   {
    "duration": 29,
    "start_time": "2021-07-08T11:46:19.099Z"
   },
   {
    "duration": 7,
    "start_time": "2021-07-08T11:46:19.130Z"
   },
   {
    "duration": 3,
    "start_time": "2021-07-08T11:46:19.139Z"
   },
   {
    "duration": 11,
    "start_time": "2021-07-08T11:46:19.144Z"
   },
   {
    "duration": 40,
    "start_time": "2021-07-08T11:46:19.157Z"
   },
   {
    "duration": 15,
    "start_time": "2021-07-08T11:46:19.199Z"
   },
   {
    "duration": 10,
    "start_time": "2021-07-08T11:46:19.217Z"
   },
   {
    "duration": 68,
    "start_time": "2021-07-08T11:46:19.230Z"
   },
   {
    "duration": 17,
    "start_time": "2021-07-08T11:46:19.301Z"
   },
   {
    "duration": 7,
    "start_time": "2021-07-08T11:46:19.321Z"
   },
   {
    "duration": 11,
    "start_time": "2021-07-08T11:46:19.330Z"
   },
   {
    "duration": 59,
    "start_time": "2021-07-08T11:46:19.343Z"
   },
   {
    "duration": 17,
    "start_time": "2021-07-08T11:46:19.405Z"
   },
   {
    "duration": 16,
    "start_time": "2021-07-08T11:46:19.424Z"
   },
   {
    "duration": 252,
    "start_time": "2021-07-08T11:46:19.443Z"
   },
   {
    "duration": 9,
    "start_time": "2021-07-08T11:46:19.697Z"
   },
   {
    "duration": 224,
    "start_time": "2021-07-08T11:46:19.708Z"
   },
   {
    "duration": 21,
    "start_time": "2021-07-08T11:46:19.934Z"
   },
   {
    "duration": 9,
    "start_time": "2021-07-08T11:46:19.956Z"
   },
   {
    "duration": 32,
    "start_time": "2021-07-08T11:46:19.967Z"
   },
   {
    "duration": 288,
    "start_time": "2021-07-08T11:46:20.004Z"
   },
   {
    "duration": 23,
    "start_time": "2021-07-08T11:46:20.300Z"
   },
   {
    "duration": 11,
    "start_time": "2021-07-08T11:46:20.325Z"
   },
   {
    "duration": 11,
    "start_time": "2021-07-08T11:46:20.339Z"
   },
   {
    "duration": 259,
    "start_time": "2021-07-08T11:46:20.352Z"
   },
   {
    "duration": 438,
    "start_time": "2021-07-08T11:46:20.613Z"
   },
   {
    "duration": 207,
    "start_time": "2021-07-08T11:46:21.054Z"
   },
   {
    "duration": 27,
    "start_time": "2021-07-08T11:46:21.262Z"
   },
   {
    "duration": 19,
    "start_time": "2021-07-08T11:46:21.291Z"
   },
   {
    "duration": 820,
    "start_time": "2021-07-08T11:49:01.655Z"
   },
   {
    "duration": 372,
    "start_time": "2021-07-08T11:49:02.478Z"
   },
   {
    "duration": 98,
    "start_time": "2021-07-08T11:49:02.853Z"
   },
   {
    "duration": 6,
    "start_time": "2021-07-08T11:49:02.953Z"
   },
   {
    "duration": 39,
    "start_time": "2021-07-08T11:49:02.960Z"
   },
   {
    "duration": 9,
    "start_time": "2021-07-08T11:49:03.003Z"
   },
   {
    "duration": 23,
    "start_time": "2021-07-08T11:49:03.014Z"
   },
   {
    "duration": 6,
    "start_time": "2021-07-08T11:49:03.041Z"
   },
   {
    "duration": 20,
    "start_time": "2021-07-08T11:49:03.049Z"
   },
   {
    "duration": 18,
    "start_time": "2021-07-08T11:49:03.084Z"
   },
   {
    "duration": 14,
    "start_time": "2021-07-08T11:49:03.104Z"
   },
   {
    "duration": 39,
    "start_time": "2021-07-08T11:49:03.119Z"
   },
   {
    "duration": 38,
    "start_time": "2021-07-08T11:49:03.160Z"
   },
   {
    "duration": 26,
    "start_time": "2021-07-08T11:49:03.200Z"
   },
   {
    "duration": 7,
    "start_time": "2021-07-08T11:49:03.227Z"
   },
   {
    "duration": 4,
    "start_time": "2021-07-08T11:49:03.236Z"
   },
   {
    "duration": 15,
    "start_time": "2021-07-08T11:49:03.243Z"
   },
   {
    "duration": 21,
    "start_time": "2021-07-08T11:49:03.285Z"
   },
   {
    "duration": 17,
    "start_time": "2021-07-08T11:49:03.309Z"
   },
   {
    "duration": 10,
    "start_time": "2021-07-08T11:49:03.328Z"
   },
   {
    "duration": 65,
    "start_time": "2021-07-08T11:49:03.340Z"
   },
   {
    "duration": 18,
    "start_time": "2021-07-08T11:49:03.407Z"
   },
   {
    "duration": 8,
    "start_time": "2021-07-08T11:49:03.428Z"
   },
   {
    "duration": 15,
    "start_time": "2021-07-08T11:49:03.438Z"
   },
   {
    "duration": 40,
    "start_time": "2021-07-08T11:49:03.455Z"
   },
   {
    "duration": 12,
    "start_time": "2021-07-08T11:49:03.497Z"
   },
   {
    "duration": 29,
    "start_time": "2021-07-08T11:49:03.511Z"
   },
   {
    "duration": 285,
    "start_time": "2021-07-08T11:49:03.542Z"
   },
   {
    "duration": 8,
    "start_time": "2021-07-08T11:49:03.829Z"
   },
   {
    "duration": 227,
    "start_time": "2021-07-08T11:49:03.838Z"
   },
   {
    "duration": 40,
    "start_time": "2021-07-08T11:49:04.066Z"
   },
   {
    "duration": 10,
    "start_time": "2021-07-08T11:49:04.108Z"
   },
   {
    "duration": 26,
    "start_time": "2021-07-08T11:49:04.121Z"
   },
   {
    "duration": 290,
    "start_time": "2021-07-08T11:49:04.149Z"
   },
   {
    "duration": 26,
    "start_time": "2021-07-08T11:49:04.441Z"
   },
   {
    "duration": 31,
    "start_time": "2021-07-08T11:49:04.470Z"
   },
   {
    "duration": 14,
    "start_time": "2021-07-08T11:49:04.503Z"
   },
   {
    "duration": 259,
    "start_time": "2021-07-08T11:49:04.521Z"
   },
   {
    "duration": 480,
    "start_time": "2021-07-08T11:49:04.782Z"
   },
   {
    "duration": 225,
    "start_time": "2021-07-08T11:49:05.264Z"
   },
   {
    "duration": 22,
    "start_time": "2021-07-08T11:49:05.491Z"
   },
   {
    "duration": 24,
    "start_time": "2021-07-08T11:49:05.515Z"
   },
   {
    "duration": 634,
    "start_time": "2021-07-08T11:52:24.960Z"
   },
   {
    "duration": 199,
    "start_time": "2021-07-08T11:52:25.599Z"
   },
   {
    "duration": 106,
    "start_time": "2021-07-08T11:52:25.803Z"
   },
   {
    "duration": 7,
    "start_time": "2021-07-08T11:52:25.911Z"
   },
   {
    "duration": 29,
    "start_time": "2021-07-08T11:52:25.920Z"
   },
   {
    "duration": 7,
    "start_time": "2021-07-08T11:52:25.951Z"
   },
   {
    "duration": 26,
    "start_time": "2021-07-08T11:52:25.961Z"
   },
   {
    "duration": 11,
    "start_time": "2021-07-08T11:52:25.990Z"
   },
   {
    "duration": 29,
    "start_time": "2021-07-08T11:52:26.005Z"
   },
   {
    "duration": 9,
    "start_time": "2021-07-08T11:52:26.036Z"
   },
   {
    "duration": 8,
    "start_time": "2021-07-08T11:52:26.047Z"
   },
   {
    "duration": 63,
    "start_time": "2021-07-08T11:52:26.057Z"
   },
   {
    "duration": 17,
    "start_time": "2021-07-08T11:52:26.122Z"
   },
   {
    "duration": 43,
    "start_time": "2021-07-08T11:52:26.142Z"
   },
   {
    "duration": 17,
    "start_time": "2021-07-08T11:52:26.187Z"
   },
   {
    "duration": 5,
    "start_time": "2021-07-08T11:52:26.206Z"
   },
   {
    "duration": 12,
    "start_time": "2021-07-08T11:52:26.212Z"
   },
   {
    "duration": 11,
    "start_time": "2021-07-08T11:52:26.226Z"
   },
   {
    "duration": 12,
    "start_time": "2021-07-08T11:52:26.238Z"
   },
   {
    "duration": 38,
    "start_time": "2021-07-08T11:52:26.252Z"
   },
   {
    "duration": 40,
    "start_time": "2021-07-08T11:52:26.292Z"
   },
   {
    "duration": 17,
    "start_time": "2021-07-08T11:52:26.336Z"
   },
   {
    "duration": 39,
    "start_time": "2021-07-08T11:52:26.355Z"
   },
   {
    "duration": 11,
    "start_time": "2021-07-08T11:52:26.395Z"
   },
   {
    "duration": 23,
    "start_time": "2021-07-08T11:52:26.408Z"
   },
   {
    "duration": 12,
    "start_time": "2021-07-08T11:52:26.432Z"
   },
   {
    "duration": 41,
    "start_time": "2021-07-08T11:52:26.446Z"
   },
   {
    "duration": 215,
    "start_time": "2021-07-08T11:52:26.493Z"
   },
   {
    "duration": 8,
    "start_time": "2021-07-08T11:52:26.710Z"
   },
   {
    "duration": 228,
    "start_time": "2021-07-08T11:52:26.720Z"
   },
   {
    "duration": 18,
    "start_time": "2021-07-08T11:52:26.950Z"
   },
   {
    "duration": 35,
    "start_time": "2021-07-08T11:52:26.969Z"
   },
   {
    "duration": 23,
    "start_time": "2021-07-08T11:52:27.006Z"
   },
   {
    "duration": 258,
    "start_time": "2021-07-08T11:52:27.030Z"
   },
   {
    "duration": 24,
    "start_time": "2021-07-08T11:52:27.290Z"
   },
   {
    "duration": 12,
    "start_time": "2021-07-08T11:52:27.316Z"
   },
   {
    "duration": 10,
    "start_time": "2021-07-08T11:52:27.329Z"
   },
   {
    "duration": 298,
    "start_time": "2021-07-08T11:52:27.341Z"
   },
   {
    "duration": 436,
    "start_time": "2021-07-08T11:52:27.641Z"
   },
   {
    "duration": 216,
    "start_time": "2021-07-08T11:52:28.079Z"
   },
   {
    "duration": 20,
    "start_time": "2021-07-08T11:52:28.297Z"
   },
   {
    "duration": 17,
    "start_time": "2021-07-08T11:52:28.319Z"
   },
   {
    "duration": 406,
    "start_time": "2024-01-24T12:50:12.320Z"
   },
   {
    "duration": 84,
    "start_time": "2024-01-24T12:50:12.727Z"
   },
   {
    "duration": 179,
    "start_time": "2024-01-24T12:50:13.456Z"
   },
   {
    "duration": 3,
    "start_time": "2024-01-24T12:50:25.844Z"
   },
   {
    "duration": 61,
    "start_time": "2024-01-24T12:50:26.168Z"
   },
   {
    "duration": 97,
    "start_time": "2024-01-24T12:50:36.526Z"
   },
   {
    "duration": 90,
    "start_time": "2024-01-24T12:51:48.065Z"
   },
   {
    "duration": 91,
    "start_time": "2024-01-24T12:51:55.718Z"
   },
   {
    "duration": 55,
    "start_time": "2024-01-24T13:00:29.821Z"
   },
   {
    "duration": 13,
    "start_time": "2024-01-24T13:00:44.970Z"
   },
   {
    "duration": 10,
    "start_time": "2024-01-24T13:01:11.078Z"
   },
   {
    "duration": 13,
    "start_time": "2024-01-24T13:01:31.729Z"
   },
   {
    "duration": 1631,
    "start_time": "2024-01-24T13:02:32.580Z"
   },
   {
    "duration": 11,
    "start_time": "2024-01-24T13:02:35.424Z"
   },
   {
    "duration": 925,
    "start_time": "2024-01-24T13:02:43.609Z"
   },
   {
    "duration": 5,
    "start_time": "2024-01-24T13:03:24.379Z"
   },
   {
    "duration": 10,
    "start_time": "2024-01-24T13:09:03.154Z"
   },
   {
    "duration": 27,
    "start_time": "2024-01-24T13:09:08.258Z"
   },
   {
    "duration": 26,
    "start_time": "2024-01-24T13:09:37.544Z"
   },
   {
    "duration": 18,
    "start_time": "2024-01-24T13:14:52.708Z"
   },
   {
    "duration": 18,
    "start_time": "2024-01-24T13:21:21.579Z"
   },
   {
    "duration": 14,
    "start_time": "2024-01-24T13:21:28.663Z"
   },
   {
    "duration": 16,
    "start_time": "2024-01-24T13:21:51.954Z"
   },
   {
    "duration": 9,
    "start_time": "2024-01-24T13:26:06.709Z"
   },
   {
    "duration": 8,
    "start_time": "2024-01-24T13:32:09.904Z"
   },
   {
    "duration": 10,
    "start_time": "2024-01-24T13:32:49.243Z"
   },
   {
    "duration": 26,
    "start_time": "2024-01-24T13:32:58.262Z"
   },
   {
    "duration": 19,
    "start_time": "2024-01-24T13:37:59.863Z"
   },
   {
    "duration": 396,
    "start_time": "2024-01-27T11:13:51.116Z"
   },
   {
    "duration": 100,
    "start_time": "2024-01-27T11:13:51.514Z"
   },
   {
    "duration": 9,
    "start_time": "2024-01-27T11:13:51.616Z"
   },
   {
    "duration": 269,
    "start_time": "2024-01-27T11:13:51.627Z"
   },
   {
    "duration": 15,
    "start_time": "2024-01-27T11:13:51.898Z"
   },
   {
    "duration": 16,
    "start_time": "2024-01-27T11:13:51.914Z"
   },
   {
    "duration": 40,
    "start_time": "2024-01-27T11:13:51.931Z"
   },
   {
    "duration": 22,
    "start_time": "2024-01-27T11:13:51.972Z"
   },
   {
    "duration": 22,
    "start_time": "2024-01-27T11:13:51.996Z"
   },
   {
    "duration": 10,
    "start_time": "2024-01-27T11:13:52.020Z"
   },
   {
    "duration": 34,
    "start_time": "2024-01-27T11:13:52.032Z"
   },
   {
    "duration": 14,
    "start_time": "2024-01-27T11:22:59.361Z"
   },
   {
    "duration": 21,
    "start_time": "2024-01-27T11:23:08.597Z"
   },
   {
    "duration": 1028,
    "start_time": "2024-01-27T11:23:20.371Z"
   },
   {
    "duration": 12,
    "start_time": "2024-01-27T11:23:32.129Z"
   },
   {
    "duration": 10,
    "start_time": "2024-01-27T11:23:51.610Z"
   },
   {
    "duration": 698,
    "start_time": "2024-01-27T11:28:56.398Z"
   },
   {
    "duration": 753,
    "start_time": "2024-01-27T11:29:00.066Z"
   },
   {
    "duration": 9,
    "start_time": "2024-01-27T11:29:08.625Z"
   },
   {
    "duration": 10,
    "start_time": "2024-01-27T11:31:50.650Z"
   },
   {
    "duration": 4,
    "start_time": "2024-01-27T11:32:54.739Z"
   },
   {
    "duration": 8,
    "start_time": "2024-01-27T11:33:01.501Z"
   },
   {
    "duration": 13,
    "start_time": "2024-01-27T11:42:13.534Z"
   },
   {
    "duration": 3,
    "start_time": "2024-01-27T11:43:43.226Z"
   },
   {
    "duration": 11,
    "start_time": "2024-01-27T11:43:52.696Z"
   },
   {
    "duration": 4,
    "start_time": "2024-01-27T11:44:08.313Z"
   },
   {
    "duration": 419,
    "start_time": "2024-01-27T11:50:23.516Z"
   },
   {
    "duration": 474,
    "start_time": "2024-01-27T11:50:34.063Z"
   },
   {
    "duration": 8,
    "start_time": "2024-01-27T11:53:18.326Z"
   },
   {
    "duration": 13,
    "start_time": "2024-01-27T11:53:21.473Z"
   },
   {
    "duration": 18,
    "start_time": "2024-01-27T11:53:38.437Z"
   },
   {
    "duration": 5,
    "start_time": "2024-01-27T12:14:45.612Z"
   },
   {
    "duration": 3,
    "start_time": "2024-01-27T12:14:53.455Z"
   },
   {
    "duration": 15,
    "start_time": "2024-01-27T12:15:13.793Z"
   },
   {
    "duration": 14,
    "start_time": "2024-01-27T12:16:15.053Z"
   },
   {
    "duration": 14,
    "start_time": "2024-01-27T12:17:06.604Z"
   },
   {
    "duration": 22,
    "start_time": "2024-01-27T12:17:17.527Z"
   },
   {
    "duration": 15,
    "start_time": "2024-01-27T12:17:26.662Z"
   },
   {
    "duration": 382,
    "start_time": "2024-01-27T12:17:38.326Z"
   },
   {
    "duration": 58,
    "start_time": "2024-01-27T12:17:38.710Z"
   },
   {
    "duration": 12,
    "start_time": "2024-01-27T12:17:38.770Z"
   },
   {
    "duration": 96,
    "start_time": "2024-01-27T12:17:38.785Z"
   },
   {
    "duration": 14,
    "start_time": "2024-01-27T12:17:38.882Z"
   },
   {
    "duration": 15,
    "start_time": "2024-01-27T12:17:38.898Z"
   },
   {
    "duration": 29,
    "start_time": "2024-01-27T12:17:38.918Z"
   },
   {
    "duration": 16,
    "start_time": "2024-01-27T12:17:38.949Z"
   },
   {
    "duration": 28,
    "start_time": "2024-01-27T12:17:38.966Z"
   },
   {
    "duration": 3,
    "start_time": "2024-01-27T12:17:38.996Z"
   },
   {
    "duration": 17,
    "start_time": "2024-01-27T12:17:39.001Z"
   },
   {
    "duration": 21,
    "start_time": "2024-01-27T12:17:39.020Z"
   },
   {
    "duration": 520,
    "start_time": "2024-01-27T12:17:39.043Z"
   },
   {
    "duration": 0,
    "start_time": "2024-01-27T12:17:39.565Z"
   },
   {
    "duration": 0,
    "start_time": "2024-01-27T12:17:39.566Z"
   },
   {
    "duration": 0,
    "start_time": "2024-01-27T12:17:39.567Z"
   },
   {
    "duration": 878,
    "start_time": "2024-01-27T12:18:28.201Z"
   },
   {
    "duration": 9,
    "start_time": "2024-01-27T12:18:56.471Z"
   },
   {
    "duration": 4,
    "start_time": "2024-01-27T12:25:35.669Z"
   },
   {
    "duration": 8,
    "start_time": "2024-01-27T12:26:38.799Z"
   },
   {
    "duration": 15,
    "start_time": "2024-01-27T12:26:45.200Z"
   },
   {
    "duration": 12,
    "start_time": "2024-01-27T12:36:39.041Z"
   },
   {
    "duration": 6,
    "start_time": "2024-01-27T12:36:40.540Z"
   },
   {
    "duration": 5,
    "start_time": "2024-01-27T12:52:08.878Z"
   },
   {
    "duration": 44,
    "start_time": "2024-01-28T14:36:48.580Z"
   },
   {
    "duration": 406,
    "start_time": "2024-01-28T14:36:58.957Z"
   },
   {
    "duration": 110,
    "start_time": "2024-01-28T14:36:59.365Z"
   },
   {
    "duration": 10,
    "start_time": "2024-01-28T14:36:59.477Z"
   },
   {
    "duration": 248,
    "start_time": "2024-01-28T14:36:59.489Z"
   },
   {
    "duration": 12,
    "start_time": "2024-01-28T14:36:59.739Z"
   },
   {
    "duration": 21,
    "start_time": "2024-01-28T14:36:59.753Z"
   },
   {
    "duration": 38,
    "start_time": "2024-01-28T14:36:59.776Z"
   },
   {
    "duration": 15,
    "start_time": "2024-01-28T14:36:59.815Z"
   },
   {
    "duration": 3,
    "start_time": "2024-01-28T14:36:59.832Z"
   },
   {
    "duration": 16,
    "start_time": "2024-01-28T14:36:59.837Z"
   },
   {
    "duration": 17,
    "start_time": "2024-01-28T14:36:59.854Z"
   },
   {
    "duration": 5,
    "start_time": "2024-01-28T14:36:59.873Z"
   },
   {
    "duration": 19,
    "start_time": "2024-01-28T14:36:59.879Z"
   },
   {
    "duration": 21,
    "start_time": "2024-01-28T14:36:59.899Z"
   },
   {
    "duration": 14,
    "start_time": "2024-01-28T14:36:59.922Z"
   },
   {
    "duration": 7,
    "start_time": "2024-01-28T14:36:59.937Z"
   },
   {
    "duration": 5,
    "start_time": "2024-01-28T14:36:59.946Z"
   },
   {
    "duration": 59,
    "start_time": "2024-01-28T14:37:43.516Z"
   },
   {
    "duration": 8,
    "start_time": "2024-01-28T14:37:47.645Z"
   },
   {
    "duration": 7,
    "start_time": "2024-01-28T14:37:55.804Z"
   },
   {
    "duration": 7,
    "start_time": "2024-01-28T14:38:20.667Z"
   },
   {
    "duration": 4,
    "start_time": "2024-01-28T14:38:46.734Z"
   },
   {
    "duration": 6,
    "start_time": "2024-01-28T14:40:19.880Z"
   },
   {
    "duration": 5,
    "start_time": "2024-01-28T14:40:20.536Z"
   },
   {
    "duration": 4,
    "start_time": "2024-01-28T14:41:06.288Z"
   },
   {
    "duration": 7,
    "start_time": "2024-01-28T14:41:42.131Z"
   },
   {
    "duration": 7,
    "start_time": "2024-01-28T14:44:55.590Z"
   },
   {
    "duration": 70,
    "start_time": "2024-01-28T14:47:01.611Z"
   },
   {
    "duration": 5314,
    "start_time": "2024-01-28T14:47:06.736Z"
   },
   {
    "duration": 7,
    "start_time": "2024-01-28T14:47:35.561Z"
   },
   {
    "duration": 19,
    "start_time": "2024-01-28T14:51:50.666Z"
   },
   {
    "duration": 4,
    "start_time": "2024-01-28T14:51:54.571Z"
   },
   {
    "duration": 7,
    "start_time": "2024-01-28T14:52:06.459Z"
   },
   {
    "duration": 3,
    "start_time": "2024-01-28T14:52:41.392Z"
   },
   {
    "duration": 7,
    "start_time": "2024-01-28T14:52:42.058Z"
   },
   {
    "duration": 3,
    "start_time": "2024-01-28T14:52:47.933Z"
   },
   {
    "duration": 3,
    "start_time": "2024-01-28T14:53:39.784Z"
   },
   {
    "duration": 7,
    "start_time": "2024-01-28T14:53:41.928Z"
   },
   {
    "duration": 3,
    "start_time": "2024-01-28T14:53:46.720Z"
   },
   {
    "duration": 6,
    "start_time": "2024-01-28T14:53:46.920Z"
   },
   {
    "duration": 3,
    "start_time": "2024-01-28T14:53:56.127Z"
   },
   {
    "duration": 6,
    "start_time": "2024-01-28T14:53:56.923Z"
   },
   {
    "duration": 4,
    "start_time": "2024-01-28T14:55:08.066Z"
   },
   {
    "duration": 5,
    "start_time": "2024-01-28T15:00:32.018Z"
   },
   {
    "duration": 4,
    "start_time": "2024-01-28T15:00:48.860Z"
   },
   {
    "duration": 3,
    "start_time": "2024-01-28T15:01:03.655Z"
   },
   {
    "duration": 16,
    "start_time": "2024-01-28T15:04:37.784Z"
   },
   {
    "duration": 16,
    "start_time": "2024-01-28T15:11:51.751Z"
   },
   {
    "duration": 4,
    "start_time": "2024-01-28T15:28:26.861Z"
   },
   {
    "duration": 17,
    "start_time": "2024-01-28T15:28:35.473Z"
   },
   {
    "duration": 5,
    "start_time": "2024-01-28T15:30:17.645Z"
   },
   {
    "duration": 3,
    "start_time": "2024-01-28T15:37:39.593Z"
   },
   {
    "duration": 882,
    "start_time": "2024-01-28T15:38:57.208Z"
   },
   {
    "duration": 901,
    "start_time": "2024-01-28T15:39:03.665Z"
   },
   {
    "duration": 3,
    "start_time": "2024-01-28T15:40:04.925Z"
   },
   {
    "duration": 1014,
    "start_time": "2024-01-28T15:40:05.723Z"
   },
   {
    "duration": 18,
    "start_time": "2024-01-28T15:40:16.213Z"
   },
   {
    "duration": 2,
    "start_time": "2024-01-28T15:40:24.706Z"
   },
   {
    "duration": 1011,
    "start_time": "2024-01-28T15:40:27.261Z"
   },
   {
    "duration": 3,
    "start_time": "2024-01-28T15:40:40.794Z"
   },
   {
    "duration": 899,
    "start_time": "2024-01-28T15:40:41.384Z"
   },
   {
    "duration": 3,
    "start_time": "2024-01-28T15:40:57.627Z"
   },
   {
    "duration": 2,
    "start_time": "2024-01-28T15:41:03.060Z"
   },
   {
    "duration": 902,
    "start_time": "2024-01-28T15:41:06.034Z"
   },
   {
    "duration": 7,
    "start_time": "2024-01-28T15:55:15.105Z"
   },
   {
    "duration": 3,
    "start_time": "2024-01-28T15:55:26.150Z"
   },
   {
    "duration": 11,
    "start_time": "2024-01-28T15:55:35.303Z"
   },
   {
    "duration": 5,
    "start_time": "2024-01-28T15:55:45.028Z"
   },
   {
    "duration": 5,
    "start_time": "2024-01-28T15:55:52.766Z"
   },
   {
    "duration": 4,
    "start_time": "2024-01-28T15:56:01.814Z"
   },
   {
    "duration": 8,
    "start_time": "2024-01-28T15:56:08.106Z"
   },
   {
    "duration": 4,
    "start_time": "2024-01-28T15:56:21.579Z"
   },
   {
    "duration": 3,
    "start_time": "2024-01-28T16:00:43.903Z"
   },
   {
    "duration": 3,
    "start_time": "2024-01-28T16:03:57.886Z"
   },
   {
    "duration": 4,
    "start_time": "2024-01-28T16:04:03.991Z"
   },
   {
    "duration": 4,
    "start_time": "2024-01-28T16:04:15.215Z"
   },
   {
    "duration": 3,
    "start_time": "2024-01-28T16:06:05.578Z"
   },
   {
    "duration": 31,
    "start_time": "2024-01-28T16:19:53.454Z"
   },
   {
    "duration": 6,
    "start_time": "2024-01-28T16:21:10.197Z"
   },
   {
    "duration": 2,
    "start_time": "2024-01-28T16:21:46.062Z"
   },
   {
    "duration": 943,
    "start_time": "2024-01-28T16:21:46.871Z"
   },
   {
    "duration": 3,
    "start_time": "2024-01-28T16:23:56.629Z"
   },
   {
    "duration": 29,
    "start_time": "2024-01-28T16:23:57.102Z"
   },
   {
    "duration": 2,
    "start_time": "2024-01-28T16:24:18.023Z"
   },
   {
    "duration": 28,
    "start_time": "2024-01-28T16:24:18.495Z"
   },
   {
    "duration": 3,
    "start_time": "2024-01-28T16:29:14.220Z"
   },
   {
    "duration": 243,
    "start_time": "2024-01-28T16:29:14.771Z"
   },
   {
    "duration": 3,
    "start_time": "2024-01-28T16:29:34.757Z"
   },
   {
    "duration": 218,
    "start_time": "2024-01-28T16:29:35.100Z"
   },
   {
    "duration": 3,
    "start_time": "2024-01-28T16:29:49.881Z"
   },
   {
    "duration": 208,
    "start_time": "2024-01-28T16:29:51.245Z"
   },
   {
    "duration": 3,
    "start_time": "2024-01-28T16:30:28.097Z"
   },
   {
    "duration": 4,
    "start_time": "2024-01-28T16:30:28.817Z"
   },
   {
    "duration": 3,
    "start_time": "2024-01-28T16:30:48.460Z"
   },
   {
    "duration": 4,
    "start_time": "2024-01-28T16:30:48.642Z"
   },
   {
    "duration": 18,
    "start_time": "2024-01-28T16:31:01.243Z"
   },
   {
    "duration": 2,
    "start_time": "2024-01-28T16:32:07.930Z"
   },
   {
    "duration": 277,
    "start_time": "2024-01-28T16:32:08.220Z"
   },
   {
    "duration": 8,
    "start_time": "2024-01-28T16:33:31.007Z"
   },
   {
    "duration": 2,
    "start_time": "2024-01-28T16:39:07.990Z"
   },
   {
    "duration": 229,
    "start_time": "2024-01-28T16:39:08.163Z"
   },
   {
    "duration": 3,
    "start_time": "2024-01-28T16:39:54.107Z"
   },
   {
    "duration": 227,
    "start_time": "2024-01-28T16:39:54.638Z"
   },
   {
    "duration": 3,
    "start_time": "2024-01-28T16:39:59.024Z"
   },
   {
    "duration": 232,
    "start_time": "2024-01-28T16:39:59.316Z"
   },
   {
    "duration": 3,
    "start_time": "2024-01-28T16:40:06.908Z"
   },
   {
    "duration": 250,
    "start_time": "2024-01-28T16:40:07.095Z"
   },
   {
    "duration": 3,
    "start_time": "2024-01-28T16:40:16.637Z"
   },
   {
    "duration": 140,
    "start_time": "2024-01-28T16:40:17.073Z"
   },
   {
    "duration": 3,
    "start_time": "2024-01-28T16:40:50.231Z"
   },
   {
    "duration": 238,
    "start_time": "2024-01-28T16:40:50.400Z"
   },
   {
    "duration": 3,
    "start_time": "2024-01-28T16:40:54.674Z"
   },
   {
    "duration": 217,
    "start_time": "2024-01-28T16:40:55.110Z"
   },
   {
    "duration": 2,
    "start_time": "2024-01-28T16:42:18.940Z"
   },
   {
    "duration": 3,
    "start_time": "2024-01-28T16:42:24.562Z"
   },
   {
    "duration": 4,
    "start_time": "2024-01-28T16:42:37.514Z"
   },
   {
    "duration": 9,
    "start_time": "2024-01-28T16:43:05.934Z"
   },
   {
    "duration": 5,
    "start_time": "2024-01-28T16:43:14.055Z"
   },
   {
    "duration": 3,
    "start_time": "2024-01-28T16:43:53.815Z"
   },
   {
    "duration": 3,
    "start_time": "2024-01-28T16:43:58.444Z"
   },
   {
    "duration": 20,
    "start_time": "2024-01-28T16:43:58.642Z"
   },
   {
    "duration": 2,
    "start_time": "2024-01-28T16:44:40.913Z"
   },
   {
    "duration": 19,
    "start_time": "2024-01-28T16:44:41.079Z"
   },
   {
    "duration": 6,
    "start_time": "2024-01-28T16:45:17.754Z"
   },
   {
    "duration": 16,
    "start_time": "2024-01-28T16:45:24.827Z"
   },
   {
    "duration": 3,
    "start_time": "2024-01-28T16:45:41.000Z"
   },
   {
    "duration": 6,
    "start_time": "2024-01-28T16:45:41.236Z"
   },
   {
    "duration": 3,
    "start_time": "2024-01-28T17:27:35.772Z"
   },
   {
    "duration": 8,
    "start_time": "2024-01-28T17:27:52.347Z"
   },
   {
    "duration": 7,
    "start_time": "2024-01-28T17:28:00.026Z"
   },
   {
    "duration": 7,
    "start_time": "2024-01-28T17:28:11.233Z"
   },
   {
    "duration": 8,
    "start_time": "2024-01-28T17:28:22.783Z"
   },
   {
    "duration": 8,
    "start_time": "2024-01-28T17:28:36.030Z"
   },
   {
    "duration": 6,
    "start_time": "2024-01-28T17:28:43.021Z"
   },
   {
    "duration": 6,
    "start_time": "2024-01-28T17:28:47.483Z"
   },
   {
    "duration": 405,
    "start_time": "2024-01-28T17:28:53.996Z"
   },
   {
    "duration": 58,
    "start_time": "2024-01-28T17:28:54.402Z"
   },
   {
    "duration": 11,
    "start_time": "2024-01-28T17:28:54.462Z"
   },
   {
    "duration": 103,
    "start_time": "2024-01-28T17:28:54.474Z"
   },
   {
    "duration": 14,
    "start_time": "2024-01-28T17:28:54.579Z"
   },
   {
    "duration": 18,
    "start_time": "2024-01-28T17:28:54.595Z"
   },
   {
    "duration": 36,
    "start_time": "2024-01-28T17:28:54.615Z"
   },
   {
    "duration": 14,
    "start_time": "2024-01-28T17:28:54.653Z"
   },
   {
    "duration": 4,
    "start_time": "2024-01-28T17:28:54.669Z"
   },
   {
    "duration": 18,
    "start_time": "2024-01-28T17:28:54.674Z"
   },
   {
    "duration": 17,
    "start_time": "2024-01-28T17:28:54.694Z"
   },
   {
    "duration": 17,
    "start_time": "2024-01-28T17:28:54.712Z"
   },
   {
    "duration": 18,
    "start_time": "2024-01-28T17:28:54.731Z"
   },
   {
    "duration": 20,
    "start_time": "2024-01-28T17:28:54.751Z"
   },
   {
    "duration": 10,
    "start_time": "2024-01-28T17:28:54.772Z"
   },
   {
    "duration": 11,
    "start_time": "2024-01-28T17:28:54.784Z"
   },
   {
    "duration": 14,
    "start_time": "2024-01-28T17:28:54.796Z"
   },
   {
    "duration": 4,
    "start_time": "2024-01-28T17:28:54.811Z"
   },
   {
    "duration": 5,
    "start_time": "2024-01-28T17:28:54.816Z"
   },
   {
    "duration": 11,
    "start_time": "2024-01-28T17:28:54.822Z"
   },
   {
    "duration": 7,
    "start_time": "2024-01-28T17:28:54.834Z"
   },
   {
    "duration": 16,
    "start_time": "2024-01-28T17:28:54.842Z"
   },
   {
    "duration": 3,
    "start_time": "2024-01-28T17:28:54.859Z"
   },
   {
    "duration": 31,
    "start_time": "2024-01-28T17:28:54.863Z"
   },
   {
    "duration": 5,
    "start_time": "2024-01-28T17:28:54.896Z"
   },
   {
    "duration": 19,
    "start_time": "2024-01-28T17:28:54.902Z"
   },
   {
    "duration": 8,
    "start_time": "2024-01-28T17:29:06.891Z"
   },
   {
    "duration": 5,
    "start_time": "2024-01-28T17:30:05.816Z"
   },
   {
    "duration": 5,
    "start_time": "2024-01-28T17:30:30.853Z"
   },
   {
    "duration": 10,
    "start_time": "2024-01-28T17:31:16.643Z"
   },
   {
    "duration": 10,
    "start_time": "2024-01-28T17:31:19.109Z"
   },
   {
    "duration": 9,
    "start_time": "2024-01-28T17:31:21.864Z"
   },
   {
    "duration": 5,
    "start_time": "2024-01-28T17:31:26.118Z"
   },
   {
    "duration": 7,
    "start_time": "2024-01-28T17:31:31.331Z"
   },
   {
    "duration": 8,
    "start_time": "2024-01-28T17:31:43.171Z"
   },
   {
    "duration": 7,
    "start_time": "2024-01-28T17:31:46.483Z"
   },
   {
    "duration": 8,
    "start_time": "2024-01-28T17:31:58.013Z"
   },
   {
    "duration": 7,
    "start_time": "2024-01-28T17:32:05.955Z"
   },
   {
    "duration": 7,
    "start_time": "2024-01-28T17:32:08.272Z"
   },
   {
    "duration": 6,
    "start_time": "2024-01-28T17:32:09.350Z"
   },
   {
    "duration": 397,
    "start_time": "2024-01-28T17:32:22.002Z"
   },
   {
    "duration": 59,
    "start_time": "2024-01-28T17:32:22.401Z"
   },
   {
    "duration": 11,
    "start_time": "2024-01-28T17:32:22.462Z"
   },
   {
    "duration": 117,
    "start_time": "2024-01-28T17:32:22.474Z"
   },
   {
    "duration": 13,
    "start_time": "2024-01-28T17:32:22.593Z"
   },
   {
    "duration": 34,
    "start_time": "2024-01-28T17:32:22.608Z"
   },
   {
    "duration": 30,
    "start_time": "2024-01-28T17:32:22.644Z"
   },
   {
    "duration": 16,
    "start_time": "2024-01-28T17:32:22.675Z"
   },
   {
    "duration": 60,
    "start_time": "2024-01-28T17:32:22.692Z"
   },
   {
    "duration": 33,
    "start_time": "2024-01-28T17:32:22.753Z"
   },
   {
    "duration": 44,
    "start_time": "2024-01-28T17:32:22.788Z"
   },
   {
    "duration": 11,
    "start_time": "2024-01-28T17:32:22.834Z"
   },
   {
    "duration": 27,
    "start_time": "2024-01-28T17:32:22.847Z"
   },
   {
    "duration": 38,
    "start_time": "2024-01-28T17:32:22.877Z"
   },
   {
    "duration": 21,
    "start_time": "2024-01-28T17:32:22.917Z"
   },
   {
    "duration": 9,
    "start_time": "2024-01-28T17:32:22.939Z"
   },
   {
    "duration": 43,
    "start_time": "2024-01-28T17:32:22.949Z"
   },
   {
    "duration": 22,
    "start_time": "2024-01-28T17:32:22.994Z"
   },
   {
    "duration": 24,
    "start_time": "2024-01-28T17:32:23.018Z"
   },
   {
    "duration": 22,
    "start_time": "2024-01-28T17:32:23.043Z"
   },
   {
    "duration": 30,
    "start_time": "2024-01-28T17:32:23.067Z"
   },
   {
    "duration": 19,
    "start_time": "2024-01-28T17:32:23.098Z"
   },
   {
    "duration": 36,
    "start_time": "2024-01-28T17:32:23.119Z"
   },
   {
    "duration": 3,
    "start_time": "2024-01-28T17:32:23.157Z"
   },
   {
    "duration": 28,
    "start_time": "2024-01-28T17:32:23.162Z"
   },
   {
    "duration": 9,
    "start_time": "2024-01-28T17:32:23.192Z"
   },
   {
    "duration": 27,
    "start_time": "2024-01-28T17:32:23.203Z"
   },
   {
    "duration": 60,
    "start_time": "2024-01-28T17:32:45.122Z"
   },
   {
    "duration": 8,
    "start_time": "2024-01-28T17:32:50.613Z"
   },
   {
    "duration": 8,
    "start_time": "2024-01-28T17:32:53.111Z"
   },
   {
    "duration": 394,
    "start_time": "2024-01-28T17:32:59.202Z"
   },
   {
    "duration": 59,
    "start_time": "2024-01-28T17:32:59.598Z"
   },
   {
    "duration": 10,
    "start_time": "2024-01-28T17:32:59.659Z"
   },
   {
    "duration": 98,
    "start_time": "2024-01-28T17:32:59.670Z"
   },
   {
    "duration": 13,
    "start_time": "2024-01-28T17:32:59.770Z"
   },
   {
    "duration": 8,
    "start_time": "2024-01-28T17:32:59.793Z"
   },
   {
    "duration": 35,
    "start_time": "2024-01-28T17:32:59.802Z"
   },
   {
    "duration": 14,
    "start_time": "2024-01-28T17:32:59.839Z"
   },
   {
    "duration": 6,
    "start_time": "2024-01-28T17:32:59.855Z"
   },
   {
    "duration": 15,
    "start_time": "2024-01-28T17:32:59.863Z"
   },
   {
    "duration": 19,
    "start_time": "2024-01-28T17:32:59.880Z"
   },
   {
    "duration": 5,
    "start_time": "2024-01-28T17:32:59.900Z"
   },
   {
    "duration": 19,
    "start_time": "2024-01-28T17:32:59.906Z"
   },
   {
    "duration": 21,
    "start_time": "2024-01-28T17:32:59.927Z"
   },
   {
    "duration": 10,
    "start_time": "2024-01-28T17:32:59.950Z"
   },
   {
    "duration": 8,
    "start_time": "2024-01-28T17:32:59.961Z"
   },
   {
    "duration": 6,
    "start_time": "2024-01-28T17:32:59.994Z"
   },
   {
    "duration": 9,
    "start_time": "2024-01-28T17:33:00.002Z"
   },
   {
    "duration": 33,
    "start_time": "2024-01-28T17:33:00.013Z"
   },
   {
    "duration": 37,
    "start_time": "2024-01-28T17:33:00.048Z"
   },
   {
    "duration": 73,
    "start_time": "2024-01-28T17:33:00.086Z"
   },
   {
    "duration": 92,
    "start_time": "2024-01-28T17:33:00.161Z"
   },
   {
    "duration": 83,
    "start_time": "2024-01-28T17:33:00.255Z"
   },
   {
    "duration": 31,
    "start_time": "2024-01-28T17:33:00.339Z"
   },
   {
    "duration": 39,
    "start_time": "2024-01-28T17:33:00.371Z"
   },
   {
    "duration": 30,
    "start_time": "2024-01-28T17:33:00.411Z"
   },
   {
    "duration": 29,
    "start_time": "2024-01-28T17:33:00.442Z"
   },
   {
    "duration": 8,
    "start_time": "2024-01-28T17:33:57.145Z"
   },
   {
    "duration": 7,
    "start_time": "2024-01-28T17:34:04.282Z"
   },
   {
    "duration": 10,
    "start_time": "2024-01-28T17:34:07.114Z"
   },
   {
    "duration": 6,
    "start_time": "2024-01-28T17:34:07.850Z"
   },
   {
    "duration": 415,
    "start_time": "2024-01-28T17:34:14.726Z"
   },
   {
    "duration": 59,
    "start_time": "2024-01-28T17:34:15.142Z"
   },
   {
    "duration": 10,
    "start_time": "2024-01-28T17:34:15.203Z"
   },
   {
    "duration": 111,
    "start_time": "2024-01-28T17:34:15.214Z"
   },
   {
    "duration": 14,
    "start_time": "2024-01-28T17:34:15.327Z"
   },
   {
    "duration": 14,
    "start_time": "2024-01-28T17:34:15.342Z"
   },
   {
    "duration": 36,
    "start_time": "2024-01-28T17:34:15.357Z"
   },
   {
    "duration": 17,
    "start_time": "2024-01-28T17:34:15.394Z"
   },
   {
    "duration": 3,
    "start_time": "2024-01-28T17:34:15.412Z"
   },
   {
    "duration": 7,
    "start_time": "2024-01-28T17:34:15.417Z"
   },
   {
    "duration": 15,
    "start_time": "2024-01-28T17:34:15.426Z"
   },
   {
    "duration": 7,
    "start_time": "2024-01-28T17:34:15.442Z"
   },
   {
    "duration": 46,
    "start_time": "2024-01-28T17:34:15.451Z"
   },
   {
    "duration": 43,
    "start_time": "2024-01-28T17:34:15.500Z"
   },
   {
    "duration": 51,
    "start_time": "2024-01-28T17:34:15.545Z"
   },
   {
    "duration": 31,
    "start_time": "2024-01-28T17:34:15.598Z"
   },
   {
    "duration": 13,
    "start_time": "2024-01-28T17:34:15.631Z"
   },
   {
    "duration": 24,
    "start_time": "2024-01-28T17:34:15.646Z"
   },
   {
    "duration": 20,
    "start_time": "2024-01-28T17:34:15.672Z"
   },
   {
    "duration": 44,
    "start_time": "2024-01-28T17:34:15.694Z"
   },
   {
    "duration": 40,
    "start_time": "2024-01-28T17:34:15.741Z"
   },
   {
    "duration": 52,
    "start_time": "2024-01-28T17:34:15.784Z"
   },
   {
    "duration": 43,
    "start_time": "2024-01-28T17:34:15.837Z"
   },
   {
    "duration": 38,
    "start_time": "2024-01-28T17:34:15.882Z"
   },
   {
    "duration": 31,
    "start_time": "2024-01-28T17:34:15.922Z"
   },
   {
    "duration": 35,
    "start_time": "2024-01-28T17:34:15.955Z"
   },
   {
    "duration": 35,
    "start_time": "2024-01-28T17:34:15.992Z"
   },
   {
    "duration": 8,
    "start_time": "2024-01-28T17:35:49.177Z"
   },
   {
    "duration": 8,
    "start_time": "2024-01-28T17:35:51.509Z"
   },
   {
    "duration": 415,
    "start_time": "2024-01-28T17:36:03.379Z"
   },
   {
    "duration": 59,
    "start_time": "2024-01-28T17:36:03.795Z"
   },
   {
    "duration": 11,
    "start_time": "2024-01-28T17:36:03.855Z"
   },
   {
    "duration": 95,
    "start_time": "2024-01-28T17:36:03.867Z"
   },
   {
    "duration": 15,
    "start_time": "2024-01-28T17:36:03.964Z"
   },
   {
    "duration": 15,
    "start_time": "2024-01-28T17:36:03.980Z"
   },
   {
    "duration": 44,
    "start_time": "2024-01-28T17:36:03.997Z"
   },
   {
    "duration": 15,
    "start_time": "2024-01-28T17:36:04.043Z"
   },
   {
    "duration": 3,
    "start_time": "2024-01-28T17:36:04.060Z"
   },
   {
    "duration": 5,
    "start_time": "2024-01-28T17:36:04.064Z"
   },
   {
    "duration": 8,
    "start_time": "2024-01-28T17:36:04.070Z"
   },
   {
    "duration": 14,
    "start_time": "2024-01-28T17:36:04.080Z"
   },
   {
    "duration": 18,
    "start_time": "2024-01-28T17:36:04.095Z"
   },
   {
    "duration": 37,
    "start_time": "2024-01-28T17:36:04.117Z"
   },
   {
    "duration": 11,
    "start_time": "2024-01-28T17:36:04.155Z"
   },
   {
    "duration": 29,
    "start_time": "2024-01-28T17:36:04.168Z"
   },
   {
    "duration": 27,
    "start_time": "2024-01-28T17:36:04.199Z"
   },
   {
    "duration": 22,
    "start_time": "2024-01-28T17:36:04.229Z"
   },
   {
    "duration": 12,
    "start_time": "2024-01-28T17:36:04.252Z"
   },
   {
    "duration": 12,
    "start_time": "2024-01-28T17:36:04.266Z"
   },
   {
    "duration": 9,
    "start_time": "2024-01-28T17:36:04.280Z"
   },
   {
    "duration": 11,
    "start_time": "2024-01-28T17:36:04.291Z"
   },
   {
    "duration": 17,
    "start_time": "2024-01-28T17:36:04.304Z"
   },
   {
    "duration": 3,
    "start_time": "2024-01-28T17:36:04.323Z"
   },
   {
    "duration": 18,
    "start_time": "2024-01-28T17:36:04.328Z"
   },
   {
    "duration": 21,
    "start_time": "2024-01-28T17:36:04.348Z"
   },
   {
    "duration": 48,
    "start_time": "2024-01-28T17:36:04.371Z"
   },
   {
    "duration": 6,
    "start_time": "2024-01-28T17:37:09.167Z"
   },
   {
    "duration": 434,
    "start_time": "2024-01-28T17:37:14.068Z"
   },
   {
    "duration": 59,
    "start_time": "2024-01-28T17:37:14.504Z"
   },
   {
    "duration": 9,
    "start_time": "2024-01-28T17:37:14.564Z"
   },
   {
    "duration": 94,
    "start_time": "2024-01-28T17:37:14.575Z"
   },
   {
    "duration": 13,
    "start_time": "2024-01-28T17:37:14.672Z"
   },
   {
    "duration": 24,
    "start_time": "2024-01-28T17:37:14.686Z"
   },
   {
    "duration": 61,
    "start_time": "2024-01-28T17:37:14.711Z"
   },
   {
    "duration": 14,
    "start_time": "2024-01-28T17:37:14.773Z"
   },
   {
    "duration": 13,
    "start_time": "2024-01-28T17:37:14.789Z"
   },
   {
    "duration": 20,
    "start_time": "2024-01-28T17:37:14.804Z"
   },
   {
    "duration": 37,
    "start_time": "2024-01-28T17:37:14.826Z"
   },
   {
    "duration": 10,
    "start_time": "2024-01-28T17:37:14.864Z"
   },
   {
    "duration": 58,
    "start_time": "2024-01-28T17:37:14.876Z"
   },
   {
    "duration": 47,
    "start_time": "2024-01-28T17:37:14.936Z"
   },
   {
    "duration": 19,
    "start_time": "2024-01-28T17:37:14.984Z"
   },
   {
    "duration": 47,
    "start_time": "2024-01-28T17:37:15.004Z"
   },
   {
    "duration": 37,
    "start_time": "2024-01-28T17:37:15.052Z"
   },
   {
    "duration": 42,
    "start_time": "2024-01-28T17:37:15.090Z"
   },
   {
    "duration": 20,
    "start_time": "2024-01-28T17:37:15.133Z"
   },
   {
    "duration": 38,
    "start_time": "2024-01-28T17:37:15.154Z"
   },
   {
    "duration": 26,
    "start_time": "2024-01-28T17:37:15.194Z"
   },
   {
    "duration": 22,
    "start_time": "2024-01-28T17:37:15.222Z"
   },
   {
    "duration": 45,
    "start_time": "2024-01-28T17:37:15.245Z"
   },
   {
    "duration": 16,
    "start_time": "2024-01-28T17:37:15.292Z"
   },
   {
    "duration": 29,
    "start_time": "2024-01-28T17:37:15.309Z"
   },
   {
    "duration": 19,
    "start_time": "2024-01-28T17:37:15.340Z"
   },
   {
    "duration": 41,
    "start_time": "2024-01-28T17:37:15.360Z"
   },
   {
    "duration": 940,
    "start_time": "2024-01-28T17:38:07.221Z"
   },
   {
    "duration": 6,
    "start_time": "2024-01-28T17:38:55.260Z"
   },
   {
    "duration": 12,
    "start_time": "2024-01-28T17:40:32.992Z"
   },
   {
    "duration": 14,
    "start_time": "2024-01-28T17:40:38.792Z"
   },
   {
    "duration": 401,
    "start_time": "2024-01-28T17:42:12.110Z"
   },
   {
    "duration": 58,
    "start_time": "2024-01-28T17:42:12.513Z"
   },
   {
    "duration": 9,
    "start_time": "2024-01-28T17:42:12.573Z"
   },
   {
    "duration": 107,
    "start_time": "2024-01-28T17:42:12.584Z"
   },
   {
    "duration": 14,
    "start_time": "2024-01-28T17:42:12.693Z"
   },
   {
    "duration": 10,
    "start_time": "2024-01-28T17:42:12.709Z"
   },
   {
    "duration": 40,
    "start_time": "2024-01-28T17:42:12.720Z"
   },
   {
    "duration": 15,
    "start_time": "2024-01-28T17:42:12.763Z"
   },
   {
    "duration": 5,
    "start_time": "2024-01-28T17:42:12.779Z"
   },
   {
    "duration": 9,
    "start_time": "2024-01-28T17:42:12.785Z"
   },
   {
    "duration": 8,
    "start_time": "2024-01-28T17:42:12.795Z"
   },
   {
    "duration": 8,
    "start_time": "2024-01-28T17:42:12.804Z"
   },
   {
    "duration": 24,
    "start_time": "2024-01-28T17:42:12.813Z"
   },
   {
    "duration": 25,
    "start_time": "2024-01-28T17:42:12.839Z"
   },
   {
    "duration": 19,
    "start_time": "2024-01-28T17:42:12.866Z"
   },
   {
    "duration": 8,
    "start_time": "2024-01-28T17:42:12.887Z"
   },
   {
    "duration": 14,
    "start_time": "2024-01-28T17:42:12.896Z"
   },
   {
    "duration": 9,
    "start_time": "2024-01-28T17:42:12.912Z"
   },
   {
    "duration": 5,
    "start_time": "2024-01-28T17:42:12.922Z"
   },
   {
    "duration": 7,
    "start_time": "2024-01-28T17:42:12.928Z"
   },
   {
    "duration": 8,
    "start_time": "2024-01-28T17:42:12.936Z"
   },
   {
    "duration": 15,
    "start_time": "2024-01-28T17:42:12.945Z"
   },
   {
    "duration": 10,
    "start_time": "2024-01-28T17:42:12.962Z"
   },
   {
    "duration": 30,
    "start_time": "2024-01-28T17:42:12.973Z"
   },
   {
    "duration": 14,
    "start_time": "2024-01-28T17:42:13.004Z"
   },
   {
    "duration": 2,
    "start_time": "2024-01-28T17:42:13.020Z"
   },
   {
    "duration": 17,
    "start_time": "2024-01-28T17:42:13.024Z"
   },
   {
    "duration": 13,
    "start_time": "2024-01-28T17:42:13.042Z"
   },
   {
    "duration": 17,
    "start_time": "2024-01-28T17:42:13.057Z"
   },
   {
    "duration": 17,
    "start_time": "2024-01-28T17:42:25.259Z"
   },
   {
    "duration": 6,
    "start_time": "2024-01-28T17:42:39.542Z"
   },
   {
    "duration": 7,
    "start_time": "2024-01-28T17:42:40.039Z"
   },
   {
    "duration": 12,
    "start_time": "2024-01-28T17:42:40.680Z"
   },
   {
    "duration": 7,
    "start_time": "2024-01-28T17:42:43.662Z"
   },
   {
    "duration": 407,
    "start_time": "2024-01-28T17:42:51.488Z"
   },
   {
    "duration": 58,
    "start_time": "2024-01-28T17:42:51.897Z"
   },
   {
    "duration": 10,
    "start_time": "2024-01-28T17:42:51.957Z"
   },
   {
    "duration": 101,
    "start_time": "2024-01-28T17:42:51.968Z"
   },
   {
    "duration": 15,
    "start_time": "2024-01-28T17:42:52.071Z"
   },
   {
    "duration": 9,
    "start_time": "2024-01-28T17:42:52.087Z"
   },
   {
    "duration": 28,
    "start_time": "2024-01-28T17:42:52.097Z"
   },
   {
    "duration": 14,
    "start_time": "2024-01-28T17:42:52.127Z"
   },
   {
    "duration": 3,
    "start_time": "2024-01-28T17:42:52.143Z"
   },
   {
    "duration": 11,
    "start_time": "2024-01-28T17:42:52.147Z"
   },
   {
    "duration": 8,
    "start_time": "2024-01-28T17:42:52.160Z"
   },
   {
    "duration": 25,
    "start_time": "2024-01-28T17:42:52.170Z"
   },
   {
    "duration": 21,
    "start_time": "2024-01-28T17:42:52.196Z"
   },
   {
    "duration": 33,
    "start_time": "2024-01-28T17:42:52.220Z"
   },
   {
    "duration": 11,
    "start_time": "2024-01-28T17:42:52.255Z"
   },
   {
    "duration": 16,
    "start_time": "2024-01-28T17:42:52.267Z"
   },
   {
    "duration": 14,
    "start_time": "2024-01-28T17:42:52.284Z"
   },
   {
    "duration": 19,
    "start_time": "2024-01-28T17:42:52.299Z"
   },
   {
    "duration": 6,
    "start_time": "2024-01-28T17:42:52.320Z"
   },
   {
    "duration": 20,
    "start_time": "2024-01-28T17:42:52.327Z"
   },
   {
    "duration": 12,
    "start_time": "2024-01-28T17:42:52.348Z"
   },
   {
    "duration": 11,
    "start_time": "2024-01-28T17:42:52.361Z"
   },
   {
    "duration": 16,
    "start_time": "2024-01-28T17:42:52.373Z"
   },
   {
    "duration": 27,
    "start_time": "2024-01-28T17:42:52.390Z"
   },
   {
    "duration": 26,
    "start_time": "2024-01-28T17:42:52.419Z"
   },
   {
    "duration": 12,
    "start_time": "2024-01-28T17:42:52.446Z"
   },
   {
    "duration": 10,
    "start_time": "2024-01-28T17:42:52.459Z"
   },
   {
    "duration": 22,
    "start_time": "2024-01-28T17:42:52.470Z"
   },
   {
    "duration": 22,
    "start_time": "2024-01-28T17:42:52.494Z"
   },
   {
    "duration": 7,
    "start_time": "2024-01-28T17:43:19.608Z"
   },
   {
    "duration": 8,
    "start_time": "2024-01-28T17:43:27.976Z"
   },
   {
    "duration": 15,
    "start_time": "2024-01-28T17:43:28.500Z"
   },
   {
    "duration": 6,
    "start_time": "2024-01-28T17:43:50.549Z"
   },
   {
    "duration": 6,
    "start_time": "2024-01-28T17:43:51.189Z"
   },
   {
    "duration": 11,
    "start_time": "2024-01-28T17:43:51.524Z"
   },
   {
    "duration": 353,
    "start_time": "2024-01-28T17:43:58.141Z"
   },
   {
    "duration": 59,
    "start_time": "2024-01-28T17:43:58.496Z"
   },
   {
    "duration": 10,
    "start_time": "2024-01-28T17:43:58.557Z"
   },
   {
    "duration": 92,
    "start_time": "2024-01-28T17:43:58.568Z"
   },
   {
    "duration": 14,
    "start_time": "2024-01-28T17:43:58.662Z"
   },
   {
    "duration": 19,
    "start_time": "2024-01-28T17:43:58.677Z"
   },
   {
    "duration": 28,
    "start_time": "2024-01-28T17:43:58.697Z"
   },
   {
    "duration": 15,
    "start_time": "2024-01-28T17:43:58.727Z"
   },
   {
    "duration": 3,
    "start_time": "2024-01-28T17:43:58.744Z"
   },
   {
    "duration": 9,
    "start_time": "2024-01-28T17:43:58.748Z"
   },
   {
    "duration": 12,
    "start_time": "2024-01-28T17:43:58.758Z"
   },
   {
    "duration": 34,
    "start_time": "2024-01-28T17:43:58.772Z"
   },
   {
    "duration": 31,
    "start_time": "2024-01-28T17:43:58.808Z"
   },
   {
    "duration": 31,
    "start_time": "2024-01-28T17:43:58.841Z"
   },
   {
    "duration": 10,
    "start_time": "2024-01-28T17:43:58.873Z"
   },
   {
    "duration": 8,
    "start_time": "2024-01-28T17:43:58.884Z"
   },
   {
    "duration": 16,
    "start_time": "2024-01-28T17:43:58.893Z"
   },
   {
    "duration": 12,
    "start_time": "2024-01-28T17:43:58.911Z"
   },
   {
    "duration": 10,
    "start_time": "2024-01-28T17:43:58.924Z"
   },
   {
    "duration": 24,
    "start_time": "2024-01-28T17:43:58.936Z"
   },
   {
    "duration": 20,
    "start_time": "2024-01-28T17:43:58.961Z"
   },
   {
    "duration": 10,
    "start_time": "2024-01-28T17:43:58.982Z"
   },
   {
    "duration": 35,
    "start_time": "2024-01-28T17:43:58.994Z"
   },
   {
    "duration": 22,
    "start_time": "2024-01-28T17:43:59.031Z"
   },
   {
    "duration": 20,
    "start_time": "2024-01-28T17:43:59.054Z"
   },
   {
    "duration": 3,
    "start_time": "2024-01-28T17:43:59.075Z"
   },
   {
    "duration": 16,
    "start_time": "2024-01-28T17:43:59.080Z"
   },
   {
    "duration": 11,
    "start_time": "2024-01-28T17:43:59.098Z"
   },
   {
    "duration": 20,
    "start_time": "2024-01-28T17:43:59.111Z"
   },
   {
    "duration": 6,
    "start_time": "2024-01-28T17:44:47.230Z"
   },
   {
    "duration": 6,
    "start_time": "2024-01-28T17:44:48.127Z"
   },
   {
    "duration": 354,
    "start_time": "2024-01-28T17:44:52.353Z"
   },
   {
    "duration": 59,
    "start_time": "2024-01-28T17:44:52.709Z"
   },
   {
    "duration": 10,
    "start_time": "2024-01-28T17:44:52.770Z"
   },
   {
    "duration": 107,
    "start_time": "2024-01-28T17:44:52.782Z"
   },
   {
    "duration": 15,
    "start_time": "2024-01-28T17:44:52.891Z"
   },
   {
    "duration": 33,
    "start_time": "2024-01-28T17:44:52.908Z"
   },
   {
    "duration": 39,
    "start_time": "2024-01-28T17:44:52.942Z"
   },
   {
    "duration": 23,
    "start_time": "2024-01-28T17:44:52.983Z"
   },
   {
    "duration": 27,
    "start_time": "2024-01-28T17:44:53.007Z"
   },
   {
    "duration": 9,
    "start_time": "2024-01-28T17:44:53.037Z"
   },
   {
    "duration": 32,
    "start_time": "2024-01-28T17:44:53.048Z"
   },
   {
    "duration": 8,
    "start_time": "2024-01-28T17:44:53.082Z"
   },
   {
    "duration": 37,
    "start_time": "2024-01-28T17:44:53.092Z"
   },
   {
    "duration": 41,
    "start_time": "2024-01-28T17:44:53.131Z"
   },
   {
    "duration": 14,
    "start_time": "2024-01-28T17:44:53.174Z"
   },
   {
    "duration": 25,
    "start_time": "2024-01-28T17:44:53.190Z"
   },
   {
    "duration": 38,
    "start_time": "2024-01-28T17:44:53.216Z"
   },
   {
    "duration": 14,
    "start_time": "2024-01-28T17:44:53.256Z"
   },
   {
    "duration": 38,
    "start_time": "2024-01-28T17:44:53.272Z"
   },
   {
    "duration": 30,
    "start_time": "2024-01-28T17:44:53.312Z"
   },
   {
    "duration": 20,
    "start_time": "2024-01-28T17:44:53.343Z"
   },
   {
    "duration": 20,
    "start_time": "2024-01-28T17:44:53.364Z"
   },
   {
    "duration": 22,
    "start_time": "2024-01-28T17:44:53.385Z"
   },
   {
    "duration": 35,
    "start_time": "2024-01-28T17:44:53.408Z"
   },
   {
    "duration": 21,
    "start_time": "2024-01-28T17:44:53.444Z"
   },
   {
    "duration": 3,
    "start_time": "2024-01-28T17:44:53.466Z"
   },
   {
    "duration": 21,
    "start_time": "2024-01-28T17:44:53.470Z"
   },
   {
    "duration": 19,
    "start_time": "2024-01-28T17:44:53.493Z"
   },
   {
    "duration": 64,
    "start_time": "2024-01-28T17:44:53.514Z"
   },
   {
    "duration": 7,
    "start_time": "2024-01-28T17:45:05.947Z"
   },
   {
    "duration": 8,
    "start_time": "2024-01-28T17:45:25.227Z"
   },
   {
    "duration": 10,
    "start_time": "2024-01-28T17:45:28.573Z"
   },
   {
    "duration": 7,
    "start_time": "2024-01-28T17:45:32.304Z"
   },
   {
    "duration": 7,
    "start_time": "2024-01-28T17:45:35.098Z"
   },
   {
    "duration": 6,
    "start_time": "2024-01-28T17:45:36.701Z"
   },
   {
    "duration": 6,
    "start_time": "2024-01-28T17:45:40.110Z"
   },
   {
    "duration": 5,
    "start_time": "2024-01-28T17:45:42.174Z"
   },
   {
    "duration": 408,
    "start_time": "2024-01-28T17:45:46.386Z"
   },
   {
    "duration": 62,
    "start_time": "2024-01-28T17:45:46.796Z"
   },
   {
    "duration": 10,
    "start_time": "2024-01-28T17:45:46.860Z"
   },
   {
    "duration": 98,
    "start_time": "2024-01-28T17:45:46.872Z"
   },
   {
    "duration": 14,
    "start_time": "2024-01-28T17:45:46.972Z"
   },
   {
    "duration": 23,
    "start_time": "2024-01-28T17:45:46.993Z"
   },
   {
    "duration": 53,
    "start_time": "2024-01-28T17:45:47.017Z"
   },
   {
    "duration": 23,
    "start_time": "2024-01-28T17:45:47.072Z"
   },
   {
    "duration": 17,
    "start_time": "2024-01-28T17:45:47.097Z"
   },
   {
    "duration": 24,
    "start_time": "2024-01-28T17:45:47.116Z"
   },
   {
    "duration": 42,
    "start_time": "2024-01-28T17:45:47.141Z"
   },
   {
    "duration": 10,
    "start_time": "2024-01-28T17:45:47.184Z"
   },
   {
    "duration": 31,
    "start_time": "2024-01-28T17:45:47.196Z"
   },
   {
    "duration": 42,
    "start_time": "2024-01-28T17:45:47.229Z"
   },
   {
    "duration": 27,
    "start_time": "2024-01-28T17:45:47.273Z"
   },
   {
    "duration": 31,
    "start_time": "2024-01-28T17:45:47.301Z"
   },
   {
    "duration": 19,
    "start_time": "2024-01-28T17:45:47.333Z"
   },
   {
    "duration": 18,
    "start_time": "2024-01-28T17:45:47.353Z"
   },
   {
    "duration": 17,
    "start_time": "2024-01-28T17:45:47.373Z"
   },
   {
    "duration": 19,
    "start_time": "2024-01-28T17:45:47.391Z"
   },
   {
    "duration": 29,
    "start_time": "2024-01-28T17:45:47.412Z"
   },
   {
    "duration": 31,
    "start_time": "2024-01-28T17:45:47.443Z"
   },
   {
    "duration": 14,
    "start_time": "2024-01-28T17:45:47.475Z"
   },
   {
    "duration": 51,
    "start_time": "2024-01-28T17:45:47.491Z"
   },
   {
    "duration": 116,
    "start_time": "2024-01-28T17:45:47.543Z"
   },
   {
    "duration": 17,
    "start_time": "2024-01-28T17:45:47.660Z"
   },
   {
    "duration": 31,
    "start_time": "2024-01-28T17:45:47.679Z"
   },
   {
    "duration": 24,
    "start_time": "2024-01-28T17:45:47.712Z"
   },
   {
    "duration": 45,
    "start_time": "2024-01-28T17:45:47.737Z"
   },
   {
    "duration": 5,
    "start_time": "2024-01-28T17:46:07.757Z"
   },
   {
    "duration": 5,
    "start_time": "2024-01-28T17:46:10.253Z"
   },
   {
    "duration": 6,
    "start_time": "2024-01-28T17:46:19.013Z"
   },
   {
    "duration": 396,
    "start_time": "2024-01-28T17:46:22.960Z"
   },
   {
    "duration": 63,
    "start_time": "2024-01-28T17:46:23.358Z"
   },
   {
    "duration": 10,
    "start_time": "2024-01-28T17:46:23.423Z"
   },
   {
    "duration": 119,
    "start_time": "2024-01-28T17:46:23.434Z"
   },
   {
    "duration": 13,
    "start_time": "2024-01-28T17:46:23.555Z"
   },
   {
    "duration": 28,
    "start_time": "2024-01-28T17:46:23.570Z"
   },
   {
    "duration": 56,
    "start_time": "2024-01-28T17:46:23.599Z"
   },
   {
    "duration": 15,
    "start_time": "2024-01-28T17:46:23.656Z"
   },
   {
    "duration": 16,
    "start_time": "2024-01-28T17:46:23.672Z"
   },
   {
    "duration": 23,
    "start_time": "2024-01-28T17:46:23.690Z"
   },
   {
    "duration": 41,
    "start_time": "2024-01-28T17:46:23.715Z"
   },
   {
    "duration": 39,
    "start_time": "2024-01-28T17:46:23.757Z"
   },
   {
    "duration": 46,
    "start_time": "2024-01-28T17:46:23.797Z"
   },
   {
    "duration": 37,
    "start_time": "2024-01-28T17:46:23.845Z"
   },
   {
    "duration": 35,
    "start_time": "2024-01-28T17:46:23.884Z"
   },
   {
    "duration": 29,
    "start_time": "2024-01-28T17:46:23.921Z"
   },
   {
    "duration": 29,
    "start_time": "2024-01-28T17:46:23.952Z"
   },
   {
    "duration": 23,
    "start_time": "2024-01-28T17:46:23.982Z"
   },
   {
    "duration": 36,
    "start_time": "2024-01-28T17:46:24.006Z"
   },
   {
    "duration": 27,
    "start_time": "2024-01-28T17:46:24.043Z"
   },
   {
    "duration": 34,
    "start_time": "2024-01-28T17:46:24.072Z"
   },
   {
    "duration": 30,
    "start_time": "2024-01-28T17:46:24.107Z"
   },
   {
    "duration": 32,
    "start_time": "2024-01-28T17:46:24.138Z"
   },
   {
    "duration": 37,
    "start_time": "2024-01-28T17:46:24.171Z"
   },
   {
    "duration": 17,
    "start_time": "2024-01-28T17:46:24.209Z"
   },
   {
    "duration": 34,
    "start_time": "2024-01-28T17:46:24.227Z"
   },
   {
    "duration": 40,
    "start_time": "2024-01-28T17:46:24.263Z"
   },
   {
    "duration": 34,
    "start_time": "2024-01-28T17:46:24.306Z"
   },
   {
    "duration": 58,
    "start_time": "2024-01-28T17:46:24.342Z"
   },
   {
    "duration": 17,
    "start_time": "2024-01-28T17:46:43.023Z"
   },
   {
    "duration": 33,
    "start_time": "2024-01-28T18:06:55.830Z"
   },
   {
    "duration": 30,
    "start_time": "2024-01-28T18:07:05.619Z"
   },
   {
    "duration": 75,
    "start_time": "2024-01-28T18:07:49.927Z"
   },
   {
    "duration": 69,
    "start_time": "2024-01-28T18:07:55.239Z"
   },
   {
    "duration": 15,
    "start_time": "2024-01-28T18:08:13.961Z"
   },
   {
    "duration": 7,
    "start_time": "2024-01-28T18:08:52.522Z"
   },
   {
    "duration": 7,
    "start_time": "2024-01-28T18:08:55.054Z"
   },
   {
    "duration": 28,
    "start_time": "2024-01-28T18:09:00.798Z"
   },
   {
    "duration": 15,
    "start_time": "2024-01-28T18:09:11.853Z"
   },
   {
    "duration": 36,
    "start_time": "2024-01-28T18:09:18.792Z"
   },
   {
    "duration": 28,
    "start_time": "2024-01-28T18:09:38.469Z"
   },
   {
    "duration": 137,
    "start_time": "2024-01-29T13:18:57.628Z"
   },
   {
    "duration": 90,
    "start_time": "2024-01-29T13:19:12.975Z"
   },
   {
    "duration": 413,
    "start_time": "2024-01-29T13:20:56.689Z"
   },
   {
    "duration": 100,
    "start_time": "2024-01-29T13:20:57.103Z"
   },
   {
    "duration": 11,
    "start_time": "2024-01-29T13:20:57.205Z"
   },
   {
    "duration": 179,
    "start_time": "2024-01-29T13:20:57.218Z"
   },
   {
    "duration": 15,
    "start_time": "2024-01-29T13:20:57.399Z"
   },
   {
    "duration": 9,
    "start_time": "2024-01-29T13:20:57.415Z"
   },
   {
    "duration": 34,
    "start_time": "2024-01-29T13:20:57.425Z"
   },
   {
    "duration": 14,
    "start_time": "2024-01-29T13:20:57.460Z"
   },
   {
    "duration": 6,
    "start_time": "2024-01-29T13:20:57.476Z"
   },
   {
    "duration": 3,
    "start_time": "2024-01-29T13:20:57.485Z"
   },
   {
    "duration": 12,
    "start_time": "2024-01-29T13:20:57.489Z"
   },
   {
    "duration": 16,
    "start_time": "2024-01-29T13:20:57.502Z"
   },
   {
    "duration": 22,
    "start_time": "2024-01-29T13:20:57.520Z"
   },
   {
    "duration": 31,
    "start_time": "2024-01-29T13:20:57.543Z"
   },
   {
    "duration": 10,
    "start_time": "2024-01-29T13:20:57.576Z"
   },
   {
    "duration": 8,
    "start_time": "2024-01-29T13:20:57.587Z"
   },
   {
    "duration": 24,
    "start_time": "2024-01-29T13:20:57.596Z"
   },
   {
    "duration": 4,
    "start_time": "2024-01-29T13:20:57.622Z"
   },
   {
    "duration": 6,
    "start_time": "2024-01-29T13:20:57.627Z"
   },
   {
    "duration": 8,
    "start_time": "2024-01-29T13:20:57.634Z"
   },
   {
    "duration": 41,
    "start_time": "2024-01-29T13:20:57.644Z"
   },
   {
    "duration": 10,
    "start_time": "2024-01-29T13:20:57.686Z"
   },
   {
    "duration": 10,
    "start_time": "2024-01-29T13:20:57.697Z"
   },
   {
    "duration": 14,
    "start_time": "2024-01-29T13:20:57.709Z"
   },
   {
    "duration": 3,
    "start_time": "2024-01-29T13:20:57.724Z"
   },
   {
    "duration": 9,
    "start_time": "2024-01-29T13:20:57.728Z"
   },
   {
    "duration": 21,
    "start_time": "2024-01-29T13:20:57.739Z"
   },
   {
    "duration": 17,
    "start_time": "2024-01-29T13:20:57.763Z"
   },
   {
    "duration": 71,
    "start_time": "2024-01-29T13:20:57.782Z"
   },
   {
    "duration": 0,
    "start_time": "2024-01-29T13:20:57.855Z"
   },
   {
    "duration": 33,
    "start_time": "2024-01-29T13:21:06.970Z"
   },
   {
    "duration": 100,
    "start_time": "2024-01-29T13:21:09.870Z"
   },
   {
    "duration": 5,
    "start_time": "2024-01-29T13:21:56.803Z"
   },
   {
    "duration": 6,
    "start_time": "2024-01-29T13:22:03.984Z"
   },
   {
    "duration": 6,
    "start_time": "2024-01-29T13:22:34.679Z"
   },
   {
    "duration": 29,
    "start_time": "2024-01-29T13:22:41.696Z"
   },
   {
    "duration": 30,
    "start_time": "2024-01-29T13:23:28.664Z"
   },
   {
    "duration": 5,
    "start_time": "2024-01-29T13:44:57.471Z"
   },
   {
    "duration": 457,
    "start_time": "2024-01-29T13:55:55.483Z"
   },
   {
    "duration": 107,
    "start_time": "2024-01-29T13:58:02.600Z"
   },
   {
    "duration": 78,
    "start_time": "2024-01-29T13:58:10.566Z"
   },
   {
    "duration": 136,
    "start_time": "2024-01-29T13:58:51.284Z"
   },
   {
    "duration": 20,
    "start_time": "2024-01-29T14:02:26.701Z"
   },
   {
    "duration": 17,
    "start_time": "2024-01-29T14:04:23.448Z"
   },
   {
    "duration": 17,
    "start_time": "2024-01-29T14:04:27.163Z"
   },
   {
    "duration": 128,
    "start_time": "2024-01-29T14:04:42.279Z"
   },
   {
    "duration": 29,
    "start_time": "2024-01-29T14:25:33.307Z"
   },
   {
    "duration": 37,
    "start_time": "2024-01-29T14:26:06.729Z"
   },
   {
    "duration": 22,
    "start_time": "2024-01-29T14:27:31.249Z"
   },
   {
    "duration": 4,
    "start_time": "2024-01-29T14:27:45.215Z"
   },
   {
    "duration": 4,
    "start_time": "2024-01-29T14:27:49.015Z"
   },
   {
    "duration": 4,
    "start_time": "2024-01-29T14:27:58.028Z"
   },
   {
    "duration": 5,
    "start_time": "2024-01-29T14:28:34.443Z"
   },
   {
    "duration": 4,
    "start_time": "2024-01-29T14:28:47.093Z"
   },
   {
    "duration": 32,
    "start_time": "2024-01-29T14:29:02.232Z"
   },
   {
    "duration": 7,
    "start_time": "2024-01-29T14:30:18.233Z"
   },
   {
    "duration": 432,
    "start_time": "2024-01-29T14:30:28.910Z"
   },
   {
    "duration": 60,
    "start_time": "2024-01-29T14:30:29.344Z"
   },
   {
    "duration": 10,
    "start_time": "2024-01-29T14:30:29.405Z"
   },
   {
    "duration": 97,
    "start_time": "2024-01-29T14:30:29.417Z"
   },
   {
    "duration": 17,
    "start_time": "2024-01-29T14:30:29.515Z"
   },
   {
    "duration": 13,
    "start_time": "2024-01-29T14:30:29.535Z"
   },
   {
    "duration": 29,
    "start_time": "2024-01-29T14:30:29.549Z"
   },
   {
    "duration": 18,
    "start_time": "2024-01-29T14:30:29.579Z"
   },
   {
    "duration": 8,
    "start_time": "2024-01-29T14:30:29.625Z"
   },
   {
    "duration": 5,
    "start_time": "2024-01-29T14:30:29.638Z"
   },
   {
    "duration": 5,
    "start_time": "2024-01-29T14:30:29.646Z"
   },
   {
    "duration": 14,
    "start_time": "2024-01-29T14:30:29.653Z"
   },
   {
    "duration": 5,
    "start_time": "2024-01-29T14:30:29.669Z"
   },
   {
    "duration": 25,
    "start_time": "2024-01-29T14:30:29.676Z"
   },
   {
    "duration": 33,
    "start_time": "2024-01-29T14:30:29.703Z"
   },
   {
    "duration": 12,
    "start_time": "2024-01-29T14:30:29.737Z"
   },
   {
    "duration": 7,
    "start_time": "2024-01-29T14:30:29.751Z"
   },
   {
    "duration": 7,
    "start_time": "2024-01-29T14:30:29.760Z"
   },
   {
    "duration": 5,
    "start_time": "2024-01-29T14:30:29.768Z"
   },
   {
    "duration": 9,
    "start_time": "2024-01-29T14:30:29.774Z"
   },
   {
    "duration": 51,
    "start_time": "2024-01-29T14:30:29.784Z"
   },
   {
    "duration": 6,
    "start_time": "2024-01-29T14:30:29.837Z"
   },
   {
    "duration": 7,
    "start_time": "2024-01-29T14:30:29.844Z"
   },
   {
    "duration": 7,
    "start_time": "2024-01-29T14:30:29.852Z"
   },
   {
    "duration": 26,
    "start_time": "2024-01-29T14:30:29.861Z"
   },
   {
    "duration": 3,
    "start_time": "2024-01-29T14:30:29.889Z"
   },
   {
    "duration": 31,
    "start_time": "2024-01-29T14:30:29.894Z"
   },
   {
    "duration": 11,
    "start_time": "2024-01-29T14:30:29.929Z"
   },
   {
    "duration": 20,
    "start_time": "2024-01-29T14:30:29.941Z"
   },
   {
    "duration": 31,
    "start_time": "2024-01-29T14:30:29.963Z"
   },
   {
    "duration": 49,
    "start_time": "2024-01-29T14:30:29.995Z"
   },
   {
    "duration": 402,
    "start_time": "2024-01-29T14:30:30.046Z"
   },
   {
    "duration": 124,
    "start_time": "2024-01-29T14:33:10.231Z"
   },
   {
    "duration": 127,
    "start_time": "2024-01-29T14:33:34.245Z"
   },
   {
    "duration": 150,
    "start_time": "2024-01-29T14:35:35.205Z"
   },
   {
    "duration": 95,
    "start_time": "2024-01-29T15:07:11.675Z"
   },
   {
    "duration": 203,
    "start_time": "2024-01-29T15:07:19.196Z"
   },
   {
    "duration": 12,
    "start_time": "2024-01-29T15:12:03.939Z"
   },
   {
    "duration": 12,
    "start_time": "2024-01-29T15:12:15.415Z"
   },
   {
    "duration": 131,
    "start_time": "2024-01-29T15:12:20.127Z"
   },
   {
    "duration": 15,
    "start_time": "2024-01-29T15:13:13.950Z"
   },
   {
    "duration": 16,
    "start_time": "2024-01-29T15:13:27.813Z"
   },
   {
    "duration": 15,
    "start_time": "2024-01-29T15:13:38.269Z"
   },
   {
    "duration": 20,
    "start_time": "2024-01-29T15:13:52.663Z"
   },
   {
    "duration": 85,
    "start_time": "2024-01-29T15:14:10.778Z"
   },
   {
    "duration": 136,
    "start_time": "2024-01-29T15:14:20.352Z"
   },
   {
    "duration": 12,
    "start_time": "2024-01-29T15:15:19.099Z"
   },
   {
    "duration": 12,
    "start_time": "2024-01-29T15:15:43.785Z"
   },
   {
    "duration": 149,
    "start_time": "2024-01-29T15:16:02.905Z"
   },
   {
    "duration": 158,
    "start_time": "2024-01-29T15:19:34.586Z"
   },
   {
    "duration": 86,
    "start_time": "2024-01-29T15:21:09.034Z"
   },
   {
    "duration": 10,
    "start_time": "2024-01-29T15:21:19.520Z"
   },
   {
    "duration": 16,
    "start_time": "2024-01-29T15:21:25.414Z"
   },
   {
    "duration": 153,
    "start_time": "2024-01-29T15:24:22.790Z"
   },
   {
    "duration": 83,
    "start_time": "2024-01-29T15:32:47.227Z"
   },
   {
    "duration": 8,
    "start_time": "2024-01-29T15:33:00.361Z"
   },
   {
    "duration": 7,
    "start_time": "2024-01-29T15:33:12.804Z"
   },
   {
    "duration": 348,
    "start_time": "2024-01-29T15:33:32.170Z"
   },
   {
    "duration": 2,
    "start_time": "2024-01-29T15:33:32.520Z"
   },
   {
    "duration": 63,
    "start_time": "2024-01-29T15:33:32.524Z"
   },
   {
    "duration": 10,
    "start_time": "2024-01-29T15:33:32.588Z"
   },
   {
    "duration": 97,
    "start_time": "2024-01-29T15:33:32.600Z"
   },
   {
    "duration": 14,
    "start_time": "2024-01-29T15:33:32.698Z"
   },
   {
    "duration": 12,
    "start_time": "2024-01-29T15:33:32.717Z"
   },
   {
    "duration": 33,
    "start_time": "2024-01-29T15:33:32.730Z"
   },
   {
    "duration": 16,
    "start_time": "2024-01-29T15:33:32.765Z"
   },
   {
    "duration": 5,
    "start_time": "2024-01-29T15:33:32.783Z"
   },
   {
    "duration": 3,
    "start_time": "2024-01-29T15:33:32.790Z"
   },
   {
    "duration": 24,
    "start_time": "2024-01-29T15:33:32.794Z"
   },
   {
    "duration": 12,
    "start_time": "2024-01-29T15:33:32.820Z"
   },
   {
    "duration": 14,
    "start_time": "2024-01-29T15:33:32.834Z"
   },
   {
    "duration": 21,
    "start_time": "2024-01-29T15:33:32.849Z"
   },
   {
    "duration": 19,
    "start_time": "2024-01-29T15:33:32.872Z"
   },
   {
    "duration": 11,
    "start_time": "2024-01-29T15:33:32.893Z"
   },
   {
    "duration": 7,
    "start_time": "2024-01-29T15:33:32.918Z"
   },
   {
    "duration": 10,
    "start_time": "2024-01-29T15:33:32.926Z"
   },
   {
    "duration": 6,
    "start_time": "2024-01-29T15:33:32.938Z"
   },
   {
    "duration": 5,
    "start_time": "2024-01-29T15:33:32.945Z"
   },
   {
    "duration": 11,
    "start_time": "2024-01-29T15:33:32.951Z"
   },
   {
    "duration": 7,
    "start_time": "2024-01-29T15:33:32.963Z"
   },
   {
    "duration": 6,
    "start_time": "2024-01-29T15:33:32.971Z"
   },
   {
    "duration": 6,
    "start_time": "2024-01-29T15:33:32.978Z"
   },
   {
    "duration": 14,
    "start_time": "2024-01-29T15:33:33.018Z"
   },
   {
    "duration": 4,
    "start_time": "2024-01-29T15:33:33.033Z"
   },
   {
    "duration": 7,
    "start_time": "2024-01-29T15:33:33.040Z"
   },
   {
    "duration": 9,
    "start_time": "2024-01-29T15:33:33.048Z"
   },
   {
    "duration": 15,
    "start_time": "2024-01-29T15:33:33.058Z"
   },
   {
    "duration": 59,
    "start_time": "2024-01-29T15:33:33.075Z"
   },
   {
    "duration": 28,
    "start_time": "2024-01-29T15:33:33.135Z"
   },
   {
    "duration": 375,
    "start_time": "2024-01-29T15:33:33.164Z"
   },
   {
    "duration": 147,
    "start_time": "2024-01-29T15:33:33.540Z"
   },
   {
    "duration": 157,
    "start_time": "2024-01-29T15:33:33.689Z"
   },
   {
    "duration": 74,
    "start_time": "2024-01-29T15:33:33.847Z"
   },
   {
    "duration": 8,
    "start_time": "2024-01-29T15:33:51.343Z"
   },
   {
    "duration": 12,
    "start_time": "2024-01-29T15:33:56.909Z"
   },
   {
    "duration": 10,
    "start_time": "2024-01-29T15:34:35.526Z"
   },
   {
    "duration": 10,
    "start_time": "2024-01-29T15:34:38.963Z"
   },
   {
    "duration": 9,
    "start_time": "2024-01-29T15:34:55.463Z"
   },
   {
    "duration": 8,
    "start_time": "2024-01-29T15:35:36.067Z"
   },
   {
    "duration": 10,
    "start_time": "2024-01-29T15:35:57.855Z"
   },
   {
    "duration": 11,
    "start_time": "2024-01-29T15:36:07.761Z"
   },
   {
    "duration": 15,
    "start_time": "2024-01-29T15:36:14.199Z"
   },
   {
    "duration": 12,
    "start_time": "2024-01-29T15:36:30.641Z"
   },
   {
    "duration": 14,
    "start_time": "2024-01-29T15:36:42.821Z"
   },
   {
    "duration": 16,
    "start_time": "2024-01-29T15:37:15.349Z"
   },
   {
    "duration": 129,
    "start_time": "2024-01-29T15:38:57.146Z"
   },
   {
    "duration": 4,
    "start_time": "2024-01-29T15:39:03.293Z"
   },
   {
    "duration": 1342,
    "start_time": "2024-01-29T15:39:07.094Z"
   },
   {
    "duration": 1262,
    "start_time": "2024-01-29T15:39:15.765Z"
   },
   {
    "duration": 14,
    "start_time": "2024-01-29T15:39:23.892Z"
   },
   {
    "duration": 15,
    "start_time": "2024-01-29T15:39:46.305Z"
   },
   {
    "duration": 11,
    "start_time": "2024-01-29T15:40:01.789Z"
   },
   {
    "duration": 16,
    "start_time": "2024-01-29T15:40:07.530Z"
   },
   {
    "duration": 18,
    "start_time": "2024-01-29T15:42:23.588Z"
   },
   {
    "duration": 22,
    "start_time": "2024-01-29T15:45:03.830Z"
   },
   {
    "duration": 193,
    "start_time": "2024-01-29T15:45:51.258Z"
   },
   {
    "duration": 21,
    "start_time": "2024-01-29T15:47:01.668Z"
   },
   {
    "duration": 232,
    "start_time": "2024-01-29T15:47:05.831Z"
   },
   {
    "duration": 99,
    "start_time": "2024-01-29T15:48:27.042Z"
   },
   {
    "duration": 208,
    "start_time": "2024-01-29T15:48:32.692Z"
   },
   {
    "duration": 203,
    "start_time": "2024-01-29T15:48:42.311Z"
   },
   {
    "duration": 211,
    "start_time": "2024-01-29T15:49:11.864Z"
   },
   {
    "duration": 215,
    "start_time": "2024-01-29T15:49:38.717Z"
   },
   {
    "duration": 131,
    "start_time": "2024-01-29T16:06:53.881Z"
   },
   {
    "duration": 137,
    "start_time": "2024-01-29T16:21:01.120Z"
   },
   {
    "duration": 131,
    "start_time": "2024-01-29T16:21:19.404Z"
   },
   {
    "duration": 123,
    "start_time": "2024-01-29T16:21:55.857Z"
   },
   {
    "duration": 131,
    "start_time": "2024-01-29T16:22:03.572Z"
   },
   {
    "duration": 84,
    "start_time": "2024-01-29T16:22:45.827Z"
   },
   {
    "duration": 223,
    "start_time": "2024-01-29T16:22:57.898Z"
   },
   {
    "duration": 81,
    "start_time": "2024-01-29T16:24:02.441Z"
   },
   {
    "duration": 78,
    "start_time": "2024-01-29T16:24:13.936Z"
   },
   {
    "duration": 13,
    "start_time": "2024-01-29T16:24:18.723Z"
   },
   {
    "duration": 574,
    "start_time": "2024-01-29T16:24:24.358Z"
   },
   {
    "duration": 500,
    "start_time": "2024-01-29T16:27:26.207Z"
   },
   {
    "duration": 523,
    "start_time": "2024-01-29T16:27:53.672Z"
   },
   {
    "duration": 4,
    "start_time": "2024-01-29T16:41:59.525Z"
   },
   {
    "duration": 4,
    "start_time": "2024-01-29T16:42:03.252Z"
   },
   {
    "duration": 1248,
    "start_time": "2024-01-29T16:42:12.833Z"
   },
   {
    "duration": 4,
    "start_time": "2024-01-29T16:42:35.189Z"
   },
   {
    "duration": 33,
    "start_time": "2024-01-29T16:43:04.309Z"
   },
   {
    "duration": 33,
    "start_time": "2024-01-29T16:43:32.499Z"
   },
   {
    "duration": 32,
    "start_time": "2024-01-29T16:44:08.795Z"
   },
   {
    "duration": 31,
    "start_time": "2024-01-29T16:46:43.096Z"
   },
   {
    "duration": 153,
    "start_time": "2024-01-29T16:49:11.899Z"
   },
   {
    "duration": 153,
    "start_time": "2024-01-29T16:49:28.532Z"
   },
   {
    "duration": 239,
    "start_time": "2024-01-29T16:51:19.300Z"
   },
   {
    "duration": 165,
    "start_time": "2024-01-29T16:52:28.747Z"
   },
   {
    "duration": 151,
    "start_time": "2024-01-29T16:53:21.718Z"
   },
   {
    "duration": 1166,
    "start_time": "2024-01-29T17:04:45.755Z"
   },
   {
    "duration": 7,
    "start_time": "2024-01-29T17:04:52.212Z"
   },
   {
    "duration": 6,
    "start_time": "2024-01-29T17:05:30.947Z"
   },
   {
    "duration": 5,
    "start_time": "2024-01-29T17:05:34.769Z"
   },
   {
    "duration": 9,
    "start_time": "2024-01-29T17:06:51.139Z"
   },
   {
    "duration": 8,
    "start_time": "2024-01-29T17:06:56.277Z"
   },
   {
    "duration": 64,
    "start_time": "2024-01-29T17:16:58.980Z"
   },
   {
    "duration": 554,
    "start_time": "2024-01-29T17:17:07.198Z"
   },
   {
    "duration": 513,
    "start_time": "2024-01-29T17:17:14.221Z"
   },
   {
    "duration": 597,
    "start_time": "2024-01-29T17:17:28.182Z"
   },
   {
    "duration": 12,
    "start_time": "2024-01-29T17:22:21.077Z"
   },
   {
    "duration": 12,
    "start_time": "2024-01-29T17:22:35.924Z"
   },
   {
    "duration": 614,
    "start_time": "2024-01-29T17:22:45.372Z"
   },
   {
    "duration": 55,
    "start_time": "2024-01-29T17:22:45.988Z"
   },
   {
    "duration": 9,
    "start_time": "2024-01-29T17:22:46.047Z"
   },
   {
    "duration": 90,
    "start_time": "2024-01-29T17:22:46.058Z"
   },
   {
    "duration": 13,
    "start_time": "2024-01-29T17:22:46.150Z"
   },
   {
    "duration": 8,
    "start_time": "2024-01-29T17:22:46.164Z"
   },
   {
    "duration": 28,
    "start_time": "2024-01-29T17:22:46.173Z"
   },
   {
    "duration": 26,
    "start_time": "2024-01-29T17:22:46.203Z"
   },
   {
    "duration": 5,
    "start_time": "2024-01-29T17:22:46.231Z"
   },
   {
    "duration": 4,
    "start_time": "2024-01-29T17:22:46.238Z"
   },
   {
    "duration": 13,
    "start_time": "2024-01-29T17:22:46.243Z"
   },
   {
    "duration": 9,
    "start_time": "2024-01-29T17:22:46.257Z"
   },
   {
    "duration": 6,
    "start_time": "2024-01-29T17:22:46.267Z"
   },
   {
    "duration": 26,
    "start_time": "2024-01-29T17:22:46.274Z"
   },
   {
    "duration": 33,
    "start_time": "2024-01-29T17:22:46.302Z"
   },
   {
    "duration": 11,
    "start_time": "2024-01-29T17:22:46.336Z"
   },
   {
    "duration": 7,
    "start_time": "2024-01-29T17:22:46.348Z"
   },
   {
    "duration": 8,
    "start_time": "2024-01-29T17:22:46.357Z"
   },
   {
    "duration": 4,
    "start_time": "2024-01-29T17:22:46.366Z"
   },
   {
    "duration": 8,
    "start_time": "2024-01-29T17:22:46.371Z"
   },
   {
    "duration": 39,
    "start_time": "2024-01-29T17:22:46.380Z"
   },
   {
    "duration": 7,
    "start_time": "2024-01-29T17:22:46.420Z"
   },
   {
    "duration": 5,
    "start_time": "2024-01-29T17:22:46.428Z"
   },
   {
    "duration": 5,
    "start_time": "2024-01-29T17:22:46.434Z"
   },
   {
    "duration": 16,
    "start_time": "2024-01-29T17:22:46.440Z"
   },
   {
    "duration": 3,
    "start_time": "2024-01-29T17:22:46.457Z"
   },
   {
    "duration": 6,
    "start_time": "2024-01-29T17:22:46.463Z"
   },
   {
    "duration": 6,
    "start_time": "2024-01-29T17:22:46.471Z"
   },
   {
    "duration": 50,
    "start_time": "2024-01-29T17:22:46.478Z"
   },
   {
    "duration": 35,
    "start_time": "2024-01-29T17:22:46.529Z"
   },
   {
    "duration": 54,
    "start_time": "2024-01-29T17:22:46.565Z"
   },
   {
    "duration": 150,
    "start_time": "2024-01-29T17:22:46.620Z"
   },
   {
    "duration": 129,
    "start_time": "2024-01-29T17:22:46.772Z"
   },
   {
    "duration": 148,
    "start_time": "2024-01-29T17:22:46.903Z"
   },
   {
    "duration": 213,
    "start_time": "2024-01-29T17:22:47.053Z"
   },
   {
    "duration": 179,
    "start_time": "2024-01-29T17:22:47.267Z"
   },
   {
    "duration": 539,
    "start_time": "2024-01-29T17:22:47.447Z"
   },
   {
    "duration": 44,
    "start_time": "2024-01-29T17:22:47.987Z"
   },
   {
    "duration": 164,
    "start_time": "2024-01-29T17:22:48.033Z"
   },
   {
    "duration": 7,
    "start_time": "2024-01-29T17:22:48.199Z"
   },
   {
    "duration": 80,
    "start_time": "2024-01-29T17:22:48.208Z"
   },
   {
    "duration": 6,
    "start_time": "2024-01-29T17:24:12.207Z"
   },
   {
    "duration": 571,
    "start_time": "2024-01-29T17:24:31.169Z"
   },
   {
    "duration": 915,
    "start_time": "2024-01-29T17:25:38.388Z"
   },
   {
    "duration": 121,
    "start_time": "2024-01-29T17:26:51.591Z"
   },
   {
    "duration": 69,
    "start_time": "2024-01-29T17:28:18.026Z"
   },
   {
    "duration": 99,
    "start_time": "2024-01-29T17:48:50.614Z"
   },
   {
    "duration": 357,
    "start_time": "2024-01-29T17:48:57.471Z"
   },
   {
    "duration": 57,
    "start_time": "2024-01-29T17:48:57.830Z"
   },
   {
    "duration": 9,
    "start_time": "2024-01-29T17:48:57.888Z"
   },
   {
    "duration": 88,
    "start_time": "2024-01-29T17:48:57.899Z"
   },
   {
    "duration": 13,
    "start_time": "2024-01-29T17:48:57.988Z"
   },
   {
    "duration": 15,
    "start_time": "2024-01-29T17:48:58.003Z"
   },
   {
    "duration": 27,
    "start_time": "2024-01-29T17:48:58.020Z"
   },
   {
    "duration": 14,
    "start_time": "2024-01-29T17:48:58.049Z"
   },
   {
    "duration": 5,
    "start_time": "2024-01-29T17:48:58.064Z"
   },
   {
    "duration": 4,
    "start_time": "2024-01-29T17:48:58.071Z"
   },
   {
    "duration": 9,
    "start_time": "2024-01-29T17:48:58.076Z"
   },
   {
    "duration": 8,
    "start_time": "2024-01-29T17:48:58.087Z"
   },
   {
    "duration": 25,
    "start_time": "2024-01-29T17:48:58.096Z"
   },
   {
    "duration": 26,
    "start_time": "2024-01-29T17:48:58.122Z"
   },
   {
    "duration": 26,
    "start_time": "2024-01-29T17:48:58.150Z"
   },
   {
    "duration": 11,
    "start_time": "2024-01-29T17:48:58.178Z"
   },
   {
    "duration": 8,
    "start_time": "2024-01-29T17:48:58.190Z"
   },
   {
    "duration": 7,
    "start_time": "2024-01-29T17:48:58.218Z"
   },
   {
    "duration": 5,
    "start_time": "2024-01-29T17:48:58.226Z"
   },
   {
    "duration": 27,
    "start_time": "2024-01-29T17:48:58.232Z"
   },
   {
    "duration": 14,
    "start_time": "2024-01-29T17:48:58.260Z"
   },
   {
    "duration": 28,
    "start_time": "2024-01-29T17:48:58.276Z"
   },
   {
    "duration": 15,
    "start_time": "2024-01-29T17:48:58.305Z"
   },
   {
    "duration": 24,
    "start_time": "2024-01-29T17:48:58.321Z"
   },
   {
    "duration": 25,
    "start_time": "2024-01-29T17:48:58.346Z"
   },
   {
    "duration": 6,
    "start_time": "2024-01-29T17:48:58.373Z"
   },
   {
    "duration": 9,
    "start_time": "2024-01-29T17:48:58.380Z"
   },
   {
    "duration": 13,
    "start_time": "2024-01-29T17:48:58.392Z"
   },
   {
    "duration": 24,
    "start_time": "2024-01-29T17:48:58.407Z"
   },
   {
    "duration": 37,
    "start_time": "2024-01-29T17:48:58.433Z"
   },
   {
    "duration": 29,
    "start_time": "2024-01-29T17:48:58.472Z"
   },
   {
    "duration": 368,
    "start_time": "2024-01-29T17:48:58.502Z"
   },
   {
    "duration": 130,
    "start_time": "2024-01-29T17:48:58.872Z"
   },
   {
    "duration": 159,
    "start_time": "2024-01-29T17:48:59.004Z"
   },
   {
    "duration": 217,
    "start_time": "2024-01-29T17:48:59.164Z"
   },
   {
    "duration": 192,
    "start_time": "2024-01-29T17:48:59.382Z"
   },
   {
    "duration": 529,
    "start_time": "2024-01-29T17:48:59.575Z"
   },
   {
    "duration": 42,
    "start_time": "2024-01-29T17:49:00.106Z"
   },
   {
    "duration": 153,
    "start_time": "2024-01-29T17:49:00.149Z"
   },
   {
    "duration": 16,
    "start_time": "2024-01-29T17:49:00.304Z"
   },
   {
    "duration": 147,
    "start_time": "2024-01-29T17:49:00.321Z"
   },
   {
    "duration": 429,
    "start_time": "2024-01-29T18:05:50.659Z"
   },
   {
    "duration": 58,
    "start_time": "2024-01-29T18:05:51.090Z"
   },
   {
    "duration": 10,
    "start_time": "2024-01-29T18:05:51.150Z"
   },
   {
    "duration": 96,
    "start_time": "2024-01-29T18:05:51.162Z"
   },
   {
    "duration": 14,
    "start_time": "2024-01-29T18:05:51.260Z"
   },
   {
    "duration": 8,
    "start_time": "2024-01-29T18:05:51.280Z"
   },
   {
    "duration": 46,
    "start_time": "2024-01-29T18:05:51.290Z"
   },
   {
    "duration": 17,
    "start_time": "2024-01-29T18:05:51.337Z"
   },
   {
    "duration": 6,
    "start_time": "2024-01-29T18:05:51.356Z"
   },
   {
    "duration": 3,
    "start_time": "2024-01-29T18:05:51.363Z"
   },
   {
    "duration": 14,
    "start_time": "2024-01-29T18:05:51.368Z"
   },
   {
    "duration": 16,
    "start_time": "2024-01-29T18:05:51.384Z"
   },
   {
    "duration": 6,
    "start_time": "2024-01-29T18:05:51.401Z"
   },
   {
    "duration": 23,
    "start_time": "2024-01-29T18:05:51.410Z"
   },
   {
    "duration": 21,
    "start_time": "2024-01-29T18:05:51.434Z"
   },
   {
    "duration": 31,
    "start_time": "2024-01-29T18:05:51.457Z"
   },
   {
    "duration": 7,
    "start_time": "2024-01-29T18:05:51.490Z"
   },
   {
    "duration": 7,
    "start_time": "2024-01-29T18:05:51.499Z"
   },
   {
    "duration": 14,
    "start_time": "2024-01-29T18:05:51.507Z"
   },
   {
    "duration": 14,
    "start_time": "2024-01-29T18:05:51.523Z"
   },
   {
    "duration": 9,
    "start_time": "2024-01-29T18:05:51.538Z"
   },
   {
    "duration": 8,
    "start_time": "2024-01-29T18:05:51.548Z"
   },
   {
    "duration": 27,
    "start_time": "2024-01-29T18:05:51.558Z"
   },
   {
    "duration": 16,
    "start_time": "2024-01-29T18:05:51.587Z"
   },
   {
    "duration": 23,
    "start_time": "2024-01-29T18:05:51.605Z"
   },
   {
    "duration": 4,
    "start_time": "2024-01-29T18:05:51.630Z"
   },
   {
    "duration": 9,
    "start_time": "2024-01-29T18:05:51.635Z"
   },
   {
    "duration": 8,
    "start_time": "2024-01-29T18:05:51.646Z"
   },
   {
    "duration": 33,
    "start_time": "2024-01-29T18:05:51.656Z"
   },
   {
    "duration": 36,
    "start_time": "2024-01-29T18:05:51.691Z"
   },
   {
    "duration": 29,
    "start_time": "2024-01-29T18:05:51.728Z"
   },
   {
    "duration": 392,
    "start_time": "2024-01-29T18:05:51.758Z"
   },
   {
    "duration": 143,
    "start_time": "2024-01-29T18:05:52.152Z"
   },
   {
    "duration": 159,
    "start_time": "2024-01-29T18:05:52.296Z"
   },
   {
    "duration": 238,
    "start_time": "2024-01-29T18:05:52.456Z"
   },
   {
    "duration": 198,
    "start_time": "2024-01-29T18:05:52.696Z"
   },
   {
    "duration": 571,
    "start_time": "2024-01-29T18:05:52.896Z"
   },
   {
    "duration": 44,
    "start_time": "2024-01-29T18:05:53.468Z"
   },
   {
    "duration": 166,
    "start_time": "2024-01-29T18:05:53.513Z"
   },
   {
    "duration": 7,
    "start_time": "2024-01-29T18:05:53.681Z"
   },
   {
    "duration": 132,
    "start_time": "2024-01-29T18:05:53.691Z"
   },
   {
    "duration": 397,
    "start_time": "2024-01-29T18:13:49.127Z"
   },
   {
    "duration": 70,
    "start_time": "2024-01-29T18:13:49.525Z"
   },
   {
    "duration": 14,
    "start_time": "2024-01-29T18:13:49.597Z"
   },
   {
    "duration": 105,
    "start_time": "2024-01-29T18:13:49.612Z"
   },
   {
    "duration": 15,
    "start_time": "2024-01-29T18:13:49.719Z"
   },
   {
    "duration": 11,
    "start_time": "2024-01-29T18:13:49.735Z"
   },
   {
    "duration": 41,
    "start_time": "2024-01-29T18:13:49.748Z"
   },
   {
    "duration": 17,
    "start_time": "2024-01-29T18:13:49.790Z"
   },
   {
    "duration": 6,
    "start_time": "2024-01-29T18:13:49.809Z"
   },
   {
    "duration": 28,
    "start_time": "2024-01-29T18:13:49.816Z"
   },
   {
    "duration": 13,
    "start_time": "2024-01-29T18:13:49.845Z"
   },
   {
    "duration": 11,
    "start_time": "2024-01-29T18:13:49.859Z"
   },
   {
    "duration": 10,
    "start_time": "2024-01-29T18:13:49.871Z"
   },
   {
    "duration": 21,
    "start_time": "2024-01-29T18:13:49.883Z"
   },
   {
    "duration": 21,
    "start_time": "2024-01-29T18:13:49.905Z"
   },
   {
    "duration": 12,
    "start_time": "2024-01-29T18:13:49.927Z"
   },
   {
    "duration": 8,
    "start_time": "2024-01-29T18:13:49.941Z"
   },
   {
    "duration": 32,
    "start_time": "2024-01-29T18:13:49.950Z"
   },
   {
    "duration": 5,
    "start_time": "2024-01-29T18:13:49.984Z"
   },
   {
    "duration": 6,
    "start_time": "2024-01-29T18:13:49.991Z"
   },
   {
    "duration": 26,
    "start_time": "2024-01-29T18:13:49.999Z"
   },
   {
    "duration": 27,
    "start_time": "2024-01-29T18:13:50.028Z"
   },
   {
    "duration": 8,
    "start_time": "2024-01-29T18:13:50.057Z"
   },
   {
    "duration": 14,
    "start_time": "2024-01-29T18:13:50.067Z"
   },
   {
    "duration": 21,
    "start_time": "2024-01-29T18:13:50.082Z"
   },
   {
    "duration": 3,
    "start_time": "2024-01-29T18:13:50.104Z"
   },
   {
    "duration": 20,
    "start_time": "2024-01-29T18:13:50.109Z"
   },
   {
    "duration": 9,
    "start_time": "2024-01-29T18:13:50.131Z"
   },
   {
    "duration": 30,
    "start_time": "2024-01-29T18:13:50.142Z"
   },
   {
    "duration": 31,
    "start_time": "2024-01-29T18:13:50.174Z"
   },
   {
    "duration": 31,
    "start_time": "2024-01-29T18:13:50.207Z"
   },
   {
    "duration": 398,
    "start_time": "2024-01-29T18:13:50.240Z"
   },
   {
    "duration": 149,
    "start_time": "2024-01-29T18:13:50.640Z"
   },
   {
    "duration": 168,
    "start_time": "2024-01-29T18:13:50.791Z"
   },
   {
    "duration": 269,
    "start_time": "2024-01-29T18:13:50.961Z"
   },
   {
    "duration": 200,
    "start_time": "2024-01-29T18:13:51.232Z"
   },
   {
    "duration": 606,
    "start_time": "2024-01-29T18:13:51.434Z"
   },
   {
    "duration": 43,
    "start_time": "2024-01-29T18:13:52.042Z"
   },
   {
    "duration": 171,
    "start_time": "2024-01-29T18:13:52.087Z"
   },
   {
    "duration": 8,
    "start_time": "2024-01-29T18:13:52.260Z"
   },
   {
    "duration": 147,
    "start_time": "2024-01-29T18:13:52.281Z"
   },
   {
    "duration": 16,
    "start_time": "2024-01-29T19:08:53.014Z"
   },
   {
    "duration": 36,
    "start_time": "2024-01-29T19:49:10.193Z"
   },
   {
    "duration": 5,
    "start_time": "2024-01-29T19:49:28.974Z"
   },
   {
    "duration": 5,
    "start_time": "2024-01-29T19:49:44.119Z"
   },
   {
    "duration": 5,
    "start_time": "2024-01-29T19:51:38.746Z"
   },
   {
    "duration": 85,
    "start_time": "2024-01-29T20:30:19.262Z"
   },
   {
    "duration": 397,
    "start_time": "2024-01-30T07:25:01.444Z"
   },
   {
    "duration": 94,
    "start_time": "2024-01-30T07:25:06.443Z"
   },
   {
    "duration": 11,
    "start_time": "2024-01-30T07:25:31.491Z"
   },
   {
    "duration": 139,
    "start_time": "2024-01-30T07:26:27.384Z"
   },
   {
    "duration": 71,
    "start_time": "2024-01-30T07:26:34.485Z"
   },
   {
    "duration": 184,
    "start_time": "2024-01-30T07:36:11.962Z"
   },
   {
    "duration": 66,
    "start_time": "2024-01-30T07:43:29.691Z"
   },
   {
    "duration": 6,
    "start_time": "2024-01-30T07:43:48.099Z"
   },
   {
    "duration": 409,
    "start_time": "2024-01-30T07:43:54.908Z"
   },
   {
    "duration": 58,
    "start_time": "2024-01-30T07:43:55.318Z"
   },
   {
    "duration": 10,
    "start_time": "2024-01-30T07:43:55.377Z"
   },
   {
    "duration": 182,
    "start_time": "2024-01-30T07:43:55.389Z"
   },
   {
    "duration": 13,
    "start_time": "2024-01-30T07:43:55.572Z"
   },
   {
    "duration": 8,
    "start_time": "2024-01-30T07:43:55.586Z"
   },
   {
    "duration": 38,
    "start_time": "2024-01-30T07:43:55.595Z"
   },
   {
    "duration": 15,
    "start_time": "2024-01-30T07:43:55.635Z"
   },
   {
    "duration": 26,
    "start_time": "2024-01-30T07:43:55.651Z"
   },
   {
    "duration": 15,
    "start_time": "2024-01-30T07:43:55.679Z"
   },
   {
    "duration": 19,
    "start_time": "2024-01-30T07:43:55.696Z"
   },
   {
    "duration": 15,
    "start_time": "2024-01-30T07:43:55.717Z"
   },
   {
    "duration": 4,
    "start_time": "2024-01-30T07:43:55.734Z"
   },
   {
    "duration": 28,
    "start_time": "2024-01-30T07:43:55.740Z"
   },
   {
    "duration": 38,
    "start_time": "2024-01-30T07:43:55.770Z"
   },
   {
    "duration": 11,
    "start_time": "2024-01-30T07:43:55.809Z"
   },
   {
    "duration": 38,
    "start_time": "2024-01-30T07:43:55.821Z"
   },
   {
    "duration": 21,
    "start_time": "2024-01-30T07:43:55.860Z"
   },
   {
    "duration": 22,
    "start_time": "2024-01-30T07:43:55.882Z"
   },
   {
    "duration": 29,
    "start_time": "2024-01-30T07:43:55.906Z"
   },
   {
    "duration": 13,
    "start_time": "2024-01-30T07:43:55.936Z"
   },
   {
    "duration": 14,
    "start_time": "2024-01-30T07:43:55.950Z"
   },
   {
    "duration": 25,
    "start_time": "2024-01-30T07:43:55.965Z"
   },
   {
    "duration": 19,
    "start_time": "2024-01-30T07:43:55.992Z"
   },
   {
    "duration": 32,
    "start_time": "2024-01-30T07:43:56.013Z"
   },
   {
    "duration": 3,
    "start_time": "2024-01-30T07:43:56.047Z"
   },
   {
    "duration": 18,
    "start_time": "2024-01-30T07:43:56.051Z"
   },
   {
    "duration": 8,
    "start_time": "2024-01-30T07:43:56.072Z"
   },
   {
    "duration": 17,
    "start_time": "2024-01-30T07:43:56.081Z"
   },
   {
    "duration": 42,
    "start_time": "2024-01-30T07:43:56.100Z"
   },
   {
    "duration": 26,
    "start_time": "2024-01-30T07:43:56.144Z"
   },
   {
    "duration": 539,
    "start_time": "2024-01-30T07:43:56.172Z"
   },
   {
    "duration": 136,
    "start_time": "2024-01-30T07:43:56.713Z"
   },
   {
    "duration": 154,
    "start_time": "2024-01-30T07:43:56.851Z"
   },
   {
    "duration": 223,
    "start_time": "2024-01-30T07:43:57.007Z"
   },
   {
    "duration": 203,
    "start_time": "2024-01-30T07:43:57.232Z"
   },
   {
    "duration": 519,
    "start_time": "2024-01-30T07:43:57.436Z"
   },
   {
    "duration": 31,
    "start_time": "2024-01-30T07:43:57.957Z"
   },
   {
    "duration": 162,
    "start_time": "2024-01-30T07:43:57.990Z"
   },
   {
    "duration": 9,
    "start_time": "2024-01-30T07:43:58.154Z"
   },
   {
    "duration": 136,
    "start_time": "2024-01-30T07:43:58.164Z"
   },
   {
    "duration": 6,
    "start_time": "2024-01-30T07:44:12.410Z"
   },
   {
    "duration": 9,
    "start_time": "2024-01-30T07:54:03.071Z"
   },
   {
    "duration": 9,
    "start_time": "2024-01-30T07:54:11.544Z"
   },
   {
    "duration": 38,
    "start_time": "2024-01-30T07:55:38.859Z"
   },
   {
    "duration": 4,
    "start_time": "2024-01-30T07:55:54.578Z"
   },
   {
    "duration": 4,
    "start_time": "2024-01-30T07:55:57.248Z"
   },
   {
    "duration": 8,
    "start_time": "2024-01-30T07:56:03.732Z"
   },
   {
    "duration": 36,
    "start_time": "2024-01-30T07:56:35.544Z"
   },
   {
    "duration": 9,
    "start_time": "2024-01-30T07:56:43.115Z"
   },
   {
    "duration": 9,
    "start_time": "2024-01-30T07:56:49.436Z"
   },
   {
    "duration": 38,
    "start_time": "2024-01-30T07:56:55.178Z"
   },
   {
    "duration": 10,
    "start_time": "2024-01-30T07:56:57.938Z"
   },
   {
    "duration": 8,
    "start_time": "2024-01-30T07:57:06.714Z"
   },
   {
    "duration": 38,
    "start_time": "2024-01-30T07:59:00.244Z"
   },
   {
    "duration": 14,
    "start_time": "2024-01-30T07:59:11.339Z"
   },
   {
    "duration": 6,
    "start_time": "2024-01-30T07:59:28.968Z"
   },
   {
    "duration": 6,
    "start_time": "2024-01-30T07:59:32.558Z"
   },
   {
    "duration": 390,
    "start_time": "2024-01-30T07:59:37.346Z"
   },
   {
    "duration": 58,
    "start_time": "2024-01-30T07:59:37.739Z"
   },
   {
    "duration": 10,
    "start_time": "2024-01-30T07:59:37.798Z"
   },
   {
    "duration": 88,
    "start_time": "2024-01-30T07:59:37.811Z"
   },
   {
    "duration": 15,
    "start_time": "2024-01-30T07:59:37.901Z"
   },
   {
    "duration": 9,
    "start_time": "2024-01-30T07:59:37.932Z"
   },
   {
    "duration": 27,
    "start_time": "2024-01-30T07:59:37.942Z"
   },
   {
    "duration": 18,
    "start_time": "2024-01-30T07:59:37.970Z"
   },
   {
    "duration": 42,
    "start_time": "2024-01-30T07:59:37.990Z"
   },
   {
    "duration": 3,
    "start_time": "2024-01-30T07:59:38.035Z"
   },
   {
    "duration": 5,
    "start_time": "2024-01-30T07:59:38.039Z"
   },
   {
    "duration": 7,
    "start_time": "2024-01-30T07:59:38.046Z"
   },
   {
    "duration": 7,
    "start_time": "2024-01-30T07:59:38.054Z"
   },
   {
    "duration": 22,
    "start_time": "2024-01-30T07:59:38.062Z"
   },
   {
    "duration": 24,
    "start_time": "2024-01-30T07:59:38.085Z"
   },
   {
    "duration": 32,
    "start_time": "2024-01-30T07:59:38.111Z"
   },
   {
    "duration": 7,
    "start_time": "2024-01-30T07:59:38.144Z"
   },
   {
    "duration": 8,
    "start_time": "2024-01-30T07:59:38.152Z"
   },
   {
    "duration": 4,
    "start_time": "2024-01-30T07:59:38.162Z"
   },
   {
    "duration": 12,
    "start_time": "2024-01-30T07:59:38.167Z"
   },
   {
    "duration": 19,
    "start_time": "2024-01-30T07:59:38.180Z"
   },
   {
    "duration": 13,
    "start_time": "2024-01-30T07:59:38.200Z"
   },
   {
    "duration": 6,
    "start_time": "2024-01-30T07:59:38.232Z"
   },
   {
    "duration": 9,
    "start_time": "2024-01-30T07:59:38.239Z"
   },
   {
    "duration": 22,
    "start_time": "2024-01-30T07:59:38.250Z"
   },
   {
    "duration": 2,
    "start_time": "2024-01-30T07:59:38.274Z"
   },
   {
    "duration": 14,
    "start_time": "2024-01-30T07:59:38.277Z"
   },
   {
    "duration": 21,
    "start_time": "2024-01-30T07:59:38.294Z"
   },
   {
    "duration": 20,
    "start_time": "2024-01-30T07:59:38.316Z"
   },
   {
    "duration": 33,
    "start_time": "2024-01-30T07:59:38.337Z"
   },
   {
    "duration": 25,
    "start_time": "2024-01-30T07:59:38.371Z"
   },
   {
    "duration": 389,
    "start_time": "2024-01-30T07:59:38.397Z"
   },
   {
    "duration": 132,
    "start_time": "2024-01-30T07:59:38.787Z"
   },
   {
    "duration": 169,
    "start_time": "2024-01-30T07:59:38.934Z"
   },
   {
    "duration": 219,
    "start_time": "2024-01-30T07:59:39.104Z"
   },
   {
    "duration": 183,
    "start_time": "2024-01-30T07:59:39.325Z"
   },
   {
    "duration": 553,
    "start_time": "2024-01-30T07:59:39.510Z"
   },
   {
    "duration": 33,
    "start_time": "2024-01-30T07:59:40.065Z"
   },
   {
    "duration": 166,
    "start_time": "2024-01-30T07:59:40.100Z"
   },
   {
    "duration": 8,
    "start_time": "2024-01-30T07:59:40.268Z"
   },
   {
    "duration": 134,
    "start_time": "2024-01-30T07:59:40.278Z"
   },
   {
    "duration": 7,
    "start_time": "2024-01-30T08:00:03.448Z"
   },
   {
    "duration": 17,
    "start_time": "2024-01-30T08:00:16.739Z"
   },
   {
    "duration": 15,
    "start_time": "2024-01-30T08:00:23.020Z"
   },
   {
    "duration": 412,
    "start_time": "2024-01-30T08:00:43.113Z"
   },
   {
    "duration": 58,
    "start_time": "2024-01-30T08:00:43.527Z"
   },
   {
    "duration": 10,
    "start_time": "2024-01-30T08:00:43.586Z"
   },
   {
    "duration": 91,
    "start_time": "2024-01-30T08:00:43.598Z"
   },
   {
    "duration": 14,
    "start_time": "2024-01-30T08:00:43.690Z"
   },
   {
    "duration": 11,
    "start_time": "2024-01-30T08:00:43.706Z"
   },
   {
    "duration": 49,
    "start_time": "2024-01-30T08:00:43.718Z"
   },
   {
    "duration": 17,
    "start_time": "2024-01-30T08:00:43.769Z"
   },
   {
    "duration": 7,
    "start_time": "2024-01-30T08:00:43.787Z"
   },
   {
    "duration": 38,
    "start_time": "2024-01-30T08:00:43.797Z"
   },
   {
    "duration": 11,
    "start_time": "2024-01-30T08:00:43.837Z"
   },
   {
    "duration": 8,
    "start_time": "2024-01-30T08:00:43.849Z"
   },
   {
    "duration": 6,
    "start_time": "2024-01-30T08:00:43.858Z"
   },
   {
    "duration": 17,
    "start_time": "2024-01-30T08:00:43.865Z"
   },
   {
    "duration": 20,
    "start_time": "2024-01-30T08:00:43.883Z"
   },
   {
    "duration": 45,
    "start_time": "2024-01-30T08:00:43.904Z"
   },
   {
    "duration": 15,
    "start_time": "2024-01-30T08:00:43.950Z"
   },
   {
    "duration": 9,
    "start_time": "2024-01-30T08:00:43.968Z"
   },
   {
    "duration": 8,
    "start_time": "2024-01-30T08:00:43.979Z"
   },
   {
    "duration": 6,
    "start_time": "2024-01-30T08:00:43.988Z"
   },
   {
    "duration": 43,
    "start_time": "2024-01-30T08:00:43.996Z"
   },
   {
    "duration": 13,
    "start_time": "2024-01-30T08:00:44.040Z"
   },
   {
    "duration": 5,
    "start_time": "2024-01-30T08:00:44.055Z"
   },
   {
    "duration": 5,
    "start_time": "2024-01-30T08:00:44.061Z"
   },
   {
    "duration": 13,
    "start_time": "2024-01-30T08:00:44.068Z"
   },
   {
    "duration": 2,
    "start_time": "2024-01-30T08:00:44.082Z"
   },
   {
    "duration": 10,
    "start_time": "2024-01-30T08:00:44.085Z"
   },
   {
    "duration": 6,
    "start_time": "2024-01-30T08:00:44.135Z"
   },
   {
    "duration": 26,
    "start_time": "2024-01-30T08:00:44.142Z"
   },
   {
    "duration": 27,
    "start_time": "2024-01-30T08:00:44.169Z"
   },
   {
    "duration": 44,
    "start_time": "2024-01-30T08:00:44.198Z"
   },
   {
    "duration": 362,
    "start_time": "2024-01-30T08:00:44.244Z"
   },
   {
    "duration": 129,
    "start_time": "2024-01-30T08:00:44.607Z"
   },
   {
    "duration": 165,
    "start_time": "2024-01-30T08:00:44.738Z"
   },
   {
    "duration": 228,
    "start_time": "2024-01-30T08:00:44.905Z"
   },
   {
    "duration": 215,
    "start_time": "2024-01-30T08:00:45.134Z"
   },
   {
    "duration": 527,
    "start_time": "2024-01-30T08:00:45.351Z"
   },
   {
    "duration": 32,
    "start_time": "2024-01-30T08:00:45.879Z"
   },
   {
    "duration": 179,
    "start_time": "2024-01-30T08:00:45.913Z"
   },
   {
    "duration": 8,
    "start_time": "2024-01-30T08:00:46.093Z"
   },
   {
    "duration": 134,
    "start_time": "2024-01-30T08:00:46.102Z"
   },
   {
    "duration": 9,
    "start_time": "2024-01-30T08:01:01.345Z"
   },
   {
    "duration": 9,
    "start_time": "2024-01-30T08:01:20.365Z"
   },
   {
    "duration": 11,
    "start_time": "2024-01-30T08:01:22.855Z"
   },
   {
    "duration": 8,
    "start_time": "2024-01-30T08:01:23.592Z"
   },
   {
    "duration": 10,
    "start_time": "2024-01-30T08:02:21.207Z"
   },
   {
    "duration": 9,
    "start_time": "2024-01-30T08:02:25.819Z"
   },
   {
    "duration": 6,
    "start_time": "2024-01-30T08:05:22.885Z"
   },
   {
    "duration": 4,
    "start_time": "2024-01-30T08:06:27.588Z"
   },
   {
    "duration": 5,
    "start_time": "2024-01-30T08:08:01.515Z"
   },
   {
    "duration": 69,
    "start_time": "2024-01-30T08:08:28.952Z"
   },
   {
    "duration": 4,
    "start_time": "2024-01-30T08:11:11.651Z"
   },
   {
    "duration": 5,
    "start_time": "2024-01-30T08:14:40.357Z"
   },
   {
    "duration": 9,
    "start_time": "2024-01-30T08:16:04.569Z"
   },
   {
    "duration": 4,
    "start_time": "2024-01-30T08:18:23.180Z"
   },
   {
    "duration": 4,
    "start_time": "2024-01-30T08:19:09.713Z"
   },
   {
    "duration": 78,
    "start_time": "2024-01-30T08:21:37.076Z"
   },
   {
    "duration": 88,
    "start_time": "2024-01-30T08:22:20.526Z"
   },
   {
    "duration": 9,
    "start_time": "2024-01-30T08:29:08.600Z"
   },
   {
    "duration": 11,
    "start_time": "2024-01-30T08:29:17.142Z"
   },
   {
    "duration": 18,
    "start_time": "2024-01-30T08:30:24.975Z"
   },
   {
    "duration": 8,
    "start_time": "2024-01-30T08:59:06.593Z"
   },
   {
    "duration": 8,
    "start_time": "2024-01-30T08:59:10.425Z"
   },
   {
    "duration": 5,
    "start_time": "2024-01-30T08:59:10.788Z"
   },
   {
    "duration": 354,
    "start_time": "2024-01-30T08:59:18.092Z"
   },
   {
    "duration": 59,
    "start_time": "2024-01-30T08:59:18.448Z"
   },
   {
    "duration": 10,
    "start_time": "2024-01-30T08:59:18.508Z"
   },
   {
    "duration": 88,
    "start_time": "2024-01-30T08:59:18.520Z"
   },
   {
    "duration": 14,
    "start_time": "2024-01-30T08:59:18.609Z"
   },
   {
    "duration": 11,
    "start_time": "2024-01-30T08:59:18.632Z"
   },
   {
    "duration": 30,
    "start_time": "2024-01-30T08:59:18.645Z"
   },
   {
    "duration": 16,
    "start_time": "2024-01-30T08:59:18.676Z"
   },
   {
    "duration": 5,
    "start_time": "2024-01-30T08:59:18.693Z"
   },
   {
    "duration": 5,
    "start_time": "2024-01-30T08:59:18.700Z"
   },
   {
    "duration": 27,
    "start_time": "2024-01-30T08:59:18.706Z"
   },
   {
    "duration": 9,
    "start_time": "2024-01-30T08:59:18.735Z"
   },
   {
    "duration": 7,
    "start_time": "2024-01-30T08:59:18.745Z"
   },
   {
    "duration": 18,
    "start_time": "2024-01-30T08:59:18.754Z"
   },
   {
    "duration": 26,
    "start_time": "2024-01-30T08:59:18.774Z"
   },
   {
    "duration": 37,
    "start_time": "2024-01-30T08:59:18.802Z"
   },
   {
    "duration": 9,
    "start_time": "2024-01-30T08:59:18.841Z"
   },
   {
    "duration": 17,
    "start_time": "2024-01-30T08:59:18.852Z"
   },
   {
    "duration": 6,
    "start_time": "2024-01-30T08:59:18.870Z"
   },
   {
    "duration": 4,
    "start_time": "2024-01-30T08:59:18.878Z"
   },
   {
    "duration": 9,
    "start_time": "2024-01-30T08:59:18.883Z"
   },
   {
    "duration": 40,
    "start_time": "2024-01-30T08:59:18.894Z"
   },
   {
    "duration": 5,
    "start_time": "2024-01-30T08:59:18.935Z"
   },
   {
    "duration": 15,
    "start_time": "2024-01-30T08:59:18.942Z"
   },
   {
    "duration": 7,
    "start_time": "2024-01-30T08:59:18.958Z"
   },
   {
    "duration": 16,
    "start_time": "2024-01-30T08:59:18.967Z"
   },
   {
    "duration": 19,
    "start_time": "2024-01-30T08:59:18.984Z"
   },
   {
    "duration": 7,
    "start_time": "2024-01-30T08:59:19.005Z"
   },
   {
    "duration": 23,
    "start_time": "2024-01-30T08:59:19.014Z"
   },
   {
    "duration": 8,
    "start_time": "2024-01-30T08:59:19.038Z"
   },
   {
    "duration": 16,
    "start_time": "2024-01-30T08:59:19.048Z"
   },
   {
    "duration": 3,
    "start_time": "2024-01-30T08:59:19.067Z"
   },
   {
    "duration": 12,
    "start_time": "2024-01-30T08:59:19.071Z"
   },
   {
    "duration": 8,
    "start_time": "2024-01-30T08:59:19.085Z"
   },
   {
    "duration": 52,
    "start_time": "2024-01-30T08:59:19.094Z"
   },
   {
    "duration": 39,
    "start_time": "2024-01-30T08:59:19.147Z"
   },
   {
    "duration": 26,
    "start_time": "2024-01-30T08:59:19.187Z"
   },
   {
    "duration": 368,
    "start_time": "2024-01-30T08:59:19.215Z"
   },
   {
    "duration": 138,
    "start_time": "2024-01-30T08:59:19.585Z"
   },
   {
    "duration": 168,
    "start_time": "2024-01-30T08:59:19.733Z"
   },
   {
    "duration": 213,
    "start_time": "2024-01-30T08:59:19.903Z"
   },
   {
    "duration": 179,
    "start_time": "2024-01-30T08:59:20.117Z"
   },
   {
    "duration": 535,
    "start_time": "2024-01-30T08:59:20.298Z"
   },
   {
    "duration": 31,
    "start_time": "2024-01-30T08:59:20.835Z"
   },
   {
    "duration": 173,
    "start_time": "2024-01-30T08:59:20.868Z"
   },
   {
    "duration": 8,
    "start_time": "2024-01-30T08:59:21.042Z"
   },
   {
    "duration": 173,
    "start_time": "2024-01-30T08:59:21.052Z"
   },
   {
    "duration": 4,
    "start_time": "2024-01-30T09:11:04.564Z"
   },
   {
    "duration": 65,
    "start_time": "2024-01-30T09:11:12.023Z"
   },
   {
    "duration": 2,
    "start_time": "2024-01-30T09:11:21.700Z"
   },
   {
    "duration": 9,
    "start_time": "2024-01-30T09:11:35.317Z"
   },
   {
    "duration": 3,
    "start_time": "2024-01-30T09:12:25.190Z"
   },
   {
    "duration": 7,
    "start_time": "2024-01-30T09:12:33.185Z"
   },
   {
    "duration": 9,
    "start_time": "2024-01-30T09:12:59.117Z"
   },
   {
    "duration": 7,
    "start_time": "2024-01-30T09:13:02.047Z"
   },
   {
    "duration": 8,
    "start_time": "2024-01-30T09:14:11.935Z"
   },
   {
    "duration": 7,
    "start_time": "2024-01-30T09:14:59.734Z"
   },
   {
    "duration": 6,
    "start_time": "2024-01-30T09:15:06.197Z"
   },
   {
    "duration": 6,
    "start_time": "2024-01-30T09:23:53.807Z"
   },
   {
    "duration": 7,
    "start_time": "2024-01-30T09:24:06.341Z"
   },
   {
    "duration": 50,
    "start_time": "2024-01-30T18:42:35.933Z"
   },
   {
    "duration": 406,
    "start_time": "2024-01-30T18:42:42.129Z"
   },
   {
    "duration": 3,
    "start_time": "2024-01-30T18:42:42.537Z"
   },
   {
    "duration": 105,
    "start_time": "2024-01-30T18:42:42.542Z"
   },
   {
    "duration": 11,
    "start_time": "2024-01-30T18:42:42.649Z"
   },
   {
    "duration": 235,
    "start_time": "2024-01-30T18:42:42.661Z"
   },
   {
    "duration": 16,
    "start_time": "2024-01-30T18:42:42.898Z"
   },
   {
    "duration": 33,
    "start_time": "2024-01-30T18:42:42.916Z"
   },
   {
    "duration": 48,
    "start_time": "2024-01-30T18:42:42.950Z"
   },
   {
    "duration": 17,
    "start_time": "2024-01-30T18:42:43.000Z"
   },
   {
    "duration": 7,
    "start_time": "2024-01-30T18:42:43.020Z"
   },
   {
    "duration": 7,
    "start_time": "2024-01-30T18:42:43.029Z"
   },
   {
    "duration": 4,
    "start_time": "2024-01-30T18:42:43.038Z"
   },
   {
    "duration": 40,
    "start_time": "2024-01-30T18:42:43.044Z"
   },
   {
    "duration": 5,
    "start_time": "2024-01-30T18:42:43.086Z"
   },
   {
    "duration": 19,
    "start_time": "2024-01-30T18:42:43.093Z"
   },
   {
    "duration": 23,
    "start_time": "2024-01-30T18:42:43.114Z"
   },
   {
    "duration": 12,
    "start_time": "2024-01-30T18:42:43.139Z"
   },
   {
    "duration": 35,
    "start_time": "2024-01-30T18:42:43.153Z"
   },
   {
    "duration": 8,
    "start_time": "2024-01-30T18:42:43.190Z"
   },
   {
    "duration": 12,
    "start_time": "2024-01-30T18:42:43.199Z"
   },
   {
    "duration": 20,
    "start_time": "2024-01-30T18:42:43.212Z"
   },
   {
    "duration": 12,
    "start_time": "2024-01-30T18:42:43.234Z"
   },
   {
    "duration": 14,
    "start_time": "2024-01-30T18:42:43.248Z"
   },
   {
    "duration": 5,
    "start_time": "2024-01-30T18:42:43.263Z"
   },
   {
    "duration": 5,
    "start_time": "2024-01-30T18:42:43.280Z"
   },
   {
    "duration": 7,
    "start_time": "2024-01-30T18:42:43.287Z"
   },
   {
    "duration": 11,
    "start_time": "2024-01-30T18:42:43.295Z"
   },
   {
    "duration": 10,
    "start_time": "2024-01-30T18:42:43.309Z"
   },
   {
    "duration": 14,
    "start_time": "2024-01-30T18:42:43.320Z"
   },
   {
    "duration": 8,
    "start_time": "2024-01-30T18:42:43.336Z"
   },
   {
    "duration": 7,
    "start_time": "2024-01-30T18:42:43.345Z"
   },
   {
    "duration": 37,
    "start_time": "2024-01-30T18:42:43.353Z"
   },
   {
    "duration": 3,
    "start_time": "2024-01-30T18:42:43.392Z"
   },
   {
    "duration": 24,
    "start_time": "2024-01-30T18:42:43.396Z"
   },
   {
    "duration": 19,
    "start_time": "2024-01-30T18:42:43.421Z"
   },
   {
    "duration": 25,
    "start_time": "2024-01-30T18:42:43.442Z"
   },
   {
    "duration": 39,
    "start_time": "2024-01-30T18:42:43.469Z"
   },
   {
    "duration": 29,
    "start_time": "2024-01-30T18:42:43.509Z"
   },
   {
    "duration": 841,
    "start_time": "2024-01-30T18:42:43.539Z"
   },
   {
    "duration": 150,
    "start_time": "2024-01-30T18:42:44.382Z"
   },
   {
    "duration": 174,
    "start_time": "2024-01-30T18:42:44.534Z"
   },
   {
    "duration": 244,
    "start_time": "2024-01-30T18:42:44.709Z"
   },
   {
    "duration": 226,
    "start_time": "2024-01-30T18:42:44.955Z"
   },
   {
    "duration": 583,
    "start_time": "2024-01-30T18:42:45.183Z"
   },
   {
    "duration": 40,
    "start_time": "2024-01-30T18:42:45.768Z"
   },
   {
    "duration": 173,
    "start_time": "2024-01-30T18:42:45.809Z"
   },
   {
    "duration": 8,
    "start_time": "2024-01-30T18:42:45.983Z"
   },
   {
    "duration": 165,
    "start_time": "2024-01-30T18:42:45.992Z"
   },
   {
    "duration": 73,
    "start_time": "2024-01-30T18:46:30.628Z"
   },
   {
    "duration": 2,
    "start_time": "2024-01-30T18:46:35.242Z"
   },
   {
    "duration": 6,
    "start_time": "2024-01-30T18:46:35.588Z"
   },
   {
    "duration": 6,
    "start_time": "2024-01-30T18:46:38.613Z"
   },
   {
    "duration": 6,
    "start_time": "2024-01-30T18:46:54.421Z"
   },
   {
    "duration": 5,
    "start_time": "2024-01-30T18:47:05.824Z"
   },
   {
    "duration": 8,
    "start_time": "2024-01-30T18:47:42.554Z"
   },
   {
    "duration": 6,
    "start_time": "2024-01-30T18:47:57.939Z"
   },
   {
    "duration": 5,
    "start_time": "2024-01-30T18:48:12.232Z"
   },
   {
    "duration": 5,
    "start_time": "2024-01-30T18:48:29.073Z"
   },
   {
    "duration": 5,
    "start_time": "2024-01-30T18:48:41.709Z"
   },
   {
    "duration": 9,
    "start_time": "2024-01-30T18:48:53.180Z"
   },
   {
    "duration": 5,
    "start_time": "2024-01-30T18:49:11.271Z"
   },
   {
    "duration": 67,
    "start_time": "2024-01-30T18:50:15.138Z"
   },
   {
    "duration": 35,
    "start_time": "2024-01-30T18:50:52.613Z"
   },
   {
    "duration": 431,
    "start_time": "2024-01-30T18:51:36.142Z"
   },
   {
    "duration": 6,
    "start_time": "2024-01-30T18:51:36.574Z"
   },
   {
    "duration": 63,
    "start_time": "2024-01-30T18:51:36.581Z"
   },
   {
    "duration": 10,
    "start_time": "2024-01-30T18:51:36.646Z"
   },
   {
    "duration": 96,
    "start_time": "2024-01-30T18:51:36.657Z"
   },
   {
    "duration": 25,
    "start_time": "2024-01-30T18:51:36.755Z"
   },
   {
    "duration": 9,
    "start_time": "2024-01-30T18:51:36.782Z"
   },
   {
    "duration": 33,
    "start_time": "2024-01-30T18:51:36.793Z"
   },
   {
    "duration": 17,
    "start_time": "2024-01-30T18:51:36.828Z"
   },
   {
    "duration": 9,
    "start_time": "2024-01-30T18:51:36.848Z"
   },
   {
    "duration": 5,
    "start_time": "2024-01-30T18:51:36.879Z"
   },
   {
    "duration": 5,
    "start_time": "2024-01-30T18:51:36.886Z"
   },
   {
    "duration": 8,
    "start_time": "2024-01-30T18:51:36.893Z"
   },
   {
    "duration": 18,
    "start_time": "2024-01-30T18:51:36.903Z"
   },
   {
    "duration": 59,
    "start_time": "2024-01-30T18:51:36.923Z"
   },
   {
    "duration": 22,
    "start_time": "2024-01-30T18:51:36.983Z"
   },
   {
    "duration": 18,
    "start_time": "2024-01-30T18:51:37.007Z"
   },
   {
    "duration": 13,
    "start_time": "2024-01-30T18:51:37.026Z"
   },
   {
    "duration": 3,
    "start_time": "2024-01-30T18:51:37.040Z"
   },
   {
    "duration": 18,
    "start_time": "2024-01-30T18:51:37.045Z"
   },
   {
    "duration": 44,
    "start_time": "2024-01-30T18:51:37.080Z"
   },
   {
    "duration": 8,
    "start_time": "2024-01-30T18:51:37.125Z"
   },
   {
    "duration": 6,
    "start_time": "2024-01-30T18:51:37.135Z"
   },
   {
    "duration": 8,
    "start_time": "2024-01-30T18:51:37.142Z"
   },
   {
    "duration": 10,
    "start_time": "2024-01-30T18:51:37.151Z"
   },
   {
    "duration": 5,
    "start_time": "2024-01-30T18:51:37.162Z"
   },
   {
    "duration": 11,
    "start_time": "2024-01-30T18:51:37.168Z"
   },
   {
    "duration": 4,
    "start_time": "2024-01-30T18:51:37.182Z"
   },
   {
    "duration": 12,
    "start_time": "2024-01-30T18:51:37.187Z"
   },
   {
    "duration": 8,
    "start_time": "2024-01-30T18:51:37.200Z"
   },
   {
    "duration": 24,
    "start_time": "2024-01-30T18:51:37.210Z"
   },
   {
    "duration": 6,
    "start_time": "2024-01-30T18:51:37.236Z"
   },
   {
    "duration": 10,
    "start_time": "2024-01-30T18:51:37.244Z"
   },
   {
    "duration": 37,
    "start_time": "2024-01-30T18:51:37.256Z"
   },
   {
    "duration": 22,
    "start_time": "2024-01-30T18:51:37.295Z"
   },
   {
    "duration": 3,
    "start_time": "2024-01-30T18:51:37.319Z"
   },
   {
    "duration": 8,
    "start_time": "2024-01-30T18:51:37.323Z"
   },
   {
    "duration": 12,
    "start_time": "2024-01-30T18:51:37.333Z"
   },
   {
    "duration": 34,
    "start_time": "2024-01-30T18:51:37.346Z"
   },
   {
    "duration": 32,
    "start_time": "2024-01-30T18:51:37.381Z"
   },
   {
    "duration": 29,
    "start_time": "2024-01-30T18:51:37.415Z"
   },
   {
    "duration": 442,
    "start_time": "2024-01-30T18:51:37.446Z"
   },
   {
    "duration": 149,
    "start_time": "2024-01-30T18:51:37.891Z"
   },
   {
    "duration": 172,
    "start_time": "2024-01-30T18:51:38.042Z"
   },
   {
    "duration": 245,
    "start_time": "2024-01-30T18:51:38.216Z"
   },
   {
    "duration": 221,
    "start_time": "2024-01-30T18:51:38.463Z"
   },
   {
    "duration": 628,
    "start_time": "2024-01-30T18:51:38.686Z"
   },
   {
    "duration": 36,
    "start_time": "2024-01-30T18:51:39.316Z"
   },
   {
    "duration": 190,
    "start_time": "2024-01-30T18:51:39.353Z"
   },
   {
    "duration": 8,
    "start_time": "2024-01-30T18:51:39.545Z"
   },
   {
    "duration": 152,
    "start_time": "2024-01-30T18:51:39.555Z"
   },
   {
    "duration": 109,
    "start_time": "2024-01-30T19:02:07.830Z"
   },
   {
    "duration": 36,
    "start_time": "2024-01-30T19:02:11.644Z"
   },
   {
    "duration": 3,
    "start_time": "2024-01-30T19:05:08.241Z"
   },
   {
    "duration": 30,
    "start_time": "2024-01-30T19:05:23.812Z"
   },
   {
    "duration": 29,
    "start_time": "2024-01-30T19:06:34.191Z"
   },
   {
    "duration": 12,
    "start_time": "2024-01-30T19:08:45.019Z"
   },
   {
    "duration": 28,
    "start_time": "2024-01-30T19:08:57.569Z"
   },
   {
    "duration": 9,
    "start_time": "2024-01-30T19:09:33.208Z"
   },
   {
    "duration": 6,
    "start_time": "2024-01-30T19:10:02.570Z"
   },
   {
    "duration": 5,
    "start_time": "2024-01-30T19:10:05.366Z"
   },
   {
    "duration": 21,
    "start_time": "2024-01-30T19:10:15.886Z"
   },
   {
    "duration": 1754,
    "start_time": "2024-01-30T19:12:06.449Z"
   },
   {
    "duration": 186,
    "start_time": "2024-01-30T19:13:30.170Z"
   },
   {
    "duration": 177,
    "start_time": "2024-01-30T19:13:52.011Z"
   },
   {
    "duration": 282,
    "start_time": "2024-01-30T19:13:57.347Z"
   },
   {
    "duration": 137,
    "start_time": "2024-01-30T19:14:24.630Z"
   },
   {
    "duration": 155,
    "start_time": "2024-01-30T19:14:40.668Z"
   },
   {
    "duration": 244,
    "start_time": "2024-01-30T19:14:44.007Z"
   },
   {
    "duration": 155,
    "start_time": "2024-01-30T19:14:54.878Z"
   },
   {
    "duration": 221,
    "start_time": "2024-01-30T19:15:15.233Z"
   },
   {
    "duration": 255,
    "start_time": "2024-01-30T19:15:21.274Z"
   },
   {
    "duration": 143,
    "start_time": "2024-01-30T19:15:24.806Z"
   },
   {
    "duration": 154,
    "start_time": "2024-01-30T19:15:39.987Z"
   },
   {
    "duration": 155,
    "start_time": "2024-01-30T19:15:52.947Z"
   },
   {
    "duration": 196,
    "start_time": "2024-01-30T19:16:17.336Z"
   },
   {
    "duration": 191,
    "start_time": "2024-01-30T19:19:16.661Z"
   },
   {
    "duration": 6,
    "start_time": "2024-01-30T19:19:29.259Z"
   },
   {
    "duration": 7,
    "start_time": "2024-01-30T19:22:38.563Z"
   },
   {
    "duration": 212,
    "start_time": "2024-01-30T19:22:56.497Z"
   },
   {
    "duration": 243,
    "start_time": "2024-01-30T19:23:22.532Z"
   },
   {
    "duration": 373,
    "start_time": "2024-01-30T19:27:59.495Z"
   },
   {
    "duration": 285,
    "start_time": "2024-01-30T19:33:15.410Z"
   },
   {
    "duration": 39,
    "start_time": "2024-01-30T19:34:23.056Z"
   },
   {
    "duration": 5,
    "start_time": "2024-01-30T19:43:21.024Z"
   },
   {
    "duration": 7,
    "start_time": "2024-01-30T19:48:13.751Z"
   },
   {
    "duration": 12,
    "start_time": "2024-01-30T19:49:31.537Z"
   },
   {
    "duration": 424,
    "start_time": "2024-01-30T19:51:43.222Z"
   },
   {
    "duration": 3,
    "start_time": "2024-01-30T19:51:43.648Z"
   },
   {
    "duration": 75,
    "start_time": "2024-01-30T19:51:43.653Z"
   },
   {
    "duration": 10,
    "start_time": "2024-01-30T19:51:43.730Z"
   },
   {
    "duration": 115,
    "start_time": "2024-01-30T19:51:43.742Z"
   },
   {
    "duration": 21,
    "start_time": "2024-01-30T19:51:43.859Z"
   },
   {
    "duration": 16,
    "start_time": "2024-01-30T19:51:43.882Z"
   },
   {
    "duration": 35,
    "start_time": "2024-01-30T19:51:43.900Z"
   },
   {
    "duration": 19,
    "start_time": "2024-01-30T19:51:43.937Z"
   },
   {
    "duration": 41,
    "start_time": "2024-01-30T19:51:43.959Z"
   },
   {
    "duration": 4,
    "start_time": "2024-01-30T19:51:44.002Z"
   },
   {
    "duration": 20,
    "start_time": "2024-01-30T19:51:44.008Z"
   },
   {
    "duration": 12,
    "start_time": "2024-01-30T19:51:44.030Z"
   },
   {
    "duration": 13,
    "start_time": "2024-01-30T19:51:44.044Z"
   },
   {
    "duration": 41,
    "start_time": "2024-01-30T19:51:44.059Z"
   },
   {
    "duration": 12,
    "start_time": "2024-01-30T19:51:44.102Z"
   },
   {
    "duration": 12,
    "start_time": "2024-01-30T19:51:44.116Z"
   },
   {
    "duration": 15,
    "start_time": "2024-01-30T19:51:44.130Z"
   },
   {
    "duration": 20,
    "start_time": "2024-01-30T19:51:44.148Z"
   },
   {
    "duration": 44,
    "start_time": "2024-01-30T19:51:44.170Z"
   },
   {
    "duration": 16,
    "start_time": "2024-01-30T19:51:44.216Z"
   },
   {
    "duration": 15,
    "start_time": "2024-01-30T19:51:44.234Z"
   },
   {
    "duration": 19,
    "start_time": "2024-01-30T19:51:44.251Z"
   },
   {
    "duration": 23,
    "start_time": "2024-01-30T19:51:44.271Z"
   },
   {
    "duration": 23,
    "start_time": "2024-01-30T19:51:44.297Z"
   },
   {
    "duration": 8,
    "start_time": "2024-01-30T19:51:44.322Z"
   },
   {
    "duration": 6,
    "start_time": "2024-01-30T19:51:44.332Z"
   },
   {
    "duration": 9,
    "start_time": "2024-01-30T19:51:44.342Z"
   },
   {
    "duration": 9,
    "start_time": "2024-01-30T19:51:44.353Z"
   },
   {
    "duration": 5,
    "start_time": "2024-01-30T19:51:44.364Z"
   },
   {
    "duration": 21,
    "start_time": "2024-01-30T19:51:44.371Z"
   },
   {
    "duration": 6,
    "start_time": "2024-01-30T19:51:44.398Z"
   },
   {
    "duration": 11,
    "start_time": "2024-01-30T19:51:44.406Z"
   },
   {
    "duration": 12,
    "start_time": "2024-01-30T19:51:44.419Z"
   },
   {
    "duration": 36,
    "start_time": "2024-01-30T19:51:44.432Z"
   },
   {
    "duration": 25,
    "start_time": "2024-01-30T19:51:44.469Z"
   },
   {
    "duration": 507,
    "start_time": "2024-01-30T19:51:44.496Z"
   },
   {
    "duration": 28,
    "start_time": "2024-01-30T19:51:45.005Z"
   },
   {
    "duration": 277,
    "start_time": "2024-01-30T19:51:45.034Z"
   },
   {
    "duration": 5,
    "start_time": "2024-01-30T19:51:45.313Z"
   },
   {
    "duration": 47,
    "start_time": "2024-01-30T19:51:45.320Z"
   },
   {
    "duration": 28,
    "start_time": "2024-01-30T19:51:45.369Z"
   },
   {
    "duration": 3,
    "start_time": "2024-01-30T19:51:45.399Z"
   },
   {
    "duration": 15,
    "start_time": "2024-01-30T19:51:45.404Z"
   },
   {
    "duration": 70,
    "start_time": "2024-01-30T19:51:45.420Z"
   },
   {
    "duration": 58,
    "start_time": "2024-01-30T19:51:45.492Z"
   },
   {
    "duration": 118,
    "start_time": "2024-01-30T19:51:45.552Z"
   },
   {
    "duration": 43,
    "start_time": "2024-01-30T19:51:45.672Z"
   },
   {
    "duration": 192,
    "start_time": "2024-01-30T19:51:45.717Z"
   },
   {
    "duration": 181,
    "start_time": "2024-01-30T19:51:45.911Z"
   },
   {
    "duration": 200,
    "start_time": "2024-01-30T19:51:46.104Z"
   },
   {
    "duration": 289,
    "start_time": "2024-01-30T19:51:46.305Z"
   },
   {
    "duration": 175,
    "start_time": "2024-01-30T19:51:46.601Z"
   },
   {
    "duration": 664,
    "start_time": "2024-01-30T19:51:46.778Z"
   },
   {
    "duration": 46,
    "start_time": "2024-01-30T19:51:47.444Z"
   },
   {
    "duration": 200,
    "start_time": "2024-01-30T19:51:47.492Z"
   },
   {
    "duration": 9,
    "start_time": "2024-01-30T19:51:47.696Z"
   },
   {
    "duration": 150,
    "start_time": "2024-01-30T19:51:47.707Z"
   },
   {
    "duration": 55,
    "start_time": "2024-01-30T19:57:28.801Z"
   },
   {
    "duration": 17,
    "start_time": "2024-01-30T19:58:10.789Z"
   },
   {
    "duration": 436,
    "start_time": "2024-01-30T19:58:20.246Z"
   },
   {
    "duration": 8,
    "start_time": "2024-01-30T19:58:20.684Z"
   },
   {
    "duration": 64,
    "start_time": "2024-01-30T19:58:20.694Z"
   },
   {
    "duration": 12,
    "start_time": "2024-01-30T19:58:20.760Z"
   },
   {
    "duration": 105,
    "start_time": "2024-01-30T19:58:20.773Z"
   },
   {
    "duration": 29,
    "start_time": "2024-01-30T19:58:20.883Z"
   },
   {
    "duration": 9,
    "start_time": "2024-01-30T19:58:20.914Z"
   },
   {
    "duration": 28,
    "start_time": "2024-01-30T19:58:20.924Z"
   },
   {
    "duration": 36,
    "start_time": "2024-01-30T19:58:20.954Z"
   },
   {
    "duration": 7,
    "start_time": "2024-01-30T19:58:20.994Z"
   },
   {
    "duration": 11,
    "start_time": "2024-01-30T19:58:21.005Z"
   },
   {
    "duration": 9,
    "start_time": "2024-01-30T19:58:21.018Z"
   },
   {
    "duration": 16,
    "start_time": "2024-01-30T19:58:21.028Z"
   },
   {
    "duration": 19,
    "start_time": "2024-01-30T19:58:21.046Z"
   },
   {
    "duration": 21,
    "start_time": "2024-01-30T19:58:21.067Z"
   },
   {
    "duration": 7,
    "start_time": "2024-01-30T19:58:21.096Z"
   },
   {
    "duration": 18,
    "start_time": "2024-01-30T19:58:21.104Z"
   },
   {
    "duration": 6,
    "start_time": "2024-01-30T19:58:21.124Z"
   },
   {
    "duration": 11,
    "start_time": "2024-01-30T19:58:21.131Z"
   },
   {
    "duration": 29,
    "start_time": "2024-01-30T19:58:21.143Z"
   },
   {
    "duration": 21,
    "start_time": "2024-01-30T19:58:21.174Z"
   },
   {
    "duration": 17,
    "start_time": "2024-01-30T19:58:21.197Z"
   },
   {
    "duration": 2,
    "start_time": "2024-01-30T19:58:21.216Z"
   },
   {
    "duration": 26,
    "start_time": "2024-01-30T19:58:21.220Z"
   },
   {
    "duration": 20,
    "start_time": "2024-01-30T19:58:21.247Z"
   },
   {
    "duration": 12,
    "start_time": "2024-01-30T19:58:21.269Z"
   },
   {
    "duration": 20,
    "start_time": "2024-01-30T19:58:21.283Z"
   },
   {
    "duration": 8,
    "start_time": "2024-01-30T19:58:21.308Z"
   },
   {
    "duration": 12,
    "start_time": "2024-01-30T19:58:21.317Z"
   },
   {
    "duration": 5,
    "start_time": "2024-01-30T19:58:21.331Z"
   },
   {
    "duration": 18,
    "start_time": "2024-01-30T19:58:21.337Z"
   },
   {
    "duration": 11,
    "start_time": "2024-01-30T19:58:21.357Z"
   },
   {
    "duration": 22,
    "start_time": "2024-01-30T19:58:21.370Z"
   },
   {
    "duration": 7,
    "start_time": "2024-01-30T19:58:21.394Z"
   },
   {
    "duration": 31,
    "start_time": "2024-01-30T19:58:21.404Z"
   },
   {
    "duration": 7,
    "start_time": "2024-01-30T19:58:21.437Z"
   },
   {
    "duration": 548,
    "start_time": "2024-01-30T19:58:21.445Z"
   },
   {
    "duration": 31,
    "start_time": "2024-01-30T19:58:21.998Z"
   },
   {
    "duration": 291,
    "start_time": "2024-01-30T19:58:22.031Z"
   },
   {
    "duration": 5,
    "start_time": "2024-01-30T19:58:22.324Z"
   },
   {
    "duration": 19,
    "start_time": "2024-01-30T19:58:22.330Z"
   },
   {
    "duration": 34,
    "start_time": "2024-01-30T19:58:22.350Z"
   },
   {
    "duration": 5,
    "start_time": "2024-01-30T19:58:22.386Z"
   },
   {
    "duration": 13,
    "start_time": "2024-01-30T19:58:22.393Z"
   },
   {
    "duration": 22,
    "start_time": "2024-01-30T19:58:22.408Z"
   },
   {
    "duration": 26,
    "start_time": "2024-01-30T19:58:22.431Z"
   },
   {
    "duration": 101,
    "start_time": "2024-01-30T19:58:22.459Z"
   },
   {
    "duration": 51,
    "start_time": "2024-01-30T19:58:22.562Z"
   },
   {
    "duration": 169,
    "start_time": "2024-01-30T19:58:22.614Z"
   },
   {
    "duration": 165,
    "start_time": "2024-01-30T19:58:22.785Z"
   },
   {
    "duration": 198,
    "start_time": "2024-01-30T19:58:22.952Z"
   },
   {
    "duration": 302,
    "start_time": "2024-01-30T19:58:23.152Z"
   },
   {
    "duration": 184,
    "start_time": "2024-01-30T19:58:23.456Z"
   },
   {
    "duration": 673,
    "start_time": "2024-01-30T19:58:23.642Z"
   },
   {
    "duration": 29,
    "start_time": "2024-01-30T19:58:24.318Z"
   },
   {
    "duration": 219,
    "start_time": "2024-01-30T19:58:24.349Z"
   },
   {
    "duration": 14,
    "start_time": "2024-01-30T19:58:24.570Z"
   },
   {
    "duration": 173,
    "start_time": "2024-01-30T19:58:24.586Z"
   },
   {
    "duration": 14,
    "start_time": "2024-01-30T20:04:32.694Z"
   },
   {
    "duration": 9,
    "start_time": "2024-01-30T20:04:35.705Z"
   },
   {
    "duration": 5,
    "start_time": "2024-01-30T20:04:50.806Z"
   },
   {
    "duration": 6,
    "start_time": "2024-01-30T20:05:15.536Z"
   },
   {
    "duration": 5,
    "start_time": "2024-01-30T20:05:21.506Z"
   },
   {
    "duration": 7,
    "start_time": "2024-01-30T20:05:54.230Z"
   },
   {
    "duration": 6,
    "start_time": "2024-01-30T20:05:54.650Z"
   },
   {
    "duration": 45,
    "start_time": "2024-01-31T13:34:17.628Z"
   },
   {
    "duration": 437,
    "start_time": "2024-01-31T13:34:23.679Z"
   },
   {
    "duration": 3,
    "start_time": "2024-01-31T13:34:24.118Z"
   },
   {
    "duration": 106,
    "start_time": "2024-01-31T13:34:24.122Z"
   },
   {
    "duration": 10,
    "start_time": "2024-01-31T13:34:24.230Z"
   },
   {
    "duration": 256,
    "start_time": "2024-01-31T13:34:24.242Z"
   },
   {
    "duration": 22,
    "start_time": "2024-01-31T13:34:24.500Z"
   },
   {
    "duration": 14,
    "start_time": "2024-01-31T13:34:24.524Z"
   },
   {
    "duration": 54,
    "start_time": "2024-01-31T13:34:24.540Z"
   },
   {
    "duration": 22,
    "start_time": "2024-01-31T13:34:24.595Z"
   },
   {
    "duration": 3,
    "start_time": "2024-01-31T13:34:24.621Z"
   },
   {
    "duration": 9,
    "start_time": "2024-01-31T13:34:24.626Z"
   },
   {
    "duration": 12,
    "start_time": "2024-01-31T13:34:24.636Z"
   },
   {
    "duration": 11,
    "start_time": "2024-01-31T13:34:24.650Z"
   },
   {
    "duration": 37,
    "start_time": "2024-01-31T13:34:24.662Z"
   },
   {
    "duration": 11,
    "start_time": "2024-01-31T13:34:24.701Z"
   },
   {
    "duration": 4,
    "start_time": "2024-01-31T13:34:24.714Z"
   },
   {
    "duration": 7,
    "start_time": "2024-01-31T13:34:24.720Z"
   },
   {
    "duration": 9,
    "start_time": "2024-01-31T13:34:24.729Z"
   },
   {
    "duration": 11,
    "start_time": "2024-01-31T13:34:24.740Z"
   },
   {
    "duration": 23,
    "start_time": "2024-01-31T13:34:24.753Z"
   },
   {
    "duration": 24,
    "start_time": "2024-01-31T13:34:24.778Z"
   },
   {
    "duration": 9,
    "start_time": "2024-01-31T13:34:24.804Z"
   },
   {
    "duration": 3,
    "start_time": "2024-01-31T13:34:24.815Z"
   },
   {
    "duration": 14,
    "start_time": "2024-01-31T13:34:24.819Z"
   },
   {
    "duration": 17,
    "start_time": "2024-01-31T13:34:24.835Z"
   },
   {
    "duration": 22,
    "start_time": "2024-01-31T13:34:24.853Z"
   },
   {
    "duration": 13,
    "start_time": "2024-01-31T13:34:24.876Z"
   },
   {
    "duration": 5,
    "start_time": "2024-01-31T13:34:24.894Z"
   },
   {
    "duration": 6,
    "start_time": "2024-01-31T13:34:24.901Z"
   },
   {
    "duration": 22,
    "start_time": "2024-01-31T13:34:24.909Z"
   },
   {
    "duration": 29,
    "start_time": "2024-01-31T13:34:24.932Z"
   },
   {
    "duration": 16,
    "start_time": "2024-01-31T13:34:24.963Z"
   },
   {
    "duration": 29,
    "start_time": "2024-01-31T13:34:24.980Z"
   },
   {
    "duration": 41,
    "start_time": "2024-01-31T13:34:25.011Z"
   },
   {
    "duration": 18,
    "start_time": "2024-01-31T13:34:25.054Z"
   },
   {
    "duration": 46,
    "start_time": "2024-01-31T13:34:25.074Z"
   },
   {
    "duration": 5,
    "start_time": "2024-01-31T13:34:25.121Z"
   },
   {
    "duration": 616,
    "start_time": "2024-01-31T13:34:25.128Z"
   },
   {
    "duration": 34,
    "start_time": "2024-01-31T13:34:25.746Z"
   },
   {
    "duration": 236,
    "start_time": "2024-01-31T13:34:25.794Z"
   },
   {
    "duration": 5,
    "start_time": "2024-01-31T13:34:26.032Z"
   },
   {
    "duration": 258,
    "start_time": "2024-01-31T13:34:26.039Z"
   },
   {
    "duration": 17,
    "start_time": "2024-01-31T13:34:26.298Z"
   },
   {
    "duration": 38,
    "start_time": "2024-01-31T13:34:26.316Z"
   },
   {
    "duration": 14,
    "start_time": "2024-01-31T13:34:26.355Z"
   },
   {
    "duration": 38,
    "start_time": "2024-01-31T13:34:26.371Z"
   },
   {
    "duration": 39,
    "start_time": "2024-01-31T13:34:26.411Z"
   },
   {
    "duration": 44,
    "start_time": "2024-01-31T13:34:26.451Z"
   },
   {
    "duration": 57,
    "start_time": "2024-01-31T13:34:26.496Z"
   },
   {
    "duration": 31,
    "start_time": "2024-01-31T13:34:26.555Z"
   },
   {
    "duration": 151,
    "start_time": "2024-01-31T13:34:26.587Z"
   },
   {
    "duration": 141,
    "start_time": "2024-01-31T13:34:26.739Z"
   },
   {
    "duration": 170,
    "start_time": "2024-01-31T13:34:26.881Z"
   },
   {
    "duration": 230,
    "start_time": "2024-01-31T13:34:27.052Z"
   },
   {
    "duration": 158,
    "start_time": "2024-01-31T13:34:27.284Z"
   },
   {
    "duration": 565,
    "start_time": "2024-01-31T13:34:27.443Z"
   },
   {
    "duration": 42,
    "start_time": "2024-01-31T13:34:28.010Z"
   },
   {
    "duration": 174,
    "start_time": "2024-01-31T13:34:28.055Z"
   },
   {
    "duration": 8,
    "start_time": "2024-01-31T13:34:28.231Z"
   },
   {
    "duration": 149,
    "start_time": "2024-01-31T13:34:28.240Z"
   },
   {
    "duration": 29,
    "start_time": "2024-01-31T13:35:13.373Z"
   },
   {
    "duration": 9,
    "start_time": "2024-01-31T13:35:31.470Z"
   },
   {
    "duration": 234,
    "start_time": "2024-01-31T13:36:31.469Z"
   },
   {
    "duration": 224,
    "start_time": "2024-01-31T13:36:38.557Z"
   },
   {
    "duration": 5,
    "start_time": "2024-01-31T13:38:14.022Z"
   },
   {
    "duration": 227,
    "start_time": "2024-01-31T13:38:41.834Z"
   },
   {
    "duration": 233,
    "start_time": "2024-01-31T13:38:48.407Z"
   },
   {
    "duration": 183,
    "start_time": "2024-01-31T13:38:52.835Z"
   },
   {
    "duration": 177,
    "start_time": "2024-01-31T13:41:09.435Z"
   },
   {
    "duration": 176,
    "start_time": "2024-01-31T13:41:16.935Z"
   },
   {
    "duration": 10,
    "start_time": "2024-01-31T13:41:42.789Z"
   },
   {
    "duration": 328,
    "start_time": "2024-01-31T13:41:56.886Z"
   },
   {
    "duration": 228,
    "start_time": "2024-01-31T13:42:13.009Z"
   },
   {
    "duration": 7,
    "start_time": "2024-01-31T13:44:20.358Z"
   },
   {
    "duration": 6,
    "start_time": "2024-01-31T13:47:25.880Z"
   },
   {
    "duration": 176,
    "start_time": "2024-01-31T13:50:17.740Z"
   },
   {
    "duration": 62,
    "start_time": "2024-01-31T13:52:05.970Z"
   },
   {
    "duration": 166,
    "start_time": "2024-01-31T13:52:35.977Z"
   },
   {
    "duration": 10,
    "start_time": "2024-01-31T13:52:46.528Z"
   },
   {
    "duration": 8,
    "start_time": "2024-01-31T13:53:18.515Z"
   },
   {
    "duration": 11,
    "start_time": "2024-01-31T13:53:22.984Z"
   },
   {
    "duration": 11,
    "start_time": "2024-01-31T13:53:35.467Z"
   },
   {
    "duration": 219,
    "start_time": "2024-01-31T13:53:36.251Z"
   },
   {
    "duration": 12,
    "start_time": "2024-01-31T13:53:45.423Z"
   },
   {
    "duration": 212,
    "start_time": "2024-01-31T13:53:45.731Z"
   },
   {
    "duration": 160,
    "start_time": "2024-01-31T13:54:15.799Z"
   },
   {
    "duration": 11,
    "start_time": "2024-01-31T13:54:29.902Z"
   },
   {
    "duration": 286,
    "start_time": "2024-01-31T13:54:30.747Z"
   },
   {
    "duration": 142,
    "start_time": "2024-01-31T13:55:57.593Z"
   },
   {
    "duration": 64,
    "start_time": "2024-01-31T14:08:32.772Z"
   },
   {
    "duration": 134,
    "start_time": "2024-01-31T14:15:14.064Z"
   },
   {
    "duration": 65,
    "start_time": "2024-01-31T14:15:28.933Z"
   },
   {
    "duration": 123,
    "start_time": "2024-01-31T14:15:40.464Z"
   },
   {
    "duration": 2,
    "start_time": "2024-01-31T14:16:37.298Z"
   },
   {
    "duration": 125,
    "start_time": "2024-01-31T14:17:20.370Z"
   },
   {
    "duration": 217,
    "start_time": "2024-01-31T14:18:14.366Z"
   },
   {
    "duration": 59,
    "start_time": "2024-01-31T14:18:48.923Z"
   },
   {
    "duration": 134,
    "start_time": "2024-01-31T14:19:04.729Z"
   },
   {
    "duration": 81,
    "start_time": "2024-01-31T14:22:10.252Z"
   },
   {
    "duration": 56,
    "start_time": "2024-01-31T14:22:19.044Z"
   },
   {
    "duration": 905,
    "start_time": "2024-01-31T14:22:31.865Z"
   },
   {
    "duration": 122,
    "start_time": "2024-01-31T14:24:20.446Z"
   },
   {
    "duration": 127,
    "start_time": "2024-01-31T14:28:21.094Z"
   },
   {
    "duration": 125,
    "start_time": "2024-01-31T14:28:38.642Z"
   },
   {
    "duration": 128,
    "start_time": "2024-01-31T14:31:26.166Z"
   },
   {
    "duration": 136,
    "start_time": "2024-01-31T14:31:29.351Z"
   },
   {
    "duration": 129,
    "start_time": "2024-01-31T14:31:37.043Z"
   },
   {
    "duration": 129,
    "start_time": "2024-01-31T14:31:44.059Z"
   },
   {
    "duration": 142,
    "start_time": "2024-01-31T14:33:28.592Z"
   },
   {
    "duration": 6,
    "start_time": "2024-01-31T14:36:05.072Z"
   },
   {
    "duration": 140,
    "start_time": "2024-01-31T14:36:13.534Z"
   },
   {
    "duration": 133,
    "start_time": "2024-01-31T14:37:50.436Z"
   },
   {
    "duration": 144,
    "start_time": "2024-01-31T14:37:59.870Z"
   },
   {
    "duration": 17,
    "start_time": "2024-01-31T15:33:37.583Z"
   },
   {
    "duration": 12,
    "start_time": "2024-01-31T15:33:59.818Z"
   },
   {
    "duration": 41,
    "start_time": "2024-01-31T15:36:14.341Z"
   },
   {
    "duration": 8,
    "start_time": "2024-01-31T15:37:27.650Z"
   },
   {
    "duration": 11,
    "start_time": "2024-01-31T15:37:31.795Z"
   },
   {
    "duration": 10,
    "start_time": "2024-01-31T15:37:32.553Z"
   },
   {
    "duration": 8,
    "start_time": "2024-01-31T15:37:33.236Z"
   },
   {
    "duration": 83,
    "start_time": "2024-01-31T15:37:46.663Z"
   },
   {
    "duration": 10,
    "start_time": "2024-01-31T15:37:52.100Z"
   },
   {
    "duration": 16,
    "start_time": "2024-01-31T15:38:36.627Z"
   },
   {
    "duration": 7,
    "start_time": "2024-01-31T15:39:32.374Z"
   },
   {
    "duration": 11,
    "start_time": "2024-01-31T15:39:38.943Z"
   },
   {
    "duration": 12,
    "start_time": "2024-01-31T15:41:57.216Z"
   },
   {
    "duration": 11,
    "start_time": "2024-01-31T15:42:13.008Z"
   },
   {
    "duration": 4,
    "start_time": "2024-01-31T15:43:38.725Z"
   },
   {
    "duration": 125,
    "start_time": "2024-01-31T15:43:49.117Z"
   },
   {
    "duration": 8,
    "start_time": "2024-01-31T15:47:17.831Z"
   },
   {
    "duration": 9,
    "start_time": "2024-01-31T15:47:34.510Z"
   },
   {
    "duration": 118,
    "start_time": "2024-01-31T15:47:47.709Z"
   },
   {
    "duration": 123,
    "start_time": "2024-01-31T15:55:51.800Z"
   },
   {
    "duration": 287,
    "start_time": "2024-01-31T15:57:14.722Z"
   },
   {
    "duration": 173,
    "start_time": "2024-01-31T15:58:50.098Z"
   },
   {
    "duration": 164,
    "start_time": "2024-01-31T15:59:12.389Z"
   },
   {
    "duration": 212,
    "start_time": "2024-01-31T15:59:34.545Z"
   },
   {
    "duration": 66,
    "start_time": "2024-01-31T16:01:22.997Z"
   },
   {
    "duration": 15,
    "start_time": "2024-01-31T16:08:55.180Z"
   },
   {
    "duration": 12,
    "start_time": "2024-01-31T16:09:00.929Z"
   },
   {
    "duration": 10,
    "start_time": "2024-01-31T16:09:29.613Z"
   },
   {
    "duration": 10,
    "start_time": "2024-01-31T16:10:02.501Z"
   },
   {
    "duration": 11,
    "start_time": "2024-01-31T16:10:07.032Z"
   },
   {
    "duration": 10,
    "start_time": "2024-01-31T16:10:13.846Z"
   },
   {
    "duration": 6,
    "start_time": "2024-01-31T16:11:13.066Z"
   },
   {
    "duration": 5,
    "start_time": "2024-01-31T16:11:20.025Z"
   },
   {
    "duration": 397,
    "start_time": "2024-01-31T16:11:43.940Z"
   },
   {
    "duration": 3,
    "start_time": "2024-01-31T16:11:44.339Z"
   },
   {
    "duration": 249,
    "start_time": "2024-01-31T16:11:44.344Z"
   },
   {
    "duration": 55,
    "start_time": "2024-01-31T16:11:44.595Z"
   },
   {
    "duration": 9,
    "start_time": "2024-01-31T16:11:44.652Z"
   },
   {
    "duration": 90,
    "start_time": "2024-01-31T16:11:44.662Z"
   },
   {
    "duration": 12,
    "start_time": "2024-01-31T16:11:44.754Z"
   },
   {
    "duration": 7,
    "start_time": "2024-01-31T16:11:44.768Z"
   },
   {
    "duration": 37,
    "start_time": "2024-01-31T16:11:44.776Z"
   },
   {
    "duration": 14,
    "start_time": "2024-01-31T16:11:44.815Z"
   },
   {
    "duration": 3,
    "start_time": "2024-01-31T16:11:44.830Z"
   },
   {
    "duration": 7,
    "start_time": "2024-01-31T16:11:44.835Z"
   },
   {
    "duration": 7,
    "start_time": "2024-01-31T16:11:44.843Z"
   },
   {
    "duration": 4,
    "start_time": "2024-01-31T16:11:44.852Z"
   },
   {
    "duration": 37,
    "start_time": "2024-01-31T16:11:44.858Z"
   },
   {
    "duration": 10,
    "start_time": "2024-01-31T16:11:44.896Z"
   },
   {
    "duration": 4,
    "start_time": "2024-01-31T16:11:44.908Z"
   },
   {
    "duration": 5,
    "start_time": "2024-01-31T16:11:44.914Z"
   },
   {
    "duration": 5,
    "start_time": "2024-01-31T16:11:44.920Z"
   },
   {
    "duration": 12,
    "start_time": "2024-01-31T16:11:44.927Z"
   },
   {
    "duration": 24,
    "start_time": "2024-01-31T16:11:44.940Z"
   },
   {
    "duration": 33,
    "start_time": "2024-01-31T16:11:44.966Z"
   },
   {
    "duration": 9,
    "start_time": "2024-01-31T16:11:45.001Z"
   },
   {
    "duration": 48,
    "start_time": "2024-01-31T16:11:45.012Z"
   },
   {
    "duration": 36,
    "start_time": "2024-01-31T16:11:45.061Z"
   },
   {
    "duration": 42,
    "start_time": "2024-01-31T16:11:45.099Z"
   },
   {
    "duration": 20,
    "start_time": "2024-01-31T16:11:45.142Z"
   },
   {
    "duration": 44,
    "start_time": "2024-01-31T16:11:45.167Z"
   },
   {
    "duration": 37,
    "start_time": "2024-01-31T16:11:45.213Z"
   },
   {
    "duration": 24,
    "start_time": "2024-01-31T16:11:45.252Z"
   },
   {
    "duration": 35,
    "start_time": "2024-01-31T16:11:45.278Z"
   },
   {
    "duration": 23,
    "start_time": "2024-01-31T16:11:45.315Z"
   },
   {
    "duration": 9,
    "start_time": "2024-01-31T16:11:45.340Z"
   },
   {
    "duration": 10,
    "start_time": "2024-01-31T16:11:45.351Z"
   },
   {
    "duration": 25,
    "start_time": "2024-01-31T16:11:45.362Z"
   },
   {
    "duration": 34,
    "start_time": "2024-01-31T16:11:45.388Z"
   },
   {
    "duration": 26,
    "start_time": "2024-01-31T16:11:45.423Z"
   },
   {
    "duration": 6,
    "start_time": "2024-01-31T16:11:45.450Z"
   },
   {
    "duration": 203,
    "start_time": "2024-01-31T16:11:45.457Z"
   },
   {
    "duration": 26,
    "start_time": "2024-01-31T16:11:45.661Z"
   },
   {
    "duration": 223,
    "start_time": "2024-01-31T16:11:45.693Z"
   },
   {
    "duration": 5,
    "start_time": "2024-01-31T16:11:45.918Z"
   },
   {
    "duration": 243,
    "start_time": "2024-01-31T16:11:45.924Z"
   },
   {
    "duration": 8,
    "start_time": "2024-01-31T16:11:46.169Z"
   },
   {
    "duration": 241,
    "start_time": "2024-01-31T16:11:46.179Z"
   },
   {
    "duration": 6,
    "start_time": "2024-01-31T16:11:46.421Z"
   },
   {
    "duration": 201,
    "start_time": "2024-01-31T16:11:46.428Z"
   },
   {
    "duration": 10,
    "start_time": "2024-01-31T16:11:46.630Z"
   },
   {
    "duration": 257,
    "start_time": "2024-01-31T16:11:46.641Z"
   },
   {
    "duration": 5,
    "start_time": "2024-01-31T16:11:46.900Z"
   },
   {
    "duration": 190,
    "start_time": "2024-01-31T16:11:46.906Z"
   },
   {
    "duration": 11,
    "start_time": "2024-01-31T16:11:47.097Z"
   },
   {
    "duration": 146,
    "start_time": "2024-01-31T16:11:47.109Z"
   },
   {
    "duration": 16,
    "start_time": "2024-01-31T16:11:47.256Z"
   },
   {
    "duration": 8,
    "start_time": "2024-01-31T16:11:47.273Z"
   },
   {
    "duration": 14,
    "start_time": "2024-01-31T16:11:47.294Z"
   },
   {
    "duration": 2,
    "start_time": "2024-01-31T16:11:47.310Z"
   },
   {
    "duration": 8,
    "start_time": "2024-01-31T16:11:47.314Z"
   },
   {
    "duration": 11,
    "start_time": "2024-01-31T16:11:47.324Z"
   },
   {
    "duration": 16,
    "start_time": "2024-01-31T16:11:47.337Z"
   },
   {
    "duration": 41,
    "start_time": "2024-01-31T16:11:47.355Z"
   },
   {
    "duration": 26,
    "start_time": "2024-01-31T16:11:47.397Z"
   },
   {
    "duration": 12,
    "start_time": "2024-01-31T16:11:47.424Z"
   },
   {
    "duration": 156,
    "start_time": "2024-01-31T16:11:47.438Z"
   },
   {
    "duration": 11,
    "start_time": "2024-01-31T16:11:47.595Z"
   },
   {
    "duration": 19,
    "start_time": "2024-01-31T16:11:47.607Z"
   },
   {
    "duration": 29,
    "start_time": "2024-01-31T16:11:47.628Z"
   },
   {
    "duration": 119,
    "start_time": "2024-01-31T16:11:47.658Z"
   },
   {
    "duration": 208,
    "start_time": "2024-01-31T16:11:47.778Z"
   },
   {
    "duration": 159,
    "start_time": "2024-01-31T16:11:47.987Z"
   },
   {
    "duration": 4,
    "start_time": "2024-01-31T16:11:48.147Z"
   },
   {
    "duration": 18,
    "start_time": "2024-01-31T16:11:48.153Z"
   },
   {
    "duration": 220,
    "start_time": "2024-01-31T16:11:48.172Z"
   },
   {
    "duration": 139,
    "start_time": "2024-01-31T16:11:48.394Z"
   },
   {
    "duration": 555,
    "start_time": "2024-01-31T16:11:48.535Z"
   },
   {
    "duration": 27,
    "start_time": "2024-01-31T16:11:49.093Z"
   },
   {
    "duration": 165,
    "start_time": "2024-01-31T16:11:49.122Z"
   },
   {
    "duration": 10,
    "start_time": "2024-01-31T16:11:49.289Z"
   },
   {
    "duration": 156,
    "start_time": "2024-01-31T16:11:49.300Z"
   },
   {
    "duration": 8,
    "start_time": "2024-01-31T16:11:54.606Z"
   },
   {
    "duration": 13,
    "start_time": "2024-01-31T16:12:05.007Z"
   },
   {
    "duration": 4,
    "start_time": "2024-01-31T16:12:17.509Z"
   },
   {
    "duration": 367,
    "start_time": "2024-01-31T16:12:23.039Z"
   },
   {
    "duration": 3,
    "start_time": "2024-01-31T16:12:23.408Z"
   },
   {
    "duration": 261,
    "start_time": "2024-01-31T16:12:23.412Z"
   },
   {
    "duration": 55,
    "start_time": "2024-01-31T16:12:23.675Z"
   },
   {
    "duration": 10,
    "start_time": "2024-01-31T16:12:23.731Z"
   },
   {
    "duration": 112,
    "start_time": "2024-01-31T16:12:23.742Z"
   },
   {
    "duration": 14,
    "start_time": "2024-01-31T16:12:23.855Z"
   },
   {
    "duration": 26,
    "start_time": "2024-01-31T16:12:23.870Z"
   },
   {
    "duration": 57,
    "start_time": "2024-01-31T16:12:23.898Z"
   },
   {
    "duration": 27,
    "start_time": "2024-01-31T16:12:23.957Z"
   },
   {
    "duration": 4,
    "start_time": "2024-01-31T16:12:23.985Z"
   },
   {
    "duration": 17,
    "start_time": "2024-01-31T16:12:23.990Z"
   },
   {
    "duration": 29,
    "start_time": "2024-01-31T16:12:24.008Z"
   },
   {
    "duration": 74,
    "start_time": "2024-01-31T16:12:24.039Z"
   },
   {
    "duration": 80,
    "start_time": "2024-01-31T16:12:24.115Z"
   },
   {
    "duration": 30,
    "start_time": "2024-01-31T16:12:24.196Z"
   },
   {
    "duration": 30,
    "start_time": "2024-01-31T16:12:24.228Z"
   },
   {
    "duration": 22,
    "start_time": "2024-01-31T16:12:24.260Z"
   },
   {
    "duration": 18,
    "start_time": "2024-01-31T16:12:24.283Z"
   },
   {
    "duration": 13,
    "start_time": "2024-01-31T16:12:24.302Z"
   },
   {
    "duration": 38,
    "start_time": "2024-01-31T16:12:24.316Z"
   },
   {
    "duration": 43,
    "start_time": "2024-01-31T16:12:24.356Z"
   },
   {
    "duration": 43,
    "start_time": "2024-01-31T16:12:24.401Z"
   },
   {
    "duration": 18,
    "start_time": "2024-01-31T16:12:24.445Z"
   },
   {
    "duration": 21,
    "start_time": "2024-01-31T16:12:24.465Z"
   },
   {
    "duration": 42,
    "start_time": "2024-01-31T16:12:24.487Z"
   },
   {
    "duration": 35,
    "start_time": "2024-01-31T16:12:24.530Z"
   },
   {
    "duration": 24,
    "start_time": "2024-01-31T16:12:24.569Z"
   },
   {
    "duration": 33,
    "start_time": "2024-01-31T16:12:24.594Z"
   },
   {
    "duration": 19,
    "start_time": "2024-01-31T16:12:24.628Z"
   },
   {
    "duration": 51,
    "start_time": "2024-01-31T16:12:24.649Z"
   },
   {
    "duration": 46,
    "start_time": "2024-01-31T16:12:24.702Z"
   },
   {
    "duration": 67,
    "start_time": "2024-01-31T16:12:24.750Z"
   },
   {
    "duration": 35,
    "start_time": "2024-01-31T16:12:24.819Z"
   },
   {
    "duration": 26,
    "start_time": "2024-01-31T16:12:24.856Z"
   },
   {
    "duration": 33,
    "start_time": "2024-01-31T16:12:24.884Z"
   },
   {
    "duration": 42,
    "start_time": "2024-01-31T16:12:24.919Z"
   },
   {
    "duration": 30,
    "start_time": "2024-01-31T16:12:24.962Z"
   },
   {
    "duration": 205,
    "start_time": "2024-01-31T16:12:24.994Z"
   },
   {
    "duration": 24,
    "start_time": "2024-01-31T16:12:25.201Z"
   },
   {
    "duration": 239,
    "start_time": "2024-01-31T16:12:25.227Z"
   },
   {
    "duration": 6,
    "start_time": "2024-01-31T16:12:25.469Z"
   },
   {
    "duration": 285,
    "start_time": "2024-01-31T16:12:25.477Z"
   },
   {
    "duration": 11,
    "start_time": "2024-01-31T16:12:25.764Z"
   },
   {
    "duration": 261,
    "start_time": "2024-01-31T16:12:25.777Z"
   },
   {
    "duration": 7,
    "start_time": "2024-01-31T16:12:26.040Z"
   },
   {
    "duration": 229,
    "start_time": "2024-01-31T16:12:26.048Z"
   },
   {
    "duration": 16,
    "start_time": "2024-01-31T16:12:26.279Z"
   },
   {
    "duration": 261,
    "start_time": "2024-01-31T16:12:26.296Z"
   },
   {
    "duration": 5,
    "start_time": "2024-01-31T16:12:26.559Z"
   },
   {
    "duration": 188,
    "start_time": "2024-01-31T16:12:26.565Z"
   },
   {
    "duration": 10,
    "start_time": "2024-01-31T16:12:26.754Z"
   },
   {
    "duration": 163,
    "start_time": "2024-01-31T16:12:26.765Z"
   },
   {
    "duration": 17,
    "start_time": "2024-01-31T16:12:26.929Z"
   },
   {
    "duration": 32,
    "start_time": "2024-01-31T16:12:26.947Z"
   },
   {
    "duration": 25,
    "start_time": "2024-01-31T16:12:26.980Z"
   },
   {
    "duration": 21,
    "start_time": "2024-01-31T16:12:27.006Z"
   },
   {
    "duration": 27,
    "start_time": "2024-01-31T16:12:27.028Z"
   },
   {
    "duration": 36,
    "start_time": "2024-01-31T16:12:27.056Z"
   },
   {
    "duration": 34,
    "start_time": "2024-01-31T16:12:27.094Z"
   },
   {
    "duration": 41,
    "start_time": "2024-01-31T16:12:27.129Z"
   },
   {
    "duration": 26,
    "start_time": "2024-01-31T16:12:27.172Z"
   },
   {
    "duration": 8,
    "start_time": "2024-01-31T16:12:27.200Z"
   },
   {
    "duration": 164,
    "start_time": "2024-01-31T16:12:27.209Z"
   },
   {
    "duration": 12,
    "start_time": "2024-01-31T16:12:27.374Z"
   },
   {
    "duration": 18,
    "start_time": "2024-01-31T16:12:27.387Z"
   },
   {
    "duration": 53,
    "start_time": "2024-01-31T16:12:27.407Z"
   },
   {
    "duration": 154,
    "start_time": "2024-01-31T16:12:27.461Z"
   },
   {
    "duration": 204,
    "start_time": "2024-01-31T16:12:27.616Z"
   },
   {
    "duration": 173,
    "start_time": "2024-01-31T16:12:27.822Z"
   },
   {
    "duration": 4,
    "start_time": "2024-01-31T16:12:27.997Z"
   },
   {
    "duration": 12,
    "start_time": "2024-01-31T16:12:28.003Z"
   },
   {
    "duration": 217,
    "start_time": "2024-01-31T16:12:28.017Z"
   },
   {
    "duration": 146,
    "start_time": "2024-01-31T16:12:28.235Z"
   },
   {
    "duration": 542,
    "start_time": "2024-01-31T16:12:28.382Z"
   },
   {
    "duration": 28,
    "start_time": "2024-01-31T16:12:28.926Z"
   },
   {
    "duration": 177,
    "start_time": "2024-01-31T16:12:28.956Z"
   },
   {
    "duration": 9,
    "start_time": "2024-01-31T16:12:29.134Z"
   },
   {
    "duration": 153,
    "start_time": "2024-01-31T16:12:29.145Z"
   },
   {
    "duration": 78,
    "start_time": "2024-01-31T16:13:36.368Z"
   },
   {
    "duration": 3,
    "start_time": "2024-01-31T16:17:33.957Z"
   },
   {
    "duration": 10,
    "start_time": "2024-01-31T16:17:34.642Z"
   },
   {
    "duration": 3,
    "start_time": "2024-01-31T16:18:18.767Z"
   },
   {
    "duration": 234,
    "start_time": "2024-01-31T16:18:19.138Z"
   },
   {
    "duration": 2,
    "start_time": "2024-01-31T16:18:27.892Z"
   },
   {
    "duration": 9,
    "start_time": "2024-01-31T16:18:28.410Z"
   },
   {
    "duration": 203,
    "start_time": "2024-01-31T16:19:00.998Z"
   },
   {
    "duration": 322,
    "start_time": "2024-01-31T16:21:55.300Z"
   },
   {
    "duration": 224,
    "start_time": "2024-01-31T16:22:13.046Z"
   },
   {
    "duration": 14,
    "start_time": "2024-01-31T16:44:22.187Z"
   },
   {
    "duration": 18,
    "start_time": "2024-01-31T16:44:31.833Z"
   },
   {
    "duration": 141,
    "start_time": "2024-01-31T16:44:55.387Z"
   },
   {
    "duration": 19,
    "start_time": "2024-01-31T16:45:43.351Z"
   },
   {
    "duration": 542,
    "start_time": "2024-01-31T16:46:13.676Z"
   },
   {
    "duration": 167,
    "start_time": "2024-01-31T16:47:14.946Z"
   },
   {
    "duration": 545,
    "start_time": "2024-01-31T16:47:44.311Z"
   },
   {
    "duration": 712,
    "start_time": "2024-01-31T16:47:55.342Z"
   },
   {
    "duration": 858,
    "start_time": "2024-01-31T16:48:13.883Z"
   },
   {
    "duration": 737,
    "start_time": "2024-01-31T16:48:22.429Z"
   },
   {
    "duration": 688,
    "start_time": "2024-01-31T16:48:28.771Z"
   },
   {
    "duration": 722,
    "start_time": "2024-01-31T16:48:37.428Z"
   },
   {
    "duration": 740,
    "start_time": "2024-01-31T16:48:43.519Z"
   },
   {
    "duration": 62,
    "start_time": "2024-01-31T16:50:12.255Z"
   },
   {
    "duration": 62,
    "start_time": "2024-01-31T16:50:32.305Z"
   },
   {
    "duration": 3,
    "start_time": "2024-01-31T16:50:48.531Z"
   },
   {
    "duration": 787,
    "start_time": "2024-01-31T16:50:58.293Z"
   },
   {
    "duration": 156,
    "start_time": "2024-01-31T16:51:31.860Z"
   },
   {
    "duration": 848,
    "start_time": "2024-01-31T16:51:36.182Z"
   },
   {
    "duration": 4,
    "start_time": "2024-01-31T16:53:11.015Z"
   },
   {
    "duration": 5,
    "start_time": "2024-01-31T16:54:03.180Z"
   },
   {
    "duration": 149,
    "start_time": "2024-01-31T16:54:04.043Z"
   },
   {
    "duration": 4,
    "start_time": "2024-01-31T16:54:15.137Z"
   },
   {
    "duration": 4,
    "start_time": "2024-01-31T16:55:34.780Z"
   },
   {
    "duration": 16,
    "start_time": "2024-01-31T16:55:52.883Z"
   },
   {
    "duration": 157,
    "start_time": "2024-01-31T16:57:27.054Z"
   },
   {
    "duration": 757,
    "start_time": "2024-01-31T16:58:52.088Z"
   },
   {
    "duration": 165,
    "start_time": "2024-01-31T17:00:32.173Z"
   },
   {
    "duration": 159,
    "start_time": "2024-01-31T17:00:48.033Z"
   },
   {
    "duration": 165,
    "start_time": "2024-01-31T17:01:21.744Z"
   },
   {
    "duration": 58,
    "start_time": "2024-01-31T17:05:21.626Z"
   },
   {
    "duration": 60,
    "start_time": "2024-01-31T17:05:28.356Z"
   },
   {
    "duration": 138,
    "start_time": "2024-01-31T17:05:34.632Z"
   },
   {
    "duration": 138,
    "start_time": "2024-01-31T17:08:03.822Z"
   },
   {
    "duration": 126,
    "start_time": "2024-01-31T17:08:40.018Z"
   },
   {
    "duration": 164,
    "start_time": "2024-01-31T17:08:58.936Z"
   },
   {
    "duration": 151,
    "start_time": "2024-01-31T17:09:57.286Z"
   },
   {
    "duration": 166,
    "start_time": "2024-01-31T17:10:13.415Z"
   },
   {
    "duration": 153,
    "start_time": "2024-01-31T17:10:33.074Z"
   },
   {
    "duration": 144,
    "start_time": "2024-01-31T17:10:45.702Z"
   },
   {
    "duration": 138,
    "start_time": "2024-01-31T17:11:30.144Z"
   },
   {
    "duration": 134,
    "start_time": "2024-01-31T17:11:37.417Z"
   },
   {
    "duration": 153,
    "start_time": "2024-01-31T17:13:42.292Z"
   },
   {
    "duration": 420,
    "start_time": "2024-01-31T17:18:31.791Z"
   },
   {
    "duration": 4,
    "start_time": "2024-01-31T17:18:32.212Z"
   },
   {
    "duration": 260,
    "start_time": "2024-01-31T17:18:32.217Z"
   },
   {
    "duration": 57,
    "start_time": "2024-01-31T17:18:32.479Z"
   },
   {
    "duration": 10,
    "start_time": "2024-01-31T17:18:32.538Z"
   },
   {
    "duration": 124,
    "start_time": "2024-01-31T17:18:32.549Z"
   },
   {
    "duration": 19,
    "start_time": "2024-01-31T17:18:32.675Z"
   },
   {
    "duration": 38,
    "start_time": "2024-01-31T17:18:32.695Z"
   },
   {
    "duration": 111,
    "start_time": "2024-01-31T17:18:32.735Z"
   },
   {
    "duration": 21,
    "start_time": "2024-01-31T17:18:32.849Z"
   },
   {
    "duration": 8,
    "start_time": "2024-01-31T17:18:32.872Z"
   },
   {
    "duration": 15,
    "start_time": "2024-01-31T17:18:32.881Z"
   },
   {
    "duration": 10,
    "start_time": "2024-01-31T17:18:32.897Z"
   },
   {
    "duration": 11,
    "start_time": "2024-01-31T17:18:32.908Z"
   },
   {
    "duration": 19,
    "start_time": "2024-01-31T17:18:32.921Z"
   },
   {
    "duration": 14,
    "start_time": "2024-01-31T17:18:32.941Z"
   },
   {
    "duration": 16,
    "start_time": "2024-01-31T17:18:32.956Z"
   },
   {
    "duration": 19,
    "start_time": "2024-01-31T17:18:32.973Z"
   },
   {
    "duration": 27,
    "start_time": "2024-01-31T17:18:32.993Z"
   },
   {
    "duration": 24,
    "start_time": "2024-01-31T17:18:33.022Z"
   },
   {
    "duration": 29,
    "start_time": "2024-01-31T17:18:33.048Z"
   },
   {
    "duration": 18,
    "start_time": "2024-01-31T17:18:33.078Z"
   },
   {
    "duration": 8,
    "start_time": "2024-01-31T17:18:33.098Z"
   },
   {
    "duration": 3,
    "start_time": "2024-01-31T17:18:33.107Z"
   },
   {
    "duration": 8,
    "start_time": "2024-01-31T17:18:33.111Z"
   },
   {
    "duration": 21,
    "start_time": "2024-01-31T17:18:33.120Z"
   },
   {
    "duration": 26,
    "start_time": "2024-01-31T17:18:33.143Z"
   },
   {
    "duration": 4,
    "start_time": "2024-01-31T17:18:33.172Z"
   },
   {
    "duration": 8,
    "start_time": "2024-01-31T17:18:33.178Z"
   },
   {
    "duration": 10,
    "start_time": "2024-01-31T17:18:33.188Z"
   },
   {
    "duration": 15,
    "start_time": "2024-01-31T17:18:33.200Z"
   },
   {
    "duration": 9,
    "start_time": "2024-01-31T17:18:33.217Z"
   },
   {
    "duration": 7,
    "start_time": "2024-01-31T17:18:33.227Z"
   },
   {
    "duration": 11,
    "start_time": "2024-01-31T17:18:33.235Z"
   },
   {
    "duration": 13,
    "start_time": "2024-01-31T17:18:33.247Z"
   },
   {
    "duration": 17,
    "start_time": "2024-01-31T17:18:33.261Z"
   },
   {
    "duration": 37,
    "start_time": "2024-01-31T17:18:33.279Z"
   },
   {
    "duration": 5,
    "start_time": "2024-01-31T17:18:33.318Z"
   },
   {
    "duration": 191,
    "start_time": "2024-01-31T17:18:33.325Z"
   },
   {
    "duration": 26,
    "start_time": "2024-01-31T17:18:33.518Z"
   },
   {
    "duration": 146,
    "start_time": "2024-01-31T17:18:33.545Z"
   },
   {
    "duration": 5,
    "start_time": "2024-01-31T17:18:33.693Z"
   },
   {
    "duration": 162,
    "start_time": "2024-01-31T17:18:33.699Z"
   },
   {
    "duration": 10,
    "start_time": "2024-01-31T17:18:33.863Z"
   },
   {
    "duration": 190,
    "start_time": "2024-01-31T17:18:33.874Z"
   },
   {
    "duration": 6,
    "start_time": "2024-01-31T17:18:34.065Z"
   },
   {
    "duration": 218,
    "start_time": "2024-01-31T17:18:34.072Z"
   },
   {
    "duration": 10,
    "start_time": "2024-01-31T17:18:34.294Z"
   },
   {
    "duration": 172,
    "start_time": "2024-01-31T17:18:34.306Z"
   },
   {
    "duration": 6,
    "start_time": "2024-01-31T17:18:34.480Z"
   },
   {
    "duration": 146,
    "start_time": "2024-01-31T17:18:34.487Z"
   },
   {
    "duration": 10,
    "start_time": "2024-01-31T17:18:34.634Z"
   },
   {
    "duration": 151,
    "start_time": "2024-01-31T17:18:34.646Z"
   },
   {
    "duration": 16,
    "start_time": "2024-01-31T17:18:34.798Z"
   },
   {
    "duration": 13,
    "start_time": "2024-01-31T17:18:34.816Z"
   },
   {
    "duration": 18,
    "start_time": "2024-01-31T17:18:34.830Z"
   },
   {
    "duration": 3,
    "start_time": "2024-01-31T17:18:34.850Z"
   },
   {
    "duration": 16,
    "start_time": "2024-01-31T17:18:34.855Z"
   },
   {
    "duration": 39,
    "start_time": "2024-01-31T17:18:34.873Z"
   },
   {
    "duration": 17,
    "start_time": "2024-01-31T17:18:34.915Z"
   },
   {
    "duration": 34,
    "start_time": "2024-01-31T17:18:34.934Z"
   },
   {
    "duration": 55,
    "start_time": "2024-01-31T17:18:34.970Z"
   },
   {
    "duration": 10,
    "start_time": "2024-01-31T17:18:35.028Z"
   },
   {
    "duration": 186,
    "start_time": "2024-01-31T17:18:35.040Z"
   },
   {
    "duration": 11,
    "start_time": "2024-01-31T17:18:35.228Z"
   },
   {
    "duration": 14,
    "start_time": "2024-01-31T17:18:35.241Z"
   },
   {
    "duration": 17,
    "start_time": "2024-01-31T17:18:35.257Z"
   },
   {
    "duration": 132,
    "start_time": "2024-01-31T17:18:35.276Z"
   },
   {
    "duration": 157,
    "start_time": "2024-01-31T17:18:35.410Z"
   },
   {
    "duration": 201,
    "start_time": "2024-01-31T17:18:35.569Z"
   },
   {
    "duration": 3,
    "start_time": "2024-01-31T17:18:35.771Z"
   },
   {
    "duration": 22,
    "start_time": "2024-01-31T17:18:35.775Z"
   },
   {
    "duration": 253,
    "start_time": "2024-01-31T17:18:35.799Z"
   },
   {
    "duration": 21,
    "start_time": "2024-01-31T17:18:36.053Z"
   },
   {
    "duration": 221,
    "start_time": "2024-01-31T17:18:36.076Z"
   },
   {
    "duration": 849,
    "start_time": "2024-01-31T17:18:36.299Z"
   },
   {
    "duration": 17,
    "start_time": "2024-01-31T17:18:37.150Z"
   },
   {
    "duration": 965,
    "start_time": "2024-01-31T17:18:37.169Z"
   },
   {
    "duration": 0,
    "start_time": "2024-01-31T17:18:38.136Z"
   },
   {
    "duration": 0,
    "start_time": "2024-01-31T17:18:38.137Z"
   },
   {
    "duration": 27,
    "start_time": "2024-01-31T17:19:11.674Z"
   },
   {
    "duration": 19,
    "start_time": "2024-01-31T17:19:52.082Z"
   },
   {
    "duration": 18,
    "start_time": "2024-01-31T17:20:19.280Z"
   },
   {
    "duration": 28,
    "start_time": "2024-01-31T17:21:18.279Z"
   },
   {
    "duration": 18,
    "start_time": "2024-01-31T17:22:02.622Z"
   },
   {
    "duration": 172,
    "start_time": "2024-01-31T17:23:03.198Z"
   },
   {
    "duration": 19,
    "start_time": "2024-01-31T17:23:06.494Z"
   },
   {
    "duration": 178,
    "start_time": "2024-01-31T17:23:08.443Z"
   },
   {
    "duration": 406,
    "start_time": "2024-01-31T17:43:07.481Z"
   },
   {
    "duration": 3,
    "start_time": "2024-01-31T17:43:07.889Z"
   },
   {
    "duration": 233,
    "start_time": "2024-01-31T17:43:07.894Z"
   },
   {
    "duration": 96,
    "start_time": "2024-01-31T17:43:08.129Z"
   },
   {
    "duration": 10,
    "start_time": "2024-01-31T17:43:08.228Z"
   },
   {
    "duration": 191,
    "start_time": "2024-01-31T17:43:08.239Z"
   },
   {
    "duration": 14,
    "start_time": "2024-01-31T17:43:08.431Z"
   },
   {
    "duration": 10,
    "start_time": "2024-01-31T17:43:08.446Z"
   },
   {
    "duration": 29,
    "start_time": "2024-01-31T17:43:08.457Z"
   },
   {
    "duration": 38,
    "start_time": "2024-01-31T17:43:08.488Z"
   },
   {
    "duration": 4,
    "start_time": "2024-01-31T17:43:08.528Z"
   },
   {
    "duration": 6,
    "start_time": "2024-01-31T17:43:08.534Z"
   },
   {
    "duration": 12,
    "start_time": "2024-01-31T17:43:08.541Z"
   },
   {
    "duration": 5,
    "start_time": "2024-01-31T17:43:08.556Z"
   },
   {
    "duration": 22,
    "start_time": "2024-01-31T17:43:08.563Z"
   },
   {
    "duration": 37,
    "start_time": "2024-01-31T17:43:08.587Z"
   },
   {
    "duration": 10,
    "start_time": "2024-01-31T17:43:08.626Z"
   },
   {
    "duration": 7,
    "start_time": "2024-01-31T17:43:08.638Z"
   },
   {
    "duration": 4,
    "start_time": "2024-01-31T17:43:08.647Z"
   },
   {
    "duration": 7,
    "start_time": "2024-01-31T17:43:08.653Z"
   },
   {
    "duration": 34,
    "start_time": "2024-01-31T17:43:08.661Z"
   },
   {
    "duration": 22,
    "start_time": "2024-01-31T17:43:08.697Z"
   },
   {
    "duration": 8,
    "start_time": "2024-01-31T17:43:08.720Z"
   },
   {
    "duration": 2,
    "start_time": "2024-01-31T17:43:08.730Z"
   },
   {
    "duration": 5,
    "start_time": "2024-01-31T17:43:08.733Z"
   },
   {
    "duration": 18,
    "start_time": "2024-01-31T17:43:08.739Z"
   },
   {
    "duration": 15,
    "start_time": "2024-01-31T17:43:08.758Z"
   },
   {
    "duration": 5,
    "start_time": "2024-01-31T17:43:08.774Z"
   },
   {
    "duration": 5,
    "start_time": "2024-01-31T17:43:08.780Z"
   },
   {
    "duration": 4,
    "start_time": "2024-01-31T17:43:08.786Z"
   },
   {
    "duration": 8,
    "start_time": "2024-01-31T17:43:08.791Z"
   },
   {
    "duration": 5,
    "start_time": "2024-01-31T17:43:08.817Z"
   },
   {
    "duration": 6,
    "start_time": "2024-01-31T17:43:08.823Z"
   },
   {
    "duration": 4,
    "start_time": "2024-01-31T17:43:08.831Z"
   },
   {
    "duration": 10,
    "start_time": "2024-01-31T17:43:08.837Z"
   },
   {
    "duration": 17,
    "start_time": "2024-01-31T17:43:08.848Z"
   },
   {
    "duration": 22,
    "start_time": "2024-01-31T17:43:08.867Z"
   },
   {
    "duration": 5,
    "start_time": "2024-01-31T17:43:08.891Z"
   },
   {
    "duration": 151,
    "start_time": "2024-01-31T17:43:08.918Z"
   },
   {
    "duration": 31,
    "start_time": "2024-01-31T17:43:09.070Z"
   },
   {
    "duration": 136,
    "start_time": "2024-01-31T17:43:09.117Z"
   },
   {
    "duration": 6,
    "start_time": "2024-01-31T17:43:09.255Z"
   },
   {
    "duration": 165,
    "start_time": "2024-01-31T17:43:09.262Z"
   },
   {
    "duration": 11,
    "start_time": "2024-01-31T17:43:09.429Z"
   },
   {
    "duration": 150,
    "start_time": "2024-01-31T17:43:09.442Z"
   },
   {
    "duration": 7,
    "start_time": "2024-01-31T17:43:09.594Z"
   },
   {
    "duration": 220,
    "start_time": "2024-01-31T17:43:09.604Z"
   },
   {
    "duration": 11,
    "start_time": "2024-01-31T17:43:09.825Z"
   },
   {
    "duration": 150,
    "start_time": "2024-01-31T17:43:09.837Z"
   },
   {
    "duration": 5,
    "start_time": "2024-01-31T17:43:09.989Z"
   },
   {
    "duration": 148,
    "start_time": "2024-01-31T17:43:09.996Z"
   },
   {
    "duration": 10,
    "start_time": "2024-01-31T17:43:10.146Z"
   },
   {
    "duration": 148,
    "start_time": "2024-01-31T17:43:10.158Z"
   },
   {
    "duration": 21,
    "start_time": "2024-01-31T17:43:10.308Z"
   },
   {
    "duration": 7,
    "start_time": "2024-01-31T17:43:10.331Z"
   },
   {
    "duration": 16,
    "start_time": "2024-01-31T17:43:10.339Z"
   },
   {
    "duration": 15,
    "start_time": "2024-01-31T17:43:10.356Z"
   },
   {
    "duration": 7,
    "start_time": "2024-01-31T17:43:10.373Z"
   },
   {
    "duration": 7,
    "start_time": "2024-01-31T17:43:10.382Z"
   },
   {
    "duration": 47,
    "start_time": "2024-01-31T17:43:10.391Z"
   },
   {
    "duration": 45,
    "start_time": "2024-01-31T17:43:10.440Z"
   },
   {
    "duration": 44,
    "start_time": "2024-01-31T17:43:10.487Z"
   },
   {
    "duration": 8,
    "start_time": "2024-01-31T17:43:10.533Z"
   },
   {
    "duration": 141,
    "start_time": "2024-01-31T17:43:10.543Z"
   },
   {
    "duration": 10,
    "start_time": "2024-01-31T17:43:10.686Z"
   },
   {
    "duration": 24,
    "start_time": "2024-01-31T17:43:10.698Z"
   },
   {
    "duration": 11,
    "start_time": "2024-01-31T17:43:10.723Z"
   },
   {
    "duration": 124,
    "start_time": "2024-01-31T17:43:10.736Z"
   },
   {
    "duration": 143,
    "start_time": "2024-01-31T17:43:10.861Z"
   },
   {
    "duration": 156,
    "start_time": "2024-01-31T17:43:11.006Z"
   },
   {
    "duration": 2,
    "start_time": "2024-01-31T17:43:11.164Z"
   },
   {
    "duration": 12,
    "start_time": "2024-01-31T17:43:11.167Z"
   },
   {
    "duration": 235,
    "start_time": "2024-01-31T17:43:11.181Z"
   },
   {
    "duration": 65,
    "start_time": "2024-01-31T17:43:11.418Z"
   },
   {
    "duration": 0,
    "start_time": "2024-01-31T17:43:11.484Z"
   },
   {
    "duration": 0,
    "start_time": "2024-01-31T17:43:11.486Z"
   },
   {
    "duration": 0,
    "start_time": "2024-01-31T17:43:11.487Z"
   },
   {
    "duration": 0,
    "start_time": "2024-01-31T17:43:11.487Z"
   },
   {
    "duration": 0,
    "start_time": "2024-01-31T17:43:11.488Z"
   },
   {
    "duration": 0,
    "start_time": "2024-01-31T17:43:11.489Z"
   },
   {
    "duration": 0,
    "start_time": "2024-01-31T17:43:11.490Z"
   },
   {
    "duration": 0,
    "start_time": "2024-01-31T17:43:11.491Z"
   },
   {
    "duration": 164,
    "start_time": "2024-01-31T18:47:48.486Z"
   },
   {
    "duration": 195,
    "start_time": "2024-01-31T18:48:10.561Z"
   },
   {
    "duration": 281,
    "start_time": "2024-01-31T18:48:21.931Z"
   },
   {
    "duration": 294,
    "start_time": "2024-01-31T18:48:27.433Z"
   },
   {
    "duration": 639,
    "start_time": "2024-01-31T18:59:32.460Z"
   },
   {
    "duration": 241,
    "start_time": "2024-01-31T18:59:48.002Z"
   },
   {
    "duration": 173,
    "start_time": "2024-01-31T18:59:54.731Z"
   },
   {
    "duration": 197,
    "start_time": "2024-01-31T19:00:24.659Z"
   },
   {
    "duration": 48,
    "start_time": "2024-01-31T19:52:32.397Z"
   },
   {
    "duration": 430,
    "start_time": "2024-01-31T19:52:40.425Z"
   },
   {
    "duration": 3,
    "start_time": "2024-01-31T19:52:40.857Z"
   },
   {
    "duration": 419,
    "start_time": "2024-01-31T19:52:40.861Z"
   },
   {
    "duration": 105,
    "start_time": "2024-01-31T19:52:41.282Z"
   },
   {
    "duration": 13,
    "start_time": "2024-01-31T19:52:41.388Z"
   },
   {
    "duration": 202,
    "start_time": "2024-01-31T19:52:41.402Z"
   },
   {
    "duration": 15,
    "start_time": "2024-01-31T19:52:41.606Z"
   },
   {
    "duration": 15,
    "start_time": "2024-01-31T19:52:41.622Z"
   },
   {
    "duration": 35,
    "start_time": "2024-01-31T19:52:41.638Z"
   },
   {
    "duration": 15,
    "start_time": "2024-01-31T19:52:41.675Z"
   },
   {
    "duration": 13,
    "start_time": "2024-01-31T19:52:41.691Z"
   },
   {
    "duration": 18,
    "start_time": "2024-01-31T19:52:41.706Z"
   },
   {
    "duration": 9,
    "start_time": "2024-01-31T19:52:41.726Z"
   },
   {
    "duration": 6,
    "start_time": "2024-01-31T19:52:41.736Z"
   },
   {
    "duration": 20,
    "start_time": "2024-01-31T19:52:41.744Z"
   },
   {
    "duration": 18,
    "start_time": "2024-01-31T19:52:41.765Z"
   },
   {
    "duration": 5,
    "start_time": "2024-01-31T19:52:41.784Z"
   },
   {
    "duration": 4,
    "start_time": "2024-01-31T19:52:41.790Z"
   },
   {
    "duration": 6,
    "start_time": "2024-01-31T19:52:41.820Z"
   },
   {
    "duration": 32,
    "start_time": "2024-01-31T19:52:41.827Z"
   },
   {
    "duration": 23,
    "start_time": "2024-01-31T19:52:41.860Z"
   },
   {
    "duration": 10,
    "start_time": "2024-01-31T19:52:41.885Z"
   },
   {
    "duration": 8,
    "start_time": "2024-01-31T19:52:41.897Z"
   },
   {
    "duration": 2,
    "start_time": "2024-01-31T19:52:41.907Z"
   },
   {
    "duration": 10,
    "start_time": "2024-01-31T19:52:41.911Z"
   },
   {
    "duration": 6,
    "start_time": "2024-01-31T19:52:41.922Z"
   },
   {
    "duration": 14,
    "start_time": "2024-01-31T19:52:41.929Z"
   },
   {
    "duration": 8,
    "start_time": "2024-01-31T19:52:41.947Z"
   },
   {
    "duration": 18,
    "start_time": "2024-01-31T19:52:41.957Z"
   },
   {
    "duration": 4,
    "start_time": "2024-01-31T19:52:41.977Z"
   },
   {
    "duration": 32,
    "start_time": "2024-01-31T19:52:41.983Z"
   },
   {
    "duration": 9,
    "start_time": "2024-01-31T19:52:42.016Z"
   },
   {
    "duration": 28,
    "start_time": "2024-01-31T19:52:42.027Z"
   },
   {
    "duration": 54,
    "start_time": "2024-01-31T19:52:42.057Z"
   },
   {
    "duration": 15,
    "start_time": "2024-01-31T19:52:42.112Z"
   },
   {
    "duration": 13,
    "start_time": "2024-01-31T19:52:42.129Z"
   },
   {
    "duration": 37,
    "start_time": "2024-01-31T19:52:42.143Z"
   },
   {
    "duration": 5,
    "start_time": "2024-01-31T19:52:42.181Z"
   },
   {
    "duration": 159,
    "start_time": "2024-01-31T19:52:42.187Z"
   },
   {
    "duration": 285,
    "start_time": "2024-01-31T19:52:42.348Z"
   },
   {
    "duration": 72,
    "start_time": "2024-01-31T19:52:42.634Z"
   },
   {
    "duration": 143,
    "start_time": "2024-01-31T19:52:42.707Z"
   },
   {
    "duration": 6,
    "start_time": "2024-01-31T19:52:42.852Z"
   },
   {
    "duration": 168,
    "start_time": "2024-01-31T19:52:42.860Z"
   },
   {
    "duration": 10,
    "start_time": "2024-01-31T19:52:43.030Z"
   },
   {
    "duration": 187,
    "start_time": "2024-01-31T19:52:43.041Z"
   },
   {
    "duration": 7,
    "start_time": "2024-01-31T19:52:43.230Z"
   },
   {
    "duration": 166,
    "start_time": "2024-01-31T19:52:43.238Z"
   },
   {
    "duration": 19,
    "start_time": "2024-01-31T19:52:43.406Z"
   },
   {
    "duration": 185,
    "start_time": "2024-01-31T19:52:43.427Z"
   },
   {
    "duration": 6,
    "start_time": "2024-01-31T19:52:43.619Z"
   },
   {
    "duration": 178,
    "start_time": "2024-01-31T19:52:43.627Z"
   },
   {
    "duration": 16,
    "start_time": "2024-01-31T19:52:43.807Z"
   },
   {
    "duration": 145,
    "start_time": "2024-01-31T19:52:43.824Z"
   },
   {
    "duration": 17,
    "start_time": "2024-01-31T19:52:43.971Z"
   },
   {
    "duration": 6,
    "start_time": "2024-01-31T19:52:43.990Z"
   },
   {
    "duration": 35,
    "start_time": "2024-01-31T19:52:43.998Z"
   },
   {
    "duration": 3,
    "start_time": "2024-01-31T19:52:44.035Z"
   },
   {
    "duration": 10,
    "start_time": "2024-01-31T19:52:44.039Z"
   },
   {
    "duration": 18,
    "start_time": "2024-01-31T19:52:44.050Z"
   },
   {
    "duration": 22,
    "start_time": "2024-01-31T19:52:44.070Z"
   },
   {
    "duration": 45,
    "start_time": "2024-01-31T19:52:44.094Z"
   },
   {
    "duration": 27,
    "start_time": "2024-01-31T19:52:44.141Z"
   },
   {
    "duration": 6,
    "start_time": "2024-01-31T19:52:44.169Z"
   },
   {
    "duration": 158,
    "start_time": "2024-01-31T19:52:44.176Z"
   },
   {
    "duration": 11,
    "start_time": "2024-01-31T19:52:44.336Z"
   },
   {
    "duration": 24,
    "start_time": "2024-01-31T19:52:44.348Z"
   },
   {
    "duration": 9,
    "start_time": "2024-01-31T19:52:44.374Z"
   },
   {
    "duration": 141,
    "start_time": "2024-01-31T19:52:44.385Z"
   },
   {
    "duration": 155,
    "start_time": "2024-01-31T19:52:44.528Z"
   },
   {
    "duration": 172,
    "start_time": "2024-01-31T19:52:44.685Z"
   },
   {
    "duration": 3,
    "start_time": "2024-01-31T19:52:44.859Z"
   },
   {
    "duration": 12,
    "start_time": "2024-01-31T19:52:44.863Z"
   },
   {
    "duration": 319,
    "start_time": "2024-01-31T19:52:44.877Z"
   },
   {
    "duration": 685,
    "start_time": "2024-01-31T19:52:45.198Z"
   },
   {
    "duration": 19,
    "start_time": "2024-01-31T19:52:45.885Z"
   },
   {
    "duration": 30,
    "start_time": "2024-01-31T19:52:45.905Z"
   },
   {
    "duration": 170,
    "start_time": "2024-01-31T19:52:45.937Z"
   },
   {
    "duration": 871,
    "start_time": "2024-01-31T19:52:46.109Z"
   },
   {
    "duration": 18,
    "start_time": "2024-01-31T19:52:46.981Z"
   },
   {
    "duration": 195,
    "start_time": "2024-01-31T19:52:47.001Z"
   },
   {
    "duration": 9,
    "start_time": "2024-01-31T19:52:47.201Z"
   },
   {
    "duration": 140,
    "start_time": "2024-01-31T19:52:47.221Z"
   },
   {
    "duration": 148,
    "start_time": "2024-01-31T19:52:47.363Z"
   },
   {
    "duration": 129,
    "start_time": "2024-01-31T20:06:47.454Z"
   },
   {
    "duration": 4,
    "start_time": "2024-01-31T20:21:17.222Z"
   },
   {
    "duration": 10,
    "start_time": "2024-01-31T20:21:39.600Z"
   },
   {
    "duration": 4,
    "start_time": "2024-01-31T20:21:42.911Z"
   },
   {
    "duration": 7,
    "start_time": "2024-01-31T20:22:26.452Z"
   },
   {
    "duration": 61,
    "start_time": "2024-02-07T13:44:05.260Z"
   },
   {
    "duration": 445,
    "start_time": "2024-02-07T13:44:13.721Z"
   },
   {
    "duration": 3,
    "start_time": "2024-02-07T13:44:14.168Z"
   },
   {
    "duration": 480,
    "start_time": "2024-02-07T13:44:14.173Z"
   },
   {
    "duration": 92,
    "start_time": "2024-02-07T13:44:14.655Z"
   },
   {
    "duration": 12,
    "start_time": "2024-02-07T13:44:14.748Z"
   },
   {
    "duration": 197,
    "start_time": "2024-02-07T13:44:14.761Z"
   },
   {
    "duration": 23,
    "start_time": "2024-02-07T13:44:14.960Z"
   },
   {
    "duration": 9,
    "start_time": "2024-02-07T13:44:14.985Z"
   },
   {
    "duration": 28,
    "start_time": "2024-02-07T13:44:14.996Z"
   },
   {
    "duration": 47,
    "start_time": "2024-02-07T13:44:15.028Z"
   },
   {
    "duration": 15,
    "start_time": "2024-02-07T13:44:15.077Z"
   },
   {
    "duration": 14,
    "start_time": "2024-02-07T13:44:15.093Z"
   },
   {
    "duration": 22,
    "start_time": "2024-02-07T13:44:15.109Z"
   },
   {
    "duration": 29,
    "start_time": "2024-02-07T13:44:15.133Z"
   },
   {
    "duration": 43,
    "start_time": "2024-02-07T13:44:15.164Z"
   },
   {
    "duration": 22,
    "start_time": "2024-02-07T13:44:15.209Z"
   },
   {
    "duration": 5,
    "start_time": "2024-02-07T13:44:15.233Z"
   },
   {
    "duration": 5,
    "start_time": "2024-02-07T13:44:15.240Z"
   },
   {
    "duration": 14,
    "start_time": "2024-02-07T13:44:15.247Z"
   },
   {
    "duration": 6,
    "start_time": "2024-02-07T13:44:15.263Z"
   },
   {
    "duration": 31,
    "start_time": "2024-02-07T13:44:15.271Z"
   },
   {
    "duration": 21,
    "start_time": "2024-02-07T13:44:15.304Z"
   },
   {
    "duration": 11,
    "start_time": "2024-02-07T13:44:15.327Z"
   },
   {
    "duration": 20,
    "start_time": "2024-02-07T13:44:15.340Z"
   },
   {
    "duration": 27,
    "start_time": "2024-02-07T13:44:15.362Z"
   },
   {
    "duration": 9,
    "start_time": "2024-02-07T13:44:15.390Z"
   },
   {
    "duration": 17,
    "start_time": "2024-02-07T13:44:15.401Z"
   },
   {
    "duration": 17,
    "start_time": "2024-02-07T13:44:15.423Z"
   },
   {
    "duration": 13,
    "start_time": "2024-02-07T13:44:15.441Z"
   },
   {
    "duration": 32,
    "start_time": "2024-02-07T13:44:15.456Z"
   },
   {
    "duration": 5,
    "start_time": "2024-02-07T13:44:15.489Z"
   },
   {
    "duration": 16,
    "start_time": "2024-02-07T13:44:15.496Z"
   },
   {
    "duration": 12,
    "start_time": "2024-02-07T13:44:15.514Z"
   },
   {
    "duration": 17,
    "start_time": "2024-02-07T13:44:15.528Z"
   },
   {
    "duration": 13,
    "start_time": "2024-02-07T13:44:15.547Z"
   },
   {
    "duration": 20,
    "start_time": "2024-02-07T13:44:15.562Z"
   },
   {
    "duration": 22,
    "start_time": "2024-02-07T13:44:15.583Z"
   },
   {
    "duration": 27,
    "start_time": "2024-02-07T13:44:15.607Z"
   },
   {
    "duration": 7,
    "start_time": "2024-02-07T13:44:15.635Z"
   },
   {
    "duration": 178,
    "start_time": "2024-02-07T13:44:15.644Z"
   },
   {
    "duration": 336,
    "start_time": "2024-02-07T13:44:15.824Z"
   },
   {
    "duration": 34,
    "start_time": "2024-02-07T13:44:16.162Z"
   },
   {
    "duration": 149,
    "start_time": "2024-02-07T13:44:16.198Z"
   },
   {
    "duration": 7,
    "start_time": "2024-02-07T13:44:16.349Z"
   },
   {
    "duration": 260,
    "start_time": "2024-02-07T13:44:16.358Z"
   },
   {
    "duration": 12,
    "start_time": "2024-02-07T13:44:16.620Z"
   },
   {
    "duration": 161,
    "start_time": "2024-02-07T13:44:16.633Z"
   },
   {
    "duration": 7,
    "start_time": "2024-02-07T13:44:16.796Z"
   },
   {
    "duration": 173,
    "start_time": "2024-02-07T13:44:16.805Z"
   },
   {
    "duration": 11,
    "start_time": "2024-02-07T13:44:16.982Z"
   },
   {
    "duration": 163,
    "start_time": "2024-02-07T13:44:16.994Z"
   },
   {
    "duration": 6,
    "start_time": "2024-02-07T13:44:17.159Z"
   },
   {
    "duration": 164,
    "start_time": "2024-02-07T13:44:17.167Z"
   },
   {
    "duration": 11,
    "start_time": "2024-02-07T13:44:17.333Z"
   },
   {
    "duration": 164,
    "start_time": "2024-02-07T13:44:17.345Z"
   },
   {
    "duration": 18,
    "start_time": "2024-02-07T13:44:17.511Z"
   },
   {
    "duration": 12,
    "start_time": "2024-02-07T13:44:17.531Z"
   },
   {
    "duration": 17,
    "start_time": "2024-02-07T13:44:17.544Z"
   },
   {
    "duration": 20,
    "start_time": "2024-02-07T13:44:17.563Z"
   },
   {
    "duration": 19,
    "start_time": "2024-02-07T13:44:17.584Z"
   },
   {
    "duration": 7,
    "start_time": "2024-02-07T13:44:17.611Z"
   },
   {
    "duration": 44,
    "start_time": "2024-02-07T13:44:17.620Z"
   },
   {
    "duration": 38,
    "start_time": "2024-02-07T13:44:17.666Z"
   },
   {
    "duration": 31,
    "start_time": "2024-02-07T13:44:17.705Z"
   },
   {
    "duration": 8,
    "start_time": "2024-02-07T13:44:17.738Z"
   },
   {
    "duration": 195,
    "start_time": "2024-02-07T13:44:17.747Z"
   },
   {
    "duration": 14,
    "start_time": "2024-02-07T13:44:17.944Z"
   },
   {
    "duration": 13,
    "start_time": "2024-02-07T13:44:17.960Z"
   },
   {
    "duration": 11,
    "start_time": "2024-02-07T13:44:17.983Z"
   },
   {
    "duration": 10,
    "start_time": "2024-02-07T13:44:17.995Z"
   },
   {
    "duration": 146,
    "start_time": "2024-02-07T13:44:18.007Z"
   },
   {
    "duration": 156,
    "start_time": "2024-02-07T13:44:18.154Z"
   },
   {
    "duration": 190,
    "start_time": "2024-02-07T13:44:18.312Z"
   },
   {
    "duration": 3,
    "start_time": "2024-02-07T13:44:18.504Z"
   },
   {
    "duration": 38,
    "start_time": "2024-02-07T13:44:18.508Z"
   },
   {
    "duration": 278,
    "start_time": "2024-02-07T13:44:18.548Z"
   },
   {
    "duration": 775,
    "start_time": "2024-02-07T13:44:18.827Z"
   },
   {
    "duration": 19,
    "start_time": "2024-02-07T13:44:19.603Z"
   },
   {
    "duration": 21,
    "start_time": "2024-02-07T13:44:19.624Z"
   },
   {
    "duration": 203,
    "start_time": "2024-02-07T13:44:19.647Z"
   },
   {
    "duration": 963,
    "start_time": "2024-02-07T13:44:19.852Z"
   },
   {
    "duration": 20,
    "start_time": "2024-02-07T13:44:20.821Z"
   },
   {
    "duration": 203,
    "start_time": "2024-02-07T13:44:20.842Z"
   },
   {
    "duration": 9,
    "start_time": "2024-02-07T13:44:21.046Z"
   },
   {
    "duration": 184,
    "start_time": "2024-02-07T13:44:21.056Z"
   },
   {
    "duration": 80,
    "start_time": "2024-02-07T13:44:21.242Z"
   },
   {
    "duration": 13,
    "start_time": "2024-02-07T13:44:51.357Z"
   },
   {
    "duration": 10,
    "start_time": "2024-02-07T13:45:16.201Z"
   },
   {
    "duration": 12,
    "start_time": "2024-02-07T13:45:41.988Z"
   },
   {
    "duration": 4,
    "start_time": "2024-02-07T13:46:21.556Z"
   },
   {
    "duration": 5,
    "start_time": "2024-02-07T13:46:21.945Z"
   },
   {
    "duration": 4,
    "start_time": "2024-02-07T13:46:22.293Z"
   },
   {
    "duration": 13,
    "start_time": "2024-02-07T13:46:23.395Z"
   },
   {
    "duration": 112,
    "start_time": "2024-02-07T13:48:11.531Z"
   },
   {
    "duration": 149,
    "start_time": "2024-02-07T13:49:41.241Z"
   },
   {
    "duration": 145,
    "start_time": "2024-02-07T13:50:19.381Z"
   },
   {
    "duration": 165,
    "start_time": "2024-02-07T13:51:52.017Z"
   },
   {
    "duration": 315,
    "start_time": "2024-02-07T13:52:31.249Z"
   },
   {
    "duration": 177,
    "start_time": "2024-02-07T13:52:35.904Z"
   },
   {
    "duration": 121,
    "start_time": "2024-02-07T13:53:02.098Z"
   },
   {
    "duration": 360,
    "start_time": "2024-02-07T13:53:03.036Z"
   },
   {
    "duration": 259,
    "start_time": "2024-02-07T13:53:51.029Z"
   },
   {
    "duration": 204,
    "start_time": "2024-02-07T13:55:03.829Z"
   },
   {
    "duration": 192,
    "start_time": "2024-02-07T13:55:58.081Z"
   },
   {
    "duration": 202,
    "start_time": "2024-02-07T13:56:58.680Z"
   },
   {
    "duration": 187,
    "start_time": "2024-02-07T13:57:09.436Z"
   },
   {
    "duration": 194,
    "start_time": "2024-02-07T13:58:21.748Z"
   },
   {
    "duration": 178,
    "start_time": "2024-02-07T13:58:31.539Z"
   },
   {
    "duration": 9,
    "start_time": "2024-02-07T14:01:57.769Z"
   },
   {
    "duration": 7,
    "start_time": "2024-02-07T14:02:05.543Z"
   },
   {
    "duration": 10,
    "start_time": "2024-02-07T14:04:00.089Z"
   },
   {
    "duration": 9,
    "start_time": "2024-02-07T14:04:00.623Z"
   },
   {
    "duration": 10,
    "start_time": "2024-02-07T14:04:06.550Z"
   },
   {
    "duration": 7,
    "start_time": "2024-02-07T14:04:07.231Z"
   },
   {
    "duration": 85,
    "start_time": "2024-02-07T14:05:12.596Z"
   },
   {
    "duration": 7,
    "start_time": "2024-02-07T14:05:13.055Z"
   },
   {
    "duration": 104,
    "start_time": "2024-02-07T14:05:38.879Z"
   },
   {
    "duration": 11,
    "start_time": "2024-02-07T14:05:58.664Z"
   },
   {
    "duration": 7,
    "start_time": "2024-02-07T14:05:59.524Z"
   },
   {
    "duration": 141,
    "start_time": "2024-02-07T14:06:30.325Z"
   },
   {
    "duration": 142,
    "start_time": "2024-02-07T14:06:45.200Z"
   },
   {
    "duration": 31,
    "start_time": "2024-02-07T14:17:55.412Z"
   },
   {
    "duration": 18,
    "start_time": "2024-02-07T14:17:55.813Z"
   },
   {
    "duration": 20,
    "start_time": "2024-02-07T14:18:13.208Z"
   },
   {
    "duration": 19,
    "start_time": "2024-02-07T14:18:13.922Z"
   },
   {
    "duration": 64,
    "start_time": "2024-02-07T14:18:52.777Z"
   },
   {
    "duration": 176,
    "start_time": "2024-02-07T14:19:09.593Z"
   },
   {
    "duration": 467,
    "start_time": "2024-02-07T14:19:59.642Z"
   },
   {
    "duration": 3,
    "start_time": "2024-02-07T14:20:00.111Z"
   },
   {
    "duration": 374,
    "start_time": "2024-02-07T14:20:00.116Z"
   },
   {
    "duration": 63,
    "start_time": "2024-02-07T14:20:00.493Z"
   },
   {
    "duration": 16,
    "start_time": "2024-02-07T14:20:00.558Z"
   },
   {
    "duration": 149,
    "start_time": "2024-02-07T14:20:00.576Z"
   },
   {
    "duration": 24,
    "start_time": "2024-02-07T14:20:00.727Z"
   },
   {
    "duration": 44,
    "start_time": "2024-02-07T14:20:00.754Z"
   },
   {
    "duration": 75,
    "start_time": "2024-02-07T14:20:00.801Z"
   },
   {
    "duration": 54,
    "start_time": "2024-02-07T14:20:00.880Z"
   },
   {
    "duration": 46,
    "start_time": "2024-02-07T14:20:00.936Z"
   },
   {
    "duration": 33,
    "start_time": "2024-02-07T14:20:00.985Z"
   },
   {
    "duration": 55,
    "start_time": "2024-02-07T14:20:01.021Z"
   },
   {
    "duration": 40,
    "start_time": "2024-02-07T14:20:01.077Z"
   },
   {
    "duration": 35,
    "start_time": "2024-02-07T14:20:01.119Z"
   },
   {
    "duration": 45,
    "start_time": "2024-02-07T14:20:01.156Z"
   },
   {
    "duration": 19,
    "start_time": "2024-02-07T14:20:01.203Z"
   },
   {
    "duration": 49,
    "start_time": "2024-02-07T14:20:01.224Z"
   },
   {
    "duration": 14,
    "start_time": "2024-02-07T14:20:01.275Z"
   },
   {
    "duration": 21,
    "start_time": "2024-02-07T14:20:01.292Z"
   },
   {
    "duration": 67,
    "start_time": "2024-02-07T14:20:01.315Z"
   },
   {
    "duration": 37,
    "start_time": "2024-02-07T14:20:01.384Z"
   },
   {
    "duration": 39,
    "start_time": "2024-02-07T14:20:01.423Z"
   },
   {
    "duration": 84,
    "start_time": "2024-02-07T14:20:01.464Z"
   },
   {
    "duration": 35,
    "start_time": "2024-02-07T14:20:01.550Z"
   },
   {
    "duration": 51,
    "start_time": "2024-02-07T14:20:01.586Z"
   },
   {
    "duration": 78,
    "start_time": "2024-02-07T14:20:01.639Z"
   },
   {
    "duration": 84,
    "start_time": "2024-02-07T14:20:01.724Z"
   },
   {
    "duration": 57,
    "start_time": "2024-02-07T14:20:01.811Z"
   },
   {
    "duration": 41,
    "start_time": "2024-02-07T14:20:01.870Z"
   },
   {
    "duration": 31,
    "start_time": "2024-02-07T14:20:01.914Z"
   },
   {
    "duration": 40,
    "start_time": "2024-02-07T14:20:01.946Z"
   },
   {
    "duration": 49,
    "start_time": "2024-02-07T14:20:01.988Z"
   },
   {
    "duration": 47,
    "start_time": "2024-02-07T14:20:02.039Z"
   },
   {
    "duration": 40,
    "start_time": "2024-02-07T14:20:02.087Z"
   },
   {
    "duration": 40,
    "start_time": "2024-02-07T14:20:02.129Z"
   },
   {
    "duration": 50,
    "start_time": "2024-02-07T14:20:02.170Z"
   },
   {
    "duration": 75,
    "start_time": "2024-02-07T14:20:02.223Z"
   },
   {
    "duration": 64,
    "start_time": "2024-02-07T14:20:02.300Z"
   },
   {
    "duration": 254,
    "start_time": "2024-02-07T14:20:02.366Z"
   },
   {
    "duration": 327,
    "start_time": "2024-02-07T14:20:02.622Z"
   },
   {
    "duration": 34,
    "start_time": "2024-02-07T14:20:02.951Z"
   },
   {
    "duration": 181,
    "start_time": "2024-02-07T14:20:02.987Z"
   },
   {
    "duration": 23,
    "start_time": "2024-02-07T14:20:03.170Z"
   },
   {
    "duration": 328,
    "start_time": "2024-02-07T14:20:03.196Z"
   },
   {
    "duration": 11,
    "start_time": "2024-02-07T14:20:03.525Z"
   },
   {
    "duration": 204,
    "start_time": "2024-02-07T14:20:03.538Z"
   },
   {
    "duration": 8,
    "start_time": "2024-02-07T14:20:03.744Z"
   },
   {
    "duration": 309,
    "start_time": "2024-02-07T14:20:03.754Z"
   },
   {
    "duration": 18,
    "start_time": "2024-02-07T14:20:04.066Z"
   },
   {
    "duration": 207,
    "start_time": "2024-02-07T14:20:04.086Z"
   },
   {
    "duration": 7,
    "start_time": "2024-02-07T14:20:04.296Z"
   },
   {
    "duration": 227,
    "start_time": "2024-02-07T14:20:04.305Z"
   },
   {
    "duration": 12,
    "start_time": "2024-02-07T14:20:04.534Z"
   },
   {
    "duration": 266,
    "start_time": "2024-02-07T14:20:04.548Z"
   },
   {
    "duration": 20,
    "start_time": "2024-02-07T14:20:04.816Z"
   },
   {
    "duration": 11,
    "start_time": "2024-02-07T14:20:04.837Z"
   },
   {
    "duration": 51,
    "start_time": "2024-02-07T14:20:04.850Z"
   },
   {
    "duration": 29,
    "start_time": "2024-02-07T14:20:04.902Z"
   },
   {
    "duration": 36,
    "start_time": "2024-02-07T14:20:04.933Z"
   },
   {
    "duration": 43,
    "start_time": "2024-02-07T14:20:04.972Z"
   },
   {
    "duration": 52,
    "start_time": "2024-02-07T14:20:05.017Z"
   },
   {
    "duration": 58,
    "start_time": "2024-02-07T14:20:05.071Z"
   },
   {
    "duration": 38,
    "start_time": "2024-02-07T14:20:05.131Z"
   },
   {
    "duration": 9,
    "start_time": "2024-02-07T14:20:05.170Z"
   },
   {
    "duration": 173,
    "start_time": "2024-02-07T14:20:05.181Z"
   },
   {
    "duration": 12,
    "start_time": "2024-02-07T14:20:05.356Z"
   },
   {
    "duration": 27,
    "start_time": "2024-02-07T14:20:05.370Z"
   },
   {
    "duration": 23,
    "start_time": "2024-02-07T14:20:05.399Z"
   },
   {
    "duration": 11,
    "start_time": "2024-02-07T14:20:05.424Z"
   },
   {
    "duration": 162,
    "start_time": "2024-02-07T14:20:05.436Z"
   },
   {
    "duration": 169,
    "start_time": "2024-02-07T14:20:05.600Z"
   },
   {
    "duration": 219,
    "start_time": "2024-02-07T14:20:05.771Z"
   },
   {
    "duration": 4,
    "start_time": "2024-02-07T14:20:05.991Z"
   },
   {
    "duration": 41,
    "start_time": "2024-02-07T14:20:05.996Z"
   },
   {
    "duration": 306,
    "start_time": "2024-02-07T14:20:06.039Z"
   },
   {
    "duration": 809,
    "start_time": "2024-02-07T14:20:06.347Z"
   },
   {
    "duration": 38,
    "start_time": "2024-02-07T14:20:07.158Z"
   },
   {
    "duration": 49,
    "start_time": "2024-02-07T14:20:07.198Z"
   },
   {
    "duration": 202,
    "start_time": "2024-02-07T14:20:07.249Z"
   },
   {
    "duration": 964,
    "start_time": "2024-02-07T14:20:07.453Z"
   },
   {
    "duration": 19,
    "start_time": "2024-02-07T14:20:08.424Z"
   },
   {
    "duration": 1318,
    "start_time": "2024-02-07T14:20:08.445Z"
   },
   {
    "duration": 0,
    "start_time": "2024-02-07T14:20:09.765Z"
   },
   {
    "duration": 0,
    "start_time": "2024-02-07T14:20:09.766Z"
   },
   {
    "duration": 19,
    "start_time": "2024-02-07T14:21:48.142Z"
   },
   {
    "duration": 23,
    "start_time": "2024-02-07T14:22:39.856Z"
   },
   {
    "duration": 23,
    "start_time": "2024-02-07T14:23:19.638Z"
   },
   {
    "duration": 434,
    "start_time": "2024-02-07T14:23:37.097Z"
   },
   {
    "duration": 3,
    "start_time": "2024-02-07T14:23:37.533Z"
   },
   {
    "duration": 268,
    "start_time": "2024-02-07T14:23:37.537Z"
   },
   {
    "duration": 60,
    "start_time": "2024-02-07T14:23:37.808Z"
   },
   {
    "duration": 14,
    "start_time": "2024-02-07T14:23:37.870Z"
   },
   {
    "duration": 98,
    "start_time": "2024-02-07T14:23:37.886Z"
   },
   {
    "duration": 14,
    "start_time": "2024-02-07T14:23:37.986Z"
   },
   {
    "duration": 14,
    "start_time": "2024-02-07T14:23:38.001Z"
   },
   {
    "duration": 37,
    "start_time": "2024-02-07T14:23:38.017Z"
   },
   {
    "duration": 34,
    "start_time": "2024-02-07T14:23:38.056Z"
   },
   {
    "duration": 3,
    "start_time": "2024-02-07T14:23:38.092Z"
   },
   {
    "duration": 7,
    "start_time": "2024-02-07T14:23:38.097Z"
   },
   {
    "duration": 10,
    "start_time": "2024-02-07T14:23:38.105Z"
   },
   {
    "duration": 8,
    "start_time": "2024-02-07T14:23:38.116Z"
   },
   {
    "duration": 16,
    "start_time": "2024-02-07T14:23:38.127Z"
   },
   {
    "duration": 10,
    "start_time": "2024-02-07T14:23:38.145Z"
   },
   {
    "duration": 28,
    "start_time": "2024-02-07T14:23:38.156Z"
   },
   {
    "duration": 4,
    "start_time": "2024-02-07T14:23:38.186Z"
   },
   {
    "duration": 4,
    "start_time": "2024-02-07T14:23:38.191Z"
   },
   {
    "duration": 7,
    "start_time": "2024-02-07T14:23:38.197Z"
   },
   {
    "duration": 10,
    "start_time": "2024-02-07T14:23:38.205Z"
   },
   {
    "duration": 25,
    "start_time": "2024-02-07T14:23:38.216Z"
   },
   {
    "duration": 11,
    "start_time": "2024-02-07T14:23:38.243Z"
   },
   {
    "duration": 11,
    "start_time": "2024-02-07T14:23:38.282Z"
   },
   {
    "duration": 3,
    "start_time": "2024-02-07T14:23:38.294Z"
   },
   {
    "duration": 5,
    "start_time": "2024-02-07T14:23:38.298Z"
   },
   {
    "duration": 6,
    "start_time": "2024-02-07T14:23:38.305Z"
   },
   {
    "duration": 13,
    "start_time": "2024-02-07T14:23:38.316Z"
   },
   {
    "duration": 8,
    "start_time": "2024-02-07T14:23:38.330Z"
   },
   {
    "duration": 8,
    "start_time": "2024-02-07T14:23:38.340Z"
   },
   {
    "duration": 6,
    "start_time": "2024-02-07T14:23:38.381Z"
   },
   {
    "duration": 9,
    "start_time": "2024-02-07T14:23:38.388Z"
   },
   {
    "duration": 12,
    "start_time": "2024-02-07T14:23:38.398Z"
   },
   {
    "duration": 6,
    "start_time": "2024-02-07T14:23:38.412Z"
   },
   {
    "duration": 7,
    "start_time": "2024-02-07T14:23:38.419Z"
   },
   {
    "duration": 10,
    "start_time": "2024-02-07T14:23:38.427Z"
   },
   {
    "duration": 5,
    "start_time": "2024-02-07T14:23:38.439Z"
   },
   {
    "duration": 65,
    "start_time": "2024-02-07T14:23:38.445Z"
   },
   {
    "duration": 6,
    "start_time": "2024-02-07T14:23:38.512Z"
   },
   {
    "duration": 195,
    "start_time": "2024-02-07T14:23:38.519Z"
   },
   {
    "duration": 320,
    "start_time": "2024-02-07T14:23:38.716Z"
   },
   {
    "duration": 27,
    "start_time": "2024-02-07T14:23:39.038Z"
   },
   {
    "duration": 173,
    "start_time": "2024-02-07T14:23:39.067Z"
   },
   {
    "duration": 6,
    "start_time": "2024-02-07T14:23:39.241Z"
   },
   {
    "duration": 254,
    "start_time": "2024-02-07T14:23:39.248Z"
   },
   {
    "duration": 10,
    "start_time": "2024-02-07T14:23:39.504Z"
   },
   {
    "duration": 190,
    "start_time": "2024-02-07T14:23:39.515Z"
   },
   {
    "duration": 6,
    "start_time": "2024-02-07T14:23:39.707Z"
   },
   {
    "duration": 206,
    "start_time": "2024-02-07T14:23:39.714Z"
   },
   {
    "duration": 9,
    "start_time": "2024-02-07T14:23:39.922Z"
   },
   {
    "duration": 210,
    "start_time": "2024-02-07T14:23:39.933Z"
   },
   {
    "duration": 6,
    "start_time": "2024-02-07T14:23:40.144Z"
   },
   {
    "duration": 186,
    "start_time": "2024-02-07T14:23:40.152Z"
   },
   {
    "duration": 10,
    "start_time": "2024-02-07T14:23:40.339Z"
   },
   {
    "duration": 203,
    "start_time": "2024-02-07T14:23:40.351Z"
   },
   {
    "duration": 17,
    "start_time": "2024-02-07T14:23:40.555Z"
   },
   {
    "duration": 7,
    "start_time": "2024-02-07T14:23:40.581Z"
   },
   {
    "duration": 17,
    "start_time": "2024-02-07T14:23:40.589Z"
   },
   {
    "duration": 4,
    "start_time": "2024-02-07T14:23:40.608Z"
   },
   {
    "duration": 7,
    "start_time": "2024-02-07T14:23:40.613Z"
   },
   {
    "duration": 9,
    "start_time": "2024-02-07T14:23:40.622Z"
   },
   {
    "duration": 57,
    "start_time": "2024-02-07T14:23:40.633Z"
   },
   {
    "duration": 31,
    "start_time": "2024-02-07T14:23:40.692Z"
   },
   {
    "duration": 32,
    "start_time": "2024-02-07T14:23:40.725Z"
   },
   {
    "duration": 8,
    "start_time": "2024-02-07T14:23:40.783Z"
   },
   {
    "duration": 171,
    "start_time": "2024-02-07T14:23:40.793Z"
   },
   {
    "duration": 19,
    "start_time": "2024-02-07T14:23:40.966Z"
   },
   {
    "duration": 8,
    "start_time": "2024-02-07T14:23:40.987Z"
   },
   {
    "duration": 11,
    "start_time": "2024-02-07T14:23:40.998Z"
   },
   {
    "duration": 7,
    "start_time": "2024-02-07T14:23:41.011Z"
   },
   {
    "duration": 176,
    "start_time": "2024-02-07T14:23:41.020Z"
   },
   {
    "duration": 170,
    "start_time": "2024-02-07T14:23:41.198Z"
   },
   {
    "duration": 191,
    "start_time": "2024-02-07T14:23:41.371Z"
   },
   {
    "duration": 3,
    "start_time": "2024-02-07T14:23:41.565Z"
   },
   {
    "duration": 26,
    "start_time": "2024-02-07T14:23:41.570Z"
   },
   {
    "duration": 309,
    "start_time": "2024-02-07T14:23:41.598Z"
   },
   {
    "duration": 751,
    "start_time": "2024-02-07T14:23:41.909Z"
   },
   {
    "duration": 21,
    "start_time": "2024-02-07T14:23:42.662Z"
   },
   {
    "duration": 21,
    "start_time": "2024-02-07T14:23:42.684Z"
   },
   {
    "duration": 296,
    "start_time": "2024-02-07T14:23:42.707Z"
   },
   {
    "duration": 1661,
    "start_time": "2024-02-07T14:23:43.005Z"
   },
   {
    "duration": 23,
    "start_time": "2024-02-07T14:23:44.672Z"
   },
   {
    "duration": 194,
    "start_time": "2024-02-07T14:23:44.696Z"
   },
   {
    "duration": 9,
    "start_time": "2024-02-07T14:23:44.892Z"
   },
   {
    "duration": 158,
    "start_time": "2024-02-07T14:23:44.902Z"
   },
   {
    "duration": 19,
    "start_time": "2024-02-07T14:24:02.025Z"
   },
   {
    "duration": 22,
    "start_time": "2024-02-07T14:24:05.533Z"
   },
   {
    "duration": 175,
    "start_time": "2024-02-07T14:24:17.249Z"
   },
   {
    "duration": 845,
    "start_time": "2024-02-07T14:24:19.564Z"
   },
   {
    "duration": 18,
    "start_time": "2024-02-07T14:24:23.652Z"
   },
   {
    "duration": 24,
    "start_time": "2024-02-07T14:25:03.836Z"
   },
   {
    "duration": 23,
    "start_time": "2024-02-07T14:25:04.599Z"
   },
   {
    "duration": 177,
    "start_time": "2024-02-07T14:25:08.230Z"
   },
   {
    "duration": 818,
    "start_time": "2024-02-07T14:25:11.418Z"
   },
   {
    "duration": 319,
    "start_time": "2024-02-07T14:25:19.747Z"
   },
   {
    "duration": 11,
    "start_time": "2024-02-07T14:25:22.974Z"
   },
   {
    "duration": 153,
    "start_time": "2024-02-07T14:25:24.637Z"
   },
   {
    "duration": 452,
    "start_time": "2024-02-07T14:25:32.214Z"
   },
   {
    "duration": 3,
    "start_time": "2024-02-07T14:25:32.668Z"
   },
   {
    "duration": 251,
    "start_time": "2024-02-07T14:25:32.682Z"
   },
   {
    "duration": 57,
    "start_time": "2024-02-07T14:25:32.936Z"
   },
   {
    "duration": 11,
    "start_time": "2024-02-07T14:25:32.995Z"
   },
   {
    "duration": 109,
    "start_time": "2024-02-07T14:25:33.008Z"
   },
   {
    "duration": 17,
    "start_time": "2024-02-07T14:25:33.119Z"
   },
   {
    "duration": 9,
    "start_time": "2024-02-07T14:25:33.137Z"
   },
   {
    "duration": 53,
    "start_time": "2024-02-07T14:25:33.148Z"
   },
   {
    "duration": 16,
    "start_time": "2024-02-07T14:25:33.204Z"
   },
   {
    "duration": 3,
    "start_time": "2024-02-07T14:25:33.222Z"
   },
   {
    "duration": 3,
    "start_time": "2024-02-07T14:25:33.227Z"
   },
   {
    "duration": 8,
    "start_time": "2024-02-07T14:25:33.232Z"
   },
   {
    "duration": 6,
    "start_time": "2024-02-07T14:25:33.242Z"
   },
   {
    "duration": 46,
    "start_time": "2024-02-07T14:25:33.250Z"
   },
   {
    "duration": 12,
    "start_time": "2024-02-07T14:25:33.298Z"
   },
   {
    "duration": 5,
    "start_time": "2024-02-07T14:25:33.312Z"
   },
   {
    "duration": 5,
    "start_time": "2024-02-07T14:25:33.319Z"
   },
   {
    "duration": 5,
    "start_time": "2024-02-07T14:25:33.326Z"
   },
   {
    "duration": 6,
    "start_time": "2024-02-07T14:25:33.333Z"
   },
   {
    "duration": 45,
    "start_time": "2024-02-07T14:25:33.341Z"
   },
   {
    "duration": 20,
    "start_time": "2024-02-07T14:25:33.388Z"
   },
   {
    "duration": 12,
    "start_time": "2024-02-07T14:25:33.410Z"
   },
   {
    "duration": 10,
    "start_time": "2024-02-07T14:25:33.423Z"
   },
   {
    "duration": 3,
    "start_time": "2024-02-07T14:25:33.435Z"
   },
   {
    "duration": 43,
    "start_time": "2024-02-07T14:25:33.440Z"
   },
   {
    "duration": 7,
    "start_time": "2024-02-07T14:25:33.485Z"
   },
   {
    "duration": 5,
    "start_time": "2024-02-07T14:25:33.497Z"
   },
   {
    "duration": 9,
    "start_time": "2024-02-07T14:25:33.504Z"
   },
   {
    "duration": 5,
    "start_time": "2024-02-07T14:25:33.515Z"
   },
   {
    "duration": 5,
    "start_time": "2024-02-07T14:25:33.522Z"
   },
   {
    "duration": 9,
    "start_time": "2024-02-07T14:25:33.529Z"
   },
   {
    "duration": 49,
    "start_time": "2024-02-07T14:25:33.539Z"
   },
   {
    "duration": 8,
    "start_time": "2024-02-07T14:25:33.590Z"
   },
   {
    "duration": 10,
    "start_time": "2024-02-07T14:25:33.600Z"
   },
   {
    "duration": 15,
    "start_time": "2024-02-07T14:25:33.612Z"
   },
   {
    "duration": 7,
    "start_time": "2024-02-07T14:25:33.629Z"
   },
   {
    "duration": 67,
    "start_time": "2024-02-07T14:25:33.637Z"
   },
   {
    "duration": 7,
    "start_time": "2024-02-07T14:25:33.706Z"
   },
   {
    "duration": 273,
    "start_time": "2024-02-07T14:25:33.714Z"
   },
   {
    "duration": 328,
    "start_time": "2024-02-07T14:25:33.989Z"
   },
   {
    "duration": 28,
    "start_time": "2024-02-07T14:25:34.319Z"
   },
   {
    "duration": 184,
    "start_time": "2024-02-07T14:25:34.348Z"
   },
   {
    "duration": 6,
    "start_time": "2024-02-07T14:25:34.533Z"
   },
   {
    "duration": 277,
    "start_time": "2024-02-07T14:25:34.541Z"
   },
   {
    "duration": 11,
    "start_time": "2024-02-07T14:25:34.819Z"
   },
   {
    "duration": 210,
    "start_time": "2024-02-07T14:25:34.832Z"
   },
   {
    "duration": 8,
    "start_time": "2024-02-07T14:25:35.044Z"
   },
   {
    "duration": 226,
    "start_time": "2024-02-07T14:25:35.054Z"
   },
   {
    "duration": 10,
    "start_time": "2024-02-07T14:25:35.282Z"
   },
   {
    "duration": 196,
    "start_time": "2024-02-07T14:25:35.294Z"
   },
   {
    "duration": 8,
    "start_time": "2024-02-07T14:25:35.492Z"
   },
   {
    "duration": 204,
    "start_time": "2024-02-07T14:25:35.502Z"
   },
   {
    "duration": 11,
    "start_time": "2024-02-07T14:25:35.708Z"
   },
   {
    "duration": 217,
    "start_time": "2024-02-07T14:25:35.721Z"
   },
   {
    "duration": 21,
    "start_time": "2024-02-07T14:25:35.940Z"
   },
   {
    "duration": 22,
    "start_time": "2024-02-07T14:25:35.963Z"
   },
   {
    "duration": 17,
    "start_time": "2024-02-07T14:25:35.987Z"
   },
   {
    "duration": 9,
    "start_time": "2024-02-07T14:25:36.006Z"
   },
   {
    "duration": 17,
    "start_time": "2024-02-07T14:25:36.018Z"
   },
   {
    "duration": 19,
    "start_time": "2024-02-07T14:25:36.037Z"
   },
   {
    "duration": 26,
    "start_time": "2024-02-07T14:25:36.057Z"
   },
   {
    "duration": 33,
    "start_time": "2024-02-07T14:25:36.085Z"
   },
   {
    "duration": 33,
    "start_time": "2024-02-07T14:25:36.120Z"
   },
   {
    "duration": 28,
    "start_time": "2024-02-07T14:25:36.154Z"
   },
   {
    "duration": 165,
    "start_time": "2024-02-07T14:25:36.184Z"
   },
   {
    "duration": 13,
    "start_time": "2024-02-07T14:25:36.351Z"
   },
   {
    "duration": 21,
    "start_time": "2024-02-07T14:25:36.366Z"
   },
   {
    "duration": 11,
    "start_time": "2024-02-07T14:25:36.389Z"
   },
   {
    "duration": 12,
    "start_time": "2024-02-07T14:25:36.402Z"
   },
   {
    "duration": 173,
    "start_time": "2024-02-07T14:25:36.416Z"
   },
   {
    "duration": 162,
    "start_time": "2024-02-07T14:25:36.591Z"
   },
   {
    "duration": 232,
    "start_time": "2024-02-07T14:25:36.754Z"
   },
   {
    "duration": 4,
    "start_time": "2024-02-07T14:25:36.988Z"
   },
   {
    "duration": 16,
    "start_time": "2024-02-07T14:25:36.993Z"
   },
   {
    "duration": 285,
    "start_time": "2024-02-07T14:25:37.011Z"
   },
   {
    "duration": 815,
    "start_time": "2024-02-07T14:25:37.297Z"
   },
   {
    "duration": 19,
    "start_time": "2024-02-07T14:25:38.114Z"
   },
   {
    "duration": 31,
    "start_time": "2024-02-07T14:25:38.135Z"
   },
   {
    "duration": 194,
    "start_time": "2024-02-07T14:25:38.183Z"
   },
   {
    "duration": 1408,
    "start_time": "2024-02-07T14:25:38.379Z"
   },
   {
    "duration": 410,
    "start_time": "2024-02-07T14:25:39.793Z"
   },
   {
    "duration": 9,
    "start_time": "2024-02-07T14:25:40.205Z"
   },
   {
    "duration": 375,
    "start_time": "2024-02-07T14:25:40.217Z"
   },
   {
    "duration": 76,
    "start_time": "2024-02-07T14:28:26.082Z"
   },
   {
    "duration": 404,
    "start_time": "2024-02-07T17:05:12.219Z"
   },
   {
    "duration": 2,
    "start_time": "2024-02-07T17:05:12.625Z"
   },
   {
    "duration": 225,
    "start_time": "2024-02-07T17:05:12.628Z"
   },
   {
    "duration": 92,
    "start_time": "2024-02-07T17:05:12.855Z"
   },
   {
    "duration": 8,
    "start_time": "2024-02-07T17:05:12.949Z"
   },
   {
    "duration": 199,
    "start_time": "2024-02-07T17:05:12.959Z"
   },
   {
    "duration": 13,
    "start_time": "2024-02-07T17:05:13.159Z"
   },
   {
    "duration": 7,
    "start_time": "2024-02-07T17:05:13.173Z"
   },
   {
    "duration": 28,
    "start_time": "2024-02-07T17:05:13.182Z"
   },
   {
    "duration": 36,
    "start_time": "2024-02-07T17:05:13.212Z"
   },
   {
    "duration": 3,
    "start_time": "2024-02-07T17:05:13.250Z"
   },
   {
    "duration": 6,
    "start_time": "2024-02-07T17:05:13.254Z"
   },
   {
    "duration": 7,
    "start_time": "2024-02-07T17:05:13.261Z"
   },
   {
    "duration": 4,
    "start_time": "2024-02-07T17:05:13.270Z"
   },
   {
    "duration": 19,
    "start_time": "2024-02-07T17:05:13.275Z"
   },
   {
    "duration": 15,
    "start_time": "2024-02-07T17:05:13.295Z"
   },
   {
    "duration": 3,
    "start_time": "2024-02-07T17:05:13.312Z"
   },
   {
    "duration": 7,
    "start_time": "2024-02-07T17:05:13.316Z"
   },
   {
    "duration": 20,
    "start_time": "2024-02-07T17:05:13.325Z"
   },
   {
    "duration": 4,
    "start_time": "2024-02-07T17:05:13.346Z"
   },
   {
    "duration": 18,
    "start_time": "2024-02-07T17:05:13.351Z"
   },
   {
    "duration": 20,
    "start_time": "2024-02-07T17:05:13.370Z"
   },
   {
    "duration": 10,
    "start_time": "2024-02-07T17:05:13.391Z"
   },
   {
    "duration": 11,
    "start_time": "2024-02-07T17:05:13.403Z"
   },
   {
    "duration": 20,
    "start_time": "2024-02-07T17:05:13.416Z"
   },
   {
    "duration": 19,
    "start_time": "2024-02-07T17:05:13.438Z"
   },
   {
    "duration": 7,
    "start_time": "2024-02-07T17:05:13.459Z"
   },
   {
    "duration": 5,
    "start_time": "2024-02-07T17:05:13.472Z"
   },
   {
    "duration": 14,
    "start_time": "2024-02-07T17:05:13.479Z"
   },
   {
    "duration": 12,
    "start_time": "2024-02-07T17:05:13.495Z"
   },
   {
    "duration": 14,
    "start_time": "2024-02-07T17:05:13.508Z"
   },
   {
    "duration": 19,
    "start_time": "2024-02-07T17:05:13.523Z"
   },
   {
    "duration": 13,
    "start_time": "2024-02-07T17:05:13.543Z"
   },
   {
    "duration": 6,
    "start_time": "2024-02-07T17:05:13.558Z"
   },
   {
    "duration": 25,
    "start_time": "2024-02-07T17:05:13.565Z"
   },
   {
    "duration": 16,
    "start_time": "2024-02-07T17:05:13.591Z"
   },
   {
    "duration": 5,
    "start_time": "2024-02-07T17:05:13.609Z"
   },
   {
    "duration": 31,
    "start_time": "2024-02-07T17:05:13.616Z"
   },
   {
    "duration": 5,
    "start_time": "2024-02-07T17:05:13.648Z"
   },
   {
    "duration": 160,
    "start_time": "2024-02-07T17:05:13.654Z"
   },
   {
    "duration": 266,
    "start_time": "2024-02-07T17:05:13.815Z"
   },
   {
    "duration": 22,
    "start_time": "2024-02-07T17:05:14.082Z"
   },
   {
    "duration": 145,
    "start_time": "2024-02-07T17:05:14.106Z"
   },
   {
    "duration": 5,
    "start_time": "2024-02-07T17:05:14.253Z"
   },
   {
    "duration": 224,
    "start_time": "2024-02-07T17:05:14.259Z"
   },
   {
    "duration": 10,
    "start_time": "2024-02-07T17:05:14.484Z"
   },
   {
    "duration": 161,
    "start_time": "2024-02-07T17:05:14.495Z"
   },
   {
    "duration": 5,
    "start_time": "2024-02-07T17:05:14.657Z"
   },
   {
    "duration": 167,
    "start_time": "2024-02-07T17:05:14.663Z"
   },
   {
    "duration": 17,
    "start_time": "2024-02-07T17:05:14.831Z"
   },
   {
    "duration": 173,
    "start_time": "2024-02-07T17:05:14.849Z"
   },
   {
    "duration": 7,
    "start_time": "2024-02-07T17:05:15.023Z"
   },
   {
    "duration": 203,
    "start_time": "2024-02-07T17:05:15.031Z"
   },
   {
    "duration": 13,
    "start_time": "2024-02-07T17:05:15.235Z"
   },
   {
    "duration": 199,
    "start_time": "2024-02-07T17:05:15.250Z"
   },
   {
    "duration": 20,
    "start_time": "2024-02-07T17:05:15.451Z"
   },
   {
    "duration": 15,
    "start_time": "2024-02-07T17:05:15.473Z"
   },
   {
    "duration": 30,
    "start_time": "2024-02-07T17:05:15.492Z"
   },
   {
    "duration": 5,
    "start_time": "2024-02-07T17:05:15.523Z"
   },
   {
    "duration": 10,
    "start_time": "2024-02-07T17:05:15.529Z"
   },
   {
    "duration": 22,
    "start_time": "2024-02-07T17:05:15.540Z"
   },
   {
    "duration": 15,
    "start_time": "2024-02-07T17:05:15.564Z"
   },
   {
    "duration": 24,
    "start_time": "2024-02-07T17:05:15.581Z"
   },
   {
    "duration": 24,
    "start_time": "2024-02-07T17:05:15.606Z"
   },
   {
    "duration": 16,
    "start_time": "2024-02-07T17:05:15.632Z"
   },
   {
    "duration": 135,
    "start_time": "2024-02-07T17:05:15.649Z"
   },
   {
    "duration": 12,
    "start_time": "2024-02-07T17:05:15.785Z"
   },
   {
    "duration": 20,
    "start_time": "2024-02-07T17:05:15.798Z"
   },
   {
    "duration": 13,
    "start_time": "2024-02-07T17:05:15.819Z"
   },
   {
    "duration": 20,
    "start_time": "2024-02-07T17:05:15.834Z"
   },
   {
    "duration": 123,
    "start_time": "2024-02-07T17:05:15.855Z"
   },
   {
    "duration": 139,
    "start_time": "2024-02-07T17:05:15.980Z"
   },
   {
    "duration": 269,
    "start_time": "2024-02-07T17:05:16.121Z"
   },
   {
    "duration": 85,
    "start_time": "2024-02-07T17:05:16.392Z"
   },
   {
    "duration": 141,
    "start_time": "2024-02-07T17:05:16.478Z"
   },
   {
    "duration": 277,
    "start_time": "2024-02-07T17:05:16.620Z"
   },
   {
    "duration": 666,
    "start_time": "2024-02-07T17:05:16.899Z"
   },
   {
    "duration": 15,
    "start_time": "2024-02-07T17:05:17.567Z"
   },
   {
    "duration": 46,
    "start_time": "2024-02-07T17:05:17.583Z"
   },
   {
    "duration": 184,
    "start_time": "2024-02-07T17:05:17.630Z"
   },
   {
    "duration": 770,
    "start_time": "2024-02-07T17:05:17.815Z"
   },
   {
    "duration": 158,
    "start_time": "2024-02-07T17:05:18.590Z"
   },
   {
    "duration": 8,
    "start_time": "2024-02-07T17:05:18.750Z"
   },
   {
    "duration": 141,
    "start_time": "2024-02-07T17:05:18.759Z"
   }
  ],
  "colab": {
   "name": "DA+. Сборный проект 1. Шаблон (1).ipynb",
   "provenance": []
  },
  "kernelspec": {
   "display_name": "Python 3 (ipykernel)",
   "language": "python",
   "name": "python3"
  },
  "language_info": {
   "codemirror_mode": {
    "name": "ipython",
    "version": 3
   },
   "file_extension": ".py",
   "mimetype": "text/x-python",
   "name": "python",
   "nbconvert_exporter": "python",
   "pygments_lexer": "ipython3",
   "version": "3.11.7"
  },
  "toc": {
   "base_numbering": 1,
   "nav_menu": {},
   "number_sections": true,
   "sideBar": true,
   "skip_h1_title": true,
   "title_cell": "Table of Contents",
   "title_sidebar": "Contents",
   "toc_cell": false,
   "toc_position": {
    "height": "calc(100% - 180px)",
    "left": "10px",
    "top": "150px",
    "width": "294.891px"
   },
   "toc_section_display": true,
   "toc_window_display": true
  }
 },
 "nbformat": 4,
 "nbformat_minor": 1
}
